{
 "metadata": {
  "language_info": {
   "codemirror_mode": {
    "name": "ipython",
    "version": 3
   },
   "file_extension": ".py",
   "mimetype": "text/x-python",
   "name": "python",
   "nbconvert_exporter": "python",
   "pygments_lexer": "ipython3",
   "version": "3.8.5-final"
  },
  "orig_nbformat": 2,
  "kernelspec": {
   "name": "python3",
   "display_name": "Python 3",
   "language": "python"
  }
 },
 "nbformat": 4,
 "nbformat_minor": 2,
 "cells": [
  {
   "cell_type": "code",
   "execution_count": 1,
   "metadata": {},
   "outputs": [],
   "source": [
    "import os\n",
    "import json\n",
    "import statistics"
   ]
  },
  {
   "source": [
    "# All nodes vs. cell nodes for approximate BC computation"
   ],
   "cell_type": "markdown",
   "metadata": {}
  },
  {
   "source": [
    "## Cell Nodes Only"
   ],
   "cell_type": "markdown",
   "metadata": {}
  },
  {
   "cell_type": "code",
   "execution_count": 2,
   "metadata": {},
   "outputs": [
    {
     "output_type": "stream",
     "name": "stdout",
     "text": [
      "Statistics at cut_off\nAverage Rank: 26539 stdev: 0.0\nPrecision: 0.5854704397302084 stdev: 0.009335898611253649\nRecall: 0.5854704397302084 stdev: 0.009335898611253649\nF1-Score: 0.5854704397302084 stdev: 0.009335898611253649\n\nStatistics at maximum F1-score\nAverage Rank: 22827.6 stdev: 96.0536308527689\nPrecision: 0.67308804305673 stdev: 0.002084463469805406\nRecall: 0.5789592674931233 stdev: 0.003164592400967382\nF1-Score: 0.6224831662415277 stdev: 0.0024974607181261067\n"
     ]
    }
   ],
   "source": [
    "cell_nodes_dir = 'network_analysis/figures/TUS_cell_nodes/'\n",
    "\n",
    "cell_nodes_stats = {\n",
    "    'measures_at_cut_off': {'rank': [], 'precision': [], 'recall': [], 'f1_score': []},\n",
    "    'measures_at_max_f1_score': {'rank': [], 'precision': [], 'recall': [], 'f1_score': []}\n",
    "}\n",
    "\n",
    "for dir in os.listdir(cell_nodes_dir):\n",
    "    with open(cell_nodes_dir+dir+'/results_summary.json') as f:\n",
    "        data = json.load(f)\n",
    "\n",
    "        # measures at cut off\n",
    "        measures_at_cut_off_dict = data['measures_at_cut_off']\n",
    "        cell_nodes_stats['measures_at_cut_off']['rank'].append(measures_at_cut_off_dict['rank'])\n",
    "        cell_nodes_stats['measures_at_cut_off']['precision'].append(measures_at_cut_off_dict['precision'])\n",
    "        cell_nodes_stats['measures_at_cut_off']['recall'].append(measures_at_cut_off_dict['recall'])\n",
    "        cell_nodes_stats['measures_at_cut_off']['f1_score'].append(measures_at_cut_off_dict['f1_score'])\n",
    "\n",
    "        # measures at max f1-score\n",
    "        measures_at_max_f1_score = data['measures_at_max_f1_score']\n",
    "        cell_nodes_stats['measures_at_max_f1_score']['rank'].append(measures_at_max_f1_score['rank'])\n",
    "        cell_nodes_stats['measures_at_max_f1_score']['precision'].append(measures_at_max_f1_score['precision'])\n",
    "        cell_nodes_stats['measures_at_max_f1_score']['recall'].append(measures_at_max_f1_score['recall'])\n",
    "        cell_nodes_stats['measures_at_max_f1_score']['f1_score'].append(measures_at_max_f1_score['f1_score'])\n",
    "\n",
    "\n",
    "# Get average and standard deviation for each measurement\n",
    "print('Statistics at cut_off')\n",
    "print('Average Rank:', statistics.mean(cell_nodes_stats['measures_at_cut_off']['rank']), 'stdev:', statistics.stdev(cell_nodes_stats['measures_at_cut_off']['rank']))\n",
    "print('Precision:', statistics.mean(cell_nodes_stats['measures_at_cut_off']['precision']), 'stdev:', statistics.stdev(cell_nodes_stats['measures_at_cut_off']['precision']))\n",
    "print('Recall:', statistics.mean(cell_nodes_stats['measures_at_cut_off']['recall']), 'stdev:', statistics.stdev(cell_nodes_stats['measures_at_cut_off']['recall']))\n",
    "print('F1-Score:', statistics.mean(cell_nodes_stats['measures_at_cut_off']['f1_score']), 'stdev:', statistics.stdev(cell_nodes_stats['measures_at_cut_off']['f1_score']))\n",
    "\n",
    "print()\n",
    "print('Statistics at maximum F1-score')\n",
    "print('Average Rank:', statistics.mean(cell_nodes_stats['measures_at_max_f1_score']['rank']), 'stdev:', statistics.stdev(cell_nodes_stats['measures_at_max_f1_score']['rank']))\n",
    "print('Precision:', statistics.mean(cell_nodes_stats['measures_at_max_f1_score']['precision']), 'stdev:', statistics.stdev(cell_nodes_stats['measures_at_max_f1_score']['precision']))\n",
    "print('Recall:', statistics.mean(cell_nodes_stats['measures_at_max_f1_score']['recall']), 'stdev:', statistics.stdev(cell_nodes_stats['measures_at_max_f1_score']['recall']))\n",
    "print('F1-Score:', statistics.mean(cell_nodes_stats['measures_at_max_f1_score']['f1_score']), 'stdev:', statistics.stdev(cell_nodes_stats['measures_at_max_f1_score']['f1_score']))"
   ]
  },
  {
   "source": [
    "## All Nodes"
   ],
   "cell_type": "markdown",
   "metadata": {}
  },
  {
   "cell_type": "code",
   "execution_count": 3,
   "metadata": {},
   "outputs": [
    {
     "output_type": "stream",
     "name": "stdout",
     "text": [
      "Statistics at cut_off\nAverage Rank: 26539 stdev: 0.0\nPrecision: 0.6335581596895136 stdev: 0.014932398676876533\nRecall: 0.6335581596895136 stdev: 0.014932398676876533\nF1-Score: 0.6335581596895136 stdev: 0.014932398676876533\n\nStatistics at maximum F1-score\nAverage Rank: 27870.2 stdev: 2617.9330969297134\nPrecision: 0.6406231673395001 stdev: 0.017459531616405725\nRecall: 0.6717434718715852 stdev: 0.05240331474712017\nF1-Score: 0.6545924467788544 stdev: 0.022044753981688533\n"
     ]
    }
   ],
   "source": [
    "all_nodes_dir = 'network_analysis/figures/TUS_all_nodes/'\n",
    "\n",
    "all_nodes_stats = {\n",
    "    'measures_at_cut_off': {'rank': [], 'precision': [], 'recall': [], 'f1_score': []},\n",
    "    'measures_at_max_f1_score': {'rank': [], 'precision': [], 'recall': [], 'f1_score': []}\n",
    "}\n",
    "\n",
    "for dir in os.listdir(all_nodes_dir):\n",
    "    with open(all_nodes_dir+dir+'/results_summary.json') as f:\n",
    "        data = json.load(f)\n",
    "\n",
    "        # measures at cut off\n",
    "        measures_at_cut_off_dict = data['measures_at_cut_off']\n",
    "        all_nodes_stats['measures_at_cut_off']['rank'].append(measures_at_cut_off_dict['rank'])\n",
    "        all_nodes_stats['measures_at_cut_off']['precision'].append(measures_at_cut_off_dict['precision'])\n",
    "        all_nodes_stats['measures_at_cut_off']['recall'].append(measures_at_cut_off_dict['recall'])\n",
    "        all_nodes_stats['measures_at_cut_off']['f1_score'].append(measures_at_cut_off_dict['f1_score'])\n",
    "\n",
    "        # measures at max f1-score\n",
    "        measures_at_max_f1_score = data['measures_at_max_f1_score']\n",
    "        all_nodes_stats['measures_at_max_f1_score']['rank'].append(measures_at_max_f1_score['rank'])\n",
    "        all_nodes_stats['measures_at_max_f1_score']['precision'].append(measures_at_max_f1_score['precision'])\n",
    "        all_nodes_stats['measures_at_max_f1_score']['recall'].append(measures_at_max_f1_score['recall'])\n",
    "        all_nodes_stats['measures_at_max_f1_score']['f1_score'].append(measures_at_max_f1_score['f1_score'])\n",
    "\n",
    "# Get average and standard deviation for each measurement\n",
    "print('Statistics at cut_off')\n",
    "print('Average Rank:', statistics.mean(all_nodes_stats['measures_at_cut_off']['rank']), 'stdev:', statistics.stdev(all_nodes_stats['measures_at_cut_off']['rank']))\n",
    "print('Precision:', statistics.mean(all_nodes_stats['measures_at_cut_off']['precision']), 'stdev:', statistics.stdev(all_nodes_stats['measures_at_cut_off']['precision']))\n",
    "print('Recall:', statistics.mean(all_nodes_stats['measures_at_cut_off']['recall']), 'stdev:', statistics.stdev(all_nodes_stats['measures_at_cut_off']['recall']))\n",
    "print('F1-Score:', statistics.mean(all_nodes_stats['measures_at_cut_off']['f1_score']), 'stdev:', statistics.stdev(all_nodes_stats['measures_at_cut_off']['f1_score']))\n",
    "\n",
    "print()\n",
    "print('Statistics at maximum F1-score')\n",
    "print('Average Rank:', statistics.mean(all_nodes_stats['measures_at_max_f1_score']['rank']), 'stdev:', statistics.stdev(all_nodes_stats['measures_at_max_f1_score']['rank']))\n",
    "print('Precision:', statistics.mean(all_nodes_stats['measures_at_max_f1_score']['precision']), 'stdev:', statistics.stdev(all_nodes_stats['measures_at_max_f1_score']['precision']))\n",
    "print('Recall:', statistics.mean(all_nodes_stats['measures_at_max_f1_score']['recall']), 'stdev:', statistics.stdev(all_nodes_stats['measures_at_max_f1_score']['recall']))\n",
    "print('F1-Score:', statistics.mean(all_nodes_stats['measures_at_max_f1_score']['f1_score']), 'stdev:', statistics.stdev(all_nodes_stats['measures_at_max_f1_score']['f1_score']))"
   ]
  }
 ]
}