{
 "metadata": {
  "language_info": {
   "codemirror_mode": {
    "name": "ipython",
    "version": 3
   },
   "file_extension": ".py",
   "mimetype": "text/x-python",
   "name": "python",
   "nbconvert_exporter": "python",
   "pygments_lexer": "ipython3",
   "version": "3.8.7-final"
  },
  "orig_nbformat": 2,
  "kernelspec": {
   "name": "python3",
   "display_name": "Python 3",
   "language": "python"
  }
 },
 "nbformat": 4,
 "nbformat_minor": 2,
 "cells": [
  {
   "cell_type": "code",
   "execution_count": null,
   "metadata": {},
   "outputs": [],
   "source": [
    "import pandas as pd\n",
    "import pickle\n",
    "\n",
    "import matplotlib.pyplot as plt\n",
    "import seaborn as sns\n",
    "import itertools as it\n",
    "\n",
    "from pathlib import Path\n",
    "\n",
    "sns.set(rc={'figure.figsize':(18,9)})\n",
    "sns.set(font_scale=1.5)\n",
    "sns.set_style(\"whitegrid\")\n"
   ]
  },
  {
   "source": [
    "# Homograph Injection Bounded Experiment\n",
    "\n",
    "In the following section we injected 50 homographs (over 4 runs) with varying range of the cardinalities of the values replaced for each homograph. This approach is bounded because it only provides a minimum bound on the cardinality of the replaced values"
   ],
   "cell_type": "markdown",
   "metadata": {}
  },
  {
   "cell_type": "code",
   "execution_count": null,
   "metadata": {},
   "outputs": [],
   "source": [
    "df_file_path = 'homograph_injection_evaluation/cardinality_experiment/injected_homograph_df.pickle'\n",
    "save_dir = 'figures/injected_homographs_cardinality_experiment/'\n",
    "\n",
    "# Create output directory for figures\n",
    "Path(save_dir).mkdir(parents=True, exist_ok=True)\n",
    "\n",
    "df = pickle.load(open(df_file_path, 'rb'))\n",
    "df"
   ]
  },
  {
   "cell_type": "code",
   "execution_count": null,
   "metadata": {},
   "outputs": [],
   "source": [
    "# Plot homograph rank vs. average cardinality of replaced values when replaced values per homograph = 2\n",
    "\n",
    "plt.figure()\n",
    "ax = sns.scatterplot(data=df, x=\"replaced_values_avg_cardinality\", y=\"homograph_rank\", marker='o')\n",
    "ax.set(xlabel='Average cardinality of replaced values', ylabel='Injected homograph rank', title='Injected Homograph Rank vs cardinality of replaced values')\n",
    "plt.tight_layout()"
   ]
  },
  {
   "cell_type": "code",
   "execution_count": null,
   "metadata": {},
   "outputs": [],
   "source": [
    "df_cardinality_range = df.groupby(['min_cardinality'], as_index=False).mean()\n",
    "\n",
    "# Calculate percent of injected homographs in the top 50 ranks in each range of cardinalities\n",
    "percent_vals_in_top_50 = []\n",
    "for i in range(0, 501, 100):\n",
    "    df_at_i_values_replaced = df[df['min_cardinality'] == i]\n",
    "    percentage = df_at_i_values_replaced[df_at_i_values_replaced['homograph_rank'] <= 50].shape[0] / df_at_i_values_replaced.shape[0]\n",
    "    percent_vals_in_top_50.append(percentage * 100)\n",
    "df_cardinality_range['percentage_of_injected_homographs_in_top_50'] = percent_vals_in_top_50\n",
    "\n",
    "df_cardinality_range"
   ]
  },
  {
   "cell_type": "code",
   "execution_count": null,
   "metadata": {},
   "outputs": [],
   "source": [
    "cardinality_range_labels = []\n",
    "delta = 100\n",
    "for i in range(0, 501, delta):\n",
    "    cardinality_range_labels.append('≥ ' + str(i))\n",
    "\n",
    "\n",
    "\n",
    "# Plot bar char of the range of the replaced values cardinality with the % of injected homographs in the top 50 ranks\n",
    "ax = sns.barplot(data=df_cardinality_range, x=\"min_cardinality\", y=\"percentage_of_injected_homographs_in_top_50\", color='#3182bd')\n",
    "ax.set(ylim=(0, 105), title='', xticklabels=cardinality_range_labels)\n",
    "ax.grid(alpha=0.5)\n",
    "plt.gca().xaxis.grid(False)\n",
    "\n",
    "# Fontsize for the axis title and ticks\n",
    "ax.tick_params(axis='both', which='major', labelsize=25)\n",
    "ax.set_xlabel(xlabel='Cardinality of replaced values', fontsize=27)\n",
    "ax.set_ylabel(ylabel='% of injected homographs in top 50', fontsize=27)\n",
    "\n",
    "# Add values on top of bar charts\n",
    "cardinalities = range(0, 501, delta)\n",
    "x_vals = range(0, 6, 1)\n",
    "for i, x in zip(cardinalities, x_vals):\n",
    "    y_val = df_cardinality_range[df_cardinality_range['min_cardinality'] == i]['percentage_of_injected_homographs_in_top_50'].values[0]\n",
    "    ax.text(x, y_val+2, str(y_val)+'%', color='black', ha='center', fontsize=24)\n",
    "\n",
    "plt.tight_layout()\n",
    "fig = ax.get_figure()\n",
    "fig.set_size_inches(16, 9)\n",
    "fig.savefig(save_dir+'injected_homograph_rank_vs_cardinality.pdf')\n"
   ]
  }
 ]
}