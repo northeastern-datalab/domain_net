{
 "metadata": {
  "language_info": {
   "codemirror_mode": {
    "name": "ipython",
    "version": 3
   },
   "file_extension": ".py",
   "mimetype": "text/x-python",
   "name": "python",
   "nbconvert_exporter": "python",
   "pygments_lexer": "ipython3",
   "version": "3.8.5"
  },
  "orig_nbformat": 2,
  "kernelspec": {
   "name": "python385jvsc74a57bd0f1d230adc6cacd6922965511f9a3757af1eba2913e318415e4326cdb6b77b43f",
   "display_name": "Python 3.8.5 64-bit ('env')"
  }
 },
 "nbformat": 4,
 "nbformat_minor": 2,
 "cells": [
  {
   "cell_type": "code",
   "execution_count": 1,
   "metadata": {},
   "outputs": [
    {
     "output_type": "display_data",
     "data": {
      "text/html": "\n\t\t\t<script type=\"text/javascript\">\n\t\t\t<!--\n\t\t\t\t\n\t\t\t{\n\t\t\t\tvar element = document.getElementById('NetworKit_script');\n\t\t\t\tif (element) {\n\t\t\t\t\telement.parentNode.removeChild(element);\n\t\t\t\t}\n\t\t\t\telement = document.createElement('script');\n\t\t\t\telement.type = 'text/javascript';\n\t\t\t\telement.innerHTML = 'function NetworKit_pageEmbed(id) { var i, j; var elements; elements = document.getElementById(id).getElementsByClassName(\"Plot\"); for (i=0; i<elements.length; i++) { elements[i].id = id + \"_Plot_\" + i; var data = elements[i].getAttribute(\"data-image\").split(\"|\"); elements[i].removeAttribute(\"data-image\"); var content = \"<div class=\\\\\"Image\\\\\" id=\\\\\"\" + elements[i].id + \"_Image\\\\\" />\"; elements[i].innerHTML = content; elements[i].setAttribute(\"data-image-index\", 0); elements[i].setAttribute(\"data-image-length\", data.length); for (j=0; j<data.length; j++) { elements[i].setAttribute(\"data-image-\" + j, data[j]); } NetworKit_plotUpdate(elements[i]); elements[i].onclick = function (e) { NetworKit_overlayShow((e.target) ? e.target : e.srcElement); } } elements = document.getElementById(id).getElementsByClassName(\"HeatCell\"); for (i=0; i<elements.length; i++) { var data = parseFloat(elements[i].getAttribute(\"data-heat\")); var color = \"#00FF00\"; if (data <= 1 && data > 0) { color = \"hsla(0, 100%, 75%, \" + (data) + \")\"; } else if (data <= 0 && data >= -1) { color = \"hsla(240, 100%, 75%, \" + (-data) + \")\"; } elements[i].style.backgroundColor = color; } elements = document.getElementById(id).getElementsByClassName(\"Details\"); for (i=0; i<elements.length; i++) { elements[i].setAttribute(\"data-title\", \"-\"); NetworKit_toggleDetails(elements[i]); elements[i].onclick = function (e) { NetworKit_toggleDetails((e.target) ? e.target : e.srcElement); } } elements = document.getElementById(id).getElementsByClassName(\"MathValue\"); for (i=elements.length-1; i>=0; i--) { value = elements[i].innerHTML.trim(); if (value === \"nan\") { elements[i].parentNode.innerHTML = \"\" } } elements = document.getElementById(id).getElementsByClassName(\"SubCategory\"); for (i=elements.length-1; i>=0; i--) { value = elements[i].innerHTML.trim(); if (value === \"\") { elements[i].parentNode.removeChild(elements[i]) } } elements = document.getElementById(id).getElementsByClassName(\"Category\"); for (i=elements.length-1; i>=0; i--) { value = elements[i].innerHTML.trim(); if (value === \"\") { elements[i].parentNode.removeChild(elements[i]) } } var isFirefox = false; try { isFirefox = typeof InstallTrigger !== \"undefined\"; } catch (e) {} if (!isFirefox) { alert(\"Currently the function\\'s output is only fully supported by Firefox.\"); } } function NetworKit_plotUpdate(source) { var index = source.getAttribute(\"data-image-index\"); var data = source.getAttribute(\"data-image-\" + index); var image = document.getElementById(source.id + \"_Image\"); image.style.backgroundImage = \"url(\" + data + \")\"; } function NetworKit_showElement(id, show) { var element = document.getElementById(id); element.style.display = (show) ? \"block\" : \"none\"; } function NetworKit_overlayShow(source) { NetworKit_overlayUpdate(source); NetworKit_showElement(\"NetworKit_Overlay\", true); } function NetworKit_overlayUpdate(source) { document.getElementById(\"NetworKit_Overlay_Title\").innerHTML = source.title; var index = source.getAttribute(\"data-image-index\"); var data = source.getAttribute(\"data-image-\" + index); var image = document.getElementById(\"NetworKit_Overlay_Image\"); image.setAttribute(\"data-id\", source.id); image.style.backgroundImage = \"url(\" + data + \")\"; var link = document.getElementById(\"NetworKit_Overlay_Toolbar_Bottom_Save\"); link.href = data; link.download = source.title + \".svg\"; } function NetworKit_overlayImageShift(delta) { var image = document.getElementById(\"NetworKit_Overlay_Image\"); var source = document.getElementById(image.getAttribute(\"data-id\")); var index = parseInt(source.getAttribute(\"data-image-index\")); var length = parseInt(source.getAttribute(\"data-image-length\")); var index = (index+delta) % length; if (index < 0) { index = length + index; } source.setAttribute(\"data-image-index\", index); NetworKit_overlayUpdate(source); } function NetworKit_toggleDetails(source) { var childs = source.children; var show = false; if (source.getAttribute(\"data-title\") == \"-\") { source.setAttribute(\"data-title\", \"+\"); show = false; } else { source.setAttribute(\"data-title\", \"-\"); show = true; } for (i=0; i<childs.length; i++) { if (show) { childs[i].style.display = \"block\"; } else { childs[i].style.display = \"none\"; } } }';\n\t\t\t\telement.setAttribute('id', 'NetworKit_script');\n\t\t\t\tdocument.head.appendChild(element);\n\t\t\t}\n\t\t\n\t\t\t\t\n\t\t\t{\n\t\t\t\tvar element = document.getElementById('NetworKit_style');\n\t\t\t\tif (element) {\n\t\t\t\t\telement.parentNode.removeChild(element);\n\t\t\t\t}\n\t\t\t\telement = document.createElement('style');\n\t\t\t\telement.type = 'text/css';\n\t\t\t\telement.innerHTML = '.NetworKit_Page { font-family: Arial, Helvetica, sans-serif; font-size: 14px; } .NetworKit_Page .Value:before { font-family: Arial, Helvetica, sans-serif; font-size: 1.05em; content: attr(data-title) \":\"; margin-left: -2.5em; padding-right: 0.5em; } .NetworKit_Page .Details .Value:before { display: block; } .NetworKit_Page .Value { font-family: monospace; white-space: pre; padding-left: 2.5em; white-space: -moz-pre-wrap !important; white-space: -pre-wrap; white-space: -o-pre-wrap; white-space: pre-wrap; word-wrap: break-word; tab-size: 4; -moz-tab-size: 4; } .NetworKit_Page .Category { clear: both; padding-left: 1em; margin-bottom: 1.5em; } .NetworKit_Page .Category:before { content: attr(data-title); font-size: 1.75em; display: block; margin-left: -0.8em; margin-bottom: 0.5em; } .NetworKit_Page .SubCategory { margin-bottom: 1.5em; padding-left: 1em; } .NetworKit_Page .SubCategory:before { font-size: 1.6em; display: block; margin-left: -0.8em; margin-bottom: 0.5em; } .NetworKit_Page .SubCategory[data-title]:before { content: attr(data-title); } .NetworKit_Page .Block { display: block; } .NetworKit_Page .Block:after { content: \".\"; visibility: hidden; display: block; height: 0; clear: both; } .NetworKit_Page .Block .Thumbnail_Overview, .NetworKit_Page .Block .Thumbnail_ScatterPlot { width: 260px; float: left; } .NetworKit_Page .Block .Thumbnail_Overview img, .NetworKit_Page .Block .Thumbnail_ScatterPlot img { width: 260px; } .NetworKit_Page .Block .Thumbnail_Overview:before, .NetworKit_Page .Block .Thumbnail_ScatterPlot:before { display: block; text-align: center; font-weight: bold; } .NetworKit_Page .Block .Thumbnail_Overview:before { content: attr(data-title); } .NetworKit_Page .HeatCell { font-family: \"Courier New\", Courier, monospace; cursor: pointer; } .NetworKit_Page .HeatCell, .NetworKit_Page .HeatCellName { display: inline; padding: 0.1em; margin-right: 2px; background-color: #FFFFFF } .NetworKit_Page .HeatCellName { margin-left: 0.25em; } .NetworKit_Page .HeatCell:before { content: attr(data-heat); display: inline-block; color: #000000; width: 4em; text-align: center; } .NetworKit_Page .Measure { clear: both; } .NetworKit_Page .Measure .Details { cursor: pointer; } .NetworKit_Page .Measure .Details:before { content: \"[\" attr(data-title) \"]\"; display: block; } .NetworKit_Page .Measure .Details .Value { border-left: 1px dotted black; margin-left: 0.4em; padding-left: 3.5em; pointer-events: none; } .NetworKit_Page .Measure .Details .Spacer:before { content: \".\"; opacity: 0.0; pointer-events: none; } .NetworKit_Page .Measure .Plot { width: 440px; height: 440px; cursor: pointer; float: left; margin-left: -0.9em; margin-right: 20px; } .NetworKit_Page .Measure .Plot .Image { background-repeat: no-repeat; background-position: center center; background-size: contain; height: 100%; pointer-events: none; } .NetworKit_Page .Measure .Stat { width: 500px; float: left; } .NetworKit_Page .Measure .Stat .Group { padding-left: 1.25em; margin-bottom: 0.75em; } .NetworKit_Page .Measure .Stat .Group .Title { font-size: 1.1em; display: block; margin-bottom: 0.3em; margin-left: -0.75em; border-right-style: dotted; border-right-width: 1px; border-bottom-style: dotted; border-bottom-width: 1px; background-color: #D0D0D0; padding-left: 0.2em; } .NetworKit_Page .Measure .Stat .Group .List { -webkit-column-count: 3; -moz-column-count: 3; column-count: 3; } .NetworKit_Page .Measure .Stat .Group .List .Entry { position: relative; line-height: 1.75em; } .NetworKit_Page .Measure .Stat .Group .List .Entry[data-tooltip]:before { position: absolute; left: 0; top: -40px; background-color: #808080; color: #ffffff; height: 30px; line-height: 30px; border-radius: 5px; padding: 0 15px; content: attr(data-tooltip); white-space: nowrap; display: none; } .NetworKit_Page .Measure .Stat .Group .List .Entry[data-tooltip]:after { position: absolute; left: 15px; top: -10px; border-top: 7px solid #808080; border-left: 7px solid transparent; border-right: 7px solid transparent; content: \"\"; display: none; } .NetworKit_Page .Measure .Stat .Group .List .Entry[data-tooltip]:hover:after, .NetworKit_Page .Measure .Stat .Group .List .Entry[data-tooltip]:hover:before { display: block; } .NetworKit_Page .Measure .Stat .Group .List .Entry .MathValue { font-family: \"Courier New\", Courier, monospace; } .NetworKit_Page .Measure:after { content: \".\"; visibility: hidden; display: block; height: 0; clear: both; } .NetworKit_Page .PartitionPie { clear: both; } .NetworKit_Page .PartitionPie img { width: 600px; } #NetworKit_Overlay { left: 0px; top: 0px; display: none; position: absolute; width: 100%; height: 100%; background-color: rgba(0,0,0,0.6); z-index: 1000; } #NetworKit_Overlay_Title { position: absolute; color: white; transform: rotate(-90deg); width: 32em; height: 32em; padding-right: 0.5em; padding-top: 0.5em; text-align: right; font-size: 40px; } #NetworKit_Overlay .button { background: white; cursor: pointer; } #NetworKit_Overlay .button:before { size: 13px; display: inline-block; text-align: center; margin-top: 0.5em; margin-bottom: 0.5em; width: 1.5em; height: 1.5em; } #NetworKit_Overlay .icon-close:before { content: \"X\"; } #NetworKit_Overlay .icon-previous:before { content: \"P\"; } #NetworKit_Overlay .icon-next:before { content: \"N\"; } #NetworKit_Overlay .icon-save:before { content: \"S\"; } #NetworKit_Overlay_Toolbar_Top, #NetworKit_Overlay_Toolbar_Bottom { position: absolute; width: 40px; right: 13px; text-align: right; z-index: 1100; } #NetworKit_Overlay_Toolbar_Top { top: 0.5em; } #NetworKit_Overlay_Toolbar_Bottom { Bottom: 0.5em; } #NetworKit_Overlay_ImageContainer { position: absolute; top: 5%; left: 5%; height: 90%; width: 90%; background-repeat: no-repeat; background-position: center center; background-size: contain; } #NetworKit_Overlay_Image { height: 100%; width: 100%; background-repeat: no-repeat; background-position: center center; background-size: contain; }';\n\t\t\t\telement.setAttribute('id', 'NetworKit_style');\n\t\t\t\tdocument.head.appendChild(element);\n\t\t\t}\n\t\t\n\t\t\t\t\n\t\t\t{\n\t\t\t\tvar element = document.getElementById('NetworKit_Overlay');\n\t\t\t\tif (element) {\n\t\t\t\t\telement.parentNode.removeChild(element);\n\t\t\t\t}\n\t\t\t\telement = document.createElement('div');\n\t\t\t\telement.innerHTML = '<div id=\"NetworKit_Overlay_Toolbar_Top\"><div class=\"button icon-close\" id=\"NetworKit_Overlay_Close\" /></div><div id=\"NetworKit_Overlay_Title\" /> <div id=\"NetworKit_Overlay_ImageContainer\"> <div id=\"NetworKit_Overlay_Image\" /> </div> <div id=\"NetworKit_Overlay_Toolbar_Bottom\"> <div class=\"button icon-previous\" onclick=\"NetworKit_overlayImageShift(-1)\" /> <div class=\"button icon-next\" onclick=\"NetworKit_overlayImageShift(1)\" /> <a id=\"NetworKit_Overlay_Toolbar_Bottom_Save\"><div class=\"button icon-save\" /></a> </div>';\n\t\t\t\telement.setAttribute('id', 'NetworKit_Overlay');\n\t\t\t\tdocument.body.appendChild(element);\n\t\t\t\tdocument.getElementById('NetworKit_Overlay_Close').onclick = function (e) {\n\t\t\t\t\tdocument.getElementById('NetworKit_Overlay').style.display = 'none';\n\t\t\t\t}\n\t\t\t}\n\t\t\n\t\t\t-->\n\t\t\t</script>\n\t\t"
     },
     "metadata": {}
    }
   ],
   "source": [
    "import networkx as nx\n",
    "import networkit as nk\n",
    "import pandas as pd\n",
    "\n",
    "import utils\n",
    "import matplotlib.pyplot as plt\n",
    "import pickle\n",
    "plt.rcParams[\"figure.figsize\"] = (10,5)"
   ]
  },
  {
   "source": [
    "# Node Compression Simple Example"
   ],
   "cell_type": "markdown",
   "metadata": {}
  },
  {
   "cell_type": "code",
   "execution_count": 4,
   "metadata": {},
   "outputs": [
    {
     "output_type": "display_data",
     "data": {
      "text/plain": "<Figure size 720x360 with 1 Axes>",
      "image/svg+xml": "<?xml version=\"1.0\" encoding=\"utf-8\" standalone=\"no\"?>\n<!DOCTYPE svg PUBLIC \"-//W3C//DTD SVG 1.1//EN\"\n  \"http://www.w3.org/Graphics/SVG/1.1/DTD/svg11.dtd\">\n<!-- Created with matplotlib (https://matplotlib.org/) -->\n<svg height=\"374.4pt\" version=\"1.1\" viewBox=\"0 0 734.4 374.4\" width=\"734.4pt\" xmlns=\"http://www.w3.org/2000/svg\" xmlns:xlink=\"http://www.w3.org/1999/xlink\">\n <metadata>\n  <rdf:RDF xmlns:cc=\"http://creativecommons.org/ns#\" xmlns:dc=\"http://purl.org/dc/elements/1.1/\" xmlns:rdf=\"http://www.w3.org/1999/02/22-rdf-syntax-ns#\">\n   <cc:Work>\n    <dc:type rdf:resource=\"http://purl.org/dc/dcmitype/StillImage\"/>\n    <dc:date>2021-05-06T17:03:28.554121</dc:date>\n    <dc:format>image/svg+xml</dc:format>\n    <dc:creator>\n     <cc:Agent>\n      <dc:title>Matplotlib v3.3.3, https://matplotlib.org/</dc:title>\n     </cc:Agent>\n    </dc:creator>\n   </cc:Work>\n  </rdf:RDF>\n </metadata>\n <defs>\n  <style type=\"text/css\">*{stroke-linecap:butt;stroke-linejoin:round;}</style>\n </defs>\n <g id=\"figure_1\">\n  <g id=\"patch_1\">\n   <path d=\"M 0 374.4 \nL 734.4 374.4 \nL 734.4 -0 \nL 0 -0 \nz\n\" style=\"fill:#ffffff;\"/>\n  </g>\n  <g id=\"axes_1\">\n   <g id=\"LineCollection_1\">\n    <path clip-path=\"url(#pb5d336f3d6)\" d=\"M 39.927273 350.836364 \nL 694.472727 350.836364 \n\" style=\"fill:none;stroke:#000000;\"/>\n    <path clip-path=\"url(#pb5d336f3d6)\" d=\"M 39.927273 350.836364 \nL 694.472727 241.745455 \n\" style=\"fill:none;stroke:#000000;\"/>\n    <path clip-path=\"url(#pb5d336f3d6)\" d=\"M 39.927273 241.745455 \nL 694.472727 350.836364 \n\" style=\"fill:none;stroke:#000000;\"/>\n    <path clip-path=\"url(#pb5d336f3d6)\" d=\"M 39.927273 241.745455 \nL 694.472727 241.745455 \n\" style=\"fill:none;stroke:#000000;\"/>\n    <path clip-path=\"url(#pb5d336f3d6)\" d=\"M 39.927273 241.745455 \nL 694.472727 132.654545 \n\" style=\"fill:none;stroke:#000000;\"/>\n    <path clip-path=\"url(#pb5d336f3d6)\" d=\"M 39.927273 241.745455 \nL 694.472727 23.563636 \n\" style=\"fill:none;stroke:#000000;\"/>\n    <path clip-path=\"url(#pb5d336f3d6)\" d=\"M 39.927273 132.654545 \nL 694.472727 132.654545 \n\" style=\"fill:none;stroke:#000000;\"/>\n    <path clip-path=\"url(#pb5d336f3d6)\" d=\"M 39.927273 132.654545 \nL 694.472727 23.563636 \n\" style=\"fill:none;stroke:#000000;\"/>\n   </g>\n   <g id=\"PathCollection_1\">\n    <defs>\n     <path d=\"M 0 8.660254 \nC 2.296726 8.660254 4.499694 7.747755 6.123724 6.123724 \nC 7.747755 4.499694 8.660254 2.296726 8.660254 0 \nC 8.660254 -2.296726 7.747755 -4.499694 6.123724 -6.123724 \nC 4.499694 -7.747755 2.296726 -8.660254 0 -8.660254 \nC -2.296726 -8.660254 -4.499694 -7.747755 -6.123724 -6.123724 \nC -7.747755 -4.499694 -8.660254 -2.296726 -8.660254 0 \nC -8.660254 2.296726 -7.747755 4.499694 -6.123724 6.123724 \nC -4.499694 7.747755 -2.296726 8.660254 0 8.660254 \nz\n\" id=\"mf0baf654ad\" style=\"stroke:#1f78b4;\"/>\n    </defs>\n    <g clip-path=\"url(#pb5d336f3d6)\">\n     <use style=\"fill:#1f78b4;stroke:#1f78b4;\" x=\"39.927273\" xlink:href=\"#mf0baf654ad\" y=\"350.836364\"/>\n     <use style=\"fill:#1f78b4;stroke:#1f78b4;\" x=\"39.927273\" xlink:href=\"#mf0baf654ad\" y=\"241.745455\"/>\n     <use style=\"fill:#1f78b4;stroke:#1f78b4;\" x=\"39.927273\" xlink:href=\"#mf0baf654ad\" y=\"132.654545\"/>\n     <use style=\"fill:#1f78b4;stroke:#1f78b4;\" x=\"694.472727\" xlink:href=\"#mf0baf654ad\" y=\"350.836364\"/>\n     <use style=\"fill:#1f78b4;stroke:#1f78b4;\" x=\"694.472727\" xlink:href=\"#mf0baf654ad\" y=\"241.745455\"/>\n     <use style=\"fill:#1f78b4;stroke:#1f78b4;\" x=\"694.472727\" xlink:href=\"#mf0baf654ad\" y=\"132.654545\"/>\n     <use style=\"fill:#1f78b4;stroke:#1f78b4;\" x=\"694.472727\" xlink:href=\"#mf0baf654ad\" y=\"23.563636\"/>\n    </g>\n   </g>\n   <g id=\"text_1\">\n    <g clip-path=\"url(#pb5d336f3d6)\">\n     <!-- a1 -->\n     <g transform=\"translate(32.432898 354.147614)scale(0.12 -0.12)\">\n      <defs>\n       <path d=\"M 34.28125 27.484375 \nQ 23.390625 27.484375 19.1875 25 \nQ 14.984375 22.515625 14.984375 16.5 \nQ 14.984375 11.71875 18.140625 8.90625 \nQ 21.296875 6.109375 26.703125 6.109375 \nQ 34.1875 6.109375 38.703125 11.40625 \nQ 43.21875 16.703125 43.21875 25.484375 \nL 43.21875 27.484375 \nz\nM 52.203125 31.203125 \nL 52.203125 0 \nL 43.21875 0 \nL 43.21875 8.296875 \nQ 40.140625 3.328125 35.546875 0.953125 \nQ 30.953125 -1.421875 24.3125 -1.421875 \nQ 15.921875 -1.421875 10.953125 3.296875 \nQ 6 8.015625 6 15.921875 \nQ 6 25.140625 12.171875 29.828125 \nQ 18.359375 34.515625 30.609375 34.515625 \nL 43.21875 34.515625 \nL 43.21875 35.40625 \nQ 43.21875 41.609375 39.140625 45 \nQ 35.0625 48.390625 27.6875 48.390625 \nQ 23 48.390625 18.546875 47.265625 \nQ 14.109375 46.140625 10.015625 43.890625 \nL 10.015625 52.203125 \nQ 14.9375 54.109375 19.578125 55.046875 \nQ 24.21875 56 28.609375 56 \nQ 40.484375 56 46.34375 49.84375 \nQ 52.203125 43.703125 52.203125 31.203125 \nz\n\" id=\"DejaVuSans-97\"/>\n       <path d=\"M 12.40625 8.296875 \nL 28.515625 8.296875 \nL 28.515625 63.921875 \nL 10.984375 60.40625 \nL 10.984375 69.390625 \nL 28.421875 72.90625 \nL 38.28125 72.90625 \nL 38.28125 8.296875 \nL 54.390625 8.296875 \nL 54.390625 0 \nL 12.40625 0 \nz\n\" id=\"DejaVuSans-49\"/>\n      </defs>\n      <use xlink:href=\"#DejaVuSans-97\"/>\n      <use x=\"61.279297\" xlink:href=\"#DejaVuSans-49\"/>\n     </g>\n    </g>\n   </g>\n   <g id=\"text_2\">\n    <g clip-path=\"url(#pb5d336f3d6)\">\n     <!-- a2 -->\n     <g transform=\"translate(32.432898 245.056705)scale(0.12 -0.12)\">\n      <defs>\n       <path d=\"M 19.1875 8.296875 \nL 53.609375 8.296875 \nL 53.609375 0 \nL 7.328125 0 \nL 7.328125 8.296875 \nQ 12.9375 14.109375 22.625 23.890625 \nQ 32.328125 33.6875 34.8125 36.53125 \nQ 39.546875 41.84375 41.421875 45.53125 \nQ 43.3125 49.21875 43.3125 52.78125 \nQ 43.3125 58.59375 39.234375 62.25 \nQ 35.15625 65.921875 28.609375 65.921875 \nQ 23.96875 65.921875 18.8125 64.3125 \nQ 13.671875 62.703125 7.8125 59.421875 \nL 7.8125 69.390625 \nQ 13.765625 71.78125 18.9375 73 \nQ 24.125 74.21875 28.421875 74.21875 \nQ 39.75 74.21875 46.484375 68.546875 \nQ 53.21875 62.890625 53.21875 53.421875 \nQ 53.21875 48.921875 51.53125 44.890625 \nQ 49.859375 40.875 45.40625 35.40625 \nQ 44.1875 33.984375 37.640625 27.21875 \nQ 31.109375 20.453125 19.1875 8.296875 \nz\n\" id=\"DejaVuSans-50\"/>\n      </defs>\n      <use xlink:href=\"#DejaVuSans-97\"/>\n      <use x=\"61.279297\" xlink:href=\"#DejaVuSans-50\"/>\n     </g>\n    </g>\n   </g>\n   <g id=\"text_3\">\n    <g clip-path=\"url(#pb5d336f3d6)\">\n     <!-- a3 -->\n     <g transform=\"translate(32.432898 135.965795)scale(0.12 -0.12)\">\n      <defs>\n       <path d=\"M 40.578125 39.3125 \nQ 47.65625 37.796875 51.625 33 \nQ 55.609375 28.21875 55.609375 21.1875 \nQ 55.609375 10.40625 48.1875 4.484375 \nQ 40.765625 -1.421875 27.09375 -1.421875 \nQ 22.515625 -1.421875 17.65625 -0.515625 \nQ 12.796875 0.390625 7.625 2.203125 \nL 7.625 11.71875 \nQ 11.71875 9.328125 16.59375 8.109375 \nQ 21.484375 6.890625 26.8125 6.890625 \nQ 36.078125 6.890625 40.9375 10.546875 \nQ 45.796875 14.203125 45.796875 21.1875 \nQ 45.796875 27.640625 41.28125 31.265625 \nQ 36.765625 34.90625 28.71875 34.90625 \nL 20.21875 34.90625 \nL 20.21875 43.015625 \nL 29.109375 43.015625 \nQ 36.375 43.015625 40.234375 45.921875 \nQ 44.09375 48.828125 44.09375 54.296875 \nQ 44.09375 59.90625 40.109375 62.90625 \nQ 36.140625 65.921875 28.71875 65.921875 \nQ 24.65625 65.921875 20.015625 65.03125 \nQ 15.375 64.15625 9.8125 62.3125 \nL 9.8125 71.09375 \nQ 15.4375 72.65625 20.34375 73.4375 \nQ 25.25 74.21875 29.59375 74.21875 \nQ 40.828125 74.21875 47.359375 69.109375 \nQ 53.90625 64.015625 53.90625 55.328125 \nQ 53.90625 49.265625 50.4375 45.09375 \nQ 46.96875 40.921875 40.578125 39.3125 \nz\n\" id=\"DejaVuSans-51\"/>\n      </defs>\n      <use xlink:href=\"#DejaVuSans-97\"/>\n      <use x=\"61.279297\" xlink:href=\"#DejaVuSans-51\"/>\n     </g>\n    </g>\n   </g>\n   <g id=\"text_4\">\n    <g clip-path=\"url(#pb5d336f3d6)\">\n     <!-- 1 -->\n     <g transform=\"translate(690.655227 354.147614)scale(0.12 -0.12)\">\n      <use xlink:href=\"#DejaVuSans-49\"/>\n     </g>\n    </g>\n   </g>\n   <g id=\"text_5\">\n    <g clip-path=\"url(#pb5d336f3d6)\">\n     <!-- 2 -->\n     <g transform=\"translate(690.655227 245.056705)scale(0.12 -0.12)\">\n      <use xlink:href=\"#DejaVuSans-50\"/>\n     </g>\n    </g>\n   </g>\n   <g id=\"text_6\">\n    <g clip-path=\"url(#pb5d336f3d6)\">\n     <!-- 3 -->\n     <g transform=\"translate(690.655227 135.965795)scale(0.12 -0.12)\">\n      <use xlink:href=\"#DejaVuSans-51\"/>\n     </g>\n    </g>\n   </g>\n   <g id=\"text_7\">\n    <g clip-path=\"url(#pb5d336f3d6)\">\n     <!-- 4 -->\n     <g transform=\"translate(690.655227 26.874886)scale(0.12 -0.12)\">\n      <defs>\n       <path d=\"M 37.796875 64.3125 \nL 12.890625 25.390625 \nL 37.796875 25.390625 \nz\nM 35.203125 72.90625 \nL 47.609375 72.90625 \nL 47.609375 25.390625 \nL 58.015625 25.390625 \nL 58.015625 17.1875 \nL 47.609375 17.1875 \nL 47.609375 0 \nL 37.796875 0 \nL 37.796875 17.1875 \nL 4.890625 17.1875 \nL 4.890625 26.703125 \nz\n\" id=\"DejaVuSans-52\"/>\n      </defs>\n      <use xlink:href=\"#DejaVuSans-52\"/>\n     </g>\n    </g>\n   </g>\n  </g>\n </g>\n <defs>\n  <clipPath id=\"pb5d336f3d6\">\n   <rect height=\"360\" width=\"720\" x=\"7.2\" y=\"7.2\"/>\n  </clipPath>\n </defs>\n</svg>\n",
      "image/png": "[encoded data removed]"
     },
     "metadata": {}
    }
   ],
   "source": [
    "g = nx.Graph()\n",
    "g.add_nodes_from(['a1', 'a2', 'a3'], bipartite=0, type='attr')\n",
    "g.add_nodes_from([1, 2, 3, 4], bipartite=1, type='cell')\n",
    "g.add_edges_from([(1,'a1'), (1,'a2'), (2,'a1'), (2,'a2'), (3,'a2'), (3,'a3'), (4,'a2'), (4,'a3')])\n",
    "\n",
    "# Separate by group\n",
    "l, r = nx.bipartite.sets(g)\n",
    "pos = {}\n",
    "\n",
    "# Update position for node from each group\n",
    "pos.update((node, (1, index)) for index, node in enumerate(l))\n",
    "pos.update((node, (2, index)) for index, node in enumerate(r))\n",
    "\n",
    "nx.draw(g, pos=pos, with_labels = True)\n",
    "plt.show()"
   ]
  },
  {
   "cell_type": "code",
   "execution_count": 5,
   "metadata": {},
   "outputs": [
    {
     "output_type": "stream",
     "name": "stderr",
     "text": [
      "100%|██████████| 4/4 [00:00<00:00, 28630.06it/s]\n",
      "100%|██████████| 2/2 [00:00<00:00, 8338.58it/s]Constructing attr_nodes_set_to_cell_nodes dictionary...\n",
      "Compressing cell nodes...\n",
      "\n"
     ]
    },
    {
     "output_type": "display_data",
     "data": {
      "text/plain": "<Figure size 720x360 with 1 Axes>",
      "image/svg+xml": "<?xml version=\"1.0\" encoding=\"utf-8\" standalone=\"no\"?>\n<!DOCTYPE svg PUBLIC \"-//W3C//DTD SVG 1.1//EN\"\n  \"http://www.w3.org/Graphics/SVG/1.1/DTD/svg11.dtd\">\n<!-- Created with matplotlib (https://matplotlib.org/) -->\n<svg height=\"374.4pt\" version=\"1.1\" viewBox=\"0 0 734.4 374.4\" width=\"734.4pt\" xmlns=\"http://www.w3.org/2000/svg\" xmlns:xlink=\"http://www.w3.org/1999/xlink\">\n <metadata>\n  <rdf:RDF xmlns:cc=\"http://creativecommons.org/ns#\" xmlns:dc=\"http://purl.org/dc/elements/1.1/\" xmlns:rdf=\"http://www.w3.org/1999/02/22-rdf-syntax-ns#\">\n   <cc:Work>\n    <dc:type rdf:resource=\"http://purl.org/dc/dcmitype/StillImage\"/>\n    <dc:date>2021-05-06T17:03:28.673316</dc:date>\n    <dc:format>image/svg+xml</dc:format>\n    <dc:creator>\n     <cc:Agent>\n      <dc:title>Matplotlib v3.3.3, https://matplotlib.org/</dc:title>\n     </cc:Agent>\n    </dc:creator>\n   </cc:Work>\n  </rdf:RDF>\n </metadata>\n <defs>\n  <style type=\"text/css\">*{stroke-linecap:butt;stroke-linejoin:round;}</style>\n </defs>\n <g id=\"figure_1\">\n  <g id=\"patch_1\">\n   <path d=\"M 0 374.4 \nL 734.4 374.4 \nL 734.4 -0 \nL 0 -0 \nz\n\" style=\"fill:#ffffff;\"/>\n  </g>\n  <g id=\"axes_1\">\n   <g id=\"LineCollection_1\">\n    <path clip-path=\"url(#p53a820cb54)\" d=\"M 39.927273 350.836364 \nL 694.472727 350.836364 \n\" style=\"fill:none;stroke:#000000;\"/>\n    <path clip-path=\"url(#p53a820cb54)\" d=\"M 39.927273 187.2 \nL 694.472727 350.836364 \n\" style=\"fill:none;stroke:#000000;\"/>\n    <path clip-path=\"url(#p53a820cb54)\" d=\"M 39.927273 187.2 \nL 694.472727 187.2 \n\" style=\"fill:none;stroke:#000000;\"/>\n    <path clip-path=\"url(#p53a820cb54)\" d=\"M 39.927273 23.563636 \nL 694.472727 187.2 \n\" style=\"fill:none;stroke:#000000;\"/>\n   </g>\n   <g id=\"PathCollection_1\">\n    <defs>\n     <path d=\"M 0 8.660254 \nC 2.296726 8.660254 4.499694 7.747755 6.123724 6.123724 \nC 7.747755 4.499694 8.660254 2.296726 8.660254 0 \nC 8.660254 -2.296726 7.747755 -4.499694 6.123724 -6.123724 \nC 4.499694 -7.747755 2.296726 -8.660254 0 -8.660254 \nC -2.296726 -8.660254 -4.499694 -7.747755 -6.123724 -6.123724 \nC -7.747755 -4.499694 -8.660254 -2.296726 -8.660254 0 \nC -8.660254 2.296726 -7.747755 4.499694 -6.123724 6.123724 \nC -4.499694 7.747755 -2.296726 8.660254 0 8.660254 \nz\n\" id=\"m8a8a1670a1\" style=\"stroke:#1f78b4;\"/>\n    </defs>\n    <g clip-path=\"url(#p53a820cb54)\">\n     <use style=\"fill:#1f78b4;stroke:#1f78b4;\" x=\"39.927273\" xlink:href=\"#m8a8a1670a1\" y=\"350.836364\"/>\n     <use style=\"fill:#1f78b4;stroke:#1f78b4;\" x=\"39.927273\" xlink:href=\"#m8a8a1670a1\" y=\"187.2\"/>\n     <use style=\"fill:#1f78b4;stroke:#1f78b4;\" x=\"39.927273\" xlink:href=\"#m8a8a1670a1\" y=\"23.563636\"/>\n     <use style=\"fill:#1f78b4;stroke:#1f78b4;\" x=\"694.472727\" xlink:href=\"#m8a8a1670a1\" y=\"350.836364\"/>\n     <use style=\"fill:#1f78b4;stroke:#1f78b4;\" x=\"694.472727\" xlink:href=\"#m8a8a1670a1\" y=\"187.2\"/>\n    </g>\n   </g>\n   <g id=\"text_1\">\n    <g clip-path=\"url(#p53a820cb54)\">\n     <!-- a1 -->\n     <g transform=\"translate(32.432898 354.147614)scale(0.12 -0.12)\">\n      <defs>\n       <path d=\"M 34.28125 27.484375 \nQ 23.390625 27.484375 19.1875 25 \nQ 14.984375 22.515625 14.984375 16.5 \nQ 14.984375 11.71875 18.140625 8.90625 \nQ 21.296875 6.109375 26.703125 6.109375 \nQ 34.1875 6.109375 38.703125 11.40625 \nQ 43.21875 16.703125 43.21875 25.484375 \nL 43.21875 27.484375 \nz\nM 52.203125 31.203125 \nL 52.203125 0 \nL 43.21875 0 \nL 43.21875 8.296875 \nQ 40.140625 3.328125 35.546875 0.953125 \nQ 30.953125 -1.421875 24.3125 -1.421875 \nQ 15.921875 -1.421875 10.953125 3.296875 \nQ 6 8.015625 6 15.921875 \nQ 6 25.140625 12.171875 29.828125 \nQ 18.359375 34.515625 30.609375 34.515625 \nL 43.21875 34.515625 \nL 43.21875 35.40625 \nQ 43.21875 41.609375 39.140625 45 \nQ 35.0625 48.390625 27.6875 48.390625 \nQ 23 48.390625 18.546875 47.265625 \nQ 14.109375 46.140625 10.015625 43.890625 \nL 10.015625 52.203125 \nQ 14.9375 54.109375 19.578125 55.046875 \nQ 24.21875 56 28.609375 56 \nQ 40.484375 56 46.34375 49.84375 \nQ 52.203125 43.703125 52.203125 31.203125 \nz\n\" id=\"DejaVuSans-97\"/>\n       <path d=\"M 12.40625 8.296875 \nL 28.515625 8.296875 \nL 28.515625 63.921875 \nL 10.984375 60.40625 \nL 10.984375 69.390625 \nL 28.421875 72.90625 \nL 38.28125 72.90625 \nL 38.28125 8.296875 \nL 54.390625 8.296875 \nL 54.390625 0 \nL 12.40625 0 \nz\n\" id=\"DejaVuSans-49\"/>\n      </defs>\n      <use xlink:href=\"#DejaVuSans-97\"/>\n      <use x=\"61.279297\" xlink:href=\"#DejaVuSans-49\"/>\n     </g>\n    </g>\n   </g>\n   <g id=\"text_2\">\n    <g clip-path=\"url(#p53a820cb54)\">\n     <!-- a2 -->\n     <g transform=\"translate(32.432898 190.51125)scale(0.12 -0.12)\">\n      <defs>\n       <path d=\"M 19.1875 8.296875 \nL 53.609375 8.296875 \nL 53.609375 0 \nL 7.328125 0 \nL 7.328125 8.296875 \nQ 12.9375 14.109375 22.625 23.890625 \nQ 32.328125 33.6875 34.8125 36.53125 \nQ 39.546875 41.84375 41.421875 45.53125 \nQ 43.3125 49.21875 43.3125 52.78125 \nQ 43.3125 58.59375 39.234375 62.25 \nQ 35.15625 65.921875 28.609375 65.921875 \nQ 23.96875 65.921875 18.8125 64.3125 \nQ 13.671875 62.703125 7.8125 59.421875 \nL 7.8125 69.390625 \nQ 13.765625 71.78125 18.9375 73 \nQ 24.125 74.21875 28.421875 74.21875 \nQ 39.75 74.21875 46.484375 68.546875 \nQ 53.21875 62.890625 53.21875 53.421875 \nQ 53.21875 48.921875 51.53125 44.890625 \nQ 49.859375 40.875 45.40625 35.40625 \nQ 44.1875 33.984375 37.640625 27.21875 \nQ 31.109375 20.453125 19.1875 8.296875 \nz\n\" id=\"DejaVuSans-50\"/>\n      </defs>\n      <use xlink:href=\"#DejaVuSans-97\"/>\n      <use x=\"61.279297\" xlink:href=\"#DejaVuSans-50\"/>\n     </g>\n    </g>\n   </g>\n   <g id=\"text_3\">\n    <g clip-path=\"url(#p53a820cb54)\">\n     <!-- a3 -->\n     <g transform=\"translate(32.432898 26.874886)scale(0.12 -0.12)\">\n      <defs>\n       <path d=\"M 40.578125 39.3125 \nQ 47.65625 37.796875 51.625 33 \nQ 55.609375 28.21875 55.609375 21.1875 \nQ 55.609375 10.40625 48.1875 4.484375 \nQ 40.765625 -1.421875 27.09375 -1.421875 \nQ 22.515625 -1.421875 17.65625 -0.515625 \nQ 12.796875 0.390625 7.625 2.203125 \nL 7.625 11.71875 \nQ 11.71875 9.328125 16.59375 8.109375 \nQ 21.484375 6.890625 26.8125 6.890625 \nQ 36.078125 6.890625 40.9375 10.546875 \nQ 45.796875 14.203125 45.796875 21.1875 \nQ 45.796875 27.640625 41.28125 31.265625 \nQ 36.765625 34.90625 28.71875 34.90625 \nL 20.21875 34.90625 \nL 20.21875 43.015625 \nL 29.109375 43.015625 \nQ 36.375 43.015625 40.234375 45.921875 \nQ 44.09375 48.828125 44.09375 54.296875 \nQ 44.09375 59.90625 40.109375 62.90625 \nQ 36.140625 65.921875 28.71875 65.921875 \nQ 24.65625 65.921875 20.015625 65.03125 \nQ 15.375 64.15625 9.8125 62.3125 \nL 9.8125 71.09375 \nQ 15.4375 72.65625 20.34375 73.4375 \nQ 25.25 74.21875 29.59375 74.21875 \nQ 40.828125 74.21875 47.359375 69.109375 \nQ 53.90625 64.015625 53.90625 55.328125 \nQ 53.90625 49.265625 50.4375 45.09375 \nQ 46.96875 40.921875 40.578125 39.3125 \nz\n\" id=\"DejaVuSans-51\"/>\n      </defs>\n      <use xlink:href=\"#DejaVuSans-97\"/>\n      <use x=\"61.279297\" xlink:href=\"#DejaVuSans-51\"/>\n     </g>\n    </g>\n   </g>\n   <g id=\"text_4\">\n    <g clip-path=\"url(#p53a820cb54)\">\n     <!-- compressed_node_0 -->\n     <g transform=\"translate(633.281165 353.980739)scale(0.12 -0.12)\">\n      <defs>\n       <path d=\"M 48.78125 52.59375 \nL 48.78125 44.1875 \nQ 44.96875 46.296875 41.140625 47.34375 \nQ 37.3125 48.390625 33.40625 48.390625 \nQ 24.65625 48.390625 19.8125 42.84375 \nQ 14.984375 37.3125 14.984375 27.296875 \nQ 14.984375 17.28125 19.8125 11.734375 \nQ 24.65625 6.203125 33.40625 6.203125 \nQ 37.3125 6.203125 41.140625 7.25 \nQ 44.96875 8.296875 48.78125 10.40625 \nL 48.78125 2.09375 \nQ 45.015625 0.34375 40.984375 -0.53125 \nQ 36.96875 -1.421875 32.421875 -1.421875 \nQ 20.0625 -1.421875 12.78125 6.34375 \nQ 5.515625 14.109375 5.515625 27.296875 \nQ 5.515625 40.671875 12.859375 48.328125 \nQ 20.21875 56 33.015625 56 \nQ 37.15625 56 41.109375 55.140625 \nQ 45.0625 54.296875 48.78125 52.59375 \nz\n\" id=\"DejaVuSans-99\"/>\n       <path d=\"M 30.609375 48.390625 \nQ 23.390625 48.390625 19.1875 42.75 \nQ 14.984375 37.109375 14.984375 27.296875 \nQ 14.984375 17.484375 19.15625 11.84375 \nQ 23.34375 6.203125 30.609375 6.203125 \nQ 37.796875 6.203125 41.984375 11.859375 \nQ 46.1875 17.53125 46.1875 27.296875 \nQ 46.1875 37.015625 41.984375 42.703125 \nQ 37.796875 48.390625 30.609375 48.390625 \nz\nM 30.609375 56 \nQ 42.328125 56 49.015625 48.375 \nQ 55.71875 40.765625 55.71875 27.296875 \nQ 55.71875 13.875 49.015625 6.21875 \nQ 42.328125 -1.421875 30.609375 -1.421875 \nQ 18.84375 -1.421875 12.171875 6.21875 \nQ 5.515625 13.875 5.515625 27.296875 \nQ 5.515625 40.765625 12.171875 48.375 \nQ 18.84375 56 30.609375 56 \nz\n\" id=\"DejaVuSans-111\"/>\n       <path d=\"M 52 44.1875 \nQ 55.375 50.25 60.0625 53.125 \nQ 64.75 56 71.09375 56 \nQ 79.640625 56 84.28125 50.015625 \nQ 88.921875 44.046875 88.921875 33.015625 \nL 88.921875 0 \nL 79.890625 0 \nL 79.890625 32.71875 \nQ 79.890625 40.578125 77.09375 44.375 \nQ 74.3125 48.1875 68.609375 48.1875 \nQ 61.625 48.1875 57.5625 43.546875 \nQ 53.515625 38.921875 53.515625 30.90625 \nL 53.515625 0 \nL 44.484375 0 \nL 44.484375 32.71875 \nQ 44.484375 40.625 41.703125 44.40625 \nQ 38.921875 48.1875 33.109375 48.1875 \nQ 26.21875 48.1875 22.15625 43.53125 \nQ 18.109375 38.875 18.109375 30.90625 \nL 18.109375 0 \nL 9.078125 0 \nL 9.078125 54.6875 \nL 18.109375 54.6875 \nL 18.109375 46.1875 \nQ 21.1875 51.21875 25.484375 53.609375 \nQ 29.78125 56 35.6875 56 \nQ 41.65625 56 45.828125 52.96875 \nQ 50 49.953125 52 44.1875 \nz\n\" id=\"DejaVuSans-109\"/>\n       <path d=\"M 18.109375 8.203125 \nL 18.109375 -20.796875 \nL 9.078125 -20.796875 \nL 9.078125 54.6875 \nL 18.109375 54.6875 \nL 18.109375 46.390625 \nQ 20.953125 51.265625 25.265625 53.625 \nQ 29.59375 56 35.59375 56 \nQ 45.5625 56 51.78125 48.09375 \nQ 58.015625 40.1875 58.015625 27.296875 \nQ 58.015625 14.40625 51.78125 6.484375 \nQ 45.5625 -1.421875 35.59375 -1.421875 \nQ 29.59375 -1.421875 25.265625 0.953125 \nQ 20.953125 3.328125 18.109375 8.203125 \nz\nM 48.6875 27.296875 \nQ 48.6875 37.203125 44.609375 42.84375 \nQ 40.53125 48.484375 33.40625 48.484375 \nQ 26.265625 48.484375 22.1875 42.84375 \nQ 18.109375 37.203125 18.109375 27.296875 \nQ 18.109375 17.390625 22.1875 11.75 \nQ 26.265625 6.109375 33.40625 6.109375 \nQ 40.53125 6.109375 44.609375 11.75 \nQ 48.6875 17.390625 48.6875 27.296875 \nz\n\" id=\"DejaVuSans-112\"/>\n       <path d=\"M 41.109375 46.296875 \nQ 39.59375 47.171875 37.8125 47.578125 \nQ 36.03125 48 33.890625 48 \nQ 26.265625 48 22.1875 43.046875 \nQ 18.109375 38.09375 18.109375 28.8125 \nL 18.109375 0 \nL 9.078125 0 \nL 9.078125 54.6875 \nL 18.109375 54.6875 \nL 18.109375 46.1875 \nQ 20.953125 51.171875 25.484375 53.578125 \nQ 30.03125 56 36.53125 56 \nQ 37.453125 56 38.578125 55.875 \nQ 39.703125 55.765625 41.0625 55.515625 \nz\n\" id=\"DejaVuSans-114\"/>\n       <path d=\"M 56.203125 29.59375 \nL 56.203125 25.203125 \nL 14.890625 25.203125 \nQ 15.484375 15.921875 20.484375 11.0625 \nQ 25.484375 6.203125 34.421875 6.203125 \nQ 39.59375 6.203125 44.453125 7.46875 \nQ 49.3125 8.734375 54.109375 11.28125 \nL 54.109375 2.78125 \nQ 49.265625 0.734375 44.1875 -0.34375 \nQ 39.109375 -1.421875 33.890625 -1.421875 \nQ 20.796875 -1.421875 13.15625 6.1875 \nQ 5.515625 13.8125 5.515625 26.8125 \nQ 5.515625 40.234375 12.765625 48.109375 \nQ 20.015625 56 32.328125 56 \nQ 43.359375 56 49.78125 48.890625 \nQ 56.203125 41.796875 56.203125 29.59375 \nz\nM 47.21875 32.234375 \nQ 47.125 39.59375 43.09375 43.984375 \nQ 39.0625 48.390625 32.421875 48.390625 \nQ 24.90625 48.390625 20.390625 44.140625 \nQ 15.875 39.890625 15.1875 32.171875 \nz\n\" id=\"DejaVuSans-101\"/>\n       <path d=\"M 44.28125 53.078125 \nL 44.28125 44.578125 \nQ 40.484375 46.53125 36.375 47.5 \nQ 32.28125 48.484375 27.875 48.484375 \nQ 21.1875 48.484375 17.84375 46.4375 \nQ 14.5 44.390625 14.5 40.28125 \nQ 14.5 37.15625 16.890625 35.375 \nQ 19.28125 33.59375 26.515625 31.984375 \nL 29.59375 31.296875 \nQ 39.15625 29.25 43.1875 25.515625 \nQ 47.21875 21.78125 47.21875 15.09375 \nQ 47.21875 7.46875 41.1875 3.015625 \nQ 35.15625 -1.421875 24.609375 -1.421875 \nQ 20.21875 -1.421875 15.453125 -0.5625 \nQ 10.6875 0.296875 5.421875 2 \nL 5.421875 11.28125 \nQ 10.40625 8.6875 15.234375 7.390625 \nQ 20.0625 6.109375 24.8125 6.109375 \nQ 31.15625 6.109375 34.5625 8.28125 \nQ 37.984375 10.453125 37.984375 14.40625 \nQ 37.984375 18.0625 35.515625 20.015625 \nQ 33.0625 21.96875 24.703125 23.78125 \nL 21.578125 24.515625 \nQ 13.234375 26.265625 9.515625 29.90625 \nQ 5.8125 33.546875 5.8125 39.890625 \nQ 5.8125 47.609375 11.28125 51.796875 \nQ 16.75 56 26.8125 56 \nQ 31.78125 56 36.171875 55.265625 \nQ 40.578125 54.546875 44.28125 53.078125 \nz\n\" id=\"DejaVuSans-115\"/>\n       <path d=\"M 45.40625 46.390625 \nL 45.40625 75.984375 \nL 54.390625 75.984375 \nL 54.390625 0 \nL 45.40625 0 \nL 45.40625 8.203125 \nQ 42.578125 3.328125 38.25 0.953125 \nQ 33.9375 -1.421875 27.875 -1.421875 \nQ 17.96875 -1.421875 11.734375 6.484375 \nQ 5.515625 14.40625 5.515625 27.296875 \nQ 5.515625 40.1875 11.734375 48.09375 \nQ 17.96875 56 27.875 56 \nQ 33.9375 56 38.25 53.625 \nQ 42.578125 51.265625 45.40625 46.390625 \nz\nM 14.796875 27.296875 \nQ 14.796875 17.390625 18.875 11.75 \nQ 22.953125 6.109375 30.078125 6.109375 \nQ 37.203125 6.109375 41.296875 11.75 \nQ 45.40625 17.390625 45.40625 27.296875 \nQ 45.40625 37.203125 41.296875 42.84375 \nQ 37.203125 48.484375 30.078125 48.484375 \nQ 22.953125 48.484375 18.875 42.84375 \nQ 14.796875 37.203125 14.796875 27.296875 \nz\n\" id=\"DejaVuSans-100\"/>\n       <path d=\"M 50.984375 -16.609375 \nL 50.984375 -23.578125 \nL -0.984375 -23.578125 \nL -0.984375 -16.609375 \nz\n\" id=\"DejaVuSans-95\"/>\n       <path d=\"M 54.890625 33.015625 \nL 54.890625 0 \nL 45.90625 0 \nL 45.90625 32.71875 \nQ 45.90625 40.484375 42.875 44.328125 \nQ 39.84375 48.1875 33.796875 48.1875 \nQ 26.515625 48.1875 22.3125 43.546875 \nQ 18.109375 38.921875 18.109375 30.90625 \nL 18.109375 0 \nL 9.078125 0 \nL 9.078125 54.6875 \nL 18.109375 54.6875 \nL 18.109375 46.1875 \nQ 21.34375 51.125 25.703125 53.5625 \nQ 30.078125 56 35.796875 56 \nQ 45.21875 56 50.046875 50.171875 \nQ 54.890625 44.34375 54.890625 33.015625 \nz\n\" id=\"DejaVuSans-110\"/>\n       <path d=\"M 31.78125 66.40625 \nQ 24.171875 66.40625 20.328125 58.90625 \nQ 16.5 51.421875 16.5 36.375 \nQ 16.5 21.390625 20.328125 13.890625 \nQ 24.171875 6.390625 31.78125 6.390625 \nQ 39.453125 6.390625 43.28125 13.890625 \nQ 47.125 21.390625 47.125 36.375 \nQ 47.125 51.421875 43.28125 58.90625 \nQ 39.453125 66.40625 31.78125 66.40625 \nz\nM 31.78125 74.21875 \nQ 44.046875 74.21875 50.515625 64.515625 \nQ 56.984375 54.828125 56.984375 36.375 \nQ 56.984375 17.96875 50.515625 8.265625 \nQ 44.046875 -1.421875 31.78125 -1.421875 \nQ 19.53125 -1.421875 13.0625 8.265625 \nQ 6.59375 17.96875 6.59375 36.375 \nQ 6.59375 54.828125 13.0625 64.515625 \nQ 19.53125 74.21875 31.78125 74.21875 \nz\n\" id=\"DejaVuSans-48\"/>\n      </defs>\n      <use xlink:href=\"#DejaVuSans-99\"/>\n      <use x=\"54.980469\" xlink:href=\"#DejaVuSans-111\"/>\n      <use x=\"116.162109\" xlink:href=\"#DejaVuSans-109\"/>\n      <use x=\"213.574219\" xlink:href=\"#DejaVuSans-112\"/>\n      <use x=\"277.050781\" xlink:href=\"#DejaVuSans-114\"/>\n      <use x=\"315.914062\" xlink:href=\"#DejaVuSans-101\"/>\n      <use x=\"377.4375\" xlink:href=\"#DejaVuSans-115\"/>\n      <use x=\"429.537109\" xlink:href=\"#DejaVuSans-115\"/>\n      <use x=\"481.636719\" xlink:href=\"#DejaVuSans-101\"/>\n      <use x=\"543.160156\" xlink:href=\"#DejaVuSans-100\"/>\n      <use x=\"606.636719\" xlink:href=\"#DejaVuSans-95\"/>\n      <use x=\"656.636719\" xlink:href=\"#DejaVuSans-110\"/>\n      <use x=\"720.015625\" xlink:href=\"#DejaVuSans-111\"/>\n      <use x=\"781.197266\" xlink:href=\"#DejaVuSans-100\"/>\n      <use x=\"844.673828\" xlink:href=\"#DejaVuSans-101\"/>\n      <use x=\"906.197266\" xlink:href=\"#DejaVuSans-95\"/>\n      <use x=\"956.197266\" xlink:href=\"#DejaVuSans-48\"/>\n     </g>\n    </g>\n   </g>\n   <g id=\"text_5\">\n    <g clip-path=\"url(#p53a820cb54)\">\n     <!-- compressed_node_1 -->\n     <g transform=\"translate(633.281165 190.344375)scale(0.12 -0.12)\">\n      <use xlink:href=\"#DejaVuSans-99\"/>\n      <use x=\"54.980469\" xlink:href=\"#DejaVuSans-111\"/>\n      <use x=\"116.162109\" xlink:href=\"#DejaVuSans-109\"/>\n      <use x=\"213.574219\" xlink:href=\"#DejaVuSans-112\"/>\n      <use x=\"277.050781\" xlink:href=\"#DejaVuSans-114\"/>\n      <use x=\"315.914062\" xlink:href=\"#DejaVuSans-101\"/>\n      <use x=\"377.4375\" xlink:href=\"#DejaVuSans-115\"/>\n      <use x=\"429.537109\" xlink:href=\"#DejaVuSans-115\"/>\n      <use x=\"481.636719\" xlink:href=\"#DejaVuSans-101\"/>\n      <use x=\"543.160156\" xlink:href=\"#DejaVuSans-100\"/>\n      <use x=\"606.636719\" xlink:href=\"#DejaVuSans-95\"/>\n      <use x=\"656.636719\" xlink:href=\"#DejaVuSans-110\"/>\n      <use x=\"720.015625\" xlink:href=\"#DejaVuSans-111\"/>\n      <use x=\"781.197266\" xlink:href=\"#DejaVuSans-100\"/>\n      <use x=\"844.673828\" xlink:href=\"#DejaVuSans-101\"/>\n      <use x=\"906.197266\" xlink:href=\"#DejaVuSans-95\"/>\n      <use x=\"956.197266\" xlink:href=\"#DejaVuSans-49\"/>\n     </g>\n    </g>\n   </g>\n  </g>\n </g>\n <defs>\n  <clipPath id=\"p53a820cb54\">\n   <rect height=\"360\" width=\"720\" x=\"7.2\" y=\"7.2\"/>\n  </clipPath>\n </defs>\n</svg>\n",
      "image/png": "[encoded data removed]"
     },
     "metadata": {}
    }
   ],
   "source": [
    "g_compressed, compressed_node_to_orig_nodes = utils.graph_collapsing.get_compressed_graph(g)\n",
    "# Separate by group\n",
    "l, r = nx.bipartite.sets(g_compressed)\n",
    "pos = {}\n",
    "\n",
    "# Update position for node from each group\n",
    "pos.update((node, (1, index)) for index, node in enumerate(l))\n",
    "pos.update((node, (2, index)) for index, node in enumerate(r))\n",
    "\n",
    "nx.draw(g_compressed, pos=pos, with_labels = True)\n",
    "plt.show()"
   ]
  },
  {
   "cell_type": "code",
   "execution_count": 6,
   "metadata": {},
   "outputs": [
    {
     "output_type": "execute_result",
     "data": {
      "text/plain": [
       "  node node_type  betweenness_centrality\n",
       "0   a1      attr                     1.0\n",
       "1   a2      attr                    20.0\n",
       "2   a3      attr                     1.0\n",
       "3    1      cell                     4.0\n",
       "4    2      cell                     4.0\n",
       "5    3      cell                     4.0\n",
       "6    4      cell                     4.0"
      ],
      "text/html": "<div>\n<style scoped>\n    .dataframe tbody tr th:only-of-type {\n        vertical-align: middle;\n    }\n\n    .dataframe tbody tr th {\n        vertical-align: top;\n    }\n\n    .dataframe thead th {\n        text-align: right;\n    }\n</style>\n<table border=\"1\" class=\"dataframe\">\n  <thead>\n    <tr style=\"text-align: right;\">\n      <th></th>\n      <th>node</th>\n      <th>node_type</th>\n      <th>betweenness_centrality</th>\n    </tr>\n  </thead>\n  <tbody>\n    <tr>\n      <th>0</th>\n      <td>a1</td>\n      <td>attr</td>\n      <td>1.0</td>\n    </tr>\n    <tr>\n      <th>1</th>\n      <td>a2</td>\n      <td>attr</td>\n      <td>20.0</td>\n    </tr>\n    <tr>\n      <th>2</th>\n      <td>a3</td>\n      <td>attr</td>\n      <td>1.0</td>\n    </tr>\n    <tr>\n      <th>3</th>\n      <td>1</td>\n      <td>cell</td>\n      <td>4.0</td>\n    </tr>\n    <tr>\n      <th>4</th>\n      <td>2</td>\n      <td>cell</td>\n      <td>4.0</td>\n    </tr>\n    <tr>\n      <th>5</th>\n      <td>3</td>\n      <td>cell</td>\n      <td>4.0</td>\n    </tr>\n    <tr>\n      <th>6</th>\n      <td>4</td>\n      <td>cell</td>\n      <td>4.0</td>\n    </tr>\n  </tbody>\n</table>\n</div>"
     },
     "metadata": {},
     "execution_count": 6
    }
   ],
   "source": [
    "df = utils.betweenness.betweeness_exact_df(g, normalized=False, quiet=True)\n",
    "df"
   ]
  },
  {
   "cell_type": "code",
   "execution_count": 9,
   "metadata": {},
   "outputs": [
    {
     "output_type": "execute_result",
     "data": {
      "text/plain": [
       "  node node_type  betweenness_centrality  bc_compressed  \\\n",
       "0   a1      attr                     1.0            0.0   \n",
       "1   a2      attr                    20.0            9.0   \n",
       "2   a3      attr                     1.0            0.0   \n",
       "3    1      cell                     4.0            2.0   \n",
       "4    2      cell                     4.0            2.0   \n",
       "5    3      cell                     4.0            2.0   \n",
       "6    4      cell                     4.0            2.0   \n",
       "\n",
       "   betweenness_centrality_dense_rank  bc_compressed_dense_rank  \n",
       "0                                3.0                       3.0  \n",
       "1                                1.0                       1.0  \n",
       "2                                3.0                       3.0  \n",
       "3                                2.0                       2.0  \n",
       "4                                2.0                       2.0  \n",
       "5                                2.0                       2.0  \n",
       "6                                2.0                       2.0  "
      ],
      "text/html": "<div>\n<style scoped>\n    .dataframe tbody tr th:only-of-type {\n        vertical-align: middle;\n    }\n\n    .dataframe tbody tr th {\n        vertical-align: top;\n    }\n\n    .dataframe thead th {\n        text-align: right;\n    }\n</style>\n<table border=\"1\" class=\"dataframe\">\n  <thead>\n    <tr style=\"text-align: right;\">\n      <th></th>\n      <th>node</th>\n      <th>node_type</th>\n      <th>betweenness_centrality</th>\n      <th>bc_compressed</th>\n      <th>betweenness_centrality_dense_rank</th>\n      <th>bc_compressed_dense_rank</th>\n    </tr>\n  </thead>\n  <tbody>\n    <tr>\n      <th>0</th>\n      <td>a1</td>\n      <td>attr</td>\n      <td>1.0</td>\n      <td>0.0</td>\n      <td>3.0</td>\n      <td>3.0</td>\n    </tr>\n    <tr>\n      <th>1</th>\n      <td>a2</td>\n      <td>attr</td>\n      <td>20.0</td>\n      <td>9.0</td>\n      <td>1.0</td>\n      <td>1.0</td>\n    </tr>\n    <tr>\n      <th>2</th>\n      <td>a3</td>\n      <td>attr</td>\n      <td>1.0</td>\n      <td>0.0</td>\n      <td>3.0</td>\n      <td>3.0</td>\n    </tr>\n    <tr>\n      <th>3</th>\n      <td>1</td>\n      <td>cell</td>\n      <td>4.0</td>\n      <td>2.0</td>\n      <td>2.0</td>\n      <td>2.0</td>\n    </tr>\n    <tr>\n      <th>4</th>\n      <td>2</td>\n      <td>cell</td>\n      <td>4.0</td>\n      <td>2.0</td>\n      <td>2.0</td>\n      <td>2.0</td>\n    </tr>\n    <tr>\n      <th>5</th>\n      <td>3</td>\n      <td>cell</td>\n      <td>4.0</td>\n      <td>2.0</td>\n      <td>2.0</td>\n      <td>2.0</td>\n    </tr>\n    <tr>\n      <th>6</th>\n      <td>4</td>\n      <td>cell</td>\n      <td>4.0</td>\n      <td>2.0</td>\n      <td>2.0</td>\n      <td>2.0</td>\n    </tr>\n  </tbody>\n</table>\n</div>"
     },
     "metadata": {},
     "execution_count": 9
    }
   ],
   "source": [
    "ident_dict = dict.fromkeys(g_compressed, 1)\n",
    "for node in compressed_node_to_orig_nodes:\n",
    "    ident_dict[node] = len(compressed_node_to_orig_nodes[node])\n",
    "\n",
    "bc_compressed =  utils.betweenness_custom.betweenness_centrality(g_compressed, normalized=False, ident=ident_dict)\n",
    "bc_decompressed = utils.graph_collapsing.get_bc_scores_of_original_graph(compressed_graph_to_bc_score=bc_compressed, compressed_node_to_orig_nodes=compressed_node_to_orig_nodes)\n",
    "df['bc_compressed'] = df['node'].map(bc_decompressed)\n",
    "\n",
    "measures = ['betweenness_centrality', 'bc_compressed']\n",
    "for measure in measures:\n",
    "    df[measure+'_dense_rank'] = df[measure].rank(method='dense', ascending=False)\n",
    "df"
   ]
  },
  {
   "source": [
    "# Synthetic Example"
   ],
   "cell_type": "markdown",
   "metadata": {}
  },
  {
   "cell_type": "code",
   "execution_count": 11,
   "metadata": {},
   "outputs": [
    {
     "output_type": "stream",
     "name": "stderr",
     "text": [
      "100%|██████████| 17633/17633 [00:00<00:00, 503524.37it/s]\n",
      "  0%|          | 0/139 [00:00<?, ?it/s]Constructing attr_nodes_set_to_cell_nodes dictionary...\n",
      "Compressing cell nodes...\n",
      "100%|██████████| 139/139 [00:05<00:00, 26.15it/s]Original graph has: 17672 nodes and 19473 edges.\n",
      "Compressed graph has: 178 nodes and 375 edges.\n",
      "\n"
     ]
    }
   ],
   "source": [
    "g_path = '../graph_construction/combined_graphs_output/synthetic_benchmark_bipartite/bipartite/bipartite.graph'\n",
    "g = pickle.load(open(g_path, 'rb'))\n",
    "\n",
    "# Get compressed graph\n",
    "g_compressed, compressed_node_to_orig_nodes = utils.graph_collapsing.get_compressed_graph(g)\n",
    "\n",
    "print(\"Original graph has:\", g.number_of_nodes(), 'nodes and', g.number_of_edges(), 'edges.')\n",
    "print(\"Compressed graph has:\", g_compressed.number_of_nodes(), 'nodes and', g_compressed.number_of_edges(), 'edges.')"
   ]
  },
  {
   "cell_type": "code",
   "execution_count": 12,
   "metadata": {},
   "outputs": [
    {
     "output_type": "execute_result",
     "data": {
      "text/plain": [
       "                               node node_type  betweenness_centrality\n",
       "2                             Noyon      cell            0.000000e+00\n",
       "3                            France      cell            2.495051e-07\n",
       "4                          Maputsoe      cell            0.000000e+00\n",
       "5                           Lesotho      cell            1.169126e-08\n",
       "6                          Yunxiang      cell            0.000000e+00\n",
       "...                             ...       ...                     ...\n",
       "17667  20,000 Leagues Under the Sea      cell            0.000000e+00\n",
       "17668        Adventure|Drama|Sci-Fi      cell            0.000000e+00\n",
       "17669                        Marius      cell            0.000000e+00\n",
       "17670              The Natural Love      cell            0.000000e+00\n",
       "17671                          Amen      cell            0.000000e+00\n",
       "\n",
       "[17633 rows x 3 columns]"
      ],
      "text/html": "<div>\n<style scoped>\n    .dataframe tbody tr th:only-of-type {\n        vertical-align: middle;\n    }\n\n    .dataframe tbody tr th {\n        vertical-align: top;\n    }\n\n    .dataframe thead th {\n        text-align: right;\n    }\n</style>\n<table border=\"1\" class=\"dataframe\">\n  <thead>\n    <tr style=\"text-align: right;\">\n      <th></th>\n      <th>node</th>\n      <th>node_type</th>\n      <th>betweenness_centrality</th>\n    </tr>\n  </thead>\n  <tbody>\n    <tr>\n      <th>2</th>\n      <td>Noyon</td>\n      <td>cell</td>\n      <td>0.000000e+00</td>\n    </tr>\n    <tr>\n      <th>3</th>\n      <td>France</td>\n      <td>cell</td>\n      <td>2.495051e-07</td>\n    </tr>\n    <tr>\n      <th>4</th>\n      <td>Maputsoe</td>\n      <td>cell</td>\n      <td>0.000000e+00</td>\n    </tr>\n    <tr>\n      <th>5</th>\n      <td>Lesotho</td>\n      <td>cell</td>\n      <td>1.169126e-08</td>\n    </tr>\n    <tr>\n      <th>6</th>\n      <td>Yunxiang</td>\n      <td>cell</td>\n      <td>0.000000e+00</td>\n    </tr>\n    <tr>\n      <th>...</th>\n      <td>...</td>\n      <td>...</td>\n      <td>...</td>\n    </tr>\n    <tr>\n      <th>17667</th>\n      <td>20,000 Leagues Under the Sea</td>\n      <td>cell</td>\n      <td>0.000000e+00</td>\n    </tr>\n    <tr>\n      <th>17668</th>\n      <td>Adventure|Drama|Sci-Fi</td>\n      <td>cell</td>\n      <td>0.000000e+00</td>\n    </tr>\n    <tr>\n      <th>17669</th>\n      <td>Marius</td>\n      <td>cell</td>\n      <td>0.000000e+00</td>\n    </tr>\n    <tr>\n      <th>17670</th>\n      <td>The Natural Love</td>\n      <td>cell</td>\n      <td>0.000000e+00</td>\n    </tr>\n    <tr>\n      <th>17671</th>\n      <td>Amen</td>\n      <td>cell</td>\n      <td>0.000000e+00</td>\n    </tr>\n  </tbody>\n</table>\n<p>17633 rows × 3 columns</p>\n</div>"
     },
     "metadata": {},
     "execution_count": 12
    }
   ],
   "source": [
    "df = utils.betweenness.betweeness_exact_df(g, normalized=True, quiet=True)\n",
    "df = df[df['node_type'] == 'cell']\n",
    "df"
   ]
  },
  {
   "cell_type": "code",
   "execution_count": 13,
   "metadata": {},
   "outputs": [
    {
     "output_type": "stream",
     "name": "stdout",
     "text": [
      "There are: 82 compressed nodes\n"
     ]
    }
   ],
   "source": [
    "ident_dict = dict.fromkeys(g_compressed, 1)\n",
    "for node in compressed_node_to_orig_nodes:\n",
    "    ident_dict[node] = len(compressed_node_to_orig_nodes[node])\n",
    "print(\"There are:\", len(compressed_node_to_orig_nodes), 'compressed nodes')"
   ]
  },
  {
   "cell_type": "code",
   "execution_count": 14,
   "metadata": {},
   "outputs": [
    {
     "output_type": "execute_result",
     "data": {
      "text/plain": [
       "                               node node_type  betweenness_centrality  \\\n",
       "2                             Noyon      cell            0.000000e+00   \n",
       "3                            France      cell            2.495051e-07   \n",
       "4                          Maputsoe      cell            0.000000e+00   \n",
       "5                           Lesotho      cell            1.169126e-08   \n",
       "6                          Yunxiang      cell            0.000000e+00   \n",
       "...                             ...       ...                     ...   \n",
       "17667  20,000 Leagues Under the Sea      cell            0.000000e+00   \n",
       "17668        Adventure|Drama|Sci-Fi      cell            0.000000e+00   \n",
       "17669                        Marius      cell            0.000000e+00   \n",
       "17670              The Natural Love      cell            0.000000e+00   \n",
       "17671                          Amen      cell            0.000000e+00   \n",
       "\n",
       "       bc_compressed  betweenness_centrality_dense_rank  \\\n",
       "2           0.000000                              101.0   \n",
       "3           0.002501                               34.0   \n",
       "4           0.000000                              101.0   \n",
       "5           0.000117                               94.0   \n",
       "6           0.000000                              101.0   \n",
       "...              ...                                ...   \n",
       "17667       0.000000                              101.0   \n",
       "17668       0.000000                              101.0   \n",
       "17669       0.000000                              101.0   \n",
       "17670       0.000000                              101.0   \n",
       "17671       0.000000                              101.0   \n",
       "\n",
       "       bc_compressed_dense_rank  \n",
       "2                         101.0  \n",
       "3                          34.0  \n",
       "4                         101.0  \n",
       "5                          94.0  \n",
       "6                         101.0  \n",
       "...                         ...  \n",
       "17667                     101.0  \n",
       "17668                     101.0  \n",
       "17669                     101.0  \n",
       "17670                     101.0  \n",
       "17671                     101.0  \n",
       "\n",
       "[17633 rows x 6 columns]"
      ],
      "text/html": "<div>\n<style scoped>\n    .dataframe tbody tr th:only-of-type {\n        vertical-align: middle;\n    }\n\n    .dataframe tbody tr th {\n        vertical-align: top;\n    }\n\n    .dataframe thead th {\n        text-align: right;\n    }\n</style>\n<table border=\"1\" class=\"dataframe\">\n  <thead>\n    <tr style=\"text-align: right;\">\n      <th></th>\n      <th>node</th>\n      <th>node_type</th>\n      <th>betweenness_centrality</th>\n      <th>bc_compressed</th>\n      <th>betweenness_centrality_dense_rank</th>\n      <th>bc_compressed_dense_rank</th>\n    </tr>\n  </thead>\n  <tbody>\n    <tr>\n      <th>2</th>\n      <td>Noyon</td>\n      <td>cell</td>\n      <td>0.000000e+00</td>\n      <td>0.000000</td>\n      <td>101.0</td>\n      <td>101.0</td>\n    </tr>\n    <tr>\n      <th>3</th>\n      <td>France</td>\n      <td>cell</td>\n      <td>2.495051e-07</td>\n      <td>0.002501</td>\n      <td>34.0</td>\n      <td>34.0</td>\n    </tr>\n    <tr>\n      <th>4</th>\n      <td>Maputsoe</td>\n      <td>cell</td>\n      <td>0.000000e+00</td>\n      <td>0.000000</td>\n      <td>101.0</td>\n      <td>101.0</td>\n    </tr>\n    <tr>\n      <th>5</th>\n      <td>Lesotho</td>\n      <td>cell</td>\n      <td>1.169126e-08</td>\n      <td>0.000117</td>\n      <td>94.0</td>\n      <td>94.0</td>\n    </tr>\n    <tr>\n      <th>6</th>\n      <td>Yunxiang</td>\n      <td>cell</td>\n      <td>0.000000e+00</td>\n      <td>0.000000</td>\n      <td>101.0</td>\n      <td>101.0</td>\n    </tr>\n    <tr>\n      <th>...</th>\n      <td>...</td>\n      <td>...</td>\n      <td>...</td>\n      <td>...</td>\n      <td>...</td>\n      <td>...</td>\n    </tr>\n    <tr>\n      <th>17667</th>\n      <td>20,000 Leagues Under the Sea</td>\n      <td>cell</td>\n      <td>0.000000e+00</td>\n      <td>0.000000</td>\n      <td>101.0</td>\n      <td>101.0</td>\n    </tr>\n    <tr>\n      <th>17668</th>\n      <td>Adventure|Drama|Sci-Fi</td>\n      <td>cell</td>\n      <td>0.000000e+00</td>\n      <td>0.000000</td>\n      <td>101.0</td>\n      <td>101.0</td>\n    </tr>\n    <tr>\n      <th>17669</th>\n      <td>Marius</td>\n      <td>cell</td>\n      <td>0.000000e+00</td>\n      <td>0.000000</td>\n      <td>101.0</td>\n      <td>101.0</td>\n    </tr>\n    <tr>\n      <th>17670</th>\n      <td>The Natural Love</td>\n      <td>cell</td>\n      <td>0.000000e+00</td>\n      <td>0.000000</td>\n      <td>101.0</td>\n      <td>101.0</td>\n    </tr>\n    <tr>\n      <th>17671</th>\n      <td>Amen</td>\n      <td>cell</td>\n      <td>0.000000e+00</td>\n      <td>0.000000</td>\n      <td>101.0</td>\n      <td>101.0</td>\n    </tr>\n  </tbody>\n</table>\n<p>17633 rows × 6 columns</p>\n</div>"
     },
     "metadata": {},
     "execution_count": 14
    }
   ],
   "source": [
    "bc_compressed =  utils.betweenness_custom.betweenness_centrality(g_compressed, normalized=True, ident=ident_dict)\n",
    "bc_decompressed = utils.graph_collapsing.get_bc_scores_of_original_graph(compressed_graph_to_bc_score=bc_compressed, compressed_node_to_orig_nodes=compressed_node_to_orig_nodes)\n",
    "df['bc_compressed'] = df['node'].map(bc_decompressed)\n",
    "\n",
    "measures = ['betweenness_centrality', 'bc_compressed']\n",
    "for measure in measures:\n",
    "    df[measure+'_dense_rank'] = df[measure].rank(method='dense', ascending=False)\n",
    "df"
   ]
  },
  {
   "cell_type": "code",
   "execution_count": 15,
   "metadata": {},
   "outputs": [
    {
     "output_type": "execute_result",
     "data": {
      "text/plain": [
       "True    17633\n",
       "dtype: int64"
      ]
     },
     "metadata": {},
     "execution_count": 15
    }
   ],
   "source": [
    "(df['betweenness_centrality_dense_rank'] == df['bc_compressed_dense_rank']).value_counts()"
   ]
  },
  {
   "source": [
    "# TUS Example"
   ],
   "cell_type": "markdown",
   "metadata": {}
  },
  {
   "cell_type": "code",
   "execution_count": 2,
   "metadata": {},
   "outputs": [
    {
     "output_type": "stream",
     "name": "stdout",
     "text": [
      "Original graph has: 200258 nodes and 4150563 edges.\n",
      "  6%|▌         | 10648/190399 [00:00<00:01, 106465.38it/s]Constructing attr_nodes_set_to_cell_nodes dictionary...\n",
      "100%|██████████| 190399/190399 [00:01<00:00, 97260.23it/s]\n",
      " 16%|█▌        | 484/3020 [00:00<00:00, 4397.80it/s]Compressing cell nodes...\n",
      "100%|██████████| 3020/3020 [00:00<00:00, 3286.23it/s]\n",
      "Compressed graph has: 12879 nodes and 217279 edges.\n",
      "\n"
     ]
    }
   ],
   "source": [
    "g_path = '../graph_construction/combined_graphs_output/TUS/bipartite/bipartite.graph'\n",
    "g = pickle.load(open(g_path, 'rb'))\n",
    "print(\"Original graph has:\", g.number_of_nodes(), 'nodes and', g.number_of_edges(), 'edges.')\n",
    "\n",
    "# Get compressed graph\n",
    "g_compressed, compressed_node_to_orig_nodes = utils.graph_collapsing.get_compressed_graph(g)\n",
    "print(\"\\nCompressed graph has:\", g_compressed.number_of_nodes(), 'nodes and', g_compressed.number_of_edges(), 'edges.')"
   ]
  },
  {
   "cell_type": "code",
   "execution_count": 3,
   "metadata": {},
   "outputs": [
    {
     "output_type": "execute_result",
     "data": {
      "text/plain": [
       "                        node node_type  betweenness_centrality  \\\n",
       "7           OGM Asia Pacific      cell            2.654900e-08   \n",
       "8                       Asia      cell            1.307905e-04   \n",
       "9                 Bangladesh      cell            2.695256e-05   \n",
       "10      OAD Asia Programming      cell            3.616279e-05   \n",
       "11                Individual      cell            1.675699e-08   \n",
       "...                      ...       ...                     ...   \n",
       "200196                   MRS      cell            3.231447e-13   \n",
       "200197                   BEV      cell            3.231447e-13   \n",
       "200198                   BUR      cell            3.231447e-13   \n",
       "200199                   OTP      cell            3.231447e-13   \n",
       "200200                   BDY      cell            3.231447e-13   \n",
       "\n",
       "        approximate_betweenness_centrality is_homograph has_missing_key  \n",
       "7                             1.942699e-10        False           False  \n",
       "8                             1.599529e-06         True           False  \n",
       "9                             3.227351e-07         True           False  \n",
       "10                            4.178874e-07         True           False  \n",
       "11                            0.000000e+00        False           False  \n",
       "...                                    ...          ...             ...  \n",
       "200196                        4.039309e-14        False           False  \n",
       "200197                        4.039309e-14        False           False  \n",
       "200198                        4.039309e-14        False           False  \n",
       "200199                        4.039309e-14        False           False  \n",
       "200200                        4.039309e-14        False           False  \n",
       "\n",
       "[190399 rows x 6 columns]"
      ],
      "text/html": "<div>\n<style scoped>\n    .dataframe tbody tr th:only-of-type {\n        vertical-align: middle;\n    }\n\n    .dataframe tbody tr th {\n        vertical-align: top;\n    }\n\n    .dataframe thead th {\n        text-align: right;\n    }\n</style>\n<table border=\"1\" class=\"dataframe\">\n  <thead>\n    <tr style=\"text-align: right;\">\n      <th></th>\n      <th>node</th>\n      <th>node_type</th>\n      <th>betweenness_centrality</th>\n      <th>approximate_betweenness_centrality</th>\n      <th>is_homograph</th>\n      <th>has_missing_key</th>\n    </tr>\n  </thead>\n  <tbody>\n    <tr>\n      <th>7</th>\n      <td>OGM Asia Pacific</td>\n      <td>cell</td>\n      <td>2.654900e-08</td>\n      <td>1.942699e-10</td>\n      <td>False</td>\n      <td>False</td>\n    </tr>\n    <tr>\n      <th>8</th>\n      <td>Asia</td>\n      <td>cell</td>\n      <td>1.307905e-04</td>\n      <td>1.599529e-06</td>\n      <td>True</td>\n      <td>False</td>\n    </tr>\n    <tr>\n      <th>9</th>\n      <td>Bangladesh</td>\n      <td>cell</td>\n      <td>2.695256e-05</td>\n      <td>3.227351e-07</td>\n      <td>True</td>\n      <td>False</td>\n    </tr>\n    <tr>\n      <th>10</th>\n      <td>OAD Asia Programming</td>\n      <td>cell</td>\n      <td>3.616279e-05</td>\n      <td>4.178874e-07</td>\n      <td>True</td>\n      <td>False</td>\n    </tr>\n    <tr>\n      <th>11</th>\n      <td>Individual</td>\n      <td>cell</td>\n      <td>1.675699e-08</td>\n      <td>0.000000e+00</td>\n      <td>False</td>\n      <td>False</td>\n    </tr>\n    <tr>\n      <th>...</th>\n      <td>...</td>\n      <td>...</td>\n      <td>...</td>\n      <td>...</td>\n      <td>...</td>\n      <td>...</td>\n    </tr>\n    <tr>\n      <th>200196</th>\n      <td>MRS</td>\n      <td>cell</td>\n      <td>3.231447e-13</td>\n      <td>4.039309e-14</td>\n      <td>False</td>\n      <td>False</td>\n    </tr>\n    <tr>\n      <th>200197</th>\n      <td>BEV</td>\n      <td>cell</td>\n      <td>3.231447e-13</td>\n      <td>4.039309e-14</td>\n      <td>False</td>\n      <td>False</td>\n    </tr>\n    <tr>\n      <th>200198</th>\n      <td>BUR</td>\n      <td>cell</td>\n      <td>3.231447e-13</td>\n      <td>4.039309e-14</td>\n      <td>False</td>\n      <td>False</td>\n    </tr>\n    <tr>\n      <th>200199</th>\n      <td>OTP</td>\n      <td>cell</td>\n      <td>3.231447e-13</td>\n      <td>4.039309e-14</td>\n      <td>False</td>\n      <td>False</td>\n    </tr>\n    <tr>\n      <th>200200</th>\n      <td>BDY</td>\n      <td>cell</td>\n      <td>3.231447e-13</td>\n      <td>4.039309e-14</td>\n      <td>False</td>\n      <td>False</td>\n    </tr>\n  </tbody>\n</table>\n<p>190399 rows × 6 columns</p>\n</div>"
     },
     "metadata": {},
     "execution_count": 3
    }
   ],
   "source": [
    "df = pickle.load(open('output/TUS/graph_stats_with_groundtruth_df.pickle', 'rb'))\n",
    "df = df[df['node_type'] == 'cell']\n",
    "df"
   ]
  },
  {
   "cell_type": "code",
   "execution_count": 4,
   "metadata": {},
   "outputs": [
    {
     "output_type": "execute_result",
     "data": {
      "text/plain": [
       "                        node node_type  betweenness_centrality  \\\n",
       "7           OGM Asia Pacific      cell            2.654900e-08   \n",
       "8                       Asia      cell            1.307905e-04   \n",
       "9                 Bangladesh      cell            2.695256e-05   \n",
       "10      OAD Asia Programming      cell            3.616279e-05   \n",
       "11                Individual      cell            1.675699e-08   \n",
       "...                      ...       ...                     ...   \n",
       "200196                   MRS      cell            3.231447e-13   \n",
       "200197                   BEV      cell            3.231447e-13   \n",
       "200198                   BUR      cell            3.231447e-13   \n",
       "200199                   OTP      cell            3.231447e-13   \n",
       "200200                   BDY      cell            3.231447e-13   \n",
       "\n",
       "        approximate_betweenness_centrality is_homograph has_missing_key  \\\n",
       "7                             1.942699e-10        False           False   \n",
       "8                             1.599529e-06         True           False   \n",
       "9                             3.227351e-07         True           False   \n",
       "10                            4.178874e-07         True           False   \n",
       "11                            0.000000e+00        False           False   \n",
       "...                                    ...          ...             ...   \n",
       "200196                        4.039309e-14        False           False   \n",
       "200197                        4.039309e-14        False           False   \n",
       "200198                        4.039309e-14        False           False   \n",
       "200199                        4.039309e-14        False           False   \n",
       "200200                        4.039309e-14        False           False   \n",
       "\n",
       "        bc_compressed  betweenness_centrality_dense_rank  \\\n",
       "7        5.323429e+02                             2409.0   \n",
       "8        2.622524e+06                              367.0   \n",
       "9        5.404347e+05                              915.0   \n",
       "10       7.251122e+05                              782.0   \n",
       "11       3.360000e+02                             2439.0   \n",
       "...               ...                                ...   \n",
       "200196   6.479482e-03                             2988.0   \n",
       "200197   6.479482e-03                             2988.0   \n",
       "200198   6.479482e-03                             2988.0   \n",
       "200199   6.479482e-03                             2988.0   \n",
       "200200   6.479482e-03                             2988.0   \n",
       "\n",
       "        approximate_betweenness_centrality_dense_rank  \\\n",
       "7                                              2432.0   \n",
       "8                                               372.0   \n",
       "9                                               922.0   \n",
       "10                                              810.0   \n",
       "11                                             2796.0   \n",
       "...                                               ...   \n",
       "200196                                         2795.0   \n",
       "200197                                         2795.0   \n",
       "200198                                         2795.0   \n",
       "200199                                         2795.0   \n",
       "200200                                         2795.0   \n",
       "\n",
       "        bc_compressed_dense_rank  \n",
       "7                         2409.0  \n",
       "8                          367.0  \n",
       "9                          915.0  \n",
       "10                         782.0  \n",
       "11                        2439.0  \n",
       "...                          ...  \n",
       "200196                    2988.0  \n",
       "200197                    2988.0  \n",
       "200198                    2988.0  \n",
       "200199                    2988.0  \n",
       "200200                    2988.0  \n",
       "\n",
       "[190399 rows x 10 columns]"
      ],
      "text/html": "<div>\n<style scoped>\n    .dataframe tbody tr th:only-of-type {\n        vertical-align: middle;\n    }\n\n    .dataframe tbody tr th {\n        vertical-align: top;\n    }\n\n    .dataframe thead th {\n        text-align: right;\n    }\n</style>\n<table border=\"1\" class=\"dataframe\">\n  <thead>\n    <tr style=\"text-align: right;\">\n      <th></th>\n      <th>node</th>\n      <th>node_type</th>\n      <th>betweenness_centrality</th>\n      <th>approximate_betweenness_centrality</th>\n      <th>is_homograph</th>\n      <th>has_missing_key</th>\n      <th>bc_compressed</th>\n      <th>betweenness_centrality_dense_rank</th>\n      <th>approximate_betweenness_centrality_dense_rank</th>\n      <th>bc_compressed_dense_rank</th>\n    </tr>\n  </thead>\n  <tbody>\n    <tr>\n      <th>7</th>\n      <td>OGM Asia Pacific</td>\n      <td>cell</td>\n      <td>2.654900e-08</td>\n      <td>1.942699e-10</td>\n      <td>False</td>\n      <td>False</td>\n      <td>5.323429e+02</td>\n      <td>2409.0</td>\n      <td>2432.0</td>\n      <td>2409.0</td>\n    </tr>\n    <tr>\n      <th>8</th>\n      <td>Asia</td>\n      <td>cell</td>\n      <td>1.307905e-04</td>\n      <td>1.599529e-06</td>\n      <td>True</td>\n      <td>False</td>\n      <td>2.622524e+06</td>\n      <td>367.0</td>\n      <td>372.0</td>\n      <td>367.0</td>\n    </tr>\n    <tr>\n      <th>9</th>\n      <td>Bangladesh</td>\n      <td>cell</td>\n      <td>2.695256e-05</td>\n      <td>3.227351e-07</td>\n      <td>True</td>\n      <td>False</td>\n      <td>5.404347e+05</td>\n      <td>915.0</td>\n      <td>922.0</td>\n      <td>915.0</td>\n    </tr>\n    <tr>\n      <th>10</th>\n      <td>OAD Asia Programming</td>\n      <td>cell</td>\n      <td>3.616279e-05</td>\n      <td>4.178874e-07</td>\n      <td>True</td>\n      <td>False</td>\n      <td>7.251122e+05</td>\n      <td>782.0</td>\n      <td>810.0</td>\n      <td>782.0</td>\n    </tr>\n    <tr>\n      <th>11</th>\n      <td>Individual</td>\n      <td>cell</td>\n      <td>1.675699e-08</td>\n      <td>0.000000e+00</td>\n      <td>False</td>\n      <td>False</td>\n      <td>3.360000e+02</td>\n      <td>2439.0</td>\n      <td>2796.0</td>\n      <td>2439.0</td>\n    </tr>\n    <tr>\n      <th>...</th>\n      <td>...</td>\n      <td>...</td>\n      <td>...</td>\n      <td>...</td>\n      <td>...</td>\n      <td>...</td>\n      <td>...</td>\n      <td>...</td>\n      <td>...</td>\n      <td>...</td>\n    </tr>\n    <tr>\n      <th>200196</th>\n      <td>MRS</td>\n      <td>cell</td>\n      <td>3.231447e-13</td>\n      <td>4.039309e-14</td>\n      <td>False</td>\n      <td>False</td>\n      <td>6.479482e-03</td>\n      <td>2988.0</td>\n      <td>2795.0</td>\n      <td>2988.0</td>\n    </tr>\n    <tr>\n      <th>200197</th>\n      <td>BEV</td>\n      <td>cell</td>\n      <td>3.231447e-13</td>\n      <td>4.039309e-14</td>\n      <td>False</td>\n      <td>False</td>\n      <td>6.479482e-03</td>\n      <td>2988.0</td>\n      <td>2795.0</td>\n      <td>2988.0</td>\n    </tr>\n    <tr>\n      <th>200198</th>\n      <td>BUR</td>\n      <td>cell</td>\n      <td>3.231447e-13</td>\n      <td>4.039309e-14</td>\n      <td>False</td>\n      <td>False</td>\n      <td>6.479482e-03</td>\n      <td>2988.0</td>\n      <td>2795.0</td>\n      <td>2988.0</td>\n    </tr>\n    <tr>\n      <th>200199</th>\n      <td>OTP</td>\n      <td>cell</td>\n      <td>3.231447e-13</td>\n      <td>4.039309e-14</td>\n      <td>False</td>\n      <td>False</td>\n      <td>6.479482e-03</td>\n      <td>2988.0</td>\n      <td>2795.0</td>\n      <td>2988.0</td>\n    </tr>\n    <tr>\n      <th>200200</th>\n      <td>BDY</td>\n      <td>cell</td>\n      <td>3.231447e-13</td>\n      <td>4.039309e-14</td>\n      <td>False</td>\n      <td>False</td>\n      <td>6.479482e-03</td>\n      <td>2988.0</td>\n      <td>2795.0</td>\n      <td>2988.0</td>\n    </tr>\n  </tbody>\n</table>\n<p>190399 rows × 10 columns</p>\n</div>"
     },
     "metadata": {},
     "execution_count": 4
    }
   ],
   "source": [
    "bc_compressed = pickle.load(open('output/TUS_compressed/bc_compressed.pickle', 'rb'))\n",
    "bc_decompressed = utils.graph_collapsing.get_bc_scores_of_original_graph(compressed_graph_to_bc_score=bc_compressed, compressed_node_to_orig_nodes=compressed_node_to_orig_nodes)\n",
    "df['bc_compressed'] = df['node'].map(bc_decompressed)\n",
    "\n",
    "measures = ['betweenness_centrality', 'approximate_betweenness_centrality', 'bc_compressed']\n",
    "for measure in measures:\n",
    "    df[measure+'_dense_rank'] = df[measure].rank(method='dense', ascending=False)\n",
    "df"
   ]
  },
  {
   "cell_type": "code",
   "execution_count": 19,
   "metadata": {
    "tags": [
     "outputPrepend"
    ]
   },
   "outputs": [
    {
     "output_type": "stream",
     "name": "stdout",
     "text": [
      "School of', 'Mechanical & Materials Engineering', 'Department of Mechanical Engineering', 'Biological Sciences, School of', 'Applied Sc./Engineering, Faculty of', 'Department of Psychology', 'Computer Laboratory', 'Genome Sciences', 'Human Communication Disorders, School of', 'Mathematical Science', 'Aeronautics and Astronautics', 'Biology and Chemistry', 'Environmental Engineering', 'Math�matique et statistique', 'Environmental Studies and Geography', 'Cognitive Science, Institute of', 'Bureau de la recherche et Centre de d�veloppement technologique', 'Bioinformatics Centre', 'Chemistry/Faculty of Arts and Sciences', 'Science and Management, College of', 'Biological Engineering', 'Computer Science and Applied  Statistics  - Saint John', 'Pathology and Molecular Medicine', 'Recherche et de la cr�ation, Service de la', 'G�nie Biom�dical, Institut de', 'Samuel Lunenfeld Research Inst', 'Environmental and Marine Geology, Centre for', 'Institute for Aerospace Studies', 'Fisheries and Aquaculture', 'Campus de Shippagan', 'Psychology and Neuroscience', \"Ing�nierie, Facult� d'\", 'Recherche et cr�ation, Service de la', 'Foresterie et g�omatique, Facult� de', 'Pathology and Lab Medicine', 'Physical Therapy', 'T�l�-universit� (T�LUQ) - Montr�al', 'Centre de recherche', 'Concordia Institute for Information Systems Engineering (CIISE)', 'Cell Biology and Anatomy', 'Public Health Sciences', 'Psychology (Saint John)', 'Sherbrooke Office', 'Mathematical and Computational Sciences (Mississauga)', 'Health, Faculty of', 'Lower Water St Research Lab', 'Medical Sciences', 'Rehabilitation Science (Graduate)', 'Research and Development Division', 'Recherches math�matiques, Centre de', 'Optometry, School of', 'Research & Development Centre', 'Neurobiology', 'Electrical Engineering and Computer Sciences', 'Physics Department, Faculty of Science', 'Environment and Sustainability, School of', 'Business, Odette School of', 'Recherche en p�tes et papiers, Centre de', 'Medicine, Dept of', 'Rehabilitation Therapy, School of', 'Orthopedics', 'Planning, School of', 'Watson School of Biological Sciences', 'Vancouver Operations', 'Molecular Biology', 'Computer Science and Information Technology', 'Engineering (Faculty)', \"Syst�mes d'information et m�thodes quantitatives de gestion\", 'Audiology and Speech Sciences, School of', 'Brain Research Centre', 'Business and Economics, School of', 'Microbiology and Molecular Genetics', '�nergie, Mat�riaux et T�l�communications', 'Great Lakes Inst. for Environmental Res. (GLIER)', 'Arts, Social and Health Sciences, College of', 'Centre for Neuroscience Studies', 'Finance, Information Systems, and Management Science', 'Business, School of', 'Department of Geography', 'Aeronautics & Astronautics', 'Materials Evaluation', 'Geography,School of', 'Faculty of Science', 'Neurology, Division of', 'Faculty of Engineering', \"Architecture, �cole d'\", 'Chemical Engineering/Engineering', 'Biomedical Engineering Dept.', 'Exercise Science', \"Centre de recherche sur l'intervention �ducative\", 'Business and Information Technology, Faculty of', 'Earth & Planetary Sciences', 'Human Ecology', 'Biological Science, College of', 'Winnipeg Branch', 'Biological Sciences/Science', 'Microbiologie et immunologie', 'Department of Physics & Astronomy', 'Information and Technology Management, School of (ITM)', 'Archaeology', 'Chalk River Laboratories', 'GEOTOP-UQAM-McGILL (Centre recherche g�ochimie et g�odynamique)', 'Natural Resources, School of', 'Physics, Engineering and Astronomy', 'Physics/Science', 'Oil Sands Development & Research', 'Nuclear Science and Engineering', 'Pharmacy, School of', 'Materials Science & Metallurgy', 'Pharmacy and Pharmaceutical Science, Faculty of', 'Biology/Science', 'Saskatoon Branch', 'Toxicology Centre', 'Molecular Medicine', 'Environment and Resource Studies', 'Combinatorics & Optimization', 'Sciences et g�nie, facult� des', 'Veterinary Microbiology', 'Physical Education and Health, Fac. of', 'Material Science & Engineering', 'Robotic Institute', 'Information Technology and Engineering', 'Environmental Science Unit', 'Resource and Environmental Studies, School of', 'Forestry', 'President, Office of the', 'SITE', 'Astronomy', 'Environmental Studies, Faculty of', 'Orthopaedics', 'Brain & Cognitive Science', 'Chimie et biochimie', 'Chemistry and Chemical Biology', 'Clinical Epidemiology and Biostatistics', 'Environmental Science', 'Mathematics, School of', 'Clinical Neurological Sciences', 'Civil and Environmental Engineering, Dept. of', 'Department of Biological Sciences', 'Marine Institute', 'Psychology, Neuroscience and Behaviour', 'School of Computing Science', 'Direction recherche et Innovation', 'Okanagan - Applied Science, Faculty of', 'Ducks Unlimited Canada', 'University of Pennsylvania', 'Johns Hopkins University', 'University of Illinois at Urbana-Champaign', 'Harvard Medical School', 'Social Sciences and Humanities Research Council', 'Michigan State University', 'University of Sydney', 'PerkinElmer Biosignal Inc.', 'StemCell Tech Inc.', 'E.I. du Pont Canada Company', 'Vancouver Aquarium Marine Science Centre', 'Spartan Bioscience Inc.', 'Purdue University', 'HMR Inc.', 'Centre National de la Recherche Scientifique', 'CenterLine (Windsor) Ltd.', 'SciMed Laboratories Inc.', 'University of California - Santa Cruz', 'Life Prediction Technologies Inc.', 'Mount Sinai Hospital', 'Oregon State University', 'University of Otago', 'Ross Video Ltd', 'Gemite Products Inc.', 'H�MA-QU�BEC', 'Centre de recherche industrielle du Qu�bec', 'Amgen British Columbia Inc.', 'Thallion Pharmaceuticals Inc', 'AccelLAB Inc.', 'Tekna Plasma Systems Inc.', 'Conetec Inves Ltd', 'University of Colorado at Boulder', 'Universitat Heidelberg', 'Conestoga Meat Packers Ltd.', 'NEOVA Technologies Inc.', 'OCEANS Ltd.', 'Redeemer University College', 'Pacific Insight Electronics Corp.', 'Amorfix Life Sciences Inc.', 'Technical University of Denmark', 'Innovative Magnetic Resonance Imaging Systems Inc.', 'Xenon Pharmaceuticals Inc.', 'Lanxess Inc.', 'Okino Computer Graphics, Inc.', 'Brown University', 'Aquinox Pharmaceuticals Inc.', 'Washington University in St. Louis', 'Membrane Reactor Technologies Ltd.', 'PBR Laboratories Inc.', 'Boston University', 'HSM Systems Inc', 'Fisheries and Oceans Canada', 'Institut de recherche sur les zones c�ti�res inc.', 'University of Texas at Austin', 'Atomic Energy of Canada Ltd', 'Tri-Y Technologies Inc.', 'Max-Planck Institut for Biophysical Chemistry', 'University of Hawaii at Manoa', 'Imperial Oil Resources Ltd', 'University of Maryland at College Park', 'Prairie Agricultural Machinery Institute', 'MIRARCO - Mining Innovation, Rehabilitation & Applied Research Corporation', 'University of North Carolina at Chapel Hill', 'Inuktun Services Ltd', 'Golder Associates Ltd (CAN)', 'Kyoto University', 'Vancouver Biotech Ltd', 'MacDonald, Dettwiler and Associates Ltd', 'Magor Communications Corp.', 'Lab_Bell inc.', 'University of Southern California', \"King's College London\", 'ID Biomedical Corporation of Quebec', 'D-Wave Systems Inc.', 'Mount Sinai School of Medicine', 'Hatch Ltd.', 'Vanderbilt University', 'PENN STATE', 'St. Lawrence River Institute of Environmental Sciences', 'Teleflex (CAN) Ltd', 'Georgia Institute of Technology', 'University of Canterbury', 'Australian National University', 'Imperial College of London', 'Waterloo CFD Engineering Consulting Inc', 'State University of New York at Stony Brook', 'The Scripps Research Institute', 'Rimon Therapeutics Ltd', 'Research in Motion Limited', 'Angiotech Pharmaceuticals Inc.', 'Universiteit Utrecht', 'University of Queensland', 'Tangam Gaming Inc', 'University of California - San Francisco', 'Tantalus Systems Corporation', 'Kraft Canada Inc.', 'Pattern Discovery Software Systems Ltd', 'Alberta Sulphur Research Limited', 'Biofine International Inc.', 'DSA Ltd', 'University of Minnesota', 'Vigil Health Solutions', 'Magnum Semiconductor Canada Inc', 'Sub-angular blocky', 'Massive', '100yr5030', '100yr7020', 'Loose', 'Vertical', '100yr4040', '100yr7030', '100yr8020', '100yr5025', '100yr2020', '100yr5040', '100yr7040', '100yr6040', '100yr4010', '100yr5080', '100yr6020', '100yr5010', '100yr4020', '100yr4030', '100yr3010', '100yr6030', '100yr2010', '100yr7525', '100yr3520', '050y 7020', '100yr7010', '100yr5020', '100yr3020', '100yr5510', '100yr3030', '025y 5020', '025y 8040', '100yr4520', '025y 7020', '100yr6520', '025y 6020', '100yr8030', '100yr6010', '100yr6025', '100yr6015', '100yr5520', '100yr5530', '100yr3530', '050yr2020', '100yr4015', '050y 6010', '100yr4540', '050y 6510', '025y 7040', '050yr2510', '050y 6020', '050y 6030', '100yr4530', '050yr2010', '050yr2015', '050y 7030', '075yr4020', '025y 4020', '050y 8020', '025y 4510', '050yr4040', '050yr3030', '100yr4025', '075yr4040', '075yr3020', '075yr5060', '025y 3000', '075yr5040', '100yr6060', '050y 5010', '100yr5000', '075yr8000', '100yr5060', '100yr8060', '100yr2000', '025y 3020', '050y 4010', '050yr4060', '050yr3020', '075yr4540', '025y 5040', '050yr3010', '050yr3040', '050yr2525', '075yr2000', '025y 4040', '100y 5040', '100yr2510', '025y 4520', '050yr8020', '050yr7030', '075yr8060', '025yr3020', '050y 5030', '050y 5515', '100yr6560', '100yr7530', '100yr7515', '100yr7510', '100yr5050', '100yr5035', '025yr3040', '050y 6515', '075yr5020', '025yr2030', '050y 4515', '050yr2520', '050yr3015', '050yr3530', '050yr3520', '075yr6060', '025y 4030', '025y 2500', '025y 6040', '075yr3530', '025y 6540', 'Very fine', '050yr5040', '075yr3040', '050yr5060', '100r 2510', 'Fine to medium', '050yr4020', '050yr4030', '025yr2510', '025yr2010', '100yr3040', '025y 7025', '050yr5030', '100yr4035', '100yr5540', '100yr5515', 'Horizontal', 'Random', 'Oblique', '100yr4060', '050y 3010', '050yr2500', 'Medium to coarse', '100yr', '075yr4030', '075yr6520', '075yr8020', '050y 5020', '075yr6020', '100yr6550', '075yr5080', '025yr7020', '050y 5530', '010y 4530', '075yr6030', '025y 6060', '100yr5055', '010y 5040', '100yr6070', '050yr6080', '100yr7080', '075yr5540', '075yr8010', '075yr5530', '050yr6060', '050yr5530', '100r 5040', '025yr6030', '010yr4020', '075yr6025', 'Very firm', 'Firm', 'Friable', 'Nonplastic', 'Slightly', 'Plastic', 'Very friable', 'Weakly', 'Moderately saline', 'Very plastic', 'Very fine to fine', 'Few', 'Many', 'Very few', 'Sticky', 'Nonsticky', 'Very sticky', 'Pseudo', '050y 3520', '050y 5520', '050y 2010', '025yr2040', '050y 3030', '075yr2010', '025y 6525', '025y 2020', '025y 3040', '025y 2010', '1002010', '100r 4030', '075yr5580', '050y 4025', '050yr3035', '025y 5010', '100r 2515', '100yr5545', '010yr2010', '010yr5040', '050yr2110', '050yr4550', '075yr2510', '050yr5070', '100yr5580', '025y 5530', '025y 3030', '100yr2525', '050y 5025', '025y 5550', '100yr60', '050yr4025', '050yr6510', '100yr50', '085yr4040', '090yr4030', '010yr6020', '050yr7010', '025yr3560', '050y 4040', '100r 4040', '100r 5020', '025yr3050', '050yr4580', '100r 4060', '025yr3520', '025y 4025', 'ABKEG~~~~~N', 'ABMLD~~~~~N', 'ABMKW~~~~~N', 'ABCOS~~~~~A', 'ABRUT~~~~~N', 'ABZBR~~~~~N', 'ABMUS~~~~~N', 'ABSTP~~~~~N', 'ABDOV~~~~~N', 'ABLGD~~~~~N', 'ABJSN~~~~~N', 'ABZAV~~~~~N', 'ABCHT~~~~~N', 'ABSLT~~~~~N', 'ABMMW~~~~~N', 'ABKEGpt~~~N', 'ABMMY~~~~~N', 'ABSIP~~~~~N', 'ABPEA~~~~~N', 'ABHKS~~~~~A', 'ABMNS~~~~~N', 'ABHZM~~~~~A', 'ABBUD~~~~~N', 'ABMRN~~~~~N', 'ABNAM~~~~~N', 'ABCAL~~~~~N', 'ABHPE~~~~~A', 'ABBRY~~~~~N', 'ABCGA~~~~~N', 'ABDXV~~~~~N', 'ABCGAxt~~~N', 'ABMSR~~~~~N', 'ABPCM~~~~~N', 'ABSVY~~~~~N', 'ABBKN~~~~~N', 'ABSRT~~~~~N', 'ABMIL~~~~~N', 'ABNOR~~~~~N', 'ABCPN~~~~~N', 'ABBMT~~~~~N', 'ABMAR~~~~~N', 'ABFIR~~~~~N', 'MBSLB~~~~~A', 'MBWOG~~~~~A', 'MBLSD~~~~~A', 'MBKMK~~~~~N', 'MBOOK~~~~~N', 'MBCIO~~~~~A', 'MBCAY~~~~~A', 'MBMEBp~~~~A', 'MBKRYp~~~~A', 'MBRTV~~~~~N', 'MBPGEp~~~~N', 'ONZAR~~~~~A', 'MBBAM~~~~~A', 'MBGDT~~~~~N', 'MBMNT~~~~~A', 'ONZOR~~~~~A', 'ONCNE~~~~~A', 'ONELC~~~~~A', 'QCTNM80000N', 'QCARR20000N', 'ONWDG~~~~~N', 'ONWDGC~~~~N', 'ONOUL~~~~~A', 'ONMGL~~~~~N', 'ONSWP~~~~~A', 'ONTWE~~~~~A', 'ONWHK~~~~~A', 'ONEGV~~~~~A', 'ONZMH~~~~~A', 'ONDLO~~~~~A', 'ONDOO~~~~~A', 'ONFRM~~~~~N', 'ONDMM~~~~~A', 'ONZMK~~~~~A', 'ONUPD~~~~~A', 'ONRFW~~~~~A', 'ONWMH~~~~~A', 'ONTNY~~~~~A', 'ONBMR~~~~~A', 'QCLBI40H00A', 'QCORS41000A', 'QCMHU20000A', 'QCKRK40000A', 'QCTNF70000N', 'QCMOI10000A', 'QCMTA11000A', 'QCIVR10000A', 'QCPTC30000A', 'QCDHU40000A', 'QCCPU50000A', 'QCSSL50000A', 'QCRDU50000A', 'QCSAO23000N', 'QCFAR33000A', 'QCAHG10000N', 'QCSNS10000A', 'QCSJU10000A', 'QCSBE32000A', 'QCMEH90000N', 'QCMEM80000N', 'QCDDD10000A', 'QCSDR21000A', 'QCRVO21000A', 'QCARR40000N', 'QCSIB21000N', 'QCMWO23000A', 'QCBMP33000A', 'QCMBY20000A', 'QCRCI22000A', 'NSBEY4~~~~N', 'NSBEY5~~~~N', 'NSHWL3~~~~N', 'NSPGW5~~~~A', 'NSHBT2~~~~A', 'NSWOB4~~~~A', 'NSPGW4~~~~A', 'NSHBT5~~~~A', 'NSHFD3~~~~A', 'NSQUE5~~~~A', 'NSWOB5~~~~A', 'NSQUE6~~~~A', 'NSHFD5~~~~A', 'NSHFD6~~~~A', 'NSSUI3~~~~N', 'NSCSY7~~~~N', 'NSDRT5~~~~A', 'NSZSM7~~~~N', 'NSZCB~~~~~N', 'NSTHM3~~~~N', 'NSMLO5~~~~A', 'NSSUI5~~~~N', 'NSSUI6~~~~N', 'NSSTW6~~~~A', 'NSWBO3~~~~N', 'NSCBR5~~~~A', 'NSJGG5~~~~N', 'NSJGG6~~~~N', 'NSMSW6~~~~A', 'NSQUE4~~~~A', 'NSACA6~~~~A', 'NSCBR3~~~~A', 'NSTRM3~~~~A', 'NSACA5~~~~A', 'NSWOV5~~~~A', 'NSWOV3~~~~A', 'NSHTP4~~~~A', 'NSHTP5~~~~A', 'NSPPQ3~~~~A', 'NSFLY5~~~~N', 'NSPPQ5~~~~A', 'NSFLY6~~~~N', 'NSRAY5~~~~N', 'NSRAY3~~~~N', 'NSHBT6~~~~A', 'NSKKL3~~~~N', 'NSDGC5~~~~A', 'NSCBQ3~~~~N', 'NSHTN3~~~~N', 'NSRNY3~~~~N', 'NSZRL~~~~~N', 'NSSGL5~~~~A', 'NSECY6~~~~A', 'NSMLL6~~~~A', 'NSZER~~~~~N', 'NSGMO3~~~~A', 'NSMDD5~~~~A', 'NSNUX2~~~~A', 'NSGIB3~~~~N', 'NSBDW3~~~~N', 'NSGIB5~~~~N', 'NSAPG6~~~~N', 'NSWFV4~~~~A', 'NSHFX3~~~~N', 'NSBDW5~~~~N', 'NSHTN5~~~~N', 'NSHFX5~~~~N', 'NSBWT3~~~~N', 'NSBWT5~~~~N', 'NSMRW3~~~~A', 'NSTBO2~~~~A', 'NSBWT6~~~~N', 'NSHWL5~~~~N', 'NSYUH3~~~~A', 'NSYUH5~~~~A', 'NSYUH6~~~~N', 'NSYUH4~~~~A', 'NSHFX6~~~~N', 'NSPHB4~~~~N', 'NSTHM5~~~~N', 'NSTHM6~~~~N', 'ABKNS~~~~~N', 'ABGYP~~~~~N', 'ABALC~~~~~N', 'BCALV~~~~~A', 'BCATT~~~~~N', 'BCSEM~~~~~N', 'BCBIK~~~~~A', 'BCSIP~~~~~A', 'BCALC~~~~~A', 'ABTPE~~~~~N', 'ABJUY~~~~~N', 'ABSTT~~~~~N', 'BCBAT~~~~~A', 'BCFLS~~~~~A', 'BCGOS~~~~~A', 'BCDON~~~~~A', 'BCBYL~~~~~A', 'BCKHE~~~~~A', 'BCMUD~~~~~A', 'ABCTE~~~~~A', 'ABDEV~~~~~N', 'ABEND~~~~~N', 'ABEGL~~~~~N', 'ABZUN~~~~~N', 'ABGOS~~~~~N', 'ABNMA~~~~~A', 'ABDON~~~~~A', 'ABZGW~~~~~N', 'ABPCV~~~~~A', 'ABCLL~~~~~A', 'ABASP~~~~~N', 'ABAGH~~~~~A', 'ABLIH~~~~~N', 'ABWNK~~~~~N', 'ABCUL~~~~~N', 'ABKTH~~~~~A', 'ABWHM~~~~~N', 'ABHRT~~~~~N', 'ABKNZ~~~~~N', 'ABBWV~~~~~N', 'BCPOE~~~~~A', 'ABJUH~~~~~A', 'BCMLYli~~~N', 'BCCODp~~~~A', 'BCZON~~~~~N', 'BCOTC~~~~~A', 'ABHRR~~~~~N', 'ABSLN~~~~~N', 'ABSBN~~~~~N', 'ABPLM~~~~~A', 'ABEGO~~~~~A', 'ABSKY~~~~~N', 'ABABC~~~~~A', 'ABTCK~~~~~N', 'ABOWR~~~~~N', 'ABLCY~~~~~A', 'ABFNC~~~~~N', 'ABMNT~~~~~N', 'ABTGL~~~~~A', 'ABLIZ~~~~~N', 'ABELP~~~~~N', 'ABMYW~~~~~A', 'BCHSHvl~~~N', 'ABHNL~~~~~N', 'BCHAM~~~~~A', 'BCHSH~~~~~N', 'ABCOP~~~~~N', 'ABWHY~~~~~N', 'ABTOR~~~~~N', 'ABERH~~~~~N', 'ABGBL~~~~~N', 'ABMCL~~~~~N', 'ABCSP~~~~~N', 'ABFTO~~~~~N', 'ABLEV~~~~~N', 'ABMPX~~~~~N', 'ABSPR~~~~~N', 'ABDVG~~~~~A', 'ABFSH~~~~~A', 'ABMSB~~~~~A', 'ABCBD~~~~~N', 'SKBLL~~~~~N', 'ABABCgl~~~N', 'SKRWA~~~~~N', 'SKRWG~~~~~N', 'SKRWW~~~~~N', 'SKWVA~~~~~A', 'SKGXX~~~~~N', 'SKWVB~~~~~A', 'SKHWW~~~~~N', 'SKWVD~~~~~A', 'SKMWDHS~~~N', 'SKMTA~~~~~A', 'SKMTD~~~~~A', 'SKSBA~~~~~A', 'MB$MH~~~~~A', 'ABSDN~~~~~A', 'ABKHW~~~~~A', 'SKHWF~~~~~N', 'SKAVG~~~~~N', 'ABRMY~~~~~A', 'ABUCS~~~~~A', 'ABCOA~~~~~A', 'ABKVG~~~~~A', 'ABRLV~~~~~A', 'ABMDR~~~~~A', 'ABPHS~~~~~A', 'ABCMO~~~~~A', 'ABPOK~~~~~A', 'ABHLW~~~~~A', 'ABPRM~~~~~N', 'ABGRZ~~~~~A', 'SKGLX~~~~~N', 'SKHMA~~~~~A', 'ABAGS~~~~~A', 'SKAVA~~~~~A', 'ABRDW~~~~~A', 'SKMEA~~~~~A', 'SKONA~~~~~A', 'SKONI~~~~~A', 'SKLZA~~~~~A', 'SKEMD~~~~~N', 'SKNTA~~~~~A', 'SKWSA~~~~~A', 'SKKAA~~~~~A', 'SKFKAGN~~~N', 'SKFKGN~~~~N', 'SKMFA~~~~~A', 'SKWHA~~~~~A', 'SKTGA~~~~~A', 'SKWHC~~~~~A', 'SKOXA~~~~~A', 'SKNCA~~~~~A', 'SKCFA~~~~~A', 'SKBUA~~~~~A', 'SKOXC~~~~~A', 'SKAVY~~~~~N', 'SKAVX~~~~~N', 'SKBBA~~~~~A', 'SKMEAF~~~~A', 'SKPEA~~~~~A', 'SKBUC~~~~~A', 'SKNCC~~~~~A', 'SKAVW~~~~~N', 'SKAVAHS~~~A', 'SKEMA~~~~~N', 'SKHMAA~~~~A', 'SKCMA~~~~~A', 'ABDMY~~~~~N', 'SKYKA~~~~~A', 'SKYKC~~~~~A', 'SKCAC~~~~~A', 'SKMEAA~~~~A', 'SKMEHS~~~~A', 'SKYKD~~~~~A', 'MBTBN~~~~~A', 'MBOOL~~~~~A', 'MBLRY~~~~~A', 'MBVLY~~~~~A', 'MB$ER~~~~~N', 'SKZBR~~~~~N', 'SKCDA~~~~~A', 'MBLSW~~~~~A', 'MBWDN~~~~~A', 'MBECK~~~~~A', 'MBEWS~~~~~A', 'MBGLDp~~~~N', 'SKHWA~~~~~N', 'SKWSC~~~~~A', 'SKSFC~~~~~A', 'SKHDA~~~~~A', 'SKSFA~~~~~A', 'SKBUAA~~~~A', 'MBCYN~~~~~A', 'MBPVKp~~~~N', 'MBSHH~~~~~A', 'MBPPL~~~~~A', 'MBHIB~~~~~N', 'MBIWO~~~~~N', 'MBFFD~~~~~N', 'MB$SF~~~~~N', 'MBBAMd~~~~A', 'MBSPGp~~~~A', 'MBBYDp~~~~A', 'MBPGE~~~~~A', 'MBPLN~~~~~A', 'MBSPG~~~~~A', 'MBGHP~~~~~A', 'MBPMG~~~~~A', 'MBMHY~~~~~A', 'MBPVW~~~~~A', 'MBSVC~~~~~A', 'MBASZ~~~~~A', 'MBCRN~~~~~A', 'MBARS~~~~~A', 'MBGUO~~~~~A', 'MB$SB~~~~~N', 'MBAND~~~~~A', 'MBLKD~~~~~A', 'MBTROd~~~~A', 'MBMRQ~~~~~A', 'MBNIV~~~~~A', 'MBSTW~~~~~N', 'MBBVR~~~~~A', 'MBKLI~~~~~A', 'MBOBOd~~~~A', 'SKGRGO~~~~N', 'ABHND~~~~~A', 'SKFKAGO~~~N', 'SKCTGN~~~~N', 'SKFKGO~~~~N', 'SKAVGHS~~~N', 'ABBFD~~~~~A', 'SKVRA~~~~~N', 'SKAQA~~~~~A', 'SKBRA~~~~~A', 'SKCTGO~~~~N', 'SKEWA~~~~~A', 'SKRAA~~~~~A', 'SKSUA~~~~~A', 'SKWRA~~~~~A', 'SKBGA~~~~~A', 'ABLTC~~~~~N', 'ABBVA~~~~~A', 'ABMFT~~~~~A', 'ABHFD~~~~~A', 'MBPDA~~~~~A', 'MBCLN~~~~~A', 'MBCYN1~~~~A', 'MBFIR~~~~~A', 'MBBSF~~~~~A', 'MBTDP~~~~~A', 'MBWWC~~~~~A', 'MBLOP~~~~~A', 'SKBKA~~~~~A', 'MBDZW~~1~~A', 'MBDZW~~~~~A', 'MBTGL~~1~~A', 'MBFFR~~~~~A', 'MBJYL~~~~~A', 'MBATN~~~~~A', 'MBPBI~~1~~A', 'MBVDL~~~~~A', 'SKAPA~~~~~N', 'SKHTA~~~~~A', 'SKCHA~~~~~A', 'ABNUT~~~~~A', 'SKAVWHS~~~N', 'SKSCA~~~~~A', 'SKADA~~~~~A', 'SKWWAA~~~~A', 'SKADC~~~~~A', 'SKWWA~~~~~A', 'SKAVS~~~~~A', 'ABRDM~~~~~A', 'ABWNY~~~~~A', 'ABMAB~~~~~A', 'ABCFD~~~~~A', 'ABTVS~~~~~A', 'SKBYA~~~~~A', 'SKBYAA~~~~A', 'SKFXA~~~~~A', 'SKHRA~~~~~A', 'SKVAA~~~~~A', 'SKAMA~~~~~A', 'SKCNF~~~~~A', 'SKWCXGS~~~N', 'SKAMC~~~~~A', 'SKBKK~~~~~A', 'SKTRE~~~~~A', 'SKBKE~~~~~A', 'ABPUR~~~~~A', 'SKKHC~~~~~A', 'SKKNC~~~~~A', 'SKKHE~~~~~A', 'SKKNE~~~~~A', 'SKAPD~~~~~N', 'SKAVWS~~~~N', 'SKADI~~~~~A', 'ABCVD~~~~~A', 'ABVST~~~~~A', 'ABHUK~~~~~A', 'ABHDY~~~~~A', 'ABROL~~~~~A', 'ABPUN~~~~~A', 'ABLYB~~~~~N', 'ABCHN~~~~~A', 'ABBVL~~~~~A', 'SKKHA~~~~~A', 'ABATP~~~~~N', 'ABSIL~~~~~A', 'ABWDW~~~~~A', 'ABVGR~~~~~N', 'ABKBD~~~~~A', 'ABRMR~~~~~A', 'SKAVGS~~~~N', 'SKHRC~~~~~A', 'SKEAA~~~~~N', 'SKFXC~~~~~A', 'SKGRAO~~~~N', 'SKKNA~~~~~A', 'ABFMT~~~~~A', 'ABANO~~~~~A', 'SKKDAA~~~~A', 'ABBUT~~~~~A', 'ABEXP~~~~~A', 'SKECC~~~~~A', 'SKECE~~~~~A', 'SKADO~~~~~A', 'SKHTAA~~~~A', 'SKCHAA~~~~A', 'SEN', 'MNS', 'HZM', 'MRN', 'NAM', 'HPE', 'BRY', 'CGA', 'MSR', 'BKN', 'SDI', 'THG', 'WGE', '$AR', 'GOO', 'SFT', 'DCS', 'FOY', 'SUW', 'PAN', 'INK', 'HST', 'NED', 'ZUR', 'PHN', 'TLL', 'ALM', 'NOK', 'WID', 'PPT', 'BTC', 'WES', 'FOG', 'CAE', 'MLI', 'COM', 'ANA', 'CLD', 'STE', 'MSS', 'CTE', 'ENS', 'PET', 'SET', 'BUM', 'HWL', 'MSW', 'COK', 'ECY', 'BEL', 'PRO', 'STA', 'ESC', 'CLA', 'ALT', 'ACE', 'WIL', 'ROL', 'SLN', 'TGL', 'FXC', 'DVG', 'GXX', 'RWA', 'RWG', 'RWW', 'HWW', 'AVG', 'BGA', '$MH', 'UCS', 'COA', 'RLV', 'BVA', 'POK', 'AGS', 'AVA', 'FKA', 'FKG', 'WHC', 'AVX', 'BUC', 'AVW', 'SUD', 'LRY', '$ER', 'LSW', 'WDN', 'HWA', 'CYN', 'VST', 'IWO', 'FFD', 'SPG', 'GHP', 'SVC', 'ASZ', 'CRN', '$SB', 'AND', 'MRQ', 'NIV', 'KLI', 'BVR', 'OBO', 'GRG', 'HND', 'CNN', 'HMB', 'BFD', 'VRA', 'AQA', 'BRA', 'EWA', 'RAA', 'SUA', 'WRA', 'PEC', 'QUA', 'TWA', 'LTC', 'MFT', 'CAV', 'PDA', 'TDP', 'CLN', 'RAM', 'BAD', 'BSF', 'WWD', 'WWC', 'LOP', 'MMD', 'AVI', 'BKA', 'SOU', 'COU', 'DZW', 'FFR', 'LYT', 'JYL', 'ATN', 'PBI', 'VDL', 'HYE', 'APA', 'HTA', 'CHA', 'NUT', 'ADA', 'WWA', 'ADC', 'AVS', 'STH', 'RDM', 'WNY', 'MAB', 'CFD', 'TVS', 'VAC', 'BYA', 'FXA', 'HRA', 'KNA', 'VAA', 'AMA', 'TUE', 'CNF', 'WCX', 'CMY', 'CFT', 'MGT', 'AMC', 'BKK', 'TRE', 'BKE', 'PUR', 'HEG', 'CTN', 'HLM', 'RND', 'KHC', 'KDA', 'KNE', 'APD', 'ADI', 'GYE', 'CVD', 'HUK', 'HDY', 'PUN', 'LYB', 'BVL', 'KHA', 'ATP', 'SIL', 'WDW', 'VGR', 'KBD', 'RMR', 'HRC', 'EAA', 'GRA', 'MCT', 'FMT', 'ANO', 'BUT', 'EXP', 'ECC', 'ECE', 'ADO']\n"
     ]
    }
   ],
   "source": [
    "conflicting_nodes = []\n",
    "for index, row in df.iterrows():\n",
    "    if (row['betweenness_centrality_dense_rank'] != row['bc_compressed_dense_rank']):\n",
    "        conflicting_nodes.append(row['node'])\n",
    "print(conflicting_nodes)"
   ]
  },
  {
   "cell_type": "code",
   "execution_count": 24,
   "metadata": {},
   "outputs": [
    {
     "output_type": "execute_result",
     "data": {
      "text/plain": [
       "1.0    11377\n",
       "dtype: int64"
      ]
     },
     "metadata": {},
     "execution_count": 24
    }
   ],
   "source": [
    "df_r = df[df['node'].isin(conflicting_nodes)]\n",
    "(df_r['betweenness_centrality_dense_rank'] - df_r['bc_compressed_dense_rank']).value_counts()"
   ]
  }
 ]
}