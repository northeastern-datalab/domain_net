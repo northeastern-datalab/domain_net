{
 "metadata": {
  "language_info": {
   "codemirror_mode": {
    "name": "ipython",
    "version": 3
   },
   "file_extension": ".py",
   "mimetype": "text/x-python",
   "name": "python",
   "nbconvert_exporter": "python",
   "pygments_lexer": "ipython3",
   "version": "3.8.5-final"
  },
  "orig_nbformat": 2,
  "kernelspec": {
   "name": "python3",
   "display_name": "Python 3",
   "language": "python"
  }
 },
 "nbformat": 4,
 "nbformat_minor": 2,
 "cells": [
  {
   "cell_type": "code",
   "execution_count": 81,
   "metadata": {},
   "outputs": [],
   "source": [
    "import networkx\n",
    "import pickle\n",
    "import utils"
   ]
  },
  {
   "cell_type": "code",
   "execution_count": 82,
   "metadata": {},
   "outputs": [],
   "source": [
    "def get_attributes_of_instance(G, instance_node):\n",
    "    '''\n",
    "    Given a graph `G` and an `instance_node` from the graph return its corresponding set of attribute nodes\n",
    "    '''\n",
    "    attribute_nodes = []\n",
    "    for neighbor in G[instance_node]:\n",
    "        if G.nodes[neighbor]['type'] == 'attr':\n",
    "            attribute_nodes.append(neighbor)\n",
    "    return attribute_nodes\n",
    "        \n",
    "def get_instances_for_attribute(G, attribute_node):\n",
    "    '''\n",
    "    Given a graph `G` and an `instance_node` from the graph find its cell nodes\n",
    "    '''\n",
    "    instances_nodes = []\n",
    "    for neighbor in G[attribute_node]:\n",
    "        if G.nodes[neighbor]['type'] == 'cell':\n",
    "            instances_nodes.append(neighbor)\n",
    "    return instances_nodes\n",
    "\n",
    "def get_num_meanings_of_homograph(homograph, filename_column_unionable_pairs_dict, G):\n",
    "    '''\n",
    "    Return the number of meanings of a given homograph\n",
    "    '''\n",
    "\n",
    "    attrs = get_attributes_of_instance(G, homograph)\n",
    "\n",
    "    # Get filename column tuples that we test for\n",
    "    filename_column_tuples = []\n",
    "    for attr in attrs:\n",
    "        column_name = G.nodes[attr]['column_name']\n",
    "        file_name = G.nodes[attr]['filename']\n",
    "        filename_column_tuples.append((file_name, column_name))\n",
    "    \n",
    "    sets_of_unionable_vals_set = set([])\n",
    "    for tup in filename_column_tuples:\n",
    "        sets_of_unionable_vals_set.add(frozenset(filename_column_unionable_pairs_dict[tup]))\n",
    "\n",
    "    return sets_of_unionable_vals_set"
   ]
  },
  {
   "cell_type": "code",
   "execution_count": 83,
   "metadata": {},
   "outputs": [],
   "source": [
    "g_path = '../graph_construction/combined_graphs_output/TUS/bipartite/bipartite.graph'\n",
    "unionable_pairs_dict = 'output/TUS/filename_column_tuple_to_unionable_pairs_dict.pickle'\n",
    "\n",
    "filename_column_unionable_pairs_dict = pickle.load(open(unionable_pairs_dict, 'rb'))\n",
    "G = pickle.load(open(g_path, 'rb'))"
   ]
  },
  {
   "cell_type": "code",
   "execution_count": 84,
   "metadata": {
    "tags": []
   },
   "outputs": [
    {
     "output_type": "stream",
     "name": "stdout",
     "text": [
      "There are 21 sets/meanings according to ground truth.\nsize: 159\nsize: 149\nsize: 157\nsize: 164\nsize: 154\nsize: 209\nsize: 234\nsize: 220\nsize: 149\nsize: 239\nsize: 226\nsize: 169\nsize: 214\nsize: 159\nsize: 144\nsize: 157\nsize: 206\nsize: 155\nsize: 209\nsize: 147\nsize: 204\n{'Fund centre name', 'Continent name', 'Country/region name'}\n"
     ]
    }
   ],
   "source": [
    "sets_of_unionable_vals_set = get_num_meanings_of_homograph('Asia', filename_column_unionable_pairs_dict, G)\n",
    "\n",
    "print('There are', len(sets_of_unionable_vals_set), 'sets/meanings according to ground truth.')\n",
    "\n",
    "col_names = set()\n",
    "for s in sets_of_unionable_vals_set:\n",
    "    print('size:', len(s))\n",
    "    for pair in s:\n",
    "        col_names.add(pair[1])\n",
    "\n",
    "print(col_names)"
   ]
  },
  {
   "cell_type": "code",
   "execution_count": 91,
   "metadata": {
    "tags": []
   },
   "outputs": [
    {
     "output_type": "stream",
     "name": "stdout",
     "text": [
      "Size of set 1: 209\nSize of set 2: 164\nNumber of Set 1 unique pairs: 90\nNumber of Set 2 unique pairs: 45\nfrozenset({('t_1934eacab8c57857____c4_0____4.csv', 'Fund centre name'), ('t_1934eacab8c57857____c10_1____0.csv', 'Fund centre name'), ('t_1934eacab8c57857____c4_1____2.csv', 'Country/region name'), ('t_1934eacab8c57857____c19_0____1.csv', 'Fund centre name'), ('t_1934eacab8c57857____c17_0____2.csv', 'Fund centre name'), ('t_1934eacab8c57857____c9_1____2.csv', 'Country/region name'), ('t_1934eacab8c57857____c16_0____0.csv', 'Fund centre name'), ('t_1934eacab8c57857____c13_0____3.csv', 'Fund centre name'), ('t_1934eacab8c57857____c17_0____4.csv', 'Fund centre name'), ('t_1934eacab8c57857____c17_0____1.csv', 'Country/region name'), ('t_1934eacab8c57857____c13_0____4.csv', 'Fund centre name'), ('t_1934eacab8c57857____c11_1____1.csv', 'Country/region name'), ('t_1934eacab8c57857____c17_0____0.csv', 'Country/region name'), ('t_1934eacab8c57857____c10_1____3.csv', 'Fund centre name'), ('t_1934eacab8c57857____c11_1____4.csv', 'Fund centre name'), ('t_1934eacab8c57857____c9_1____4.csv', 'Fund centre name'), ('t_1934eacab8c57857____c17_1____4.csv', 'Fund centre name'), ('t_1934eacab8c57857____c13_0____2.csv', 'Fund centre name'), ('t_1934eacab8c57857____c9_1____1.csv', 'Fund centre name'), ('t_1934eacab8c57857____c11_1____2.csv', 'Fund centre name'), ('t_1934eacab8c57857____c18_0____3.csv', 'Fund centre name'), ('t_1934eacab8c57857____c19_0____0.csv', 'Fund centre name'), ('t_1934eacab8c57857____c16_1____0.csv', 'Fund centre name'), ('t_1934eacab8c57857____c10_1____2.csv', 'Fund centre name'), ('t_1934eacab8c57857____c11_0____0.csv', 'Fund centre name'), ('t_1934eacab8c57857____c4_0____1.csv', 'Fund centre name'), ('t_1934eacab8c57857____c19_0____4.csv', 'Fund centre name'), ('t_1934eacab8c57857____c17_1____0.csv', 'Fund centre name'), ('t_1934eacab8c57857____c11_0____4.csv', 'Fund centre name'), ('t_1934eacab8c57857____c17_0____2.csv', 'Country/region name'), ('t_1934eacab8c57857____c17_1____3.csv', 'Fund centre name'), ('t_1934eacab8c57857____c4_0____2.csv', 'Fund centre name'), ('t_1934eacab8c57857____c18_0____0.csv', 'Fund centre name'), ('t_1934eacab8c57857____c16_1____3.csv', 'Fund centre name'), ('t_1934eacab8c57857____c13_0____0.csv', 'Fund centre name'), ('t_1934eacab8c57857____c17_1____2.csv', 'Fund centre name'), ('t_1934eacab8c57857____c17_0____3.csv', 'Fund centre name'), ('t_1934eacab8c57857____c9_1____3.csv', 'Fund centre name'), ('t_1934eacab8c57857____c16_1____2.csv', 'Fund centre name'), ('t_1934eacab8c57857____c10_1____4.csv', 'Fund centre name'), ('t_1934eacab8c57857____c16_1____4.csv', 'Country/region name'), ('t_1934eacab8c57857____c13_0____1.csv', 'Country/region name'), ('t_1934eacab8c57857____c16_0____4.csv', 'Fund centre name'), ('t_1934eacab8c57857____c18_0____4.csv', 'Fund centre name'), ('t_1934eacab8c57857____c4_1____1.csv', 'Country/region name'), ('t_1934eacab8c57857____c11_0____1.csv', 'Fund centre name'), ('t_1934eacab8c57857____c9_1____2.csv', 'Fund centre name'), ('t_1934eacab8c57857____c4_0____3.csv', 'Fund centre name'), ('t_1934eacab8c57857____c11_1____0.csv', 'Fund centre name'), ('t_1934eacab8c57857____c16_1____1.csv', 'Fund centre name'), ('t_1934eacab8c57857____c11_0____2.csv', 'Fund centre name'), ('t_1934eacab8c57857____c17_0____1.csv', 'Fund centre name'), ('t_1934eacab8c57857____c13_0____3.csv', 'Country/region name'), ('t_1934eacab8c57857____c17_0____4.csv', 'Country/region name'), ('t_1934eacab8c57857____c12_1____3.csv', 'Fund centre name'), ('t_1934eacab8c57857____c11_1____1.csv', 'Fund centre name'), ('t_1934eacab8c57857____c8_1____3.csv', 'Country/region name'), ('t_1934eacab8c57857____c10_1____1.csv', 'Fund centre name'), ('t_1934eacab8c57857____c18_0____1.csv', 'Fund centre name'), ('t_1934eacab8c57857____c13_0____4.csv', 'Country/region name'), ('t_1934eacab8c57857____c12_1____2.csv', 'Fund centre name'), ('t_1934eacab8c57857____c12_1____1.csv', 'Fund centre name'), ('t_1934eacab8c57857____c16_1____2.csv', 'Country/region name'), ('t_1934eacab8c57857____c8_1____2.csv', 'Country/region name'), ('t_1934eacab8c57857____c13_0____2.csv', 'Country/region name'), ('t_1934eacab8c57857____c9_1____1.csv', 'Country/region name'), ('t_1934eacab8c57857____c8_1____0.csv', 'Country/region name'), ('t_1934eacab8c57857____c4_0____0.csv', 'Fund centre name'), ('t_1934eacab8c57857____c16_1____0.csv', 'Country/region name'), ('t_1934eacab8c57857____c12_1____0.csv', 'Fund centre name'), ('t_1934eacab8c57857____c19_0____3.csv', 'Fund centre name'), ('t_1934eacab8c57857____c16_1____1.csv', 'Country/region name'), ('t_1934eacab8c57857____c8_1____4.csv', 'Country/region name'), ('t_1934eacab8c57857____c19_0____2.csv', 'Fund centre name'), ('t_1934eacab8c57857____c16_0____3.csv', 'Fund centre name'), ('t_1934eacab8c57857____c16_0____1.csv', 'Fund centre name'), ('t_1934eacab8c57857____c8_1____1.csv', 'Country/region name'), ('t_1934eacab8c57857____c17_1____1.csv', 'Fund centre name'), ('t_1934eacab8c57857____c11_1____3.csv', 'Fund centre name'), ('t_1934eacab8c57857____c17_0____0.csv', 'Fund centre name'), ('t_1934eacab8c57857____c16_0____2.csv', 'Fund centre name'), ('t_1934eacab8c57857____c16_1____3.csv', 'Country/region name'), ('t_1934eacab8c57857____c13_0____0.csv', 'Country/region name'), ('t_1934eacab8c57857____c12_1____4.csv', 'Fund centre name'), ('t_1934eacab8c57857____c16_1____4.csv', 'Fund centre name'), ('t_1934eacab8c57857____c9_1____0.csv', 'Fund centre name'), ('t_1934eacab8c57857____c18_0____2.csv', 'Fund centre name'), ('t_1934eacab8c57857____c17_0____3.csv', 'Country/region name'), ('t_1934eacab8c57857____c11_0____3.csv', 'Fund centre name'), ('t_1934eacab8c57857____c13_0____1.csv', 'Fund centre name')})\n\n\n\nfrozenset({('t_1934eacab8c57857____c12_0____4.csv', 'Continent name'), ('t_1934eacab8c57857____c14_1____4.csv', 'Continent name'), ('t_1934eacab8c57857____c3_0____4.csv', 'Continent name'), ('t_1934eacab8c57857____c6_1____3.csv', 'Continent name'), ('t_1934eacab8c57857____c12_0____3.csv', 'Continent name'), ('t_1934eacab8c57857____c18_1____0.csv', 'Continent name'), ('t_1934eacab8c57857____c15_0____0.csv', 'Continent name'), ('t_1934eacab8c57857____c14_1____0.csv', 'Continent name'), ('t_1934eacab8c57857____c12_0____0.csv', 'Continent name'), ('t_1934eacab8c57857____c8_0____4.csv', 'Continent name'), ('t_1934eacab8c57857____c6_1____2.csv', 'Continent name'), ('t_1934eacab8c57857____c7_0____1.csv', 'Continent name'), ('t_1934eacab8c57857____c7_1____0.csv', 'Continent name'), ('t_1934eacab8c57857____c7_1____1.csv', 'Continent name'), ('t_1934eacab8c57857____c15_0____4.csv', 'Continent name'), ('t_1934eacab8c57857____c7_1____4.csv', 'Continent name'), ('t_1934eacab8c57857____c3_0____3.csv', 'Continent name'), ('t_1934eacab8c57857____c15_0____1.csv', 'Continent name'), ('t_1934eacab8c57857____c15_0____3.csv', 'Continent name'), ('t_1934eacab8c57857____c3_0____0.csv', 'Continent name'), ('t_1934eacab8c57857____c15_0____2.csv', 'Continent name'), ('t_1934eacab8c57857____c3_0____2.csv', 'Continent name'), ('t_1934eacab8c57857____c18_1____4.csv', 'Continent name'), ('t_1934eacab8c57857____c6_1____4.csv', 'Continent name'), ('t_1934eacab8c57857____c6_1____1.csv', 'Continent name'), ('t_1934eacab8c57857____c7_0____0.csv', 'Continent name'), ('t_1934eacab8c57857____c18_1____2.csv', 'Continent name'), ('t_1934eacab8c57857____c8_0____1.csv', 'Continent name'), ('t_1934eacab8c57857____c3_0____1.csv', 'Continent name'), ('t_1934eacab8c57857____c14_1____3.csv', 'Continent name'), ('t_1934eacab8c57857____c7_0____4.csv', 'Continent name'), ('t_1934eacab8c57857____c7_0____2.csv', 'Continent name'), ('t_1934eacab8c57857____c18_1____3.csv', 'Continent name'), ('t_1934eacab8c57857____c6_1____0.csv', 'Continent name'), ('t_1934eacab8c57857____c8_0____3.csv', 'Continent name'), ('t_1934eacab8c57857____c12_0____2.csv', 'Continent name'), ('t_1934eacab8c57857____c14_1____1.csv', 'Continent name'), ('t_1934eacab8c57857____c7_1____2.csv', 'Continent name'), ('t_1934eacab8c57857____c14_1____2.csv', 'Continent name'), ('t_1934eacab8c57857____c8_0____0.csv', 'Continent name'), ('t_1934eacab8c57857____c7_0____3.csv', 'Continent name'), ('t_1934eacab8c57857____c12_0____1.csv', 'Continent name'), ('t_1934eacab8c57857____c18_1____1.csv', 'Continent name'), ('t_1934eacab8c57857____c8_0____2.csv', 'Continent name'), ('t_1934eacab8c57857____c7_1____3.csv', 'Continent name')})\n"
     ]
    }
   ],
   "source": [
    "# Let's pick the the first two sets and compare their differences\n",
    "sets_of_unionable_vals_set = list(get_num_meanings_of_homograph('Asia', filename_column_unionable_pairs_dict, G))\n",
    "set1 = sets_of_unionable_vals_set[5]\n",
    "set2 = sets_of_unionable_vals_set[3]\n",
    "\n",
    "print('Size of set 1:', len(set1))\n",
    "print('Size of set 2:', len(set2))\n",
    "\n",
    "set1_unique = set1 - set2\n",
    "set2_unique = set2 - set1 \n",
    "print('Number of Set 1 unique pairs:', len(set1_unique))\n",
    "print('Number of Set 2 unique pairs:', len(set2_unique))\n",
    "\n",
    "print(set1_unique)\n",
    "print('\\n\\n')\n",
    "\n",
    "print(set2_unique)"
   ]
  },
  {
   "cell_type": "code",
   "execution_count": 86,
   "metadata": {},
   "outputs": [
    {
     "output_type": "stream",
     "name": "stdout",
     "text": [
      "{'Continent name', 'Country/region name'}\n"
     ]
    }
   ],
   "source": [
    "attrs = get_attributes_of_instance(G, 'Asia')\n",
    "col_names = set()\n",
    "for attr in attrs:\n",
    "    column_name = G.nodes[attr]['column_name']\n",
    "    file_name = G.nodes[attr]['filename']\n",
    "    col_names.add(column_name)\n",
    "\n",
    "print(col_names)"
   ]
  },
  {
   "source": [
    "# Testing using 'Wigmore St'"
   ],
   "cell_type": "markdown",
   "metadata": {}
  },
  {
   "cell_type": "code",
   "execution_count": 88,
   "metadata": {},
   "outputs": [
    {
     "output_type": "stream",
     "name": "stdout",
     "text": [
      "There are 2 sets.\nset size: 69\nset size: 74\n{'CommonName', 'ShortCommonName'}\n{frozenset({('t_67c3f7ce5eab8804____c9_0____4.csv', 'ShortCommonName'), ('t_67c3f7ce5eab8804____c14_0____4.csv', 'ShortCommonName'), ('t_67c3f7ce5eab8804____c5_0____3.csv', 'ShortCommonName'), ('t_67c3f7ce5eab8804____c12_1____1.csv', 'ShortCommonName'), ('t_67c3f7ce5eab8804____c13_0____0.csv', 'ShortCommonName'), ('t_67c3f7ce5eab8804____c9_0____2.csv', 'ShortCommonName'), ('t_67c3f7ce5eab8804____c13_0____1.csv', 'ShortCommonName'), ('t_67c3f7ce5eab8804____c13_0____2.csv', 'ShortCommonName'), ('t_67c3f7ce5eab8804____c9_0____0.csv', 'ShortCommonName'), ('t_67c3f7ce5eab8804____c5_1____4.csv', 'ShortCommonName'), ('t_67c3f7ce5eab8804____c15_1____2.csv', 'ShortCommonName'), ('t_67c3f7ce5eab8804____c13_1____0.csv', 'ShortCommonName'), ('t_67c3f7ce5eab8804____c12_1____3.csv', 'ShortCommonName'), ('t_67c3f7ce5eab8804____c7_1____3.csv', 'ShortCommonName'), ('t_67c3f7ce5eab8804____c7_1____0.csv', 'ShortCommonName'), ('t_67c3f7ce5eab8804____c5_0____1.csv', 'ShortCommonName'), ('t_67c3f7ce5eab8804____c12_0____3.csv', 'ShortCommonName'), ('t_67c3f7ce5eab8804____c14_0____0.csv', 'ShortCommonName'), ('t_67c3f7ce5eab8804____c15_1____3.csv', 'ShortCommonName'), ('t_67c3f7ce5eab8804____c10_1____4.csv', 'ShortCommonName'), ('t_67c3f7ce5eab8804____c16_0____1.csv', 'ShortCommonName'), ('t_67c3f7ce5eab8804____c14_1____1.csv', 'ShortCommonName'), ('t_67c3f7ce5eab8804____c5_0____4.csv', 'ShortCommonName'), ('t_67c3f7ce5eab8804____c13_1____3.csv', 'ShortCommonName'), ('t_67c3f7ce5eab8804____c11_1____4.csv', 'ShortCommonName'), ('t_67c3f7ce5eab8804____c16_0____3.csv', 'ShortCommonName'), ('t_67c3f7ce5eab8804____c11_1____2.csv', 'ShortCommonName'), ('t_67c3f7ce5eab8804____c7_1____4.csv', 'ShortCommonName'), ('t_67c3f7ce5eab8804____c12_0____0.csv', 'ShortCommonName'), ('t_67c3f7ce5eab8804____c12_1____2.csv', 'ShortCommonName'), ('t_67c3f7ce5eab8804____c15_1____0.csv', 'ShortCommonName'), ('t_67c3f7ce5eab8804____c7_1____2.csv', 'ShortCommonName'), ('t_67c3f7ce5eab8804____c12_1____4.csv', 'ShortCommonName'), ('t_67c3f7ce5eab8804____c15_1____1.csv', 'ShortCommonName'), ('t_67c3f7ce5eab8804____c14_1____3.csv', 'ShortCommonName'), ('t_67c3f7ce5eab8804____c14_0____3.csv', 'ShortCommonName'), ('t_67c3f7ce5eab8804____c15_1____4.csv', 'ShortCommonName'), ('t_67c3f7ce5eab8804____c11_1____0.csv', 'ShortCommonName'), ('t_67c3f7ce5eab8804____c5_1____2.csv', 'ShortCommonName'), ('t_67c3f7ce5eab8804____c7_1____1.csv', 'ShortCommonName'), ('t_67c3f7ce5eab8804____c14_0____2.csv', 'ShortCommonName'), ('t_67c3f7ce5eab8804____c12_0____2.csv', 'ShortCommonName'), ('t_67c3f7ce5eab8804____c12_0____1.csv', 'ShortCommonName'), ('t_67c3f7ce5eab8804____c12_1____0.csv', 'ShortCommonName'), ('t_67c3f7ce5eab8804____c14_1____2.csv', 'ShortCommonName'), ('t_67c3f7ce5eab8804____c11_1____1.csv', 'ShortCommonName'), ('t_67c3f7ce5eab8804____c5_1____1.csv', 'ShortCommonName'), ('t_67c3f7ce5eab8804____c13_1____1.csv', 'ShortCommonName'), ('t_67c3f7ce5eab8804____c16_0____0.csv', 'ShortCommonName'), ('t_67c3f7ce5eab8804____c5_1____0.csv', 'ShortCommonName'), ('t_67c3f7ce5eab8804____c5_0____0.csv', 'ShortCommonName'), ('t_67c3f7ce5eab8804____c10_1____1.csv', 'ShortCommonName'), ('t_67c3f7ce5eab8804____c13_0____3.csv', 'ShortCommonName'), ('t_67c3f7ce5eab8804____c13_1____4.csv', 'ShortCommonName'), ('t_67c3f7ce5eab8804____c14_1____0.csv', 'ShortCommonName'), ('t_67c3f7ce5eab8804____c11_1____3.csv', 'ShortCommonName'), ('t_67c3f7ce5eab8804____c9_0____3.csv', 'ShortCommonName'), ('t_67c3f7ce5eab8804____c10_1____3.csv', 'ShortCommonName'), ('t_67c3f7ce5eab8804____c5_0____2.csv', 'ShortCommonName'), ('t_67c3f7ce5eab8804____c16_0____2.csv', 'ShortCommonName'), ('t_67c3f7ce5eab8804____c13_1____2.csv', 'ShortCommonName'), ('t_67c3f7ce5eab8804____c12_0____4.csv', 'ShortCommonName'), ('t_67c3f7ce5eab8804____c16_0____4.csv', 'ShortCommonName'), ('t_67c3f7ce5eab8804____c10_1____2.csv', 'ShortCommonName'), ('t_67c3f7ce5eab8804____c14_1____4.csv', 'ShortCommonName'), ('t_67c3f7ce5eab8804____c14_0____1.csv', 'ShortCommonName'), ('t_67c3f7ce5eab8804____c13_0____4.csv', 'ShortCommonName'), ('t_67c3f7ce5eab8804____c9_0____1.csv', 'ShortCommonName'), ('t_67c3f7ce5eab8804____c5_1____3.csv', 'ShortCommonName')}), frozenset({('t_67c3f7ce5eab8804____c10_0____4.csv', 'CommonName'), ('t_67c3f7ce5eab8804____c16_0____3.csv', 'CommonName'), ('t_67c3f7ce5eab8804____c13_0____3.csv', 'CommonName'), ('t_67c3f7ce5eab8804____c12_1____2.csv', 'CommonName'), ('t_67c3f7ce5eab8804____c12_0____4.csv', 'CommonName'), ('t_67c3f7ce5eab8804____c16_0____4.csv', 'CommonName'), ('t_67c3f7ce5eab8804____c15_1____0.csv', 'CommonName'), ('t_67c3f7ce5eab8804____c10_0____3.csv', 'CommonName'), ('t_67c3f7ce5eab8804____c14_1____3.csv', 'CommonName'), ('t_67c3f7ce5eab8804____c15_0____3.csv', 'CommonName'), ('t_67c3f7ce5eab8804____c6_0____0.csv', 'CommonName'), ('t_67c3f7ce5eab8804____c14_0____3.csv', 'CommonName'), ('t_67c3f7ce5eab8804____c15_1____4.csv', 'CommonName'), ('t_67c3f7ce5eab8804____c8_0____0.csv', 'CommonName'), ('t_67c3f7ce5eab8804____c14_0____4.csv', 'CommonName'), ('t_67c3f7ce5eab8804____c12_1____1.csv', 'CommonName'), ('t_67c3f7ce5eab8804____c3_0____4.csv', 'CommonName'), ('t_67c3f7ce5eab8804____c6_0____3.csv', 'CommonName'), ('t_67c3f7ce5eab8804____c3_0____1.csv', 'CommonName'), ('t_67c3f7ce5eab8804____c15_0____2.csv', 'CommonName'), ('t_67c3f7ce5eab8804____c8_0____1.csv', 'CommonName'), ('t_67c3f7ce5eab8804____c14_0____2.csv', 'CommonName'), ('t_67c3f7ce5eab8804____c10_0____2.csv', 'CommonName'), ('t_67c3f7ce5eab8804____c12_0____1.csv', 'CommonName'), ('t_67c3f7ce5eab8804____c9_0____0.csv', 'CommonName'), ('t_67c3f7ce5eab8804____c3_0____0.csv', 'CommonName'), ('t_67c3f7ce5eab8804____c12_1____0.csv', 'CommonName'), ('t_67c3f7ce5eab8804____c13_1____0.csv', 'CommonName'), ('t_67c3f7ce5eab8804____c8_0____2.csv', 'CommonName'), ('t_67c3f7ce5eab8804____c6_0____2.csv', 'CommonName'), ('t_67c3f7ce5eab8804____c15_0____4.csv', 'CommonName'), ('t_67c3f7ce5eab8804____c13_1____1.csv', 'CommonName'), ('t_67c3f7ce5eab8804____c14_0____0.csv', 'CommonName'), ('t_67c3f7ce5eab8804____c16_0____0.csv', 'CommonName'), ('t_67c3f7ce5eab8804____c5_0____0.csv', 'CommonName'), ('t_67c3f7ce5eab8804____c13_1____3.csv', 'CommonName'), ('t_67c3f7ce5eab8804____c13_1____4.csv', 'CommonName'), ('t_67c3f7ce5eab8804____c14_1____0.csv', 'CommonName'), ('t_67c3f7ce5eab8804____c9_0____3.csv', 'CommonName'), ('t_67c3f7ce5eab8804____c5_0____2.csv', 'CommonName'), ('t_67c3f7ce5eab8804____c16_0____2.csv', 'CommonName'), ('t_67c3f7ce5eab8804____c13_1____2.csv', 'CommonName'), ('t_67c3f7ce5eab8804____c8_0____4.csv', 'CommonName'), ('t_67c3f7ce5eab8804____c14_1____4.csv', 'CommonName'), ('t_67c3f7ce5eab8804____c12_0____0.csv', 'CommonName'), ('t_67c3f7ce5eab8804____c10_0____1.csv', 'CommonName'), ('t_67c3f7ce5eab8804____c14_0____1.csv', 'CommonName'), ('t_67c3f7ce5eab8804____c13_0____4.csv', 'CommonName'), ('t_67c3f7ce5eab8804____c9_0____1.csv', 'CommonName'), ('t_67c3f7ce5eab8804____c12_1____4.csv', 'CommonName'), ('t_67c3f7ce5eab8804____c15_1____1.csv', 'CommonName'), ('t_67c3f7ce5eab8804____c9_0____4.csv', 'CommonName'), ('t_67c3f7ce5eab8804____c5_0____3.csv', 'CommonName'), ('t_67c3f7ce5eab8804____c8_0____3.csv', 'CommonName'), ('t_67c3f7ce5eab8804____c13_0____0.csv', 'CommonName'), ('t_67c3f7ce5eab8804____c9_0____2.csv', 'CommonName'), ('t_67c3f7ce5eab8804____c15_0____1.csv', 'CommonName'), ('t_67c3f7ce5eab8804____c3_0____2.csv', 'CommonName'), ('t_67c3f7ce5eab8804____c13_0____1.csv', 'CommonName'), ('t_67c3f7ce5eab8804____c13_0____2.csv', 'CommonName'), ('t_67c3f7ce5eab8804____c6_0____4.csv', 'CommonName'), ('t_67c3f7ce5eab8804____c15_1____2.csv', 'CommonName'), ('t_67c3f7ce5eab8804____c12_1____3.csv', 'CommonName'), ('t_67c3f7ce5eab8804____c12_0____2.csv', 'CommonName'), ('t_67c3f7ce5eab8804____c15_0____0.csv', 'CommonName'), ('t_67c3f7ce5eab8804____c6_0____1.csv', 'CommonName'), ('t_67c3f7ce5eab8804____c14_1____2.csv', 'CommonName'), ('t_67c3f7ce5eab8804____c5_0____1.csv', 'CommonName'), ('t_67c3f7ce5eab8804____c12_0____3.csv', 'CommonName'), ('t_67c3f7ce5eab8804____c3_0____3.csv', 'CommonName'), ('t_67c3f7ce5eab8804____c15_1____3.csv', 'CommonName'), ('t_67c3f7ce5eab8804____c16_0____1.csv', 'CommonName'), ('t_67c3f7ce5eab8804____c14_1____1.csv', 'CommonName'), ('t_67c3f7ce5eab8804____c5_0____4.csv', 'CommonName')})}\n"
     ]
    }
   ],
   "source": [
    "sets_of_unionable_vals_set = get_num_meanings_of_homograph('Wigmore St', filename_column_unionable_pairs_dict, G)\n",
    "\n",
    "print('There are', len(sets_of_unionable_vals_set), 'sets.')\n",
    "\n",
    "col_names = set()\n",
    "for s in sets_of_unionable_vals_set:\n",
    "    print(\"set size:\", len(s))\n",
    "    for pair in s:\n",
    "        col_names.add(pair[1])\n",
    "\n",
    "print(col_names)\n",
    "print(sets_of_unionable_vals_set)\n"
   ]
  },
  {
   "cell_type": "code",
   "execution_count": 89,
   "metadata": {},
   "outputs": [
    {
     "output_type": "stream",
     "name": "stdout",
     "text": [
      "SET 1: frozenset({('t_67c3f7ce5eab8804____c9_0____4.csv', 'ShortCommonName'), ('t_67c3f7ce5eab8804____c14_0____4.csv', 'ShortCommonName'), ('t_67c3f7ce5eab8804____c5_0____3.csv', 'ShortCommonName'), ('t_67c3f7ce5eab8804____c12_1____1.csv', 'ShortCommonName'), ('t_67c3f7ce5eab8804____c13_0____0.csv', 'ShortCommonName'), ('t_67c3f7ce5eab8804____c11_1____0.csv', 'ShortCommonName'), ('t_67c3f7ce5eab8804____c9_0____2.csv', 'ShortCommonName'), ('t_67c3f7ce5eab8804____c13_0____1.csv', 'ShortCommonName'), ('t_67c3f7ce5eab8804____c13_0____2.csv', 'ShortCommonName'), ('t_67c3f7ce5eab8804____c5_1____2.csv', 'ShortCommonName'), ('t_67c3f7ce5eab8804____c9_0____0.csv', 'ShortCommonName'), ('t_67c3f7ce5eab8804____c5_1____4.csv', 'ShortCommonName'), ('t_67c3f7ce5eab8804____c15_1____2.csv', 'ShortCommonName'), ('t_67c3f7ce5eab8804____c7_1____1.csv', 'ShortCommonName'), ('t_67c3f7ce5eab8804____c14_0____2.csv', 'ShortCommonName'), ('t_67c3f7ce5eab8804____c13_1____0.csv', 'ShortCommonName'), ('t_67c3f7ce5eab8804____c12_0____2.csv', 'ShortCommonName'), ('t_67c3f7ce5eab8804____c12_0____1.csv', 'ShortCommonName'), ('t_67c3f7ce5eab8804____c12_1____3.csv', 'ShortCommonName'), ('t_67c3f7ce5eab8804____c12_1____0.csv', 'ShortCommonName'), ('t_67c3f7ce5eab8804____c14_1____2.csv', 'ShortCommonName'), ('t_67c3f7ce5eab8804____c11_1____1.csv', 'ShortCommonName'), ('t_67c3f7ce5eab8804____c7_1____3.csv', 'ShortCommonName'), ('t_67c3f7ce5eab8804____c7_1____0.csv', 'ShortCommonName'), ('t_67c3f7ce5eab8804____c5_0____1.csv', 'ShortCommonName'), ('t_67c3f7ce5eab8804____c12_0____3.csv', 'ShortCommonName'), ('t_67c3f7ce5eab8804____c14_0____0.csv', 'ShortCommonName'), ('t_67c3f7ce5eab8804____c5_1____1.csv', 'ShortCommonName'), ('t_67c3f7ce5eab8804____c15_1____3.csv', 'ShortCommonName'), ('t_67c3f7ce5eab8804____c13_1____1.csv', 'ShortCommonName'), ('t_67c3f7ce5eab8804____c10_1____4.csv', 'ShortCommonName'), ('t_67c3f7ce5eab8804____c16_0____1.csv', 'ShortCommonName'), ('t_67c3f7ce5eab8804____c14_1____1.csv', 'ShortCommonName'), ('t_67c3f7ce5eab8804____c16_0____0.csv', 'ShortCommonName'), ('t_67c3f7ce5eab8804____c5_0____4.csv', 'ShortCommonName'), ('t_67c3f7ce5eab8804____c13_1____3.csv', 'ShortCommonName'), ('t_67c3f7ce5eab8804____c5_1____0.csv', 'ShortCommonName'), ('t_67c3f7ce5eab8804____c5_0____0.csv', 'ShortCommonName'), ('t_67c3f7ce5eab8804____c10_1____1.csv', 'ShortCommonName'), ('t_67c3f7ce5eab8804____c11_1____4.csv', 'ShortCommonName'), ('t_67c3f7ce5eab8804____c13_0____3.csv', 'ShortCommonName'), ('t_67c3f7ce5eab8804____c13_1____4.csv', 'ShortCommonName'), ('t_67c3f7ce5eab8804____c14_1____0.csv', 'ShortCommonName'), ('t_67c3f7ce5eab8804____c11_1____3.csv', 'ShortCommonName'), ('t_67c3f7ce5eab8804____c16_0____3.csv', 'ShortCommonName'), ('t_67c3f7ce5eab8804____c11_1____2.csv', 'ShortCommonName'), ('t_67c3f7ce5eab8804____c9_0____3.csv', 'ShortCommonName'), ('t_67c3f7ce5eab8804____c10_1____3.csv', 'ShortCommonName'), ('t_67c3f7ce5eab8804____c5_0____2.csv', 'ShortCommonName'), ('t_67c3f7ce5eab8804____c16_0____2.csv', 'ShortCommonName'), ('t_67c3f7ce5eab8804____c13_1____2.csv', 'ShortCommonName'), ('t_67c3f7ce5eab8804____c12_0____4.csv', 'ShortCommonName'), ('t_67c3f7ce5eab8804____c16_0____4.csv', 'ShortCommonName'), ('t_67c3f7ce5eab8804____c7_1____4.csv', 'ShortCommonName'), ('t_67c3f7ce5eab8804____c12_0____0.csv', 'ShortCommonName'), ('t_67c3f7ce5eab8804____c12_1____2.csv', 'ShortCommonName'), ('t_67c3f7ce5eab8804____c10_1____2.csv', 'ShortCommonName'), ('t_67c3f7ce5eab8804____c14_1____4.csv', 'ShortCommonName'), ('t_67c3f7ce5eab8804____c15_1____0.csv', 'ShortCommonName'), ('t_67c3f7ce5eab8804____c7_1____2.csv', 'ShortCommonName'), ('t_67c3f7ce5eab8804____c12_1____4.csv', 'ShortCommonName'), ('t_67c3f7ce5eab8804____c15_1____1.csv', 'ShortCommonName'), ('t_67c3f7ce5eab8804____c14_1____3.csv', 'ShortCommonName'), ('t_67c3f7ce5eab8804____c14_0____1.csv', 'ShortCommonName'), ('t_67c3f7ce5eab8804____c13_0____4.csv', 'ShortCommonName'), ('t_67c3f7ce5eab8804____c9_0____1.csv', 'ShortCommonName'), ('t_67c3f7ce5eab8804____c5_1____3.csv', 'ShortCommonName'), ('t_67c3f7ce5eab8804____c14_0____3.csv', 'ShortCommonName'), ('t_67c3f7ce5eab8804____c15_1____4.csv', 'ShortCommonName')}) \n\n\n\nSET 2: frozenset({('t_67c3f7ce5eab8804____c5_0____0.csv', 'CommonName'), ('t_67c3f7ce5eab8804____c13_1____3.csv', 'CommonName'), ('t_67c3f7ce5eab8804____c13_1____4.csv', 'CommonName'), ('t_67c3f7ce5eab8804____c14_1____1.csv', 'CommonName'), ('t_67c3f7ce5eab8804____c14_1____0.csv', 'CommonName'), ('t_67c3f7ce5eab8804____c10_0____4.csv', 'CommonName'), ('t_67c3f7ce5eab8804____c16_0____3.csv', 'CommonName'), ('t_67c3f7ce5eab8804____c13_0____3.csv', 'CommonName'), ('t_67c3f7ce5eab8804____c9_0____3.csv', 'CommonName'), ('t_67c3f7ce5eab8804____c5_0____2.csv', 'CommonName'), ('t_67c3f7ce5eab8804____c16_0____2.csv', 'CommonName'), ('t_67c3f7ce5eab8804____c13_1____2.csv', 'CommonName'), ('t_67c3f7ce5eab8804____c8_0____4.csv', 'CommonName'), ('t_67c3f7ce5eab8804____c12_1____2.csv', 'CommonName'), ('t_67c3f7ce5eab8804____c12_0____4.csv', 'CommonName'), ('t_67c3f7ce5eab8804____c14_1____4.csv', 'CommonName'), ('t_67c3f7ce5eab8804____c16_0____4.csv', 'CommonName'), ('t_67c3f7ce5eab8804____c15_1____0.csv', 'CommonName'), ('t_67c3f7ce5eab8804____c12_0____0.csv', 'CommonName'), ('t_67c3f7ce5eab8804____c10_0____3.csv', 'CommonName'), ('t_67c3f7ce5eab8804____c14_1____3.csv', 'CommonName'), ('t_67c3f7ce5eab8804____c15_0____3.csv', 'CommonName'), ('t_67c3f7ce5eab8804____c10_0____1.csv', 'CommonName'), ('t_67c3f7ce5eab8804____c14_0____1.csv', 'CommonName'), ('t_67c3f7ce5eab8804____c13_0____4.csv', 'CommonName'), ('t_67c3f7ce5eab8804____c9_0____1.csv', 'CommonName'), ('t_67c3f7ce5eab8804____c6_0____0.csv', 'CommonName'), ('t_67c3f7ce5eab8804____c12_1____4.csv', 'CommonName'), ('t_67c3f7ce5eab8804____c15_1____1.csv', 'CommonName'), ('t_67c3f7ce5eab8804____c14_0____3.csv', 'CommonName'), ('t_67c3f7ce5eab8804____c15_1____4.csv', 'CommonName'), ('t_67c3f7ce5eab8804____c9_0____4.csv', 'CommonName'), ('t_67c3f7ce5eab8804____c8_0____0.csv', 'CommonName'), ('t_67c3f7ce5eab8804____c5_0____3.csv', 'CommonName'), ('t_67c3f7ce5eab8804____c8_0____3.csv', 'CommonName'), ('t_67c3f7ce5eab8804____c14_0____4.csv', 'CommonName'), ('t_67c3f7ce5eab8804____c13_0____0.csv', 'CommonName'), ('t_67c3f7ce5eab8804____c9_0____2.csv', 'CommonName'), ('t_67c3f7ce5eab8804____c12_1____1.csv', 'CommonName'), ('t_67c3f7ce5eab8804____c3_0____4.csv', 'CommonName'), ('t_67c3f7ce5eab8804____c15_0____1.csv', 'CommonName'), ('t_67c3f7ce5eab8804____c3_0____2.csv', 'CommonName'), ('t_67c3f7ce5eab8804____c13_0____1.csv', 'CommonName'), ('t_67c3f7ce5eab8804____c13_0____2.csv', 'CommonName'), ('t_67c3f7ce5eab8804____c6_0____3.csv', 'CommonName'), ('t_67c3f7ce5eab8804____c3_0____1.csv', 'CommonName'), ('t_67c3f7ce5eab8804____c15_0____2.csv', 'CommonName'), ('t_67c3f7ce5eab8804____c8_0____1.csv', 'CommonName'), ('t_67c3f7ce5eab8804____c14_0____2.csv', 'CommonName'), ('t_67c3f7ce5eab8804____c10_0____2.csv', 'CommonName'), ('t_67c3f7ce5eab8804____c6_0____4.csv', 'CommonName'), ('t_67c3f7ce5eab8804____c12_0____1.csv', 'CommonName'), ('t_67c3f7ce5eab8804____c15_1____2.csv', 'CommonName'), ('t_67c3f7ce5eab8804____c9_0____0.csv', 'CommonName'), ('t_67c3f7ce5eab8804____c3_0____0.csv', 'CommonName'), ('t_67c3f7ce5eab8804____c12_1____0.csv', 'CommonName'), ('t_67c3f7ce5eab8804____c13_1____0.csv', 'CommonName'), ('t_67c3f7ce5eab8804____c8_0____2.csv', 'CommonName'), ('t_67c3f7ce5eab8804____c12_1____3.csv', 'CommonName'), ('t_67c3f7ce5eab8804____c12_0____2.csv', 'CommonName'), ('t_67c3f7ce5eab8804____c15_0____0.csv', 'CommonName'), ('t_67c3f7ce5eab8804____c6_0____1.csv', 'CommonName'), ('t_67c3f7ce5eab8804____c14_1____2.csv', 'CommonName'), ('t_67c3f7ce5eab8804____c6_0____2.csv', 'CommonName'), ('t_67c3f7ce5eab8804____c15_0____4.csv', 'CommonName'), ('t_67c3f7ce5eab8804____c5_0____1.csv', 'CommonName'), ('t_67c3f7ce5eab8804____c12_0____3.csv', 'CommonName'), ('t_67c3f7ce5eab8804____c3_0____3.csv', 'CommonName'), ('t_67c3f7ce5eab8804____c13_1____1.csv', 'CommonName'), ('t_67c3f7ce5eab8804____c15_1____3.csv', 'CommonName'), ('t_67c3f7ce5eab8804____c16_0____1.csv', 'CommonName'), ('t_67c3f7ce5eab8804____c14_0____0.csv', 'CommonName'), ('t_67c3f7ce5eab8804____c16_0____0.csv', 'CommonName'), ('t_67c3f7ce5eab8804____c5_0____4.csv', 'CommonName')}) \n\n\n\n"
     ]
    }
   ],
   "source": [
    "sets_of_unionable_vals_set = list(sets_of_unionable_vals_set)\n",
    "\n",
    "set1_only = sets_of_unionable_vals_set[0] - sets_of_unionable_vals_set[1]\n",
    "set2_only = sets_of_unionable_vals_set[1] - sets_of_unionable_vals_set[0]\n",
    "print('SET 1:', set1_only,'\\n\\n\\n')\n",
    "print('SET 2:', set2_only,'\\n\\n\\n')"
   ]
  },
  {
   "cell_type": "code",
   "execution_count": 90,
   "metadata": {},
   "outputs": [
    {
     "output_type": "stream",
     "name": "stdout",
     "text": [
      "{'ShortCommonName', 'CommonName'}\n"
     ]
    }
   ],
   "source": [
    "attrs = get_attributes_of_instance(G, 'Wigmore St')\n",
    "col_names = set()\n",
    "for attr in attrs:\n",
    "    column_name = G.nodes[attr]['column_name']\n",
    "    file_name = G.nodes[attr]['filename']\n",
    "    col_names.add(column_name)\n",
    "\n",
    "print(col_names)"
   ]
  },
  {
   "cell_type": "code",
   "execution_count": null,
   "metadata": {},
   "outputs": [],
   "source": []
  }
 ]
}