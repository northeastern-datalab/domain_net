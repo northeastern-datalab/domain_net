{
 "metadata": {
  "language_info": {
   "codemirror_mode": {
    "name": "ipython",
    "version": 3
   },
   "file_extension": ".py",
   "mimetype": "text/x-python",
   "name": "python",
   "nbconvert_exporter": "python",
   "pygments_lexer": "ipython3",
   "version": "3.8.5-final"
  },
  "orig_nbformat": 2,
  "kernelspec": {
   "name": "python3",
   "display_name": "Python 3",
   "language": "python"
  }
 },
 "nbformat": 4,
 "nbformat_minor": 2,
 "cells": [
  {
   "source": [
    "# Jupyter Notebook used to extract the statistics of each dataset used\n",
    "\n",
    "Before running this notebook ensure that you have already ran all the experiments (i.e. executed the scripts synthetic_benchmark.sh, TUS_benchmark.sh, TUS_injection_cardinality.sh)"
   ],
   "cell_type": "markdown",
   "metadata": {}
  },
  {
   "cell_type": "code",
   "execution_count": 5,
   "metadata": {},
   "outputs": [],
   "source": [
    "import pickle\n",
    "import networkx as nx\n",
    "\n",
    "import statistics\n",
    "import utils\n",
    "\n",
    "from tqdm import tqdm"
   ]
  },
  {
   "source": [
    "# Synthetic Dataset"
   ],
   "cell_type": "markdown",
   "metadata": {}
  },
  {
   "cell_type": "code",
   "execution_count": 6,
   "metadata": {
    "tags": []
   },
   "outputs": [],
   "source": [
    "# Statistics for Synthetic example\n",
    "\n",
    "synthetic_graph = pickle.load(open('../graph_construction/combined_graphs_output/synthetic_benchmark_bipartite/bipartite/bipartite.graph', 'rb'))\n",
    "\n",
    "cell_nodes = {n for n, d in synthetic_graph.nodes(data=True) if d['type']=='cell'}\n",
    "attribute_nodes = {n for n, d in synthetic_graph.nodes(data=True) if d['type']=='attr'}\n",
    "\n",
    "# Synthetic example dataframe\n",
    "synthetic_df = pickle.load(open('output/synthetic_example_bipartite/graph_stats_df.pickle', 'rb'))\n",
    "groundtruth_synthetic = pickle.load(open('ground_truth/synthetic_example_groundtruth_dict.pickle', 'rb'))\n",
    "\n",
    "synthetic_df['is_homograph'] = synthetic_df['node'].map(groundtruth_synthetic)\n",
    "\n",
    "homographs_list = synthetic_df[synthetic_df['is_homograph'] == 'homograph']['node'].values\n",
    "\n",
    "cardinality_of_homographs = {}\n",
    "for homograph in homographs_list:\n",
    "    # cardinality_of_homographs[homograph] = get_cardinality_of_homograph(synthetic_graph, homograph)\n",
    "    cardinality_of_homographs[homograph] = utils.graph_helpers.get_cardinality_of_homograph(synthetic_graph, homograph)"
   ]
  },
  {
   "cell_type": "code",
   "execution_count": 7,
   "metadata": {
    "tags": []
   },
   "outputs": [
    {
     "output_type": "stream",
     "name": "stdout",
     "text": [
      "Nodes: 17672\nEdges: 19473\nCell Values: 17633\nAttributes: 39\nNumber of homographs: 55\nMinimum cardinality of a homograph: 151\nMaximum cardinality of a homograph: 1966\n"
     ]
    }
   ],
   "source": [
    "cardinality_of_homographs_list = list(cardinality_of_homographs.values())\n",
    "print('Nodes:', synthetic_graph.number_of_nodes())\n",
    "print('Edges:', synthetic_graph.number_of_edges())\n",
    "print('Cell Values:', len(cell_nodes))\n",
    "print('Attributes:', len(attribute_nodes))\n",
    "print('Number of homographs:', len(homographs_list))\n",
    "print('Minimum cardinality of a homograph:', min(cardinality_of_homographs_list))\n",
    "print('Maximum cardinality of a homograph:', max(cardinality_of_homographs_list))"
   ]
  },
  {
   "source": [
    "# Table Union Search - With Injection (No Homographs)"
   ],
   "cell_type": "markdown",
   "metadata": {}
  },
  {
   "cell_type": "code",
   "execution_count": 11,
   "metadata": {},
   "outputs": [
    {
     "output_type": "execute_result",
     "data": {
      "text/plain": [
       "                                                     node node_type  \\\n",
       "0        Branch name_t_1934eacab8c57857____c10_0____0.csv      attr   \n",
       "1       Organisation class_t_1934eacab8c57857____c10_0...      attr   \n",
       "2       Organisation type (location, profit/not-for-pr...      attr   \n",
       "3           PBA type_t_1934eacab8c57857____c10_0____0.csv      attr   \n",
       "4                                        OGM Asia Pacific      cell   \n",
       "...                                                   ...       ...   \n",
       "168875      SOIL_CODE_t_ece0594e0480a1ed____c7_0____3.csv      attr   \n",
       "168876        SOIL_ID_t_ece0594e0480a1ed____c7_0____3.csv      attr   \n",
       "168877       MODIFIER_t_ece0594e0480a1ed____c7_0____4.csv      attr   \n",
       "168878      SOIL_CODE_t_ece0594e0480a1ed____c7_0____4.csv      attr   \n",
       "168879        SOIL_ID_t_ece0594e0480a1ed____c7_0____4.csv      attr   \n",
       "\n",
       "        approximate_betweenness_centrality is_homograph has_missing_key  \n",
       "0                             0.000000e+00          NaN             NaN  \n",
       "1                             0.000000e+00          NaN             NaN  \n",
       "2                             3.541735e-13          NaN             NaN  \n",
       "3                             2.062540e-12          NaN             NaN  \n",
       "4                             0.000000e+00        False           False  \n",
       "...                                    ...          ...             ...  \n",
       "168875                        2.118676e-07          NaN             NaN  \n",
       "168876                        2.403848e-07          NaN             NaN  \n",
       "168877                        7.175429e-10          NaN             NaN  \n",
       "168878                        3.707436e-07          NaN             NaN  \n",
       "168879                        4.017664e-07          NaN             NaN  \n",
       "\n",
       "[168880 rows x 5 columns]"
      ],
      "text/html": "<div>\n<style scoped>\n    .dataframe tbody tr th:only-of-type {\n        vertical-align: middle;\n    }\n\n    .dataframe tbody tr th {\n        vertical-align: top;\n    }\n\n    .dataframe thead th {\n        text-align: right;\n    }\n</style>\n<table border=\"1\" class=\"dataframe\">\n  <thead>\n    <tr style=\"text-align: right;\">\n      <th></th>\n      <th>node</th>\n      <th>node_type</th>\n      <th>approximate_betweenness_centrality</th>\n      <th>is_homograph</th>\n      <th>has_missing_key</th>\n    </tr>\n  </thead>\n  <tbody>\n    <tr>\n      <th>0</th>\n      <td>Branch name_t_1934eacab8c57857____c10_0____0.csv</td>\n      <td>attr</td>\n      <td>0.000000e+00</td>\n      <td>NaN</td>\n      <td>NaN</td>\n    </tr>\n    <tr>\n      <th>1</th>\n      <td>Organisation class_t_1934eacab8c57857____c10_0...</td>\n      <td>attr</td>\n      <td>0.000000e+00</td>\n      <td>NaN</td>\n      <td>NaN</td>\n    </tr>\n    <tr>\n      <th>2</th>\n      <td>Organisation type (location, profit/not-for-pr...</td>\n      <td>attr</td>\n      <td>3.541735e-13</td>\n      <td>NaN</td>\n      <td>NaN</td>\n    </tr>\n    <tr>\n      <th>3</th>\n      <td>PBA type_t_1934eacab8c57857____c10_0____0.csv</td>\n      <td>attr</td>\n      <td>2.062540e-12</td>\n      <td>NaN</td>\n      <td>NaN</td>\n    </tr>\n    <tr>\n      <th>4</th>\n      <td>OGM Asia Pacific</td>\n      <td>cell</td>\n      <td>0.000000e+00</td>\n      <td>False</td>\n      <td>False</td>\n    </tr>\n    <tr>\n      <th>...</th>\n      <td>...</td>\n      <td>...</td>\n      <td>...</td>\n      <td>...</td>\n      <td>...</td>\n    </tr>\n    <tr>\n      <th>168875</th>\n      <td>SOIL_CODE_t_ece0594e0480a1ed____c7_0____3.csv</td>\n      <td>attr</td>\n      <td>2.118676e-07</td>\n      <td>NaN</td>\n      <td>NaN</td>\n    </tr>\n    <tr>\n      <th>168876</th>\n      <td>SOIL_ID_t_ece0594e0480a1ed____c7_0____3.csv</td>\n      <td>attr</td>\n      <td>2.403848e-07</td>\n      <td>NaN</td>\n      <td>NaN</td>\n    </tr>\n    <tr>\n      <th>168877</th>\n      <td>MODIFIER_t_ece0594e0480a1ed____c7_0____4.csv</td>\n      <td>attr</td>\n      <td>7.175429e-10</td>\n      <td>NaN</td>\n      <td>NaN</td>\n    </tr>\n    <tr>\n      <th>168878</th>\n      <td>SOIL_CODE_t_ece0594e0480a1ed____c7_0____4.csv</td>\n      <td>attr</td>\n      <td>3.707436e-07</td>\n      <td>NaN</td>\n      <td>NaN</td>\n    </tr>\n    <tr>\n      <th>168879</th>\n      <td>SOIL_ID_t_ece0594e0480a1ed____c7_0____4.csv</td>\n      <td>attr</td>\n      <td>4.017664e-07</td>\n      <td>NaN</td>\n      <td>NaN</td>\n    </tr>\n  </tbody>\n</table>\n<p>168880 rows × 5 columns</p>\n</div>"
     },
     "metadata": {},
     "execution_count": 11
    }
   ],
   "source": [
    "# Statistics for TUS injected dataset\n",
    "\n",
    "TUS_injected_graph = pickle.load(open('../graph_construction/combined_graphs_output/TUS_no_homographs/bipartite/bipartite.graph', 'rb'))\n",
    "\n",
    "cell_nodes = {n for n, d in TUS_injected_graph.nodes(data=True) if d['type']=='cell'}\n",
    "attribute_nodes = {n for n, d in TUS_injected_graph.nodes(data=True) if d['type']=='attr'}\n",
    "\n",
    "# Synthetic example dataframe\n",
    "TUS_injected_df = pickle.load(open('output/TUS_no_homographs/graph_stats_with_groundtruth_df.pickle', 'rb'))\n",
    "TUS_injected_df"
   ]
  },
  {
   "cell_type": "code",
   "execution_count": 12,
   "metadata": {
    "tags": []
   },
   "outputs": [
    {
     "output_type": "stream",
     "name": "stdout",
     "text": [
      "Nodes: 168880\nEdges: 3094278\nCell Values: 163860\nAttributes: 5020\n"
     ]
    }
   ],
   "source": [
    "print('Nodes:', TUS_injected_graph.number_of_nodes())\n",
    "print('Edges:', TUS_injected_graph.number_of_edges())\n",
    "print('Cell Values:', len(cell_nodes))\n",
    "print('Attributes:', len(attribute_nodes))"
   ]
  },
  {
   "source": [
    "# Table Union Search"
   ],
   "cell_type": "markdown",
   "metadata": {}
  },
  {
   "cell_type": "code",
   "execution_count": 14,
   "metadata": {
    "tags": []
   },
   "outputs": [
    {
     "output_type": "stream",
     "name": "stderr",
     "text": [
      "100%|██████████| 26035/26035 [08:54<00:00, 48.75it/s] \n"
     ]
    }
   ],
   "source": [
    "# Statistics for TUS injected dataset\n",
    "\n",
    "TUS_graph = pickle.load(open('../graph_construction/combined_graphs_output/TUS/bipartite/bipartite.graph', 'rb'))\n",
    "\n",
    "cell_nodes = {n for n, d in TUS_graph.nodes(data=True) if d['type']=='cell'}\n",
    "attribute_nodes = {n for n, d in TUS_graph.nodes(data=True) if d['type']=='attr'}\n",
    "\n",
    "# Synthetic example dataframe\n",
    "TUS_df = pickle.load(open('output/TUS/graph_stats_with_groundtruth_df.pickle', 'rb'))\n",
    "homographs_list = TUS_df[TUS_df['is_homograph'] == True]['node'].values\n",
    "\n",
    "cardinality_of_homographs = {}\n",
    "for homograph in tqdm(homographs_list):\n",
    "    cardinality_of_homographs[homograph] = utils.graph_helpers.get_cardinality_of_homograph(TUS_graph, homograph)"
   ]
  },
  {
   "cell_type": "code",
   "execution_count": 15,
   "metadata": {},
   "outputs": [],
   "source": [
    "cardinality_of_homographs_list = list(cardinality_of_homographs.values())"
   ]
  },
  {
   "cell_type": "code",
   "execution_count": 16,
   "metadata": {
    "tags": []
   },
   "outputs": [
    {
     "output_type": "stream",
     "name": "stdout",
     "text": [
      "Nodes: 200258\nEdges: 4150563\nCell Values: 190399\nAttributes: 9859\nNumber of homographs: 26035\nMinimum cardinality of a homograph: 3\nMaximum cardinality of a homograph: 22703\n"
     ]
    }
   ],
   "source": [
    "print('Nodes:', TUS_graph.number_of_nodes())\n",
    "print('Edges:', TUS_graph.number_of_edges())\n",
    "print('Cell Values:', len(cell_nodes))\n",
    "print('Attributes:', len(attribute_nodes))\n",
    "print('Number of homographs:', len(homographs_list))\n",
    "print('Minimum cardinality of a homograph:', min(cardinality_of_homographs_list))\n",
    "print('Maximum cardinality of a homograph:', max(cardinality_of_homographs_list))"
   ]
  },
  {
   "cell_type": "code",
   "execution_count": 47,
   "metadata": {
    "tags": []
   },
   "outputs": [
    {
     "output_type": "stream",
     "name": "stdout",
     "text": "Max number of homograph meanings: 100\nMin number of homograph meanings: 2\n"
    }
   ],
   "source": [
    "import math\n",
    "homograph_to_num_meanings_dict = pickle.load(open('homograph_to_num_meanings_dict.pickle', 'rb'))\n",
    "\n",
    "min_number_of_meanings = math.inf\n",
    "max_number_of_meanings = 0\n",
    "\n",
    "for homograph in homograph_to_num_meanings_dict:\n",
    "    if homograph_to_num_meanings_dict[homograph] > max_number_of_meanings:\n",
    "        max_number_of_meanings = homograph_to_num_meanings_dict[homograph]\n",
    "    if homograph_to_num_meanings_dict[homograph] < min_number_of_meanings:\n",
    "        min_number_of_meanings = homograph_to_num_meanings_dict[homograph]\n",
    "\n",
    "print('Max number of homograph meanings:', max_number_of_meanings)\n",
    "print('Min number of homograph meanings:', min_number_of_meanings)\n",
    "\n"
   ]
  }
 ]
}