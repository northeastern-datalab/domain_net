{
 "cells": [
  {
   "cell_type": "code",
   "execution_count": 1,
   "metadata": {},
   "outputs": [],
   "source": [
    "import networkx as nx\n",
    "import matplotlib.pyplot as plt\n",
    "import altair as alt\n",
    "import pandas as pd\n",
    "import numpy as np\n",
    "\n",
    "import pickle\n",
    "\n",
    "from timeit import default_timer as timer"
   ]
  },
  {
   "cell_type": "markdown",
   "metadata": {},
   "source": [
    "# Helper Functions"
   ]
  },
  {
   "cell_type": "code",
   "execution_count": 2,
   "metadata": {},
   "outputs": [],
   "source": [
    "def get_graph_statistics(G, mode='cell_values_only'):\n",
    "    '''\n",
    "    Returns a pandas dataframe of relevant statistical measurements on the graph\n",
    "    Each row corresponds to one node in the graph\n",
    "    '''\n",
    "    print('Input graph has:', len(G.nodes()), 'nodes and', len(G.edges()), 'edges.')\n",
    "\n",
    "    density = nx.function.density(G)\n",
    "    print('Density:', density)\n",
    "\n",
    "    # Calculate various measures on a per-node level\n",
    "    if mode == 'cell_values_only':\n",
    "        print('Calculating local clustering coefficient...')\n",
    "        local_clustering_coefficient = nx.algorithms.cluster.clustering(G)\n",
    "        print('Calculating betweeness centrality...')\n",
    "        betweenness_centrality = nx.algorithms.centrality.betweenness_centrality(G)\n",
    "    elif mode == 'bipartite':\n",
    "        start = timer()\n",
    "        print('Calculating local clustering coefficient using dot mode...')\n",
    "        local_clustering_coefficient = nx.algorithms.bipartite.cluster.clustering(G)\n",
    "        print('Finished calculating local clustering coefficient using dot mode')\n",
    "        print('Elapsed time:', timer()-start, 'seconds\\n')\n",
    "\n",
    "        start = timer()\n",
    "        cell_nodes = {n for n, d in G.nodes(data=True) if d['type']=='cell'}\n",
    "        # TODO: betweeness takes a lot of time\n",
    "        print('Calculating betweeness centrality...')\n",
    "        betweenness_centrality = nx.algorithms.bipartite.centrality.betweenness_centrality(G, nodes=cell_nodes)\n",
    "        print('Finished calculating betweeness centrality')\n",
    "        print('Elapsed time:', timer()-start, 'seconds\\n')\n",
    "\n",
    "    # Construct the dataframe\n",
    "    df = pd.DataFrame()\n",
    "    df['node'] = local_clustering_coefficient.keys()\n",
    "    df['local_clustering_coefficient'] = local_clustering_coefficient.values()\n",
    "    df['betweenness_centrality'] = betweenness_centrality.values()\n",
    "\n",
    "    return df\n",
    "\n",
    "def get_homographs_and_identical_values(df_pairs):\n",
    "    '''\n",
    "    Given the pairs of instance cell nodes return a list of the global_cell values\n",
    "    that are identified as homographs and as identical values\n",
    "\n",
    "    Returns\n",
    "    -------\n",
    "    homographs_list: list of global cell values that are homographs\n",
    "\n",
    "    identical_list: list of global cell values that are identical words\n",
    "    '''\n",
    "    df_homograph_pairs = df_pairs.loc[df_pairs['same_column'] == False]\n",
    "    df_identical_pairs = df_pairs.loc[df_pairs['same_column'] == True]\n",
    "\n",
    "    # All global cell values in `df_homograph_pairs` are homographs\n",
    "    homographs_set = set(df_homograph_pairs['global_cell_val'].unique())\n",
    "\n",
    "    # Some cell values in df_identical_pairs can still be homographs (e.g. jaguar_animal_1, jaguar_animal_2) they \n",
    "    # are identical instances but there exists a jaguar instance with a car meaning\n",
    "    identical_set = set(df_identical_pairs['global_cell_val'].unique()) - homographs_set\n",
    "\n",
    "    print('There are:', len(homographs_set), 'homograph words')\n",
    "    print('There are:', len(identical_set), 'identical words')\n",
    "\n",
    "    return list(homographs_set), list(identical_set)\n",
    "\n",
    "def get_LCC_from_graph(G, graph_type='bipartite', mode='dot'):\n",
    "    '''\n",
    "    Return a dictionary of the LCC scores for each node in graph G\n",
    "\n",
    "    Arguments\n",
    "    -------\n",
    "        G (networkx graph): a networkx graph to be analyzed\n",
    "\n",
    "        graph_type (str): representation of the input graph\n",
    "        must be one of {bipartite, cell_graph} \n",
    "       \n",
    "    Returns\n",
    "    -------\n",
    "    python dictionary keyed by node name mapping to its LCC score\n",
    "    '''\n",
    "    print('Input graph has:', G.number_of_nodes(), 'nodes and', G.number_of_edges(), 'edges.')\n",
    "\n",
    "    density = nx.function.density(G)\n",
    "    print('Density:', density, '\\n')\n",
    "\n",
    "    # Calculate various measures on a per-node level\n",
    "    if graph_type == 'cell_graph':\n",
    "        start = timer()\n",
    "        print('Calculating local clustering coefficient...')\n",
    "        local_clustering_coefficient = nx.algorithms.cluster.clustering(G)\n",
    "        print('Finished calculating local clustering coefficient \\n Elapsed time:', timer()-start, 'seconds\\n')\n",
    "    elif graph_type == 'bipartite':\n",
    "        # Find how many cell nodes only appear in one column (i.e. they have degree of 1)\n",
    "        cell_nodes = {n for n, d in G.nodes(data=True) if d['type']=='cell'}\n",
    "        degree_view = G.degree(cell_nodes)\n",
    "\n",
    "        num_nodes_with_degree_greater_than_one = 0\n",
    "        for node in cell_nodes:\n",
    "            if degree_view[node] > 1:\n",
    "                num_nodes_with_degree_greater_than_one += 1\n",
    "\n",
    "        print('There are', num_nodes_with_degree_greater_than_one, 'cell nodes with degree greater than one. That is',\\\n",
    "        str(num_nodes_with_degree_greater_than_one / len(cell_nodes) * 100) + '% of all cell nodes.')\n",
    "\n",
    "        if mode == 'dot':\n",
    "            start = timer()\n",
    "            print('Calculating local clustering coefficient using dot mode...')\n",
    "            local_clustering_coefficient = nx.algorithms.bipartite.cluster.clustering(G, mode='dot')\n",
    "            print('Finished calculating local clustering coefficient using dot mode')\n",
    "            print('Elapsed time:', timer()-start, 'seconds\\n')\n",
    "        elif mode == 'min':\n",
    "            start = timer()\n",
    "            print('Calculating local clustering coefficient using min mode...')\n",
    "            local_clustering_coefficient = nx.algorithms.bipartite.cluster.clustering(G, mode='min')\n",
    "            print('Finished calculating local clustering coefficient using min mode')\n",
    "            print('Elapsed time:', timer()-start, 'seconds\\n')\n",
    "        elif mode == 'max':\n",
    "            start = timer()\n",
    "            print('Calculating local clustering coefficient using max mode...')\n",
    "            local_clustering_coefficient = nx.algorithms.bipartite.cluster.clustering(G, mode='max')\n",
    "            print('Finished calculating local clustering coefficient using max mode')\n",
    "            print('Elapsed time:', timer()-start, 'seconds\\n')\n",
    "\n",
    "    return local_clustering_coefficient"
   ]
  },
  {
   "cell_type": "markdown",
   "metadata": {},
   "source": [
    "# Synthetic Benchmark (Bipartite Graph)"
   ]
  },
  {
   "cell_type": "code",
   "execution_count": 3,
   "metadata": {
    "tags": []
   },
   "outputs": [
    {
     "output_type": "stream",
     "name": "stdout",
     "text": [
      "Input graph has: 17672 nodes and 19473 edges.\n",
      "Density: 0.00012471423577040222 \n",
      "\n",
      "There are 1230 cell nodes with degree greater than one. That is 6.975557193897805% of all cell nodes.\n",
      "Calculating local clustering coefficient using dot mode...\n",
      "Finished calculating local clustering coefficient using dot mode\n",
      "Elapsed time: 43.53467349999846 seconds\n",
      "\n"
     ]
    }
   ],
   "source": [
    "synthetic_bipartite_graph = pickle.load(open('../graph_construction/combined_graphs_output/synthetic_benchmark_bipartite/bipartite/bipartite.graph', 'rb'))\n",
    "LCC_dict = get_LCC_from_graph(synthetic_bipartite_graph, graph_type='bipartite', mode='dot')"
   ]
  },
  {
   "cell_type": "code",
   "execution_count": 4,
   "metadata": {
    "tags": []
   },
   "outputs": [
    {
     "output_type": "execute_result",
     "data": {
      "text/plain": [
       "                               node node_type  betweenness_centrality  \\\n",
       "2                             Noyon      cell            0.000000e+00   \n",
       "3                            France      cell            2.495051e-07   \n",
       "4                          Maputsoe      cell            0.000000e+00   \n",
       "5                           Lesotho      cell            1.169126e-08   \n",
       "6                          Yunxiang      cell            0.000000e+00   \n",
       "...                             ...       ...                     ...   \n",
       "17667  20,000 Leagues Under the Sea      cell            0.000000e+00   \n",
       "17668        Adventure|Drama|Sci-Fi      cell            0.000000e+00   \n",
       "17669                        Marius      cell            0.000000e+00   \n",
       "17670              The Natural Love      cell            0.000000e+00   \n",
       "17671                          Amen      cell            0.000000e+00   \n",
       "\n",
       "       local_clustering_coefficient  \n",
       "2                          0.995842  \n",
       "3                          0.631939  \n",
       "4                          0.995842  \n",
       "5                          0.314896  \n",
       "6                          0.995842  \n",
       "...                             ...  \n",
       "17667                      0.997060  \n",
       "17668                      1.000000  \n",
       "17669                      0.997060  \n",
       "17670                      0.997060  \n",
       "17671                      0.997060  \n",
       "\n",
       "[17633 rows x 4 columns]"
      ],
      "text/html": "<div>\n<style scoped>\n    .dataframe tbody tr th:only-of-type {\n        vertical-align: middle;\n    }\n\n    .dataframe tbody tr th {\n        vertical-align: top;\n    }\n\n    .dataframe thead th {\n        text-align: right;\n    }\n</style>\n<table border=\"1\" class=\"dataframe\">\n  <thead>\n    <tr style=\"text-align: right;\">\n      <th></th>\n      <th>node</th>\n      <th>node_type</th>\n      <th>betweenness_centrality</th>\n      <th>local_clustering_coefficient</th>\n    </tr>\n  </thead>\n  <tbody>\n    <tr>\n      <th>2</th>\n      <td>Noyon</td>\n      <td>cell</td>\n      <td>0.000000e+00</td>\n      <td>0.995842</td>\n    </tr>\n    <tr>\n      <th>3</th>\n      <td>France</td>\n      <td>cell</td>\n      <td>2.495051e-07</td>\n      <td>0.631939</td>\n    </tr>\n    <tr>\n      <th>4</th>\n      <td>Maputsoe</td>\n      <td>cell</td>\n      <td>0.000000e+00</td>\n      <td>0.995842</td>\n    </tr>\n    <tr>\n      <th>5</th>\n      <td>Lesotho</td>\n      <td>cell</td>\n      <td>1.169126e-08</td>\n      <td>0.314896</td>\n    </tr>\n    <tr>\n      <th>6</th>\n      <td>Yunxiang</td>\n      <td>cell</td>\n      <td>0.000000e+00</td>\n      <td>0.995842</td>\n    </tr>\n    <tr>\n      <th>...</th>\n      <td>...</td>\n      <td>...</td>\n      <td>...</td>\n      <td>...</td>\n    </tr>\n    <tr>\n      <th>17667</th>\n      <td>20,000 Leagues Under the Sea</td>\n      <td>cell</td>\n      <td>0.000000e+00</td>\n      <td>0.997060</td>\n    </tr>\n    <tr>\n      <th>17668</th>\n      <td>Adventure|Drama|Sci-Fi</td>\n      <td>cell</td>\n      <td>0.000000e+00</td>\n      <td>1.000000</td>\n    </tr>\n    <tr>\n      <th>17669</th>\n      <td>Marius</td>\n      <td>cell</td>\n      <td>0.000000e+00</td>\n      <td>0.997060</td>\n    </tr>\n    <tr>\n      <th>17670</th>\n      <td>The Natural Love</td>\n      <td>cell</td>\n      <td>0.000000e+00</td>\n      <td>0.997060</td>\n    </tr>\n    <tr>\n      <th>17671</th>\n      <td>Amen</td>\n      <td>cell</td>\n      <td>0.000000e+00</td>\n      <td>0.997060</td>\n    </tr>\n  </tbody>\n</table>\n<p>17633 rows × 4 columns</p>\n</div>"
     },
     "metadata": {},
     "execution_count": 4
    }
   ],
   "source": [
    "# Load dataframe of graph statistics from file\n",
    "synthetic_bipartite_graph_stats_df = pickle.load(open('output/synthetic_example_bipartite/graph_stats_df.pickle', 'rb'))\n",
    "\n",
    "# Assign LCC scores to each value in the dataframe\n",
    "synthetic_bipartite_graph_stats_df['local_clustering_coefficient'] = np.nan\n",
    "for idx in synthetic_bipartite_graph_stats_df.index:\n",
    "    node = synthetic_bipartite_graph_stats_df.at[idx, 'node']\n",
    "    synthetic_bipartite_graph_stats_df.at[idx, 'local_clustering_coefficient'] = LCC_dict[node]\n",
    "\n",
    "# Remove all attribute nodes from the data frame. We only want to analyze nodes of type cell\n",
    "cell_nodes = {n for n, d in synthetic_bipartite_graph.nodes(data=True) if d['type']=='cell'}\n",
    "synthetic_bipartite_graph_stats_df = synthetic_bipartite_graph_stats_df.loc[synthetic_bipartite_graph_stats_df['node'].isin(cell_nodes)]\n",
    "synthetic_bipartite_graph_stats_df"
   ]
  },
  {
   "cell_type": "code",
   "execution_count": 5,
   "metadata": {},
   "outputs": [
    {
     "output_type": "execute_result",
     "data": {
      "text/plain": [
       "          node node_type  betweenness_centrality  \\\n",
       "3       France      cell            2.495051e-07   \n",
       "5      Lesotho      cell            1.169126e-08   \n",
       "7        China      cell            2.495051e-07   \n",
       "10      Sweden      cell            2.495051e-07   \n",
       "11      Sydney      cell            9.810583e-03   \n",
       "...        ...       ...                     ...   \n",
       "15332       MM      cell            3.259492e-08   \n",
       "15392       AI      cell            3.259492e-08   \n",
       "15533       CG      cell            3.259492e-08   \n",
       "15547       SV      cell            3.259492e-08   \n",
       "16168  Pumpkin      cell            9.196032e-03   \n",
       "\n",
       "       local_clustering_coefficient       is_homograph  \n",
       "3                          0.631939  unambiguous value  \n",
       "5                          0.314896  unambiguous value  \n",
       "7                          0.631939  unambiguous value  \n",
       "10                         0.631939  unambiguous value  \n",
       "11                         0.498839          homograph  \n",
       "...                             ...                ...  \n",
       "15332                      0.572296  unambiguous value  \n",
       "15392                      0.572296  unambiguous value  \n",
       "15533                      0.572296  unambiguous value  \n",
       "15547                      0.572296  unambiguous value  \n",
       "16168                      0.499417          homograph  \n",
       "\n",
       "[1230 rows x 5 columns]"
      ],
      "text/html": "<div>\n<style scoped>\n    .dataframe tbody tr th:only-of-type {\n        vertical-align: middle;\n    }\n\n    .dataframe tbody tr th {\n        vertical-align: top;\n    }\n\n    .dataframe thead th {\n        text-align: right;\n    }\n</style>\n<table border=\"1\" class=\"dataframe\">\n  <thead>\n    <tr style=\"text-align: right;\">\n      <th></th>\n      <th>node</th>\n      <th>node_type</th>\n      <th>betweenness_centrality</th>\n      <th>local_clustering_coefficient</th>\n      <th>is_homograph</th>\n    </tr>\n  </thead>\n  <tbody>\n    <tr>\n      <th>3</th>\n      <td>France</td>\n      <td>cell</td>\n      <td>2.495051e-07</td>\n      <td>0.631939</td>\n      <td>unambiguous value</td>\n    </tr>\n    <tr>\n      <th>5</th>\n      <td>Lesotho</td>\n      <td>cell</td>\n      <td>1.169126e-08</td>\n      <td>0.314896</td>\n      <td>unambiguous value</td>\n    </tr>\n    <tr>\n      <th>7</th>\n      <td>China</td>\n      <td>cell</td>\n      <td>2.495051e-07</td>\n      <td>0.631939</td>\n      <td>unambiguous value</td>\n    </tr>\n    <tr>\n      <th>10</th>\n      <td>Sweden</td>\n      <td>cell</td>\n      <td>2.495051e-07</td>\n      <td>0.631939</td>\n      <td>unambiguous value</td>\n    </tr>\n    <tr>\n      <th>11</th>\n      <td>Sydney</td>\n      <td>cell</td>\n      <td>9.810583e-03</td>\n      <td>0.498839</td>\n      <td>homograph</td>\n    </tr>\n    <tr>\n      <th>...</th>\n      <td>...</td>\n      <td>...</td>\n      <td>...</td>\n      <td>...</td>\n      <td>...</td>\n    </tr>\n    <tr>\n      <th>15332</th>\n      <td>MM</td>\n      <td>cell</td>\n      <td>3.259492e-08</td>\n      <td>0.572296</td>\n      <td>unambiguous value</td>\n    </tr>\n    <tr>\n      <th>15392</th>\n      <td>AI</td>\n      <td>cell</td>\n      <td>3.259492e-08</td>\n      <td>0.572296</td>\n      <td>unambiguous value</td>\n    </tr>\n    <tr>\n      <th>15533</th>\n      <td>CG</td>\n      <td>cell</td>\n      <td>3.259492e-08</td>\n      <td>0.572296</td>\n      <td>unambiguous value</td>\n    </tr>\n    <tr>\n      <th>15547</th>\n      <td>SV</td>\n      <td>cell</td>\n      <td>3.259492e-08</td>\n      <td>0.572296</td>\n      <td>unambiguous value</td>\n    </tr>\n    <tr>\n      <th>16168</th>\n      <td>Pumpkin</td>\n      <td>cell</td>\n      <td>9.196032e-03</td>\n      <td>0.499417</td>\n      <td>homograph</td>\n    </tr>\n  </tbody>\n</table>\n<p>1230 rows × 5 columns</p>\n</div>"
     },
     "metadata": {},
     "execution_count": 5
    }
   ],
   "source": [
    "# Filter to only include cell values with more than 1 degree. All other cell nodes cannot be homographs\n",
    "cell_nodes = synthetic_bipartite_graph_stats_df['node'].values\n",
    "nodes_with_degree_greater_than_1 = [n for n in cell_nodes if synthetic_bipartite_graph.degree[n] > 1]\n",
    "synthetic_bipartite_graph_stats_df = synthetic_bipartite_graph_stats_df.loc[synthetic_bipartite_graph_stats_df['node'].isin(nodes_with_degree_greater_than_1)]\n",
    "\n",
    "# Based on the ground truth label each node as homograph or unambiguous value\n",
    "groundtruth_synthetic = pickle.load(open('ground_truth/synthetic_example_groundtruth_dict.pickle', 'rb'))\n",
    "synthetic_bipartite_graph_stats_df['is_homograph'] = synthetic_bipartite_graph_stats_df['node'].map(groundtruth_synthetic)\n",
    "synthetic_bipartite_graph_stats_df"
   ]
  },
  {
   "cell_type": "code",
   "execution_count": 6,
   "metadata": {},
   "outputs": [],
   "source": [
    "from pathlib import Path\n",
    "# Create output directory for figures\n",
    "Path(\"figures/synthetic_dataset\").mkdir(parents=True, exist_ok=True)"
   ]
  },
  {
   "cell_type": "code",
   "execution_count": 7,
   "metadata": {},
   "outputs": [
    {
     "output_type": "execute_result",
     "data": {
      "text/html": "\n<div id=\"altair-viz-123902b7d3cf4fdb9aac71340d6d1543\"></div>\n<script type=\"text/javascript\">\n  (function(spec, embedOpt){\n    let outputDiv = document.currentScript.previousElementSibling;\n    if (outputDiv.id !== \"altair-viz-123902b7d3cf4fdb9aac71340d6d1543\") {\n      outputDiv = document.getElementById(\"altair-viz-123902b7d3cf4fdb9aac71340d6d1543\");\n    }\n    const paths = {\n      \"vega\": \"https://cdn.jsdelivr.net/npm//vega@5?noext\",\n      \"vega-lib\": \"https://cdn.jsdelivr.net/npm//vega-lib?noext\",\n      \"vega-lite\": \"https://cdn.jsdelivr.net/npm//vega-lite@4.8.1?noext\",\n      \"vega-embed\": \"https://cdn.jsdelivr.net/npm//vega-embed@6?noext\",\n    };\n\n    function loadScript(lib) {\n      return new Promise(function(resolve, reject) {\n        var s = document.createElement('script');\n        s.src = paths[lib];\n        s.async = true;\n        s.onload = () => resolve(paths[lib]);\n        s.onerror = () => reject(`Error loading script: ${paths[lib]}`);\n        document.getElementsByTagName(\"head\")[0].appendChild(s);\n      });\n    }\n\n    function showError(err) {\n      outputDiv.innerHTML = `<div class=\"error\" style=\"color:red;\">${err}</div>`;\n      throw err;\n    }\n\n    function displayChart(vegaEmbed) {\n      vegaEmbed(outputDiv, spec, embedOpt)\n        .catch(err => showError(`Javascript Error: ${err.message}<br>This usually means there's a typo in your chart specification. See the javascript console for the full traceback.`));\n    }\n\n    if(typeof define === \"function\" && define.amd) {\n      requirejs.config({paths});\n      require([\"vega-embed\"], displayChart, err => showError(`Error loading script: ${err.message}`));\n    } else if (typeof vegaEmbed === \"function\") {\n      displayChart(vegaEmbed);\n    } else {\n      loadScript(\"vega\")\n        .then(() => loadScript(\"vega-lite\"))\n        .then(() => loadScript(\"vega-embed\"))\n        .catch(showError)\n        .then(() => displayChart(vegaEmbed));\n    }\n  })({\"config\": {\"view\": {\"continuousWidth\": 400, \"continuousHeight\": 300}, \"axis\": {\"labelLimit\": 450}, \"legend\": {\"cornerRadius\": 10, \"fillColor\": \"#EEEEEE\", \"labelFontSize\": 38, \"orient\": \"top-right\", \"padding\": 10, \"strokeColor\": \"gray\", \"symbolSize\": 700, \"titleFontSize\": 35}}, \"data\": {\"name\": \"data-5dec14494a0b19bb6f774efcf3d4678c\"}, \"mark\": {\"type\": \"bar\", \"size\": 20}, \"encoding\": {\"color\": {\"type\": \"nominal\", \"field\": \"is_homograph\", \"legend\": {\"labelLimit\": 500, \"title\": \"Value Type\", \"titleLimit\": 0}}, \"x\": {\"type\": \"nominal\", \"axis\": {\"labelAngle\": -40, \"labelFontSize\": 30, \"title\": \"\"}, \"field\": \"node\", \"sort\": \"-y\"}, \"y\": {\"type\": \"quantitative\", \"axis\": {\"labelFontSize\": 28, \"tickCount\": 8, \"title\": \"Betweenness Centrality\", \"titleFontSize\": 30}, \"field\": \"betweenness_centrality\"}}, \"height\": 600, \"title\": \"\", \"width\": 2800, \"$schema\": \"https://vega.github.io/schema/vega-lite/v4.8.1.json\", \"datasets\": {\"data-5dec14494a0b19bb6f774efcf3d4678c\": [{\"node\": \"Jaguar\", \"node_type\": \"cell\", \"betweenness_centrality\": 0.05434441916450321, \"local_clustering_coefficient\": 0.43213572854291077, \"is_homograph\": \"homograph\"}, {\"node\": \"Mace\", \"node_type\": \"cell\", \"betweenness_centrality\": 0.032803185535055276, \"local_clustering_coefficient\": 0.4980794453813005, \"is_homograph\": \"homograph\"}, {\"node\": \"Lincoln\", \"node_type\": \"cell\", \"betweenness_centrality\": 0.03212017096928377, \"local_clustering_coefficient\": 0.4983164983164983, \"is_homograph\": \"homograph\"}, {\"node\": \"Heather\", \"node_type\": \"cell\", \"betweenness_centrality\": 0.0296526989596654, \"local_clustering_coefficient\": 0.49405368671423755, \"is_homograph\": \"homograph\"}, {\"node\": \"Leandra\", \"node_type\": \"cell\", \"betweenness_centrality\": 0.026114852852671233, \"local_clustering_coefficient\": 0.4934923130677851, \"is_homograph\": \"homograph\"}, {\"node\": \"Charity\", \"node_type\": \"cell\", \"betweenness_centrality\": 0.026114852852671233, \"local_clustering_coefficient\": 0.4934923130677851, \"is_homograph\": \"homograph\"}, {\"node\": \"Ram\", \"node_type\": \"cell\", \"betweenness_centrality\": 0.025394563689343497, \"local_clustering_coefficient\": 0.4960627590290113, \"is_homograph\": \"homograph\"}, {\"node\": \"Phoenix\", \"node_type\": \"cell\", \"betweenness_centrality\": 0.021940034186072273, \"local_clustering_coefficient\": 0.4984026010743569, \"is_homograph\": \"homograph\"}, {\"node\": \"Elan\", \"node_type\": \"cell\", \"betweenness_centrality\": 0.016661374806222328, \"local_clustering_coefficient\": 0.49758582502768567, \"is_homograph\": \"homograph\"}, {\"node\": \"Jimmy\", \"node_type\": \"cell\", \"betweenness_centrality\": 0.016307987342897904, \"local_clustering_coefficient\": 0.4965339739190117, \"is_homograph\": \"homograph\"}, {\"node\": \"Crossfire\", \"node_type\": \"cell\", \"betweenness_centrality\": 0.015471727020072483, \"local_clustering_coefficient\": 0.49819537658463836, \"is_homograph\": \"homograph\"}, {\"node\": \"Nadine\", \"node_type\": \"cell\", \"betweenness_centrality\": 0.013733952634639826, \"local_clustering_coefficient\": 0.49828014799398784, \"is_homograph\": \"homograph\"}, {\"node\": \"Smitty\", \"node_type\": \"cell\", \"betweenness_centrality\": 0.013733952634639826, \"local_clustering_coefficient\": 0.49828014799398784, \"is_homograph\": \"homograph\"}, {\"node\": \"Virginia\", \"node_type\": \"cell\", \"betweenness_centrality\": 0.012066803467345594, \"local_clustering_coefficient\": 0.3329886737303639, \"is_homograph\": \"homograph\"}, {\"node\": \"Sydney\", \"node_type\": \"cell\", \"betweenness_centrality\": 0.009810582844805113, \"local_clustering_coefficient\": 0.4988389643562059, \"is_homograph\": \"homograph\"}, {\"node\": \"Elmira\", \"node_type\": \"cell\", \"betweenness_centrality\": 0.009810582844805113, \"local_clustering_coefficient\": 0.4988389643562059, \"is_homograph\": \"homograph\"}, {\"node\": \"Quinta\", \"node_type\": \"cell\", \"betweenness_centrality\": 0.009810582844805113, \"local_clustering_coefficient\": 0.4988389643562059, \"is_homograph\": \"homograph\"}, {\"node\": \"Jamaica\", \"node_type\": \"cell\", \"betweenness_centrality\": 0.00934929341297902, \"local_clustering_coefficient\": 0.19592513113972343, \"is_homograph\": \"homograph\"}, {\"node\": \"Pumpkin\", \"node_type\": \"cell\", \"betweenness_centrality\": 0.00919603212554278, \"local_clustering_coefficient\": 0.49941746382143726, \"is_homograph\": \"homograph\"}, {\"node\": \"Cuba\", \"node_type\": \"cell\", \"betweenness_centrality\": 0.006394042232732996, \"local_clustering_coefficient\": 0.19559493310560777, \"is_homograph\": \"homograph\"}, {\"node\": \"GT\", \"node_type\": \"cell\", \"betweenness_centrality\": 0.0053362963490488835, \"local_clustering_coefficient\": 0.32272727272727253, \"is_homograph\": \"homograph\"}, {\"node\": \"Garvey\", \"node_type\": \"cell\", \"betweenness_centrality\": 0.0021909754884387434, \"local_clustering_coefficient\": 0.5008203799654577, \"is_homograph\": \"homograph\"}, {\"node\": \"Vinson\", \"node_type\": \"cell\", \"betweenness_centrality\": 0.0021909754884387434, \"local_clustering_coefficient\": 0.5008203799654577, \"is_homograph\": \"homograph\"}, {\"node\": \"Else\", \"node_type\": \"cell\", \"betweenness_centrality\": 0.0021909754884387434, \"local_clustering_coefficient\": 0.5008203799654577, \"is_homograph\": \"homograph\"}, {\"node\": \"Duff\", \"node_type\": \"cell\", \"betweenness_centrality\": 0.0021909754884387434, \"local_clustering_coefficient\": 0.5008203799654577, \"is_homograph\": \"homograph\"}, {\"node\": \"Christophe\", \"node_type\": \"cell\", \"betweenness_centrality\": 0.0021909754884387434, \"local_clustering_coefficient\": 0.5008203799654577, \"is_homograph\": \"homograph\"}, {\"node\": \"Reid\", \"node_type\": \"cell\", \"betweenness_centrality\": 0.0021909754884387434, \"local_clustering_coefficient\": 0.5008203799654577, \"is_homograph\": \"homograph\"}, {\"node\": \"Costanza\", \"node_type\": \"cell\", \"betweenness_centrality\": 0.0021909754884387434, \"local_clustering_coefficient\": 0.5008203799654577, \"is_homograph\": \"homograph\"}, {\"node\": \"Berkeley\", \"node_type\": \"cell\", \"betweenness_centrality\": 0.0021909754884387434, \"local_clustering_coefficient\": 0.5008203799654577, \"is_homograph\": \"homograph\"}, {\"node\": \"Conroy\", \"node_type\": \"cell\", \"betweenness_centrality\": 0.0021909754884387434, \"local_clustering_coefficient\": 0.5008203799654577, \"is_homograph\": \"homograph\"}, {\"node\": \"ES\", \"node_type\": \"cell\", \"betweenness_centrality\": 0.0016026193810067756, \"local_clustering_coefficient\": 0.4571993670886076, \"is_homograph\": \"homograph\"}, {\"node\": \"TL\", \"node_type\": \"cell\", \"betweenness_centrality\": 0.0015526876879781335, \"local_clustering_coefficient\": 0.4563391442155308, \"is_homograph\": \"homograph\"}, {\"node\": \"California\", \"node_type\": \"cell\", \"betweenness_centrality\": 0.0009775387615197119, \"local_clustering_coefficient\": 0.4965943339361062, \"is_homograph\": \"homograph\"}, {\"node\": \"Colorado\", \"node_type\": \"cell\", \"betweenness_centrality\": 0.0009775387615197119, \"local_clustering_coefficient\": 0.4965943339361062, \"is_homograph\": \"homograph\"}, {\"node\": \"Georgia\", \"node_type\": \"cell\", \"betweenness_centrality\": 0.0009264464714507509, \"local_clustering_coefficient\": 0.3498360533571805, \"is_homograph\": \"homograph\"}, {\"node\": \"CT\", \"node_type\": \"cell\", \"betweenness_centrality\": 0.0008472891105083686, \"local_clustering_coefficient\": 0.48987341772151893, \"is_homograph\": \"homograph\"}, {\"node\": \"SC\", \"node_type\": \"cell\", \"betweenness_centrality\": 0.0008472891105083686, \"local_clustering_coefficient\": 0.48987341772151893, \"is_homograph\": \"homograph\"}, {\"node\": \"Florida\", \"node_type\": \"cell\", \"betweenness_centrality\": 0.0008094637453794234, \"local_clustering_coefficient\": 0.4964503042596347, \"is_homograph\": \"homograph\"}, {\"node\": \"Shieldplant\", \"node_type\": \"cell\", \"betweenness_centrality\": 0.0004196451302318238, \"local_clustering_coefficient\": 0.5152, \"is_homograph\": \"unambiguous value\"}, {\"node\": \"Coiled Anther\", \"node_type\": \"cell\", \"betweenness_centrality\": 0.0004196451302318238, \"local_clustering_coefficient\": 0.5152, \"is_homograph\": \"unambiguous value\"}, {\"node\": \"Hairy Grama\", \"node_type\": \"cell\", \"betweenness_centrality\": 0.0004196451302318238, \"local_clustering_coefficient\": 0.5152, \"is_homograph\": \"unambiguous value\"}, {\"node\": \"Hybrid Oak\", \"node_type\": \"cell\", \"betweenness_centrality\": 0.0004196451302318238, \"local_clustering_coefficient\": 0.5152, \"is_homograph\": \"unambiguous value\"}, {\"node\": \"Canyon Liveforever\", \"node_type\": \"cell\", \"betweenness_centrality\": 0.0004196451302318238, \"local_clustering_coefficient\": 0.5152, \"is_homograph\": \"unambiguous value\"}, {\"node\": \"Cracked Lichen\", \"node_type\": \"cell\", \"betweenness_centrality\": 0.0004196451302318238, \"local_clustering_coefficient\": 0.5152, \"is_homograph\": \"unambiguous value\"}, {\"node\": \"Orange Lichen\", \"node_type\": \"cell\", \"betweenness_centrality\": 0.0004196451302318238, \"local_clustering_coefficient\": 0.5152, \"is_homograph\": \"unambiguous value\"}, {\"node\": \"Kidney Lichen\", \"node_type\": \"cell\", \"betweenness_centrality\": 0.0004196451302318238, \"local_clustering_coefficient\": 0.5152, \"is_homograph\": \"unambiguous value\"}, {\"node\": \"Coastal Plain Dawnflower\", \"node_type\": \"cell\", \"betweenness_centrality\": 0.0004196451302318238, \"local_clustering_coefficient\": 0.5152, \"is_homograph\": \"unambiguous value\"}, {\"node\": \"California Blackberry\", \"node_type\": \"cell\", \"betweenness_centrality\": 0.0004196451302318238, \"local_clustering_coefficient\": 0.5152, \"is_homograph\": \"unambiguous value\"}, {\"node\": \"Tarweed\", \"node_type\": \"cell\", \"betweenness_centrality\": 0.0004196451302318238, \"local_clustering_coefficient\": 0.5152, \"is_homograph\": \"unambiguous value\"}, {\"node\": \"Dispersed Eggyolk Lichen\", \"node_type\": \"cell\", \"betweenness_centrality\": 0.0004196451302318238, \"local_clustering_coefficient\": 0.5152, \"is_homograph\": \"unambiguous value\"}, {\"node\": \"Pale Evening Primrose\", \"node_type\": \"cell\", \"betweenness_centrality\": 0.0004196451302318238, \"local_clustering_coefficient\": 0.5152, \"is_homograph\": \"unambiguous value\"}, {\"node\": \"Schaereria Lichen\", \"node_type\": \"cell\", \"betweenness_centrality\": 0.0004196451302318238, \"local_clustering_coefficient\": 0.5152, \"is_homograph\": \"unambiguous value\"}, {\"node\": \"Angelica Tree\", \"node_type\": \"cell\", \"betweenness_centrality\": 0.0004196451302318238, \"local_clustering_coefficient\": 0.5152, \"is_homograph\": \"unambiguous value\"}, {\"node\": \"Woodland Wild Coffee\", \"node_type\": \"cell\", \"betweenness_centrality\": 0.0004196451302318238, \"local_clustering_coefficient\": 0.5152, \"is_homograph\": \"unambiguous value\"}, {\"node\": \"Showy Rattlebox\", \"node_type\": \"cell\", \"betweenness_centrality\": 0.0004196451302318238, \"local_clustering_coefficient\": 0.5152, \"is_homograph\": \"unambiguous value\"}]}}, {\"mode\": \"vega-lite\"});\n</script>",
      "text/plain": [
       "alt.Chart(...)"
      ]
     },
     "metadata": {},
     "execution_count": 7
    }
   ],
   "source": [
    "# Rename node with long name for easy plotting\n",
    "synthetic_bipartite_graph_stats_df.at[3134, 'node'] = 'Coiled Anther'\n",
    "\n",
    "topk_graph = alt.Chart(synthetic_bipartite_graph_stats_df.nlargest(55, 'betweenness_centrality'), title='').mark_bar(size=20).encode(\n",
    "    x=alt.X('node:N', sort='-y', axis=alt.Axis(title='', labelAngle=-40, labelFontSize=30)),\n",
    "    y=alt.Y('betweenness_centrality:Q', axis=alt.Axis(title='Betweenness Centrality', labelFontSize=28, titleFontSize=30, tickCount=8)),\n",
    "    color=alt.Color('is_homograph:N', legend=alt.Legend(title='Value Type', titleLimit=0, labelLimit=500))\n",
    ").properties(width=2800, height=600)\n",
    "topk_graph = topk_graph.configure_axis(labelLimit=450)\n",
    "\n",
    "topk_graph = topk_graph.configure_legend(\n",
    "    labelFontSize=38,\n",
    "    symbolSize=700,\n",
    "    titleFontSize=35,\n",
    "    strokeColor='gray',\n",
    "    fillColor='#EEEEEE',\n",
    "    padding=10,\n",
    "    cornerRadius=10,\n",
    "    orient='top-right'\n",
    ")\n",
    "\n",
    "topk_graph.save('figures/synthetic_dataset/synthetic_bipartite_betweenness_topk_55_wide.svg')\n",
    "topk_graph"
   ]
  },
  {
   "cell_type": "markdown",
   "metadata": {},
   "source": [
    "## Identifying root cause of low betweenness for homograph nodes"
   ]
  },
  {
   "cell_type": "code",
   "execution_count": 8,
   "metadata": {},
   "outputs": [
    {
     "output_type": "execute_result",
     "data": {
      "text/html": "\n<div id=\"altair-viz-324d59eeab914e5e94b60e852be9a9fb\"></div>\n<script type=\"text/javascript\">\n  (function(spec, embedOpt){\n    let outputDiv = document.currentScript.previousElementSibling;\n    if (outputDiv.id !== \"altair-viz-324d59eeab914e5e94b60e852be9a9fb\") {\n      outputDiv = document.getElementById(\"altair-viz-324d59eeab914e5e94b60e852be9a9fb\");\n    }\n    const paths = {\n      \"vega\": \"https://cdn.jsdelivr.net/npm//vega@5?noext\",\n      \"vega-lib\": \"https://cdn.jsdelivr.net/npm//vega-lib?noext\",\n      \"vega-lite\": \"https://cdn.jsdelivr.net/npm//vega-lite@4.8.1?noext\",\n      \"vega-embed\": \"https://cdn.jsdelivr.net/npm//vega-embed@6?noext\",\n    };\n\n    function loadScript(lib) {\n      return new Promise(function(resolve, reject) {\n        var s = document.createElement('script');\n        s.src = paths[lib];\n        s.async = true;\n        s.onload = () => resolve(paths[lib]);\n        s.onerror = () => reject(`Error loading script: ${paths[lib]}`);\n        document.getElementsByTagName(\"head\")[0].appendChild(s);\n      });\n    }\n\n    function showError(err) {\n      outputDiv.innerHTML = `<div class=\"error\" style=\"color:red;\">${err}</div>`;\n      throw err;\n    }\n\n    function displayChart(vegaEmbed) {\n      vegaEmbed(outputDiv, spec, embedOpt)\n        .catch(err => showError(`Javascript Error: ${err.message}<br>This usually means there's a typo in your chart specification. See the javascript console for the full traceback.`));\n    }\n\n    if(typeof define === \"function\" && define.amd) {\n      requirejs.config({paths});\n      require([\"vega-embed\"], displayChart, err => showError(`Error loading script: ${err.message}`));\n    } else if (typeof vegaEmbed === \"function\") {\n      displayChart(vegaEmbed);\n    } else {\n      loadScript(\"vega\")\n        .then(() => loadScript(\"vega-lite\"))\n        .then(() => loadScript(\"vega-embed\"))\n        .catch(showError)\n        .then(() => displayChart(vegaEmbed));\n    }\n  })({\"config\": {\"view\": {\"continuousWidth\": 400, \"continuousHeight\": 300}, \"axis\": {\"labelLimit\": 550}, \"legend\": {\"cornerRadius\": 10, \"fillColor\": \"#EEEEEE\", \"labelFontSize\": 38, \"orient\": \"top-right\", \"padding\": 10, \"strokeColor\": \"gray\", \"symbolSize\": 700, \"titleFontSize\": 35}}, \"data\": {\"name\": \"data-f8ca489f7a18a97ae5e8cee1e116d11a\"}, \"mark\": {\"type\": \"bar\", \"size\": 15}, \"encoding\": {\"color\": {\"type\": \"nominal\", \"field\": \"is_homograph\", \"legend\": {\"labelLimit\": 500, \"title\": \"Value Type\", \"titleLimit\": 0}}, \"x\": {\"type\": \"nominal\", \"axis\": {\"labelAngle\": -40, \"labelFontSize\": 23, \"title\": \"\"}, \"field\": \"node\", \"sort\": \"-y\"}, \"y\": {\"type\": \"quantitative\", \"axis\": {\"labelFontSize\": 26, \"tickCount\": 8, \"title\": \"Betweenness Centrality\", \"titleFontSize\": 30}, \"field\": \"betweenness_centrality\"}}, \"height\": 800, \"title\": \"\", \"width\": 1600, \"$schema\": \"https://vega.github.io/schema/vega-lite/v4.8.1.json\", \"datasets\": {\"data-f8ca489f7a18a97ae5e8cee1e116d11a\": [{\"node\": \"Sydney\", \"node_type\": \"cell\", \"betweenness_centrality\": 0.009810582844805113, \"local_clustering_coefficient\": 0.4988389643562059, \"is_homograph\": \"homograph\"}, {\"node\": \"Cuba\", \"node_type\": \"cell\", \"betweenness_centrality\": 0.006394042232732996, \"local_clustering_coefficient\": 0.19559493310560777, \"is_homograph\": \"homograph\"}, {\"node\": \"Elmira\", \"node_type\": \"cell\", \"betweenness_centrality\": 0.009810582844805113, \"local_clustering_coefficient\": 0.4988389643562059, \"is_homograph\": \"homograph\"}, {\"node\": \"Lincoln\", \"node_type\": \"cell\", \"betweenness_centrality\": 0.03212017096928377, \"local_clustering_coefficient\": 0.4983164983164983, \"is_homograph\": \"homograph\"}, {\"node\": \"Virginia\", \"node_type\": \"cell\", \"betweenness_centrality\": 0.012066803467345594, \"local_clustering_coefficient\": 0.3329886737303639, \"is_homograph\": \"homograph\"}, {\"node\": \"Jamaica\", \"node_type\": \"cell\", \"betweenness_centrality\": 0.00934929341297902, \"local_clustering_coefficient\": 0.19592513113972343, \"is_homograph\": \"homograph\"}, {\"node\": \"Phoenix\", \"node_type\": \"cell\", \"betweenness_centrality\": 0.021940034186072273, \"local_clustering_coefficient\": 0.4984026010743569, \"is_homograph\": \"homograph\"}, {\"node\": \"Quinta\", \"node_type\": \"cell\", \"betweenness_centrality\": 0.009810582844805113, \"local_clustering_coefficient\": 0.4988389643562059, \"is_homograph\": \"homograph\"}, {\"node\": \"ID\", \"node_type\": \"cell\", \"betweenness_centrality\": 1.9375908801961833e-06, \"local_clustering_coefficient\": 0.540909090909091, \"is_homograph\": \"homograph\"}, {\"node\": \"NE\", \"node_type\": \"cell\", \"betweenness_centrality\": 6.02509117295577e-07, \"local_clustering_coefficient\": 0.3418888888888891, \"is_homograph\": \"homograph\"}, {\"node\": \"GT\", \"node_type\": \"cell\", \"betweenness_centrality\": 0.0053362963490488835, \"local_clustering_coefficient\": 0.32272727272727253, \"is_homograph\": \"homograph\"}, {\"node\": \"AR\", \"node_type\": \"cell\", \"betweenness_centrality\": 1.9375908801961833e-06, \"local_clustering_coefficient\": 0.540909090909091, \"is_homograph\": \"homograph\"}, {\"node\": \"CO\", \"node_type\": \"cell\", \"betweenness_centrality\": 1.9375908801961833e-06, \"local_clustering_coefficient\": 0.540909090909091, \"is_homograph\": \"homograph\"}, {\"node\": \"MA\", \"node_type\": \"cell\", \"betweenness_centrality\": 1.9375908801961833e-06, \"local_clustering_coefficient\": 0.540909090909091, \"is_homograph\": \"homograph\"}, {\"node\": \"CA\", \"node_type\": \"cell\", \"betweenness_centrality\": 1.9375908801961833e-06, \"local_clustering_coefficient\": 0.540909090909091, \"is_homograph\": \"homograph\"}, {\"node\": \"DE\", \"node_type\": \"cell\", \"betweenness_centrality\": 1.9375908801961833e-06, \"local_clustering_coefficient\": 0.540909090909091, \"is_homograph\": \"homograph\"}, {\"node\": \"TL\", \"node_type\": \"cell\", \"betweenness_centrality\": 0.0015526876879781335, \"local_clustering_coefficient\": 0.4563391442155308, \"is_homograph\": \"homograph\"}, {\"node\": \"MN\", \"node_type\": \"cell\", \"betweenness_centrality\": 1.9375908801961833e-06, \"local_clustering_coefficient\": 0.540909090909091, \"is_homograph\": \"homograph\"}, {\"node\": \"AL\", \"node_type\": \"cell\", \"betweenness_centrality\": 1.9375908801961833e-06, \"local_clustering_coefficient\": 0.540909090909091, \"is_homograph\": \"homograph\"}, {\"node\": \"SD\", \"node_type\": \"cell\", \"betweenness_centrality\": 1.2686073393256332e-06, \"local_clustering_coefficient\": 0.4457854406130269, \"is_homograph\": \"homograph\"}, {\"node\": \"PA\", \"node_type\": \"cell\", \"betweenness_centrality\": 1.9375908801961833e-06, \"local_clustering_coefficient\": 0.540909090909091, \"is_homograph\": \"homograph\"}, {\"node\": \"AZ\", \"node_type\": \"cell\", \"betweenness_centrality\": 1.9375908801961833e-06, \"local_clustering_coefficient\": 0.540909090909091, \"is_homograph\": \"homograph\"}, {\"node\": \"TN\", \"node_type\": \"cell\", \"betweenness_centrality\": 1.9375908801961833e-06, \"local_clustering_coefficient\": 0.540909090909091, \"is_homograph\": \"homograph\"}, {\"node\": \"Georgia\", \"node_type\": \"cell\", \"betweenness_centrality\": 0.0009264464714507509, \"local_clustering_coefficient\": 0.3498360533571805, \"is_homograph\": \"homograph\"}, {\"node\": \"Florida\", \"node_type\": \"cell\", \"betweenness_centrality\": 0.0008094637453794234, \"local_clustering_coefficient\": 0.4964503042596347, \"is_homograph\": \"homograph\"}, {\"node\": \"California\", \"node_type\": \"cell\", \"betweenness_centrality\": 0.0009775387615197119, \"local_clustering_coefficient\": 0.4965943339361062, \"is_homograph\": \"homograph\"}, {\"node\": \"Colorado\", \"node_type\": \"cell\", \"betweenness_centrality\": 0.0009775387615197119, \"local_clustering_coefficient\": 0.4965943339361062, \"is_homograph\": \"homograph\"}, {\"node\": \"CT\", \"node_type\": \"cell\", \"betweenness_centrality\": 0.0008472891105083686, \"local_clustering_coefficient\": 0.48987341772151893, \"is_homograph\": \"homograph\"}, {\"node\": \"SC\", \"node_type\": \"cell\", \"betweenness_centrality\": 0.0008472891105083686, \"local_clustering_coefficient\": 0.48987341772151893, \"is_homograph\": \"homograph\"}, {\"node\": \"IL\", \"node_type\": \"cell\", \"betweenness_centrality\": 6.144583057815476e-07, \"local_clustering_coefficient\": 0.350777777777778, \"is_homograph\": \"homograph\"}, {\"node\": \"GA\", \"node_type\": \"cell\", \"betweenness_centrality\": 6.433241040879991e-07, \"local_clustering_coefficient\": 0.3521929824561405, \"is_homograph\": \"homograph\"}, {\"node\": \"MD\", \"node_type\": \"cell\", \"betweenness_centrality\": 1.2903773325733573e-06, \"local_clustering_coefficient\": 0.4362359550561799, \"is_homograph\": \"homograph\"}, {\"node\": \"ME\", \"node_type\": \"cell\", \"betweenness_centrality\": 6.144583057815476e-07, \"local_clustering_coefficient\": 0.350777777777778, \"is_homograph\": \"homograph\"}, {\"node\": \"Jaguar\", \"node_type\": \"cell\", \"betweenness_centrality\": 0.05434441916450321, \"local_clustering_coefficient\": 0.43213572854291077, \"is_homograph\": \"homograph\"}, {\"node\": \"Heather\", \"node_type\": \"cell\", \"betweenness_centrality\": 0.0296526989596654, \"local_clustering_coefficient\": 0.49405368671423755, \"is_homograph\": \"homograph\"}, {\"node\": \"Leandra\", \"node_type\": \"cell\", \"betweenness_centrality\": 0.026114852852671233, \"local_clustering_coefficient\": 0.4934923130677851, \"is_homograph\": \"homograph\"}, {\"node\": \"Charity\", \"node_type\": \"cell\", \"betweenness_centrality\": 0.026114852852671233, \"local_clustering_coefficient\": 0.4934923130677851, \"is_homograph\": \"homograph\"}, {\"node\": \"Garvey\", \"node_type\": \"cell\", \"betweenness_centrality\": 0.0021909754884387434, \"local_clustering_coefficient\": 0.5008203799654577, \"is_homograph\": \"homograph\"}, {\"node\": \"Vinson\", \"node_type\": \"cell\", \"betweenness_centrality\": 0.0021909754884387434, \"local_clustering_coefficient\": 0.5008203799654577, \"is_homograph\": \"homograph\"}, {\"node\": \"Else\", \"node_type\": \"cell\", \"betweenness_centrality\": 0.0021909754884387434, \"local_clustering_coefficient\": 0.5008203799654577, \"is_homograph\": \"homograph\"}, {\"node\": \"Duff\", \"node_type\": \"cell\", \"betweenness_centrality\": 0.0021909754884387434, \"local_clustering_coefficient\": 0.5008203799654577, \"is_homograph\": \"homograph\"}, {\"node\": \"Christophe\", \"node_type\": \"cell\", \"betweenness_centrality\": 0.0021909754884387434, \"local_clustering_coefficient\": 0.5008203799654577, \"is_homograph\": \"homograph\"}, {\"node\": \"Reid\", \"node_type\": \"cell\", \"betweenness_centrality\": 0.0021909754884387434, \"local_clustering_coefficient\": 0.5008203799654577, \"is_homograph\": \"homograph\"}, {\"node\": \"Mace\", \"node_type\": \"cell\", \"betweenness_centrality\": 0.032803185535055276, \"local_clustering_coefficient\": 0.4980794453813005, \"is_homograph\": \"homograph\"}, {\"node\": \"Costanza\", \"node_type\": \"cell\", \"betweenness_centrality\": 0.0021909754884387434, \"local_clustering_coefficient\": 0.5008203799654577, \"is_homograph\": \"homograph\"}, {\"node\": \"Elan\", \"node_type\": \"cell\", \"betweenness_centrality\": 0.016661374806222328, \"local_clustering_coefficient\": 0.49758582502768567, \"is_homograph\": \"homograph\"}, {\"node\": \"Berkeley\", \"node_type\": \"cell\", \"betweenness_centrality\": 0.0021909754884387434, \"local_clustering_coefficient\": 0.5008203799654577, \"is_homograph\": \"homograph\"}, {\"node\": \"Nadine\", \"node_type\": \"cell\", \"betweenness_centrality\": 0.013733952634639826, \"local_clustering_coefficient\": 0.49828014799398784, \"is_homograph\": \"homograph\"}, {\"node\": \"Conroy\", \"node_type\": \"cell\", \"betweenness_centrality\": 0.0021909754884387434, \"local_clustering_coefficient\": 0.5008203799654577, \"is_homograph\": \"homograph\"}, {\"node\": \"Jimmy\", \"node_type\": \"cell\", \"betweenness_centrality\": 0.016307987342897904, \"local_clustering_coefficient\": 0.4965339739190117, \"is_homograph\": \"homograph\"}, {\"node\": \"Smitty\", \"node_type\": \"cell\", \"betweenness_centrality\": 0.013733952634639826, \"local_clustering_coefficient\": 0.49828014799398784, \"is_homograph\": \"homograph\"}, {\"node\": \"Ram\", \"node_type\": \"cell\", \"betweenness_centrality\": 0.025394563689343497, \"local_clustering_coefficient\": 0.4960627590290113, \"is_homograph\": \"homograph\"}, {\"node\": \"ES\", \"node_type\": \"cell\", \"betweenness_centrality\": 0.0016026193810067756, \"local_clustering_coefficient\": 0.4571993670886076, \"is_homograph\": \"homograph\"}, {\"node\": \"Crossfire\", \"node_type\": \"cell\", \"betweenness_centrality\": 0.015471727020072483, \"local_clustering_coefficient\": 0.49819537658463836, \"is_homograph\": \"homograph\"}, {\"node\": \"Pumpkin\", \"node_type\": \"cell\", \"betweenness_centrality\": 0.00919603212554278, \"local_clustering_coefficient\": 0.49941746382143726, \"is_homograph\": \"homograph\"}]}}, {\"mode\": \"vega-lite\"});\n</script>",
      "text/plain": [
       "alt.Chart(...)"
      ]
     },
     "metadata": {},
     "execution_count": 8
    }
   ],
   "source": [
    "# Plot of all the homograph values and their betweeness\n",
    "homographs_graph = alt.Chart(synthetic_bipartite_graph_stats_df[synthetic_bipartite_graph_stats_df['is_homograph'] == 'homograph'], title='').mark_bar(size=15).encode(\n",
    "    x=alt.X('node:N', sort='-y', axis=alt.Axis(title='', labelAngle=-40, labelFontSize=23)),\n",
    "    y=alt.Y('betweenness_centrality:Q', axis=alt.Axis(title='Betweenness Centrality', labelFontSize=26, titleFontSize=30, tickCount=8)),\n",
    "    color=alt.Color('is_homograph:N', legend=alt.Legend(title='Value Type', titleLimit=0, labelLimit=500))\n",
    ").properties(width=1600, height=800)\n",
    "homographs_graph = homographs_graph.configure_axis(labelLimit=550)\n",
    "\n",
    "homographs_graph = homographs_graph.configure_legend(\n",
    "    labelFontSize=38,\n",
    "    symbolSize=700,\n",
    "    titleFontSize=35,\n",
    "    strokeColor='gray',\n",
    "    fillColor='#EEEEEE',\n",
    "    padding=10,\n",
    "    cornerRadius=10,\n",
    "    orient='top-right'\n",
    ")\n",
    "\n",
    "homographs_graph.save('figures/synthetic_dataset/synthetic_bipartite_betweenness_homographs.svg')\n",
    "homographs_graph"
   ]
  },
  {
   "cell_type": "code",
   "execution_count": 9,
   "metadata": {},
   "outputs": [
    {
     "output_type": "execute_result",
     "data": {
      "text/plain": [
       "array(['Sydney', 'Cuba', 'Elmira', 'Lincoln', 'Virginia', 'Jamaica',\n",
       "       'Phoenix', 'Quinta', 'ID', 'NE', 'GT', 'AR', 'CO', 'MA', 'CA',\n",
       "       'DE', 'TL', 'MN', 'AL', 'SD', 'PA', 'AZ', 'TN', 'Georgia',\n",
       "       'Florida', 'California', 'Colorado', 'CT', 'SC', 'IL', 'GA', 'MD',\n",
       "       'ME', 'Jaguar', 'Heather', 'Leandra', 'Charity', 'Garvey',\n",
       "       'Vinson', 'Else', 'Duff', 'Christophe', 'Reid', 'Mace', 'Costanza',\n",
       "       'Elan', 'Berkeley', 'Nadine', 'Conroy', 'Jimmy', 'Smitty', 'Ram',\n",
       "       'ES', 'Crossfire', 'Pumpkin'], dtype=object)"
      ]
     },
     "metadata": {},
     "execution_count": 9
    }
   ],
   "source": [
    "synthetic_bipartite_graph_stats_df[synthetic_bipartite_graph_stats_df['is_homograph'] == 'homograph']['node'].values"
   ]
  },
  {
   "cell_type": "code",
   "execution_count": 10,
   "metadata": {},
   "outputs": [
    {
     "output_type": "execute_result",
     "data": {
      "text/plain": [
       "     node node_type  betweenness_centrality  local_clustering_coefficient  \\\n",
       "1115   ID      cell            1.937591e-06                      0.540909   \n",
       "1164   DE      cell            1.937591e-06                      0.540909   \n",
       "1198   TN      cell            1.937591e-06                      0.540909   \n",
       "1197   AZ      cell            1.937591e-06                      0.540909   \n",
       "1193   PA      cell            1.937591e-06                      0.540909   \n",
       "1177   MN      cell            1.937591e-06                      0.540909   \n",
       "1182   AL      cell            1.937591e-06                      0.540909   \n",
       "1153   CA      cell            1.937591e-06                      0.540909   \n",
       "1152   MA      cell            1.937591e-06                      0.540909   \n",
       "1145   CO      cell            1.937591e-06                      0.540909   \n",
       "1139   AR      cell            1.937591e-06                      0.540909   \n",
       "1315   MD      cell            1.290377e-06                      0.436236   \n",
       "1186   SD      cell            1.268607e-06                      0.445785   \n",
       "1305   GA      cell            6.433241e-07                      0.352193   \n",
       "1292   IL      cell            6.144583e-07                      0.350778   \n",
       "1319   ME      cell            6.144583e-07                      0.350778   \n",
       "1127   NE      cell            6.025091e-07                      0.341889   \n",
       "\n",
       "     is_homograph  \n",
       "1115    homograph  \n",
       "1164    homograph  \n",
       "1198    homograph  \n",
       "1197    homograph  \n",
       "1193    homograph  \n",
       "1177    homograph  \n",
       "1182    homograph  \n",
       "1153    homograph  \n",
       "1152    homograph  \n",
       "1145    homograph  \n",
       "1139    homograph  \n",
       "1315    homograph  \n",
       "1186    homograph  \n",
       "1305    homograph  \n",
       "1292    homograph  \n",
       "1319    homograph  \n",
       "1127    homograph  "
      ],
      "text/html": "<div>\n<style scoped>\n    .dataframe tbody tr th:only-of-type {\n        vertical-align: middle;\n    }\n\n    .dataframe tbody tr th {\n        vertical-align: top;\n    }\n\n    .dataframe thead th {\n        text-align: right;\n    }\n</style>\n<table border=\"1\" class=\"dataframe\">\n  <thead>\n    <tr style=\"text-align: right;\">\n      <th></th>\n      <th>node</th>\n      <th>node_type</th>\n      <th>betweenness_centrality</th>\n      <th>local_clustering_coefficient</th>\n      <th>is_homograph</th>\n    </tr>\n  </thead>\n  <tbody>\n    <tr>\n      <th>1115</th>\n      <td>ID</td>\n      <td>cell</td>\n      <td>1.937591e-06</td>\n      <td>0.540909</td>\n      <td>homograph</td>\n    </tr>\n    <tr>\n      <th>1164</th>\n      <td>DE</td>\n      <td>cell</td>\n      <td>1.937591e-06</td>\n      <td>0.540909</td>\n      <td>homograph</td>\n    </tr>\n    <tr>\n      <th>1198</th>\n      <td>TN</td>\n      <td>cell</td>\n      <td>1.937591e-06</td>\n      <td>0.540909</td>\n      <td>homograph</td>\n    </tr>\n    <tr>\n      <th>1197</th>\n      <td>AZ</td>\n      <td>cell</td>\n      <td>1.937591e-06</td>\n      <td>0.540909</td>\n      <td>homograph</td>\n    </tr>\n    <tr>\n      <th>1193</th>\n      <td>PA</td>\n      <td>cell</td>\n      <td>1.937591e-06</td>\n      <td>0.540909</td>\n      <td>homograph</td>\n    </tr>\n    <tr>\n      <th>1177</th>\n      <td>MN</td>\n      <td>cell</td>\n      <td>1.937591e-06</td>\n      <td>0.540909</td>\n      <td>homograph</td>\n    </tr>\n    <tr>\n      <th>1182</th>\n      <td>AL</td>\n      <td>cell</td>\n      <td>1.937591e-06</td>\n      <td>0.540909</td>\n      <td>homograph</td>\n    </tr>\n    <tr>\n      <th>1153</th>\n      <td>CA</td>\n      <td>cell</td>\n      <td>1.937591e-06</td>\n      <td>0.540909</td>\n      <td>homograph</td>\n    </tr>\n    <tr>\n      <th>1152</th>\n      <td>MA</td>\n      <td>cell</td>\n      <td>1.937591e-06</td>\n      <td>0.540909</td>\n      <td>homograph</td>\n    </tr>\n    <tr>\n      <th>1145</th>\n      <td>CO</td>\n      <td>cell</td>\n      <td>1.937591e-06</td>\n      <td>0.540909</td>\n      <td>homograph</td>\n    </tr>\n    <tr>\n      <th>1139</th>\n      <td>AR</td>\n      <td>cell</td>\n      <td>1.937591e-06</td>\n      <td>0.540909</td>\n      <td>homograph</td>\n    </tr>\n    <tr>\n      <th>1315</th>\n      <td>MD</td>\n      <td>cell</td>\n      <td>1.290377e-06</td>\n      <td>0.436236</td>\n      <td>homograph</td>\n    </tr>\n    <tr>\n      <th>1186</th>\n      <td>SD</td>\n      <td>cell</td>\n      <td>1.268607e-06</td>\n      <td>0.445785</td>\n      <td>homograph</td>\n    </tr>\n    <tr>\n      <th>1305</th>\n      <td>GA</td>\n      <td>cell</td>\n      <td>6.433241e-07</td>\n      <td>0.352193</td>\n      <td>homograph</td>\n    </tr>\n    <tr>\n      <th>1292</th>\n      <td>IL</td>\n      <td>cell</td>\n      <td>6.144583e-07</td>\n      <td>0.350778</td>\n      <td>homograph</td>\n    </tr>\n    <tr>\n      <th>1319</th>\n      <td>ME</td>\n      <td>cell</td>\n      <td>6.144583e-07</td>\n      <td>0.350778</td>\n      <td>homograph</td>\n    </tr>\n    <tr>\n      <th>1127</th>\n      <td>NE</td>\n      <td>cell</td>\n      <td>6.025091e-07</td>\n      <td>0.341889</td>\n      <td>homograph</td>\n    </tr>\n  </tbody>\n</table>\n</div>"
     },
     "metadata": {},
     "execution_count": 10
    }
   ],
   "source": [
    "# All homographs with low betweeness in a dataframe\n",
    "homographs_with_low_betweeness = synthetic_bipartite_graph_stats_df[(synthetic_bipartite_graph_stats_df['is_homograph'] == 'homograph') &\n",
    "    (synthetic_bipartite_graph_stats_df['betweenness_centrality'] < \n",
    "        synthetic_bipartite_graph_stats_df[synthetic_bipartite_graph_stats_df['node'] == 'Florida']['betweenness_centrality'].values[0])]\n",
    "homographs_with_low_betweeness.sort_values(by=['betweenness_centrality'], ascending=False)"
   ]
  },
  {
   "cell_type": "code",
   "execution_count": 11,
   "metadata": {
    "tags": []
   },
   "outputs": [
    {
     "output_type": "stream",
     "name": "stdout",
     "text": [
      "Node Jaguar has neighbors:\nanimal_name_nature_animal_name_scientific_name.csv is connected to 736 nodes.\nanimal_name_nature_animal_name_scientific_name_country.csv is connected to 731 nodes.\ncar_make_product_car_make_car_model_car_model_year_country_code.csv is connected to 52 nodes.\n\nNode AL has neighbors:\ncountry_code_location_country_country_code.csv is connected to 121 nodes.\nstate_abbrev_location_state_state_abbrev.csv is connected to 43 nodes.\ncountry_code_product_car_make_car_model_car_model_year_country_code.csv is connected to 122 nodes.\ncountry_code_product_movie_title_movie_genre_country_code.csv is connected to 124 nodes.\n"
     ]
    }
   ],
   "source": [
    "print('Node Jaguar has neighbors:')\n",
    "for neighbor in synthetic_bipartite_graph.neighbors('Jaguar'):\n",
    "    print(neighbor, 'is connected to', len(list(synthetic_bipartite_graph.neighbors(neighbor))), 'nodes.')\n",
    "print('\\nNode AL has neighbors:')\n",
    "for neighbor in synthetic_bipartite_graph.neighbors('AL'):\n",
    "    print(neighbor, 'is connected to', len(list(synthetic_bipartite_graph.neighbors(neighbor))), 'nodes.')"
   ]
  },
  {
   "cell_type": "markdown",
   "metadata": {},
   "source": [
    "It seems that homographs with low betweeness is due to a small number of cell nodes neighboring their attribute nodes. For example the node 'AL' is a homograph because it is an abbreviation for the state of \"Alabama\" and the country \"Albania\". Because the total number of countries + us_states is small the betweeness centrality is much smaller. Moreover there is considerable intersection between the two sets."
   ]
  },
  {
   "cell_type": "code",
   "execution_count": 12,
   "metadata": {
    "tags": []
   },
   "outputs": [
    {
     "output_type": "execute_result",
     "data": {
      "text/plain": [
       "             node node_type  betweenness_centrality  \\\n",
       "1319           ME      cell            6.144583e-07   \n",
       "1292           IL      cell            6.144583e-07   \n",
       "1127           NE      cell            6.025091e-07   \n",
       "1305           GA      cell            6.433241e-07   \n",
       "1186           SD      cell            1.268607e-06   \n",
       "1315           MD      cell            1.290377e-06   \n",
       "1177           MN      cell            1.937591e-06   \n",
       "1182           AL      cell            1.937591e-06   \n",
       "1197           AZ      cell            1.937591e-06   \n",
       "1198           TN      cell            1.937591e-06   \n",
       "1164           DE      cell            1.937591e-06   \n",
       "1153           CA      cell            1.937591e-06   \n",
       "1152           MA      cell            1.937591e-06   \n",
       "1193           PA      cell            1.937591e-06   \n",
       "1139           AR      cell            1.937591e-06   \n",
       "1115           ID      cell            1.937591e-06   \n",
       "1145           CO      cell            1.937591e-06   \n",
       "1242      Georgia      cell            9.264465e-04   \n",
       "1271   California      cell            9.775388e-04   \n",
       "1272     Colorado      cell            9.775388e-04   \n",
       "1278           SC      cell            8.472891e-04   \n",
       "1276           CT      cell            8.472891e-04   \n",
       "15222         Ram      cell            2.539456e-02   \n",
       "1168           TL      cell            1.552688e-03   \n",
       "15293          ES      cell            1.602619e-03   \n",
       "1133           GT      cell            5.336296e-03   \n",
       "1255      Florida      cell            8.094637e-04   \n",
       "300       Lincoln      cell            3.212017e-02   \n",
       "723       Jamaica      cell            9.349293e-03   \n",
       "2384       Jaguar      cell            5.434442e-02   \n",
       "258          Cuba      cell            6.394042e-03   \n",
       "10915       Jimmy      cell            1.630799e-02   \n",
       "15326   Crossfire      cell            1.547173e-02   \n",
       "10357        Elan      cell            1.666137e-02   \n",
       "10229        Mace      cell            3.280319e-02   \n",
       "16168     Pumpkin      cell            9.196032e-03   \n",
       "6646      Charity      cell            2.611485e-02   \n",
       "5701      Leandra      cell            2.611485e-02   \n",
       "275        Elmira      cell            9.810583e-03   \n",
       "1088       Quinta      cell            9.810583e-03   \n",
       "11         Sydney      cell            9.810583e-03   \n",
       "10601      Nadine      cell            1.373395e-02   \n",
       "11501      Smitty      cell            1.373395e-02   \n",
       "9486         Duff      cell            2.190975e-03   \n",
       "9727   Christophe      cell            2.190975e-03   \n",
       "9954         Reid      cell            2.190975e-03   \n",
       "10309    Costanza      cell            2.190975e-03   \n",
       "9410       Vinson      cell            2.190975e-03   \n",
       "10397    Berkeley      cell            2.190975e-03   \n",
       "10625      Conroy      cell            2.190975e-03   \n",
       "9228       Garvey      cell            2.190975e-03   \n",
       "9413         Else      cell            2.190975e-03   \n",
       "546      Virginia      cell            1.206680e-02   \n",
       "4228      Heather      cell            2.965270e-02   \n",
       "981       Phoenix      cell            2.194003e-02   \n",
       "\n",
       "       local_clustering_coefficient is_homograph  num_second_degree_neighbors  \n",
       "1319                       0.350778    homograph                          151  \n",
       "1292                       0.350778    homograph                          151  \n",
       "1127                       0.341889    homograph                          151  \n",
       "1305                       0.352193    homograph                          153  \n",
       "1186                       0.445785    homograph                          175  \n",
       "1315                       0.436236    homograph                          179  \n",
       "1177                       0.540909    homograph                          188  \n",
       "1182                       0.540909    homograph                          188  \n",
       "1197                       0.540909    homograph                          188  \n",
       "1198                       0.540909    homograph                          188  \n",
       "1164                       0.540909    homograph                          188  \n",
       "1153                       0.540909    homograph                          188  \n",
       "1152                       0.540909    homograph                          188  \n",
       "1193                       0.540909    homograph                          188  \n",
       "1139                       0.540909    homograph                          188  \n",
       "1115                       0.540909    homograph                          188  \n",
       "1145                       0.540909    homograph                          188  \n",
       "1242                       0.349836    homograph                          214  \n",
       "1271                       0.496594    homograph                          554  \n",
       "1272                       0.496594    homograph                          554  \n",
       "1278                       0.489873    homograph                          554  \n",
       "1276                       0.489873    homograph                          554  \n",
       "15222                      0.496063    homograph                          564  \n",
       "1168                       0.456339    homograph                          632  \n",
       "15293                      0.457199    homograph                          633  \n",
       "1133                       0.322727    homograph                          672  \n",
       "1255                       0.496450    homograph                          987  \n",
       "300                        0.498316    homograph                         1024  \n",
       "723                        0.195925    homograph                         1166  \n",
       "2384                       0.432136    homograph                         1170  \n",
       "258                        0.195595    homograph                         1172  \n",
       "10915                      0.496534    homograph                         1458  \n",
       "15326                      0.498195    homograph                         1491  \n",
       "10357                      0.497586    homograph                         1506  \n",
       "10229                      0.498079    homograph                         1780  \n",
       "16168                      0.499417    homograph                         1813  \n",
       "6646                       0.493492    homograph                         1909  \n",
       "5701                       0.493492    homograph                         1909  \n",
       "275                        0.498839    homograph                         1915  \n",
       "1088                       0.498839    homograph                         1915  \n",
       "11                         0.498839    homograph                         1915  \n",
       "10601                      0.498280    homograph                         1923  \n",
       "11501                      0.498280    homograph                         1923  \n",
       "9486                       0.500820    homograph                         1931  \n",
       "9727                       0.500820    homograph                         1931  \n",
       "9954                       0.500820    homograph                         1931  \n",
       "10309                      0.500820    homograph                         1931  \n",
       "9410                       0.500820    homograph                         1931  \n",
       "10397                      0.500820    homograph                         1931  \n",
       "10625                      0.500820    homograph                         1931  \n",
       "9228                       0.500820    homograph                         1931  \n",
       "9413                       0.500820    homograph                         1931  \n",
       "546                        0.332989    homograph                         1956  \n",
       "4228                       0.494054    homograph                         1963  \n",
       "981                        0.498403    homograph                         1966  "
      ],
      "text/html": "<div>\n<style scoped>\n    .dataframe tbody tr th:only-of-type {\n        vertical-align: middle;\n    }\n\n    .dataframe tbody tr th {\n        vertical-align: top;\n    }\n\n    .dataframe thead th {\n        text-align: right;\n    }\n</style>\n<table border=\"1\" class=\"dataframe\">\n  <thead>\n    <tr style=\"text-align: right;\">\n      <th></th>\n      <th>node</th>\n      <th>node_type</th>\n      <th>betweenness_centrality</th>\n      <th>local_clustering_coefficient</th>\n      <th>is_homograph</th>\n      <th>num_second_degree_neighbors</th>\n    </tr>\n  </thead>\n  <tbody>\n    <tr>\n      <th>1319</th>\n      <td>ME</td>\n      <td>cell</td>\n      <td>6.144583e-07</td>\n      <td>0.350778</td>\n      <td>homograph</td>\n      <td>151</td>\n    </tr>\n    <tr>\n      <th>1292</th>\n      <td>IL</td>\n      <td>cell</td>\n      <td>6.144583e-07</td>\n      <td>0.350778</td>\n      <td>homograph</td>\n      <td>151</td>\n    </tr>\n    <tr>\n      <th>1127</th>\n      <td>NE</td>\n      <td>cell</td>\n      <td>6.025091e-07</td>\n      <td>0.341889</td>\n      <td>homograph</td>\n      <td>151</td>\n    </tr>\n    <tr>\n      <th>1305</th>\n      <td>GA</td>\n      <td>cell</td>\n      <td>6.433241e-07</td>\n      <td>0.352193</td>\n      <td>homograph</td>\n      <td>153</td>\n    </tr>\n    <tr>\n      <th>1186</th>\n      <td>SD</td>\n      <td>cell</td>\n      <td>1.268607e-06</td>\n      <td>0.445785</td>\n      <td>homograph</td>\n      <td>175</td>\n    </tr>\n    <tr>\n      <th>1315</th>\n      <td>MD</td>\n      <td>cell</td>\n      <td>1.290377e-06</td>\n      <td>0.436236</td>\n      <td>homograph</td>\n      <td>179</td>\n    </tr>\n    <tr>\n      <th>1177</th>\n      <td>MN</td>\n      <td>cell</td>\n      <td>1.937591e-06</td>\n      <td>0.540909</td>\n      <td>homograph</td>\n      <td>188</td>\n    </tr>\n    <tr>\n      <th>1182</th>\n      <td>AL</td>\n      <td>cell</td>\n      <td>1.937591e-06</td>\n      <td>0.540909</td>\n      <td>homograph</td>\n      <td>188</td>\n    </tr>\n    <tr>\n      <th>1197</th>\n      <td>AZ</td>\n      <td>cell</td>\n      <td>1.937591e-06</td>\n      <td>0.540909</td>\n      <td>homograph</td>\n      <td>188</td>\n    </tr>\n    <tr>\n      <th>1198</th>\n      <td>TN</td>\n      <td>cell</td>\n      <td>1.937591e-06</td>\n      <td>0.540909</td>\n      <td>homograph</td>\n      <td>188</td>\n    </tr>\n    <tr>\n      <th>1164</th>\n      <td>DE</td>\n      <td>cell</td>\n      <td>1.937591e-06</td>\n      <td>0.540909</td>\n      <td>homograph</td>\n      <td>188</td>\n    </tr>\n    <tr>\n      <th>1153</th>\n      <td>CA</td>\n      <td>cell</td>\n      <td>1.937591e-06</td>\n      <td>0.540909</td>\n      <td>homograph</td>\n      <td>188</td>\n    </tr>\n    <tr>\n      <th>1152</th>\n      <td>MA</td>\n      <td>cell</td>\n      <td>1.937591e-06</td>\n      <td>0.540909</td>\n      <td>homograph</td>\n      <td>188</td>\n    </tr>\n    <tr>\n      <th>1193</th>\n      <td>PA</td>\n      <td>cell</td>\n      <td>1.937591e-06</td>\n      <td>0.540909</td>\n      <td>homograph</td>\n      <td>188</td>\n    </tr>\n    <tr>\n      <th>1139</th>\n      <td>AR</td>\n      <td>cell</td>\n      <td>1.937591e-06</td>\n      <td>0.540909</td>\n      <td>homograph</td>\n      <td>188</td>\n    </tr>\n    <tr>\n      <th>1115</th>\n      <td>ID</td>\n      <td>cell</td>\n      <td>1.937591e-06</td>\n      <td>0.540909</td>\n      <td>homograph</td>\n      <td>188</td>\n    </tr>\n    <tr>\n      <th>1145</th>\n      <td>CO</td>\n      <td>cell</td>\n      <td>1.937591e-06</td>\n      <td>0.540909</td>\n      <td>homograph</td>\n      <td>188</td>\n    </tr>\n    <tr>\n      <th>1242</th>\n      <td>Georgia</td>\n      <td>cell</td>\n      <td>9.264465e-04</td>\n      <td>0.349836</td>\n      <td>homograph</td>\n      <td>214</td>\n    </tr>\n    <tr>\n      <th>1271</th>\n      <td>California</td>\n      <td>cell</td>\n      <td>9.775388e-04</td>\n      <td>0.496594</td>\n      <td>homograph</td>\n      <td>554</td>\n    </tr>\n    <tr>\n      <th>1272</th>\n      <td>Colorado</td>\n      <td>cell</td>\n      <td>9.775388e-04</td>\n      <td>0.496594</td>\n      <td>homograph</td>\n      <td>554</td>\n    </tr>\n    <tr>\n      <th>1278</th>\n      <td>SC</td>\n      <td>cell</td>\n      <td>8.472891e-04</td>\n      <td>0.489873</td>\n      <td>homograph</td>\n      <td>554</td>\n    </tr>\n    <tr>\n      <th>1276</th>\n      <td>CT</td>\n      <td>cell</td>\n      <td>8.472891e-04</td>\n      <td>0.489873</td>\n      <td>homograph</td>\n      <td>554</td>\n    </tr>\n    <tr>\n      <th>15222</th>\n      <td>Ram</td>\n      <td>cell</td>\n      <td>2.539456e-02</td>\n      <td>0.496063</td>\n      <td>homograph</td>\n      <td>564</td>\n    </tr>\n    <tr>\n      <th>1168</th>\n      <td>TL</td>\n      <td>cell</td>\n      <td>1.552688e-03</td>\n      <td>0.456339</td>\n      <td>homograph</td>\n      <td>632</td>\n    </tr>\n    <tr>\n      <th>15293</th>\n      <td>ES</td>\n      <td>cell</td>\n      <td>1.602619e-03</td>\n      <td>0.457199</td>\n      <td>homograph</td>\n      <td>633</td>\n    </tr>\n    <tr>\n      <th>1133</th>\n      <td>GT</td>\n      <td>cell</td>\n      <td>5.336296e-03</td>\n      <td>0.322727</td>\n      <td>homograph</td>\n      <td>672</td>\n    </tr>\n    <tr>\n      <th>1255</th>\n      <td>Florida</td>\n      <td>cell</td>\n      <td>8.094637e-04</td>\n      <td>0.496450</td>\n      <td>homograph</td>\n      <td>987</td>\n    </tr>\n    <tr>\n      <th>300</th>\n      <td>Lincoln</td>\n      <td>cell</td>\n      <td>3.212017e-02</td>\n      <td>0.498316</td>\n      <td>homograph</td>\n      <td>1024</td>\n    </tr>\n    <tr>\n      <th>723</th>\n      <td>Jamaica</td>\n      <td>cell</td>\n      <td>9.349293e-03</td>\n      <td>0.195925</td>\n      <td>homograph</td>\n      <td>1166</td>\n    </tr>\n    <tr>\n      <th>2384</th>\n      <td>Jaguar</td>\n      <td>cell</td>\n      <td>5.434442e-02</td>\n      <td>0.432136</td>\n      <td>homograph</td>\n      <td>1170</td>\n    </tr>\n    <tr>\n      <th>258</th>\n      <td>Cuba</td>\n      <td>cell</td>\n      <td>6.394042e-03</td>\n      <td>0.195595</td>\n      <td>homograph</td>\n      <td>1172</td>\n    </tr>\n    <tr>\n      <th>10915</th>\n      <td>Jimmy</td>\n      <td>cell</td>\n      <td>1.630799e-02</td>\n      <td>0.496534</td>\n      <td>homograph</td>\n      <td>1458</td>\n    </tr>\n    <tr>\n      <th>15326</th>\n      <td>Crossfire</td>\n      <td>cell</td>\n      <td>1.547173e-02</td>\n      <td>0.498195</td>\n      <td>homograph</td>\n      <td>1491</td>\n    </tr>\n    <tr>\n      <th>10357</th>\n      <td>Elan</td>\n      <td>cell</td>\n      <td>1.666137e-02</td>\n      <td>0.497586</td>\n      <td>homograph</td>\n      <td>1506</td>\n    </tr>\n    <tr>\n      <th>10229</th>\n      <td>Mace</td>\n      <td>cell</td>\n      <td>3.280319e-02</td>\n      <td>0.498079</td>\n      <td>homograph</td>\n      <td>1780</td>\n    </tr>\n    <tr>\n      <th>16168</th>\n      <td>Pumpkin</td>\n      <td>cell</td>\n      <td>9.196032e-03</td>\n      <td>0.499417</td>\n      <td>homograph</td>\n      <td>1813</td>\n    </tr>\n    <tr>\n      <th>6646</th>\n      <td>Charity</td>\n      <td>cell</td>\n      <td>2.611485e-02</td>\n      <td>0.493492</td>\n      <td>homograph</td>\n      <td>1909</td>\n    </tr>\n    <tr>\n      <th>5701</th>\n      <td>Leandra</td>\n      <td>cell</td>\n      <td>2.611485e-02</td>\n      <td>0.493492</td>\n      <td>homograph</td>\n      <td>1909</td>\n    </tr>\n    <tr>\n      <th>275</th>\n      <td>Elmira</td>\n      <td>cell</td>\n      <td>9.810583e-03</td>\n      <td>0.498839</td>\n      <td>homograph</td>\n      <td>1915</td>\n    </tr>\n    <tr>\n      <th>1088</th>\n      <td>Quinta</td>\n      <td>cell</td>\n      <td>9.810583e-03</td>\n      <td>0.498839</td>\n      <td>homograph</td>\n      <td>1915</td>\n    </tr>\n    <tr>\n      <th>11</th>\n      <td>Sydney</td>\n      <td>cell</td>\n      <td>9.810583e-03</td>\n      <td>0.498839</td>\n      <td>homograph</td>\n      <td>1915</td>\n    </tr>\n    <tr>\n      <th>10601</th>\n      <td>Nadine</td>\n      <td>cell</td>\n      <td>1.373395e-02</td>\n      <td>0.498280</td>\n      <td>homograph</td>\n      <td>1923</td>\n    </tr>\n    <tr>\n      <th>11501</th>\n      <td>Smitty</td>\n      <td>cell</td>\n      <td>1.373395e-02</td>\n      <td>0.498280</td>\n      <td>homograph</td>\n      <td>1923</td>\n    </tr>\n    <tr>\n      <th>9486</th>\n      <td>Duff</td>\n      <td>cell</td>\n      <td>2.190975e-03</td>\n      <td>0.500820</td>\n      <td>homograph</td>\n      <td>1931</td>\n    </tr>\n    <tr>\n      <th>9727</th>\n      <td>Christophe</td>\n      <td>cell</td>\n      <td>2.190975e-03</td>\n      <td>0.500820</td>\n      <td>homograph</td>\n      <td>1931</td>\n    </tr>\n    <tr>\n      <th>9954</th>\n      <td>Reid</td>\n      <td>cell</td>\n      <td>2.190975e-03</td>\n      <td>0.500820</td>\n      <td>homograph</td>\n      <td>1931</td>\n    </tr>\n    <tr>\n      <th>10309</th>\n      <td>Costanza</td>\n      <td>cell</td>\n      <td>2.190975e-03</td>\n      <td>0.500820</td>\n      <td>homograph</td>\n      <td>1931</td>\n    </tr>\n    <tr>\n      <th>9410</th>\n      <td>Vinson</td>\n      <td>cell</td>\n      <td>2.190975e-03</td>\n      <td>0.500820</td>\n      <td>homograph</td>\n      <td>1931</td>\n    </tr>\n    <tr>\n      <th>10397</th>\n      <td>Berkeley</td>\n      <td>cell</td>\n      <td>2.190975e-03</td>\n      <td>0.500820</td>\n      <td>homograph</td>\n      <td>1931</td>\n    </tr>\n    <tr>\n      <th>10625</th>\n      <td>Conroy</td>\n      <td>cell</td>\n      <td>2.190975e-03</td>\n      <td>0.500820</td>\n      <td>homograph</td>\n      <td>1931</td>\n    </tr>\n    <tr>\n      <th>9228</th>\n      <td>Garvey</td>\n      <td>cell</td>\n      <td>2.190975e-03</td>\n      <td>0.500820</td>\n      <td>homograph</td>\n      <td>1931</td>\n    </tr>\n    <tr>\n      <th>9413</th>\n      <td>Else</td>\n      <td>cell</td>\n      <td>2.190975e-03</td>\n      <td>0.500820</td>\n      <td>homograph</td>\n      <td>1931</td>\n    </tr>\n    <tr>\n      <th>546</th>\n      <td>Virginia</td>\n      <td>cell</td>\n      <td>1.206680e-02</td>\n      <td>0.332989</td>\n      <td>homograph</td>\n      <td>1956</td>\n    </tr>\n    <tr>\n      <th>4228</th>\n      <td>Heather</td>\n      <td>cell</td>\n      <td>2.965270e-02</td>\n      <td>0.494054</td>\n      <td>homograph</td>\n      <td>1963</td>\n    </tr>\n    <tr>\n      <th>981</th>\n      <td>Phoenix</td>\n      <td>cell</td>\n      <td>2.194003e-02</td>\n      <td>0.498403</td>\n      <td>homograph</td>\n      <td>1966</td>\n    </tr>\n  </tbody>\n</table>\n</div>"
     },
     "metadata": {},
     "execution_count": 12
    }
   ],
   "source": [
    "homograph_df = synthetic_bipartite_graph_stats_df[synthetic_bipartite_graph_stats_df['is_homograph'] == 'homograph']\n",
    "num_of_second_degree_neighbors_list = []\n",
    "# Find the number of unique neighbors of neighbors for a each homograph node\n",
    "for node in homograph_df['node']:\n",
    "    unique_second_degree_neighbors = set()\n",
    "    for neighbor in list(synthetic_bipartite_graph.neighbors(node)):\n",
    "        unique_second_degree_neighbors |= set(synthetic_bipartite_graph.neighbors(neighbor))\n",
    "    num_of_second_degree_neighbors_list.append(len(unique_second_degree_neighbors))\n",
    "homograph_df['num_second_degree_neighbors'] = num_of_second_degree_neighbors_list\n",
    "homograph_df.sort_values(by=['num_second_degree_neighbors'])"
   ]
  },
  {
   "cell_type": "code",
   "execution_count": 13,
   "metadata": {},
   "outputs": [
    {
     "output_type": "execute_result",
     "data": {
      "text/html": "\n<div id=\"altair-viz-57a413a41a58495b897c5f2962306e72\"></div>\n<script type=\"text/javascript\">\n  (function(spec, embedOpt){\n    let outputDiv = document.currentScript.previousElementSibling;\n    if (outputDiv.id !== \"altair-viz-57a413a41a58495b897c5f2962306e72\") {\n      outputDiv = document.getElementById(\"altair-viz-57a413a41a58495b897c5f2962306e72\");\n    }\n    const paths = {\n      \"vega\": \"https://cdn.jsdelivr.net/npm//vega@5?noext\",\n      \"vega-lib\": \"https://cdn.jsdelivr.net/npm//vega-lib?noext\",\n      \"vega-lite\": \"https://cdn.jsdelivr.net/npm//vega-lite@4.8.1?noext\",\n      \"vega-embed\": \"https://cdn.jsdelivr.net/npm//vega-embed@6?noext\",\n    };\n\n    function loadScript(lib) {\n      return new Promise(function(resolve, reject) {\n        var s = document.createElement('script');\n        s.src = paths[lib];\n        s.async = true;\n        s.onload = () => resolve(paths[lib]);\n        s.onerror = () => reject(`Error loading script: ${paths[lib]}`);\n        document.getElementsByTagName(\"head\")[0].appendChild(s);\n      });\n    }\n\n    function showError(err) {\n      outputDiv.innerHTML = `<div class=\"error\" style=\"color:red;\">${err}</div>`;\n      throw err;\n    }\n\n    function displayChart(vegaEmbed) {\n      vegaEmbed(outputDiv, spec, embedOpt)\n        .catch(err => showError(`Javascript Error: ${err.message}<br>This usually means there's a typo in your chart specification. See the javascript console for the full traceback.`));\n    }\n\n    if(typeof define === \"function\" && define.amd) {\n      requirejs.config({paths});\n      require([\"vega-embed\"], displayChart, err => showError(`Error loading script: ${err.message}`));\n    } else if (typeof vegaEmbed === \"function\") {\n      displayChart(vegaEmbed);\n    } else {\n      loadScript(\"vega\")\n        .then(() => loadScript(\"vega-lite\"))\n        .then(() => loadScript(\"vega-embed\"))\n        .catch(showError)\n        .then(() => displayChart(vegaEmbed));\n    }\n  })({\"config\": {\"view\": {\"continuousWidth\": 400, \"continuousHeight\": 300}}, \"layer\": [{\"mark\": {\"type\": \"text\", \"align\": \"center\", \"baseline\": \"middle\", \"dy\": -25, \"fontSize\": 32}, \"encoding\": {\"text\": {\"type\": \"nominal\", \"field\": \"node\"}, \"tooltip\": [{\"type\": \"nominal\", \"field\": \"node\"}, {\"type\": \"quantitative\", \"field\": \"betweenness_centrality\"}, {\"type\": \"quantitative\", \"field\": \"num_second_degree_neighbors\"}], \"x\": {\"type\": \"quantitative\", \"axis\": {\"labelFontSize\": 28, \"title\": \"Cardinality\", \"titleFontSize\": 30}, \"field\": \"num_second_degree_neighbors\", \"scale\": {\"type\": \"log\"}}, \"y\": {\"type\": \"quantitative\", \"axis\": {\"format\": \".1e\", \"labelFontSize\": 28, \"tickCount\": 8, \"title\": \"Betweenness Centrality\", \"titleFontSize\": 30}, \"field\": \"betweenness_centrality\", \"scale\": {\"type\": \"log\"}}}, \"title\": \"\"}, {\"mark\": {\"type\": \"circle\", \"clip\": true, \"size\": 300}, \"encoding\": {\"tooltip\": [{\"type\": \"nominal\", \"field\": \"node\"}, {\"type\": \"quantitative\", \"field\": \"betweenness_centrality\"}, {\"type\": \"quantitative\", \"field\": \"num_second_degree_neighbors\"}], \"x\": {\"type\": \"quantitative\", \"axis\": {\"labelFontSize\": 28, \"title\": \"Cardinality\", \"titleFontSize\": 30}, \"field\": \"num_second_degree_neighbors\", \"scale\": {\"type\": \"log\"}}, \"y\": {\"type\": \"quantitative\", \"axis\": {\"format\": \".1e\", \"labelFontSize\": 28, \"tickCount\": 8, \"title\": \"Betweenness Centrality\", \"titleFontSize\": 30}, \"field\": \"betweenness_centrality\", \"scale\": {\"type\": \"log\"}}}, \"title\": \"\"}], \"data\": {\"name\": \"data-2c8e9bb2abdceefcbb0f64c92b9285d4\"}, \"height\": 800, \"width\": 1600, \"$schema\": \"https://vega.github.io/schema/vega-lite/v4.8.1.json\", \"datasets\": {\"data-2c8e9bb2abdceefcbb0f64c92b9285d4\": [{\"node\": \"Sydney\", \"node_type\": \"cell\", \"betweenness_centrality\": 0.009810582844805113, \"local_clustering_coefficient\": 0.4988389643562059, \"is_homograph\": \"homograph\", \"num_second_degree_neighbors\": 1915}, {\"node\": \"Cuba\", \"node_type\": \"cell\", \"betweenness_centrality\": 0.006394042232732996, \"local_clustering_coefficient\": 0.19559493310560777, \"is_homograph\": \"homograph\", \"num_second_degree_neighbors\": 1172}, {\"node\": \"Elmira\", \"node_type\": \"cell\", \"betweenness_centrality\": 0.009810582844805113, \"local_clustering_coefficient\": 0.4988389643562059, \"is_homograph\": \"homograph\", \"num_second_degree_neighbors\": 1915}, {\"node\": \"Lincoln\", \"node_type\": \"cell\", \"betweenness_centrality\": 0.03212017096928377, \"local_clustering_coefficient\": 0.4983164983164983, \"is_homograph\": \"homograph\", \"num_second_degree_neighbors\": 1024}, {\"node\": \"Virginia\", \"node_type\": \"cell\", \"betweenness_centrality\": 0.012066803467345594, \"local_clustering_coefficient\": 0.3329886737303639, \"is_homograph\": \"homograph\", \"num_second_degree_neighbors\": 1956}, {\"node\": \"Jamaica\", \"node_type\": \"cell\", \"betweenness_centrality\": 0.00934929341297902, \"local_clustering_coefficient\": 0.19592513113972343, \"is_homograph\": \"homograph\", \"num_second_degree_neighbors\": 1166}, {\"node\": \"Phoenix\", \"node_type\": \"cell\", \"betweenness_centrality\": 0.021940034186072273, \"local_clustering_coefficient\": 0.4984026010743569, \"is_homograph\": \"homograph\", \"num_second_degree_neighbors\": 1966}, {\"node\": \"Quinta\", \"node_type\": \"cell\", \"betweenness_centrality\": 0.009810582844805113, \"local_clustering_coefficient\": 0.4988389643562059, \"is_homograph\": \"homograph\", \"num_second_degree_neighbors\": 1915}, {\"node\": \"ID\", \"node_type\": \"cell\", \"betweenness_centrality\": 1.9375908801961833e-06, \"local_clustering_coefficient\": 0.540909090909091, \"is_homograph\": \"homograph\", \"num_second_degree_neighbors\": 188}, {\"node\": \"NE\", \"node_type\": \"cell\", \"betweenness_centrality\": 6.02509117295577e-07, \"local_clustering_coefficient\": 0.3418888888888891, \"is_homograph\": \"homograph\", \"num_second_degree_neighbors\": 151}, {\"node\": \"GT\", \"node_type\": \"cell\", \"betweenness_centrality\": 0.0053362963490488835, \"local_clustering_coefficient\": 0.32272727272727253, \"is_homograph\": \"homograph\", \"num_second_degree_neighbors\": 672}, {\"node\": \"AR\", \"node_type\": \"cell\", \"betweenness_centrality\": 1.9375908801961833e-06, \"local_clustering_coefficient\": 0.540909090909091, \"is_homograph\": \"homograph\", \"num_second_degree_neighbors\": 188}, {\"node\": \"CO\", \"node_type\": \"cell\", \"betweenness_centrality\": 1.9375908801961833e-06, \"local_clustering_coefficient\": 0.540909090909091, \"is_homograph\": \"homograph\", \"num_second_degree_neighbors\": 188}, {\"node\": \"MA\", \"node_type\": \"cell\", \"betweenness_centrality\": 1.9375908801961833e-06, \"local_clustering_coefficient\": 0.540909090909091, \"is_homograph\": \"homograph\", \"num_second_degree_neighbors\": 188}, {\"node\": \"CA\", \"node_type\": \"cell\", \"betweenness_centrality\": 1.9375908801961833e-06, \"local_clustering_coefficient\": 0.540909090909091, \"is_homograph\": \"homograph\", \"num_second_degree_neighbors\": 188}, {\"node\": \"DE\", \"node_type\": \"cell\", \"betweenness_centrality\": 1.9375908801961833e-06, \"local_clustering_coefficient\": 0.540909090909091, \"is_homograph\": \"homograph\", \"num_second_degree_neighbors\": 188}, {\"node\": \"TL\", \"node_type\": \"cell\", \"betweenness_centrality\": 0.0015526876879781335, \"local_clustering_coefficient\": 0.4563391442155308, \"is_homograph\": \"homograph\", \"num_second_degree_neighbors\": 632}, {\"node\": \"MN\", \"node_type\": \"cell\", \"betweenness_centrality\": 1.9375908801961833e-06, \"local_clustering_coefficient\": 0.540909090909091, \"is_homograph\": \"homograph\", \"num_second_degree_neighbors\": 188}, {\"node\": \"AL\", \"node_type\": \"cell\", \"betweenness_centrality\": 1.9375908801961833e-06, \"local_clustering_coefficient\": 0.540909090909091, \"is_homograph\": \"homograph\", \"num_second_degree_neighbors\": 188}, {\"node\": \"SD\", \"node_type\": \"cell\", \"betweenness_centrality\": 1.2686073393256332e-06, \"local_clustering_coefficient\": 0.4457854406130269, \"is_homograph\": \"homograph\", \"num_second_degree_neighbors\": 175}, {\"node\": \"PA\", \"node_type\": \"cell\", \"betweenness_centrality\": 1.9375908801961833e-06, \"local_clustering_coefficient\": 0.540909090909091, \"is_homograph\": \"homograph\", \"num_second_degree_neighbors\": 188}, {\"node\": \"AZ\", \"node_type\": \"cell\", \"betweenness_centrality\": 1.9375908801961833e-06, \"local_clustering_coefficient\": 0.540909090909091, \"is_homograph\": \"homograph\", \"num_second_degree_neighbors\": 188}, {\"node\": \"TN\", \"node_type\": \"cell\", \"betweenness_centrality\": 1.9375908801961833e-06, \"local_clustering_coefficient\": 0.540909090909091, \"is_homograph\": \"homograph\", \"num_second_degree_neighbors\": 188}, {\"node\": \"Georgia\", \"node_type\": \"cell\", \"betweenness_centrality\": 0.0009264464714507509, \"local_clustering_coefficient\": 0.3498360533571805, \"is_homograph\": \"homograph\", \"num_second_degree_neighbors\": 214}, {\"node\": \"Florida\", \"node_type\": \"cell\", \"betweenness_centrality\": 0.0008094637453794234, \"local_clustering_coefficient\": 0.4964503042596347, \"is_homograph\": \"homograph\", \"num_second_degree_neighbors\": 987}, {\"node\": \"California\", \"node_type\": \"cell\", \"betweenness_centrality\": 0.0009775387615197119, \"local_clustering_coefficient\": 0.4965943339361062, \"is_homograph\": \"homograph\", \"num_second_degree_neighbors\": 554}, {\"node\": \"Colorado\", \"node_type\": \"cell\", \"betweenness_centrality\": 0.0009775387615197119, \"local_clustering_coefficient\": 0.4965943339361062, \"is_homograph\": \"homograph\", \"num_second_degree_neighbors\": 554}, {\"node\": \"CT\", \"node_type\": \"cell\", \"betweenness_centrality\": 0.0008472891105083686, \"local_clustering_coefficient\": 0.48987341772151893, \"is_homograph\": \"homograph\", \"num_second_degree_neighbors\": 554}, {\"node\": \"SC\", \"node_type\": \"cell\", \"betweenness_centrality\": 0.0008472891105083686, \"local_clustering_coefficient\": 0.48987341772151893, \"is_homograph\": \"homograph\", \"num_second_degree_neighbors\": 554}, {\"node\": \"IL\", \"node_type\": \"cell\", \"betweenness_centrality\": 6.144583057815476e-07, \"local_clustering_coefficient\": 0.350777777777778, \"is_homograph\": \"homograph\", \"num_second_degree_neighbors\": 151}, {\"node\": \"GA\", \"node_type\": \"cell\", \"betweenness_centrality\": 6.433241040879991e-07, \"local_clustering_coefficient\": 0.3521929824561405, \"is_homograph\": \"homograph\", \"num_second_degree_neighbors\": 153}, {\"node\": \"MD\", \"node_type\": \"cell\", \"betweenness_centrality\": 1.2903773325733573e-06, \"local_clustering_coefficient\": 0.4362359550561799, \"is_homograph\": \"homograph\", \"num_second_degree_neighbors\": 179}, {\"node\": \"ME\", \"node_type\": \"cell\", \"betweenness_centrality\": 6.144583057815476e-07, \"local_clustering_coefficient\": 0.350777777777778, \"is_homograph\": \"homograph\", \"num_second_degree_neighbors\": 151}, {\"node\": \"Jaguar\", \"node_type\": \"cell\", \"betweenness_centrality\": 0.05434441916450321, \"local_clustering_coefficient\": 0.43213572854291077, \"is_homograph\": \"homograph\", \"num_second_degree_neighbors\": 1170}, {\"node\": \"Heather\", \"node_type\": \"cell\", \"betweenness_centrality\": 0.0296526989596654, \"local_clustering_coefficient\": 0.49405368671423755, \"is_homograph\": \"homograph\", \"num_second_degree_neighbors\": 1963}, {\"node\": \"Leandra\", \"node_type\": \"cell\", \"betweenness_centrality\": 0.026114852852671233, \"local_clustering_coefficient\": 0.4934923130677851, \"is_homograph\": \"homograph\", \"num_second_degree_neighbors\": 1909}, {\"node\": \"Charity\", \"node_type\": \"cell\", \"betweenness_centrality\": 0.026114852852671233, \"local_clustering_coefficient\": 0.4934923130677851, \"is_homograph\": \"homograph\", \"num_second_degree_neighbors\": 1909}, {\"node\": \"Garvey\", \"node_type\": \"cell\", \"betweenness_centrality\": 0.0021909754884387434, \"local_clustering_coefficient\": 0.5008203799654577, \"is_homograph\": \"homograph\", \"num_second_degree_neighbors\": 1931}, {\"node\": \"Vinson\", \"node_type\": \"cell\", \"betweenness_centrality\": 0.0021909754884387434, \"local_clustering_coefficient\": 0.5008203799654577, \"is_homograph\": \"homograph\", \"num_second_degree_neighbors\": 1931}, {\"node\": \"Else\", \"node_type\": \"cell\", \"betweenness_centrality\": 0.0021909754884387434, \"local_clustering_coefficient\": 0.5008203799654577, \"is_homograph\": \"homograph\", \"num_second_degree_neighbors\": 1931}, {\"node\": \"Duff\", \"node_type\": \"cell\", \"betweenness_centrality\": 0.0021909754884387434, \"local_clustering_coefficient\": 0.5008203799654577, \"is_homograph\": \"homograph\", \"num_second_degree_neighbors\": 1931}, {\"node\": \"Christophe\", \"node_type\": \"cell\", \"betweenness_centrality\": 0.0021909754884387434, \"local_clustering_coefficient\": 0.5008203799654577, \"is_homograph\": \"homograph\", \"num_second_degree_neighbors\": 1931}, {\"node\": \"Reid\", \"node_type\": \"cell\", \"betweenness_centrality\": 0.0021909754884387434, \"local_clustering_coefficient\": 0.5008203799654577, \"is_homograph\": \"homograph\", \"num_second_degree_neighbors\": 1931}, {\"node\": \"Mace\", \"node_type\": \"cell\", \"betweenness_centrality\": 0.032803185535055276, \"local_clustering_coefficient\": 0.4980794453813005, \"is_homograph\": \"homograph\", \"num_second_degree_neighbors\": 1780}, {\"node\": \"Costanza\", \"node_type\": \"cell\", \"betweenness_centrality\": 0.0021909754884387434, \"local_clustering_coefficient\": 0.5008203799654577, \"is_homograph\": \"homograph\", \"num_second_degree_neighbors\": 1931}, {\"node\": \"Elan\", \"node_type\": \"cell\", \"betweenness_centrality\": 0.016661374806222328, \"local_clustering_coefficient\": 0.49758582502768567, \"is_homograph\": \"homograph\", \"num_second_degree_neighbors\": 1506}, {\"node\": \"Berkeley\", \"node_type\": \"cell\", \"betweenness_centrality\": 0.0021909754884387434, \"local_clustering_coefficient\": 0.5008203799654577, \"is_homograph\": \"homograph\", \"num_second_degree_neighbors\": 1931}, {\"node\": \"Nadine\", \"node_type\": \"cell\", \"betweenness_centrality\": 0.013733952634639826, \"local_clustering_coefficient\": 0.49828014799398784, \"is_homograph\": \"homograph\", \"num_second_degree_neighbors\": 1923}, {\"node\": \"Conroy\", \"node_type\": \"cell\", \"betweenness_centrality\": 0.0021909754884387434, \"local_clustering_coefficient\": 0.5008203799654577, \"is_homograph\": \"homograph\", \"num_second_degree_neighbors\": 1931}, {\"node\": \"Jimmy\", \"node_type\": \"cell\", \"betweenness_centrality\": 0.016307987342897904, \"local_clustering_coefficient\": 0.4965339739190117, \"is_homograph\": \"homograph\", \"num_second_degree_neighbors\": 1458}, {\"node\": \"Smitty\", \"node_type\": \"cell\", \"betweenness_centrality\": 0.013733952634639826, \"local_clustering_coefficient\": 0.49828014799398784, \"is_homograph\": \"homograph\", \"num_second_degree_neighbors\": 1923}, {\"node\": \"Ram\", \"node_type\": \"cell\", \"betweenness_centrality\": 0.025394563689343497, \"local_clustering_coefficient\": 0.4960627590290113, \"is_homograph\": \"homograph\", \"num_second_degree_neighbors\": 564}, {\"node\": \"ES\", \"node_type\": \"cell\", \"betweenness_centrality\": 0.0016026193810067756, \"local_clustering_coefficient\": 0.4571993670886076, \"is_homograph\": \"homograph\", \"num_second_degree_neighbors\": 633}, {\"node\": \"Crossfire\", \"node_type\": \"cell\", \"betweenness_centrality\": 0.015471727020072483, \"local_clustering_coefficient\": 0.49819537658463836, \"is_homograph\": \"homograph\", \"num_second_degree_neighbors\": 1491}, {\"node\": \"Pumpkin\", \"node_type\": \"cell\", \"betweenness_centrality\": 0.00919603212554278, \"local_clustering_coefficient\": 0.49941746382143726, \"is_homograph\": \"homograph\", \"num_second_degree_neighbors\": 1813}]}}, {\"mode\": \"vega-lite\"});\n</script>",
      "text/plain": [
       "alt.LayerChart(...)"
      ]
     },
     "metadata": {},
     "execution_count": 13
    }
   ],
   "source": [
    "points = alt.Chart(homograph_df, title='').mark_circle(size=300, clip=True).encode(\n",
    "    x=alt.X('num_second_degree_neighbors:Q', scale=alt.Scale(type='log'), axis=alt.Axis(title='Cardinality', labelFontSize=28, titleFontSize=30)),\n",
    "    y=alt.Y('betweenness_centrality:Q', scale=alt.Scale(type='log'), axis=alt.Axis(title='Betweenness Centrality', format=\".1e\", labelFontSize=28, titleFontSize=30, tickCount=8)),\n",
    "    tooltip=['node', 'betweenness_centrality', 'num_second_degree_neighbors']\n",
    ")\n",
    "\n",
    "text = points.mark_text(\n",
    "    fontSize=32,\n",
    "    align='center',\n",
    "    baseline='middle',\n",
    "    dy=-25\n",
    ").encode(\n",
    "    text='node'\n",
    ")\n",
    "\n",
    "fig = (text + points).properties(width=1600, height=800)\n",
    "fig.save('figures/synthetic_dataset/synthetic_bipartite_betweenness_vs_cardinality_all.svg')\n",
    "fig\n"
   ]
  },
  {
   "cell_type": "code",
   "execution_count": 14,
   "metadata": {},
   "outputs": [
    {
     "output_type": "execute_result",
     "data": {
      "text/html": "\n<div id=\"altair-viz-d4a1c21efc874d95a19349d2548749b5\"></div>\n<script type=\"text/javascript\">\n  (function(spec, embedOpt){\n    let outputDiv = document.currentScript.previousElementSibling;\n    if (outputDiv.id !== \"altair-viz-d4a1c21efc874d95a19349d2548749b5\") {\n      outputDiv = document.getElementById(\"altair-viz-d4a1c21efc874d95a19349d2548749b5\");\n    }\n    const paths = {\n      \"vega\": \"https://cdn.jsdelivr.net/npm//vega@5?noext\",\n      \"vega-lib\": \"https://cdn.jsdelivr.net/npm//vega-lib?noext\",\n      \"vega-lite\": \"https://cdn.jsdelivr.net/npm//vega-lite@4.8.1?noext\",\n      \"vega-embed\": \"https://cdn.jsdelivr.net/npm//vega-embed@6?noext\",\n    };\n\n    function loadScript(lib) {\n      return new Promise(function(resolve, reject) {\n        var s = document.createElement('script');\n        s.src = paths[lib];\n        s.async = true;\n        s.onload = () => resolve(paths[lib]);\n        s.onerror = () => reject(`Error loading script: ${paths[lib]}`);\n        document.getElementsByTagName(\"head\")[0].appendChild(s);\n      });\n    }\n\n    function showError(err) {\n      outputDiv.innerHTML = `<div class=\"error\" style=\"color:red;\">${err}</div>`;\n      throw err;\n    }\n\n    function displayChart(vegaEmbed) {\n      vegaEmbed(outputDiv, spec, embedOpt)\n        .catch(err => showError(`Javascript Error: ${err.message}<br>This usually means there's a typo in your chart specification. See the javascript console for the full traceback.`));\n    }\n\n    if(typeof define === \"function\" && define.amd) {\n      requirejs.config({paths});\n      require([\"vega-embed\"], displayChart, err => showError(`Error loading script: ${err.message}`));\n    } else if (typeof vegaEmbed === \"function\") {\n      displayChart(vegaEmbed);\n    } else {\n      loadScript(\"vega\")\n        .then(() => loadScript(\"vega-lite\"))\n        .then(() => loadScript(\"vega-embed\"))\n        .catch(showError)\n        .then(() => displayChart(vegaEmbed));\n    }\n  })({\"config\": {\"view\": {\"continuousWidth\": 400, \"continuousHeight\": 300}}, \"data\": {\"name\": \"data-2c8e9bb2abdceefcbb0f64c92b9285d4\"}, \"mark\": {\"type\": \"circle\", \"clip\": true, \"size\": 300}, \"encoding\": {\"tooltip\": [{\"type\": \"nominal\", \"field\": \"node\"}, {\"type\": \"quantitative\", \"field\": \"betweenness_centrality\"}, {\"type\": \"quantitative\", \"field\": \"num_second_degree_neighbors\"}], \"x\": {\"type\": \"quantitative\", \"axis\": {\"labelFontSize\": 28, \"title\": \"Cardinality\", \"titleFontSize\": 30}, \"field\": \"num_second_degree_neighbors\", \"scale\": {\"type\": \"log\"}}, \"y\": {\"type\": \"quantitative\", \"axis\": {\"format\": \".1e\", \"labelFontSize\": 28, \"tickCount\": 8, \"title\": \"Betweenness Centrality\", \"titleFontSize\": 30}, \"field\": \"betweenness_centrality\", \"scale\": {\"type\": \"log\"}}}, \"height\": 800, \"title\": \"\", \"width\": 1600, \"$schema\": \"https://vega.github.io/schema/vega-lite/v4.8.1.json\", \"datasets\": {\"data-2c8e9bb2abdceefcbb0f64c92b9285d4\": [{\"node\": \"Sydney\", \"node_type\": \"cell\", \"betweenness_centrality\": 0.009810582844805113, \"local_clustering_coefficient\": 0.4988389643562059, \"is_homograph\": \"homograph\", \"num_second_degree_neighbors\": 1915}, {\"node\": \"Cuba\", \"node_type\": \"cell\", \"betweenness_centrality\": 0.006394042232732996, \"local_clustering_coefficient\": 0.19559493310560777, \"is_homograph\": \"homograph\", \"num_second_degree_neighbors\": 1172}, {\"node\": \"Elmira\", \"node_type\": \"cell\", \"betweenness_centrality\": 0.009810582844805113, \"local_clustering_coefficient\": 0.4988389643562059, \"is_homograph\": \"homograph\", \"num_second_degree_neighbors\": 1915}, {\"node\": \"Lincoln\", \"node_type\": \"cell\", \"betweenness_centrality\": 0.03212017096928377, \"local_clustering_coefficient\": 0.4983164983164983, \"is_homograph\": \"homograph\", \"num_second_degree_neighbors\": 1024}, {\"node\": \"Virginia\", \"node_type\": \"cell\", \"betweenness_centrality\": 0.012066803467345594, \"local_clustering_coefficient\": 0.3329886737303639, \"is_homograph\": \"homograph\", \"num_second_degree_neighbors\": 1956}, {\"node\": \"Jamaica\", \"node_type\": \"cell\", \"betweenness_centrality\": 0.00934929341297902, \"local_clustering_coefficient\": 0.19592513113972343, \"is_homograph\": \"homograph\", \"num_second_degree_neighbors\": 1166}, {\"node\": \"Phoenix\", \"node_type\": \"cell\", \"betweenness_centrality\": 0.021940034186072273, \"local_clustering_coefficient\": 0.4984026010743569, \"is_homograph\": \"homograph\", \"num_second_degree_neighbors\": 1966}, {\"node\": \"Quinta\", \"node_type\": \"cell\", \"betweenness_centrality\": 0.009810582844805113, \"local_clustering_coefficient\": 0.4988389643562059, \"is_homograph\": \"homograph\", \"num_second_degree_neighbors\": 1915}, {\"node\": \"ID\", \"node_type\": \"cell\", \"betweenness_centrality\": 1.9375908801961833e-06, \"local_clustering_coefficient\": 0.540909090909091, \"is_homograph\": \"homograph\", \"num_second_degree_neighbors\": 188}, {\"node\": \"NE\", \"node_type\": \"cell\", \"betweenness_centrality\": 6.02509117295577e-07, \"local_clustering_coefficient\": 0.3418888888888891, \"is_homograph\": \"homograph\", \"num_second_degree_neighbors\": 151}, {\"node\": \"GT\", \"node_type\": \"cell\", \"betweenness_centrality\": 0.0053362963490488835, \"local_clustering_coefficient\": 0.32272727272727253, \"is_homograph\": \"homograph\", \"num_second_degree_neighbors\": 672}, {\"node\": \"AR\", \"node_type\": \"cell\", \"betweenness_centrality\": 1.9375908801961833e-06, \"local_clustering_coefficient\": 0.540909090909091, \"is_homograph\": \"homograph\", \"num_second_degree_neighbors\": 188}, {\"node\": \"CO\", \"node_type\": \"cell\", \"betweenness_centrality\": 1.9375908801961833e-06, \"local_clustering_coefficient\": 0.540909090909091, \"is_homograph\": \"homograph\", \"num_second_degree_neighbors\": 188}, {\"node\": \"MA\", \"node_type\": \"cell\", \"betweenness_centrality\": 1.9375908801961833e-06, \"local_clustering_coefficient\": 0.540909090909091, \"is_homograph\": \"homograph\", \"num_second_degree_neighbors\": 188}, {\"node\": \"CA\", \"node_type\": \"cell\", \"betweenness_centrality\": 1.9375908801961833e-06, \"local_clustering_coefficient\": 0.540909090909091, \"is_homograph\": \"homograph\", \"num_second_degree_neighbors\": 188}, {\"node\": \"DE\", \"node_type\": \"cell\", \"betweenness_centrality\": 1.9375908801961833e-06, \"local_clustering_coefficient\": 0.540909090909091, \"is_homograph\": \"homograph\", \"num_second_degree_neighbors\": 188}, {\"node\": \"TL\", \"node_type\": \"cell\", \"betweenness_centrality\": 0.0015526876879781335, \"local_clustering_coefficient\": 0.4563391442155308, \"is_homograph\": \"homograph\", \"num_second_degree_neighbors\": 632}, {\"node\": \"MN\", \"node_type\": \"cell\", \"betweenness_centrality\": 1.9375908801961833e-06, \"local_clustering_coefficient\": 0.540909090909091, \"is_homograph\": \"homograph\", \"num_second_degree_neighbors\": 188}, {\"node\": \"AL\", \"node_type\": \"cell\", \"betweenness_centrality\": 1.9375908801961833e-06, \"local_clustering_coefficient\": 0.540909090909091, \"is_homograph\": \"homograph\", \"num_second_degree_neighbors\": 188}, {\"node\": \"SD\", \"node_type\": \"cell\", \"betweenness_centrality\": 1.2686073393256332e-06, \"local_clustering_coefficient\": 0.4457854406130269, \"is_homograph\": \"homograph\", \"num_second_degree_neighbors\": 175}, {\"node\": \"PA\", \"node_type\": \"cell\", \"betweenness_centrality\": 1.9375908801961833e-06, \"local_clustering_coefficient\": 0.540909090909091, \"is_homograph\": \"homograph\", \"num_second_degree_neighbors\": 188}, {\"node\": \"AZ\", \"node_type\": \"cell\", \"betweenness_centrality\": 1.9375908801961833e-06, \"local_clustering_coefficient\": 0.540909090909091, \"is_homograph\": \"homograph\", \"num_second_degree_neighbors\": 188}, {\"node\": \"TN\", \"node_type\": \"cell\", \"betweenness_centrality\": 1.9375908801961833e-06, \"local_clustering_coefficient\": 0.540909090909091, \"is_homograph\": \"homograph\", \"num_second_degree_neighbors\": 188}, {\"node\": \"Georgia\", \"node_type\": \"cell\", \"betweenness_centrality\": 0.0009264464714507509, \"local_clustering_coefficient\": 0.3498360533571805, \"is_homograph\": \"homograph\", \"num_second_degree_neighbors\": 214}, {\"node\": \"Florida\", \"node_type\": \"cell\", \"betweenness_centrality\": 0.0008094637453794234, \"local_clustering_coefficient\": 0.4964503042596347, \"is_homograph\": \"homograph\", \"num_second_degree_neighbors\": 987}, {\"node\": \"California\", \"node_type\": \"cell\", \"betweenness_centrality\": 0.0009775387615197119, \"local_clustering_coefficient\": 0.4965943339361062, \"is_homograph\": \"homograph\", \"num_second_degree_neighbors\": 554}, {\"node\": \"Colorado\", \"node_type\": \"cell\", \"betweenness_centrality\": 0.0009775387615197119, \"local_clustering_coefficient\": 0.4965943339361062, \"is_homograph\": \"homograph\", \"num_second_degree_neighbors\": 554}, {\"node\": \"CT\", \"node_type\": \"cell\", \"betweenness_centrality\": 0.0008472891105083686, \"local_clustering_coefficient\": 0.48987341772151893, \"is_homograph\": \"homograph\", \"num_second_degree_neighbors\": 554}, {\"node\": \"SC\", \"node_type\": \"cell\", \"betweenness_centrality\": 0.0008472891105083686, \"local_clustering_coefficient\": 0.48987341772151893, \"is_homograph\": \"homograph\", \"num_second_degree_neighbors\": 554}, {\"node\": \"IL\", \"node_type\": \"cell\", \"betweenness_centrality\": 6.144583057815476e-07, \"local_clustering_coefficient\": 0.350777777777778, \"is_homograph\": \"homograph\", \"num_second_degree_neighbors\": 151}, {\"node\": \"GA\", \"node_type\": \"cell\", \"betweenness_centrality\": 6.433241040879991e-07, \"local_clustering_coefficient\": 0.3521929824561405, \"is_homograph\": \"homograph\", \"num_second_degree_neighbors\": 153}, {\"node\": \"MD\", \"node_type\": \"cell\", \"betweenness_centrality\": 1.2903773325733573e-06, \"local_clustering_coefficient\": 0.4362359550561799, \"is_homograph\": \"homograph\", \"num_second_degree_neighbors\": 179}, {\"node\": \"ME\", \"node_type\": \"cell\", \"betweenness_centrality\": 6.144583057815476e-07, \"local_clustering_coefficient\": 0.350777777777778, \"is_homograph\": \"homograph\", \"num_second_degree_neighbors\": 151}, {\"node\": \"Jaguar\", \"node_type\": \"cell\", \"betweenness_centrality\": 0.05434441916450321, \"local_clustering_coefficient\": 0.43213572854291077, \"is_homograph\": \"homograph\", \"num_second_degree_neighbors\": 1170}, {\"node\": \"Heather\", \"node_type\": \"cell\", \"betweenness_centrality\": 0.0296526989596654, \"local_clustering_coefficient\": 0.49405368671423755, \"is_homograph\": \"homograph\", \"num_second_degree_neighbors\": 1963}, {\"node\": \"Leandra\", \"node_type\": \"cell\", \"betweenness_centrality\": 0.026114852852671233, \"local_clustering_coefficient\": 0.4934923130677851, \"is_homograph\": \"homograph\", \"num_second_degree_neighbors\": 1909}, {\"node\": \"Charity\", \"node_type\": \"cell\", \"betweenness_centrality\": 0.026114852852671233, \"local_clustering_coefficient\": 0.4934923130677851, \"is_homograph\": \"homograph\", \"num_second_degree_neighbors\": 1909}, {\"node\": \"Garvey\", \"node_type\": \"cell\", \"betweenness_centrality\": 0.0021909754884387434, \"local_clustering_coefficient\": 0.5008203799654577, \"is_homograph\": \"homograph\", \"num_second_degree_neighbors\": 1931}, {\"node\": \"Vinson\", \"node_type\": \"cell\", \"betweenness_centrality\": 0.0021909754884387434, \"local_clustering_coefficient\": 0.5008203799654577, \"is_homograph\": \"homograph\", \"num_second_degree_neighbors\": 1931}, {\"node\": \"Else\", \"node_type\": \"cell\", \"betweenness_centrality\": 0.0021909754884387434, \"local_clustering_coefficient\": 0.5008203799654577, \"is_homograph\": \"homograph\", \"num_second_degree_neighbors\": 1931}, {\"node\": \"Duff\", \"node_type\": \"cell\", \"betweenness_centrality\": 0.0021909754884387434, \"local_clustering_coefficient\": 0.5008203799654577, \"is_homograph\": \"homograph\", \"num_second_degree_neighbors\": 1931}, {\"node\": \"Christophe\", \"node_type\": \"cell\", \"betweenness_centrality\": 0.0021909754884387434, \"local_clustering_coefficient\": 0.5008203799654577, \"is_homograph\": \"homograph\", \"num_second_degree_neighbors\": 1931}, {\"node\": \"Reid\", \"node_type\": \"cell\", \"betweenness_centrality\": 0.0021909754884387434, \"local_clustering_coefficient\": 0.5008203799654577, \"is_homograph\": \"homograph\", \"num_second_degree_neighbors\": 1931}, {\"node\": \"Mace\", \"node_type\": \"cell\", \"betweenness_centrality\": 0.032803185535055276, \"local_clustering_coefficient\": 0.4980794453813005, \"is_homograph\": \"homograph\", \"num_second_degree_neighbors\": 1780}, {\"node\": \"Costanza\", \"node_type\": \"cell\", \"betweenness_centrality\": 0.0021909754884387434, \"local_clustering_coefficient\": 0.5008203799654577, \"is_homograph\": \"homograph\", \"num_second_degree_neighbors\": 1931}, {\"node\": \"Elan\", \"node_type\": \"cell\", \"betweenness_centrality\": 0.016661374806222328, \"local_clustering_coefficient\": 0.49758582502768567, \"is_homograph\": \"homograph\", \"num_second_degree_neighbors\": 1506}, {\"node\": \"Berkeley\", \"node_type\": \"cell\", \"betweenness_centrality\": 0.0021909754884387434, \"local_clustering_coefficient\": 0.5008203799654577, \"is_homograph\": \"homograph\", \"num_second_degree_neighbors\": 1931}, {\"node\": \"Nadine\", \"node_type\": \"cell\", \"betweenness_centrality\": 0.013733952634639826, \"local_clustering_coefficient\": 0.49828014799398784, \"is_homograph\": \"homograph\", \"num_second_degree_neighbors\": 1923}, {\"node\": \"Conroy\", \"node_type\": \"cell\", \"betweenness_centrality\": 0.0021909754884387434, \"local_clustering_coefficient\": 0.5008203799654577, \"is_homograph\": \"homograph\", \"num_second_degree_neighbors\": 1931}, {\"node\": \"Jimmy\", \"node_type\": \"cell\", \"betweenness_centrality\": 0.016307987342897904, \"local_clustering_coefficient\": 0.4965339739190117, \"is_homograph\": \"homograph\", \"num_second_degree_neighbors\": 1458}, {\"node\": \"Smitty\", \"node_type\": \"cell\", \"betweenness_centrality\": 0.013733952634639826, \"local_clustering_coefficient\": 0.49828014799398784, \"is_homograph\": \"homograph\", \"num_second_degree_neighbors\": 1923}, {\"node\": \"Ram\", \"node_type\": \"cell\", \"betweenness_centrality\": 0.025394563689343497, \"local_clustering_coefficient\": 0.4960627590290113, \"is_homograph\": \"homograph\", \"num_second_degree_neighbors\": 564}, {\"node\": \"ES\", \"node_type\": \"cell\", \"betweenness_centrality\": 0.0016026193810067756, \"local_clustering_coefficient\": 0.4571993670886076, \"is_homograph\": \"homograph\", \"num_second_degree_neighbors\": 633}, {\"node\": \"Crossfire\", \"node_type\": \"cell\", \"betweenness_centrality\": 0.015471727020072483, \"local_clustering_coefficient\": 0.49819537658463836, \"is_homograph\": \"homograph\", \"num_second_degree_neighbors\": 1491}, {\"node\": \"Pumpkin\", \"node_type\": \"cell\", \"betweenness_centrality\": 0.00919603212554278, \"local_clustering_coefficient\": 0.49941746382143726, \"is_homograph\": \"homograph\", \"num_second_degree_neighbors\": 1813}]}}, {\"mode\": \"vega-lite\"});\n</script>",
      "text/plain": [
       "alt.Chart(...)"
      ]
     },
     "metadata": {},
     "execution_count": 14
    }
   ],
   "source": [
    "points = alt.Chart(homograph_df, title='').mark_circle(size=300, clip=True).encode(\n",
    "    x=alt.X('num_second_degree_neighbors:Q', scale=alt.Scale(type='log'), axis=alt.Axis(title='Cardinality', labelFontSize=28, titleFontSize=30)),\n",
    "    y=alt.Y('betweenness_centrality:Q', scale=alt.Scale(type='log'), axis=alt.Axis(title='Betweenness Centrality', format=\".1e\", labelFontSize=28, titleFontSize=30, tickCount=8)),\n",
    "    tooltip=['node', 'betweenness_centrality', 'num_second_degree_neighbors']\n",
    ")\n",
    "\n",
    "\n",
    "fig = points.properties(width=1600, height=800)\n",
    "fig.save('figures/synthetic_dataset/synthetic_bipartite_betweenness_vs_cardinality_all_no_text.svg')\n",
    "fig\n"
   ]
  },
  {
   "cell_type": "code",
   "execution_count": 15,
   "metadata": {},
   "outputs": [
    {
     "output_type": "execute_result",
     "data": {
      "text/plain": [
       "             node node_type  betweenness_centrality  \\\n",
       "258          Cuba      cell            6.394042e-03   \n",
       "300       Lincoln      cell            3.212017e-02   \n",
       "546      Virginia      cell            1.206680e-02   \n",
       "723       Jamaica      cell            9.349293e-03   \n",
       "981       Phoenix      cell            2.194003e-02   \n",
       "1133           GT      cell            5.336296e-03   \n",
       "1182           AL      cell            1.937591e-06   \n",
       "1242      Georgia      cell            9.264465e-04   \n",
       "1255      Florida      cell            8.094637e-04   \n",
       "1271   California      cell            9.775388e-04   \n",
       "1315           MD      cell            1.290377e-06   \n",
       "1319           ME      cell            6.144583e-07   \n",
       "2384       Jaguar      cell            5.434442e-02   \n",
       "10229        Mace      cell            3.280319e-02   \n",
       "10357        Elan      cell            1.666137e-02   \n",
       "10625      Conroy      cell            2.190975e-03   \n",
       "15222         Ram      cell            2.539456e-02   \n",
       "15293          ES      cell            1.602619e-03   \n",
       "\n",
       "       local_clustering_coefficient is_homograph  num_second_degree_neighbors  \n",
       "258                        0.195595    homograph                         1172  \n",
       "300                        0.498316    homograph                         1024  \n",
       "546                        0.332989    homograph                         1956  \n",
       "723                        0.195925    homograph                         1166  \n",
       "981                        0.498403    homograph                         1966  \n",
       "1133                       0.322727    homograph                          672  \n",
       "1182                       0.540909    homograph                          188  \n",
       "1242                       0.349836    homograph                          214  \n",
       "1255                       0.496450    homograph                          987  \n",
       "1271                       0.496594    homograph                          554  \n",
       "1315                       0.436236    homograph                          179  \n",
       "1319                       0.350778    homograph                          151  \n",
       "2384                       0.432136    homograph                         1170  \n",
       "10229                      0.498079    homograph                         1780  \n",
       "10357                      0.497586    homograph                         1506  \n",
       "10625                      0.500820    homograph                         1931  \n",
       "15222                      0.496063    homograph                          564  \n",
       "15293                      0.457199    homograph                          633  "
      ],
      "text/html": "<div>\n<style scoped>\n    .dataframe tbody tr th:only-of-type {\n        vertical-align: middle;\n    }\n\n    .dataframe tbody tr th {\n        vertical-align: top;\n    }\n\n    .dataframe thead th {\n        text-align: right;\n    }\n</style>\n<table border=\"1\" class=\"dataframe\">\n  <thead>\n    <tr style=\"text-align: right;\">\n      <th></th>\n      <th>node</th>\n      <th>node_type</th>\n      <th>betweenness_centrality</th>\n      <th>local_clustering_coefficient</th>\n      <th>is_homograph</th>\n      <th>num_second_degree_neighbors</th>\n    </tr>\n  </thead>\n  <tbody>\n    <tr>\n      <th>258</th>\n      <td>Cuba</td>\n      <td>cell</td>\n      <td>6.394042e-03</td>\n      <td>0.195595</td>\n      <td>homograph</td>\n      <td>1172</td>\n    </tr>\n    <tr>\n      <th>300</th>\n      <td>Lincoln</td>\n      <td>cell</td>\n      <td>3.212017e-02</td>\n      <td>0.498316</td>\n      <td>homograph</td>\n      <td>1024</td>\n    </tr>\n    <tr>\n      <th>546</th>\n      <td>Virginia</td>\n      <td>cell</td>\n      <td>1.206680e-02</td>\n      <td>0.332989</td>\n      <td>homograph</td>\n      <td>1956</td>\n    </tr>\n    <tr>\n      <th>723</th>\n      <td>Jamaica</td>\n      <td>cell</td>\n      <td>9.349293e-03</td>\n      <td>0.195925</td>\n      <td>homograph</td>\n      <td>1166</td>\n    </tr>\n    <tr>\n      <th>981</th>\n      <td>Phoenix</td>\n      <td>cell</td>\n      <td>2.194003e-02</td>\n      <td>0.498403</td>\n      <td>homograph</td>\n      <td>1966</td>\n    </tr>\n    <tr>\n      <th>1133</th>\n      <td>GT</td>\n      <td>cell</td>\n      <td>5.336296e-03</td>\n      <td>0.322727</td>\n      <td>homograph</td>\n      <td>672</td>\n    </tr>\n    <tr>\n      <th>1182</th>\n      <td>AL</td>\n      <td>cell</td>\n      <td>1.937591e-06</td>\n      <td>0.540909</td>\n      <td>homograph</td>\n      <td>188</td>\n    </tr>\n    <tr>\n      <th>1242</th>\n      <td>Georgia</td>\n      <td>cell</td>\n      <td>9.264465e-04</td>\n      <td>0.349836</td>\n      <td>homograph</td>\n      <td>214</td>\n    </tr>\n    <tr>\n      <th>1255</th>\n      <td>Florida</td>\n      <td>cell</td>\n      <td>8.094637e-04</td>\n      <td>0.496450</td>\n      <td>homograph</td>\n      <td>987</td>\n    </tr>\n    <tr>\n      <th>1271</th>\n      <td>California</td>\n      <td>cell</td>\n      <td>9.775388e-04</td>\n      <td>0.496594</td>\n      <td>homograph</td>\n      <td>554</td>\n    </tr>\n    <tr>\n      <th>1315</th>\n      <td>MD</td>\n      <td>cell</td>\n      <td>1.290377e-06</td>\n      <td>0.436236</td>\n      <td>homograph</td>\n      <td>179</td>\n    </tr>\n    <tr>\n      <th>1319</th>\n      <td>ME</td>\n      <td>cell</td>\n      <td>6.144583e-07</td>\n      <td>0.350778</td>\n      <td>homograph</td>\n      <td>151</td>\n    </tr>\n    <tr>\n      <th>2384</th>\n      <td>Jaguar</td>\n      <td>cell</td>\n      <td>5.434442e-02</td>\n      <td>0.432136</td>\n      <td>homograph</td>\n      <td>1170</td>\n    </tr>\n    <tr>\n      <th>10229</th>\n      <td>Mace</td>\n      <td>cell</td>\n      <td>3.280319e-02</td>\n      <td>0.498079</td>\n      <td>homograph</td>\n      <td>1780</td>\n    </tr>\n    <tr>\n      <th>10357</th>\n      <td>Elan</td>\n      <td>cell</td>\n      <td>1.666137e-02</td>\n      <td>0.497586</td>\n      <td>homograph</td>\n      <td>1506</td>\n    </tr>\n    <tr>\n      <th>10625</th>\n      <td>Conroy</td>\n      <td>cell</td>\n      <td>2.190975e-03</td>\n      <td>0.500820</td>\n      <td>homograph</td>\n      <td>1931</td>\n    </tr>\n    <tr>\n      <th>15222</th>\n      <td>Ram</td>\n      <td>cell</td>\n      <td>2.539456e-02</td>\n      <td>0.496063</td>\n      <td>homograph</td>\n      <td>564</td>\n    </tr>\n    <tr>\n      <th>15293</th>\n      <td>ES</td>\n      <td>cell</td>\n      <td>1.602619e-03</td>\n      <td>0.457199</td>\n      <td>homograph</td>\n      <td>633</td>\n    </tr>\n  </tbody>\n</table>\n</div>"
     },
     "metadata": {},
     "execution_count": 15
    }
   ],
   "source": [
    "vals_to_select = ['ME', 'MD', 'AL', 'Georgia', 'Ram', 'GT', 'California', 'ES', 'Florida', 'Cuba', 'Jamaica', 'Lincoln', 'Jaguar', 'Elan', 'Conroy', 'Virginia', 'Mace', 'Phoenix']\n",
    "homograph_df_filtered = homograph_df.loc[homograph_df['node'].isin(vals_to_select)]\n",
    "homograph_df_filtered"
   ]
  },
  {
   "cell_type": "code",
   "execution_count": 16,
   "metadata": {},
   "outputs": [
    {
     "output_type": "execute_result",
     "data": {
      "text/html": "\n<div id=\"altair-viz-253c21b3f2134701a9a21014c9bc2178\"></div>\n<script type=\"text/javascript\">\n  (function(spec, embedOpt){\n    let outputDiv = document.currentScript.previousElementSibling;\n    if (outputDiv.id !== \"altair-viz-253c21b3f2134701a9a21014c9bc2178\") {\n      outputDiv = document.getElementById(\"altair-viz-253c21b3f2134701a9a21014c9bc2178\");\n    }\n    const paths = {\n      \"vega\": \"https://cdn.jsdelivr.net/npm//vega@5?noext\",\n      \"vega-lib\": \"https://cdn.jsdelivr.net/npm//vega-lib?noext\",\n      \"vega-lite\": \"https://cdn.jsdelivr.net/npm//vega-lite@4.8.1?noext\",\n      \"vega-embed\": \"https://cdn.jsdelivr.net/npm//vega-embed@6?noext\",\n    };\n\n    function loadScript(lib) {\n      return new Promise(function(resolve, reject) {\n        var s = document.createElement('script');\n        s.src = paths[lib];\n        s.async = true;\n        s.onload = () => resolve(paths[lib]);\n        s.onerror = () => reject(`Error loading script: ${paths[lib]}`);\n        document.getElementsByTagName(\"head\")[0].appendChild(s);\n      });\n    }\n\n    function showError(err) {\n      outputDiv.innerHTML = `<div class=\"error\" style=\"color:red;\">${err}</div>`;\n      throw err;\n    }\n\n    function displayChart(vegaEmbed) {\n      vegaEmbed(outputDiv, spec, embedOpt)\n        .catch(err => showError(`Javascript Error: ${err.message}<br>This usually means there's a typo in your chart specification. See the javascript console for the full traceback.`));\n    }\n\n    if(typeof define === \"function\" && define.amd) {\n      requirejs.config({paths});\n      require([\"vega-embed\"], displayChart, err => showError(`Error loading script: ${err.message}`));\n    } else if (typeof vegaEmbed === \"function\") {\n      displayChart(vegaEmbed);\n    } else {\n      loadScript(\"vega\")\n        .then(() => loadScript(\"vega-lite\"))\n        .then(() => loadScript(\"vega-embed\"))\n        .catch(showError)\n        .then(() => displayChart(vegaEmbed));\n    }\n  })({\"config\": {\"view\": {\"continuousWidth\": 400, \"continuousHeight\": 300}}, \"layer\": [{\"mark\": {\"type\": \"text\", \"align\": \"center\", \"baseline\": \"middle\", \"dy\": -25, \"fontSize\": 32}, \"encoding\": {\"text\": {\"type\": \"nominal\", \"field\": \"node\"}, \"tooltip\": [{\"type\": \"nominal\", \"field\": \"node\"}, {\"type\": \"quantitative\", \"field\": \"betweenness_centrality\"}, {\"type\": \"quantitative\", \"field\": \"num_second_degree_neighbors\"}], \"x\": {\"type\": \"quantitative\", \"axis\": {\"labelFontSize\": 28, \"title\": \"Cardinality\", \"titleFontSize\": 30}, \"field\": \"num_second_degree_neighbors\", \"scale\": {\"type\": \"log\"}}, \"y\": {\"type\": \"quantitative\", \"axis\": {\"format\": \".1e\", \"labelFontSize\": 28, \"tickCount\": 8, \"title\": \"Betweenness Centrality\", \"titleFontSize\": 30}, \"field\": \"betweenness_centrality\", \"scale\": {\"type\": \"log\"}}}, \"title\": \"\"}, {\"mark\": {\"type\": \"circle\", \"clip\": true, \"size\": 300}, \"encoding\": {\"tooltip\": [{\"type\": \"nominal\", \"field\": \"node\"}, {\"type\": \"quantitative\", \"field\": \"betweenness_centrality\"}, {\"type\": \"quantitative\", \"field\": \"num_second_degree_neighbors\"}], \"x\": {\"type\": \"quantitative\", \"axis\": {\"labelFontSize\": 28, \"title\": \"Cardinality\", \"titleFontSize\": 30}, \"field\": \"num_second_degree_neighbors\", \"scale\": {\"type\": \"log\"}}, \"y\": {\"type\": \"quantitative\", \"axis\": {\"format\": \".1e\", \"labelFontSize\": 28, \"tickCount\": 8, \"title\": \"Betweenness Centrality\", \"titleFontSize\": 30}, \"field\": \"betweenness_centrality\", \"scale\": {\"type\": \"log\"}}}, \"title\": \"\"}], \"data\": {\"name\": \"data-51d8a5d8831c5a0c02228492b2cb5066\"}, \"height\": 800, \"width\": 1600, \"$schema\": \"https://vega.github.io/schema/vega-lite/v4.8.1.json\", \"datasets\": {\"data-51d8a5d8831c5a0c02228492b2cb5066\": [{\"node\": \"Cuba\", \"node_type\": \"cell\", \"betweenness_centrality\": 0.006394042232732996, \"local_clustering_coefficient\": 0.19559493310560777, \"is_homograph\": \"homograph\", \"num_second_degree_neighbors\": 1172}, {\"node\": \"Lincoln\", \"node_type\": \"cell\", \"betweenness_centrality\": 0.03212017096928377, \"local_clustering_coefficient\": 0.4983164983164983, \"is_homograph\": \"homograph\", \"num_second_degree_neighbors\": 1024}, {\"node\": \"Virginia\", \"node_type\": \"cell\", \"betweenness_centrality\": 0.012066803467345594, \"local_clustering_coefficient\": 0.3329886737303639, \"is_homograph\": \"homograph\", \"num_second_degree_neighbors\": 1956}, {\"node\": \"Jamaica\", \"node_type\": \"cell\", \"betweenness_centrality\": 0.00934929341297902, \"local_clustering_coefficient\": 0.19592513113972343, \"is_homograph\": \"homograph\", \"num_second_degree_neighbors\": 1166}, {\"node\": \"Phoenix\", \"node_type\": \"cell\", \"betweenness_centrality\": 0.021940034186072273, \"local_clustering_coefficient\": 0.4984026010743569, \"is_homograph\": \"homograph\", \"num_second_degree_neighbors\": 1966}, {\"node\": \"GT\", \"node_type\": \"cell\", \"betweenness_centrality\": 0.0053362963490488835, \"local_clustering_coefficient\": 0.32272727272727253, \"is_homograph\": \"homograph\", \"num_second_degree_neighbors\": 672}, {\"node\": \"AL\", \"node_type\": \"cell\", \"betweenness_centrality\": 1.9375908801961833e-06, \"local_clustering_coefficient\": 0.540909090909091, \"is_homograph\": \"homograph\", \"num_second_degree_neighbors\": 188}, {\"node\": \"Georgia\", \"node_type\": \"cell\", \"betweenness_centrality\": 0.0009264464714507509, \"local_clustering_coefficient\": 0.3498360533571805, \"is_homograph\": \"homograph\", \"num_second_degree_neighbors\": 214}, {\"node\": \"Florida\", \"node_type\": \"cell\", \"betweenness_centrality\": 0.0008094637453794234, \"local_clustering_coefficient\": 0.4964503042596347, \"is_homograph\": \"homograph\", \"num_second_degree_neighbors\": 987}, {\"node\": \"California\", \"node_type\": \"cell\", \"betweenness_centrality\": 0.0009775387615197119, \"local_clustering_coefficient\": 0.4965943339361062, \"is_homograph\": \"homograph\", \"num_second_degree_neighbors\": 554}, {\"node\": \"MD\", \"node_type\": \"cell\", \"betweenness_centrality\": 1.2903773325733573e-06, \"local_clustering_coefficient\": 0.4362359550561799, \"is_homograph\": \"homograph\", \"num_second_degree_neighbors\": 179}, {\"node\": \"ME\", \"node_type\": \"cell\", \"betweenness_centrality\": 6.144583057815476e-07, \"local_clustering_coefficient\": 0.350777777777778, \"is_homograph\": \"homograph\", \"num_second_degree_neighbors\": 151}, {\"node\": \"Jaguar\", \"node_type\": \"cell\", \"betweenness_centrality\": 0.05434441916450321, \"local_clustering_coefficient\": 0.43213572854291077, \"is_homograph\": \"homograph\", \"num_second_degree_neighbors\": 1170}, {\"node\": \"Mace\", \"node_type\": \"cell\", \"betweenness_centrality\": 0.032803185535055276, \"local_clustering_coefficient\": 0.4980794453813005, \"is_homograph\": \"homograph\", \"num_second_degree_neighbors\": 1780}, {\"node\": \"Elan\", \"node_type\": \"cell\", \"betweenness_centrality\": 0.016661374806222328, \"local_clustering_coefficient\": 0.49758582502768567, \"is_homograph\": \"homograph\", \"num_second_degree_neighbors\": 1506}, {\"node\": \"Conroy\", \"node_type\": \"cell\", \"betweenness_centrality\": 0.0021909754884387434, \"local_clustering_coefficient\": 0.5008203799654577, \"is_homograph\": \"homograph\", \"num_second_degree_neighbors\": 1931}, {\"node\": \"Ram\", \"node_type\": \"cell\", \"betweenness_centrality\": 0.025394563689343497, \"local_clustering_coefficient\": 0.4960627590290113, \"is_homograph\": \"homograph\", \"num_second_degree_neighbors\": 564}, {\"node\": \"ES\", \"node_type\": \"cell\", \"betweenness_centrality\": 0.0016026193810067756, \"local_clustering_coefficient\": 0.4571993670886076, \"is_homograph\": \"homograph\", \"num_second_degree_neighbors\": 633}]}}, {\"mode\": \"vega-lite\"});\n</script>",
      "text/plain": [
       "alt.LayerChart(...)"
      ]
     },
     "metadata": {},
     "execution_count": 16
    }
   ],
   "source": [
    "points = alt.Chart(homograph_df_filtered, title='').mark_circle(size=300, clip=True).encode(\n",
    "    x=alt.X('num_second_degree_neighbors:Q', scale=alt.Scale(type='log'), axis=alt.Axis(title='Cardinality', labelFontSize=28, titleFontSize=30)),\n",
    "    y=alt.Y('betweenness_centrality:Q', scale=alt.Scale(type='log'), axis=alt.Axis(title='Betweenness Centrality', format=\".1e\", labelFontSize=28, titleFontSize=30, tickCount=8)),\n",
    "    tooltip=['node', 'betweenness_centrality', 'num_second_degree_neighbors']\n",
    ")\n",
    "\n",
    "text = points.mark_text(\n",
    "    fontSize=32,\n",
    "    align='center',\n",
    "    baseline='middle',\n",
    "    dy=-25\n",
    ").encode(\n",
    "    text='node'\n",
    ")\n",
    "\n",
    "fig = (text + points).properties(width=1600, height=800)\n",
    "fig.save('figures/synthetic_dataset/synthetic_bipartite_betweenness_vs_cardinality.svg')\n",
    "fig"
   ]
  },
  {
   "cell_type": "markdown",
   "metadata": {},
   "source": [
    "## Local Clustering Coefficients Evaluation"
   ]
  },
  {
   "cell_type": "code",
   "execution_count": 17,
   "metadata": {},
   "outputs": [
    {
     "output_type": "execute_result",
     "data": {
      "text/html": "\n<div id=\"altair-viz-142945e3a69b4706a3cc2fb93a9ff53d\"></div>\n<script type=\"text/javascript\">\n  (function(spec, embedOpt){\n    let outputDiv = document.currentScript.previousElementSibling;\n    if (outputDiv.id !== \"altair-viz-142945e3a69b4706a3cc2fb93a9ff53d\") {\n      outputDiv = document.getElementById(\"altair-viz-142945e3a69b4706a3cc2fb93a9ff53d\");\n    }\n    const paths = {\n      \"vega\": \"https://cdn.jsdelivr.net/npm//vega@5?noext\",\n      \"vega-lib\": \"https://cdn.jsdelivr.net/npm//vega-lib?noext\",\n      \"vega-lite\": \"https://cdn.jsdelivr.net/npm//vega-lite@4.8.1?noext\",\n      \"vega-embed\": \"https://cdn.jsdelivr.net/npm//vega-embed@6?noext\",\n    };\n\n    function loadScript(lib) {\n      return new Promise(function(resolve, reject) {\n        var s = document.createElement('script');\n        s.src = paths[lib];\n        s.async = true;\n        s.onload = () => resolve(paths[lib]);\n        s.onerror = () => reject(`Error loading script: ${paths[lib]}`);\n        document.getElementsByTagName(\"head\")[0].appendChild(s);\n      });\n    }\n\n    function showError(err) {\n      outputDiv.innerHTML = `<div class=\"error\" style=\"color:red;\">${err}</div>`;\n      throw err;\n    }\n\n    function displayChart(vegaEmbed) {\n      vegaEmbed(outputDiv, spec, embedOpt)\n        .catch(err => showError(`Javascript Error: ${err.message}<br>This usually means there's a typo in your chart specification. See the javascript console for the full traceback.`));\n    }\n\n    if(typeof define === \"function\" && define.amd) {\n      requirejs.config({paths});\n      require([\"vega-embed\"], displayChart, err => showError(`Error loading script: ${err.message}`));\n    } else if (typeof vegaEmbed === \"function\") {\n      displayChart(vegaEmbed);\n    } else {\n      loadScript(\"vega\")\n        .then(() => loadScript(\"vega-lite\"))\n        .then(() => loadScript(\"vega-embed\"))\n        .catch(showError)\n        .then(() => displayChart(vegaEmbed));\n    }\n  })({\"config\": {\"view\": {\"continuousWidth\": 400, \"continuousHeight\": 300}, \"axis\": {\"labelLimit\": 550}, \"legend\": {\"cornerRadius\": 10, \"fillColor\": \"#EEEEEE\", \"labelFontSize\": 38, \"orient\": \"top-left\", \"padding\": 10, \"strokeColor\": \"gray\", \"symbolSize\": 700, \"titleFontSize\": 35}}, \"data\": {\"name\": \"data-c9d327525dd6dcf2a07b68c961a29c6a\"}, \"mark\": {\"type\": \"bar\", \"size\": 20}, \"encoding\": {\"color\": {\"type\": \"nominal\", \"field\": \"is_homograph\", \"legend\": {\"labelLimit\": 500, \"title\": \"Value Type\", \"titleLimit\": 0}}, \"x\": {\"type\": \"nominal\", \"axis\": {\"labelAngle\": -40, \"labelFontSize\": 30, \"title\": \"\"}, \"field\": \"node\", \"sort\": \"y\"}, \"y\": {\"type\": \"quantitative\", \"axis\": {\"labelFontSize\": 30, \"tickCount\": 8, \"title\": \"Local Clustering Coefficient\", \"titleFontSize\": 30}, \"field\": \"local_clustering_coefficient\", \"scale\": {\"domain\": [0, 0.55]}}}, \"height\": 600, \"title\": \"\", \"width\": 2800, \"$schema\": \"https://vega.github.io/schema/vega-lite/v4.8.1.json\", \"datasets\": {\"data-c9d327525dd6dcf2a07b68c961a29c6a\": [{\"node\": \"Cuba\", \"node_type\": \"cell\", \"betweenness_centrality\": 0.006394042232732996, \"local_clustering_coefficient\": 0.19559493310560777, \"is_homograph\": \"homograph\"}, {\"node\": \"Jamaica\", \"node_type\": \"cell\", \"betweenness_centrality\": 0.00934929341297902, \"local_clustering_coefficient\": 0.19592513113972343, \"is_homograph\": \"homograph\"}, {\"node\": \"Guyana\", \"node_type\": \"cell\", \"betweenness_centrality\": 1.908207451286736e-08, \"local_clustering_coefficient\": 0.2945556566575672, \"is_homograph\": \"unambiguous value\"}, {\"node\": \"South Sudan\", \"node_type\": \"cell\", \"betweenness_centrality\": 1.908207451286736e-08, \"local_clustering_coefficient\": 0.2945556566575672, \"is_homograph\": \"unambiguous value\"}, {\"node\": \"Laos\", \"node_type\": \"cell\", \"betweenness_centrality\": 7.601714113713127e-09, \"local_clustering_coefficient\": 0.29522232734153236, \"is_homograph\": \"unambiguous value\"}, {\"node\": \"Trinidad and Tobago\", \"node_type\": \"cell\", \"betweenness_centrality\": 7.601714113713127e-09, \"local_clustering_coefficient\": 0.29522232734153236, \"is_homograph\": \"unambiguous value\"}, {\"node\": \"Seychelles\", \"node_type\": \"cell\", \"betweenness_centrality\": 1.387258509320461e-08, \"local_clustering_coefficient\": 0.30677777777777765, \"is_homograph\": \"unambiguous value\"}, {\"node\": \"Paraguay\", \"node_type\": \"cell\", \"betweenness_centrality\": 1.565420060573393e-08, \"local_clustering_coefficient\": 0.3079867389993969, \"is_homograph\": \"unambiguous value\"}, {\"node\": \"Mauritania\", \"node_type\": \"cell\", \"betweenness_centrality\": 1.0393339452372184e-08, \"local_clustering_coefficient\": 0.30820845820845794, \"is_homograph\": \"unambiguous value\"}, {\"node\": \"Cape Verde\", \"node_type\": \"cell\", \"betweenness_centrality\": 9.95969874739249e-09, \"local_clustering_coefficient\": 0.30907638223074435, \"is_homograph\": \"unambiguous value\"}, {\"node\": \"East Timor\", \"node_type\": \"cell\", \"betweenness_centrality\": 9.95969874739249e-09, \"local_clustering_coefficient\": 0.30907638223074435, \"is_homograph\": \"unambiguous value\"}, {\"node\": \"Kuwait\", \"node_type\": \"cell\", \"betweenness_centrality\": 9.95969874739249e-09, \"local_clustering_coefficient\": 0.3090763822307444, \"is_homograph\": \"unambiguous value\"}, {\"node\": \"Guinea-Bissau\", \"node_type\": \"cell\", \"betweenness_centrality\": 9.68959668904936e-09, \"local_clustering_coefficient\": 0.3092903828197943, \"is_homograph\": \"unambiguous value\"}, {\"node\": \"Martinique\", \"node_type\": \"cell\", \"betweenness_centrality\": 9.68959668904936e-09, \"local_clustering_coefficient\": 0.3092903828197944, \"is_homograph\": \"unambiguous value\"}, {\"node\": \"Saint Barthelemy\", \"node_type\": \"cell\", \"betweenness_centrality\": 1.0367914586468147e-08, \"local_clustering_coefficient\": 0.3102918586789552, \"is_homograph\": \"unambiguous value\"}, {\"node\": \"Tuvalu\", \"node_type\": \"cell\", \"betweenness_centrality\": 1.2122931479045366e-08, \"local_clustering_coefficient\": 0.3111217641418982, \"is_homograph\": \"unambiguous value\"}, {\"node\": \"Guam\", \"node_type\": \"cell\", \"betweenness_centrality\": 1.2122931479045366e-08, \"local_clustering_coefficient\": 0.3111217641418982, \"is_homograph\": \"unambiguous value\"}, {\"node\": \"French Polynesia\", \"node_type\": \"cell\", \"betweenness_centrality\": 1.1691263263213433e-08, \"local_clustering_coefficient\": 0.3148962148962146, \"is_homograph\": \"unambiguous value\"}, {\"node\": \"Lesotho\", \"node_type\": \"cell\", \"betweenness_centrality\": 1.1691263263213433e-08, \"local_clustering_coefficient\": 0.31489621489621467, \"is_homograph\": \"unambiguous value\"}, {\"node\": \"Reunion\", \"node_type\": \"cell\", \"betweenness_centrality\": 5.62072434824737e-09, \"local_clustering_coefficient\": 0.3162671780121441, \"is_homograph\": \"unambiguous value\"}, {\"node\": \"Tonga\", \"node_type\": \"cell\", \"betweenness_centrality\": 5.62072434824737e-09, \"local_clustering_coefficient\": 0.31626717801214416, \"is_homograph\": \"unambiguous value\"}, {\"node\": \"GT\", \"node_type\": \"cell\", \"betweenness_centrality\": 0.0053362963490488835, \"local_clustering_coefficient\": 0.32272727272727253, \"is_homograph\": \"homograph\"}, {\"node\": \"Grenada\", \"node_type\": \"cell\", \"betweenness_centrality\": 1.754939620490935e-08, \"local_clustering_coefficient\": 0.32380952380952344, \"is_homograph\": \"unambiguous value\"}, {\"node\": \"Benin\", \"node_type\": \"cell\", \"betweenness_centrality\": 1.754939620490935e-08, \"local_clustering_coefficient\": 0.32380952380952344, \"is_homograph\": \"unambiguous value\"}, {\"node\": \"Mozambique\", \"node_type\": \"cell\", \"betweenness_centrality\": 1.754939620490935e-08, \"local_clustering_coefficient\": 0.3238095238095235, \"is_homograph\": \"unambiguous value\"}, {\"node\": \"Virginia\", \"node_type\": \"cell\", \"betweenness_centrality\": 0.012066803467345594, \"local_clustering_coefficient\": 0.3329886737303639, \"is_homograph\": \"homograph\"}, {\"node\": \"NE\", \"node_type\": \"cell\", \"betweenness_centrality\": 6.02509117295577e-07, \"local_clustering_coefficient\": 0.3418888888888891, \"is_homograph\": \"homograph\"}, {\"node\": \"Georgia\", \"node_type\": \"cell\", \"betweenness_centrality\": 0.0009264464714507509, \"local_clustering_coefficient\": 0.3498360533571805, \"is_homograph\": \"homograph\"}, {\"node\": \"IL\", \"node_type\": \"cell\", \"betweenness_centrality\": 6.144583057815476e-07, \"local_clustering_coefficient\": 0.350777777777778, \"is_homograph\": \"homograph\"}, {\"node\": \"ME\", \"node_type\": \"cell\", \"betweenness_centrality\": 6.144583057815476e-07, \"local_clustering_coefficient\": 0.350777777777778, \"is_homograph\": \"homograph\"}, {\"node\": \"GA\", \"node_type\": \"cell\", \"betweenness_centrality\": 6.433241040879991e-07, \"local_clustering_coefficient\": 0.3521929824561405, \"is_homograph\": \"homograph\"}, {\"node\": \"Samoa\", \"node_type\": \"cell\", \"betweenness_centrality\": 4.454723944895935e-08, \"local_clustering_coefficient\": 0.3784330011074202, \"is_homograph\": \"unambiguous value\"}, {\"node\": \"Namibia\", \"node_type\": \"cell\", \"betweenness_centrality\": 4.454723944895935e-08, \"local_clustering_coefficient\": 0.3784330011074202, \"is_homograph\": \"unambiguous value\"}, {\"node\": \"Bhutan\", \"node_type\": \"cell\", \"betweenness_centrality\": 4.454723944895935e-08, \"local_clustering_coefficient\": 0.37843300110742023, \"is_homograph\": \"unambiguous value\"}, {\"node\": \"Malta\", \"node_type\": \"cell\", \"betweenness_centrality\": 3.559569874552366e-08, \"local_clustering_coefficient\": 0.37990239574090545, \"is_homograph\": \"unambiguous value\"}, {\"node\": \"Maldives\", \"node_type\": \"cell\", \"betweenness_centrality\": 3.978609412839056e-08, \"local_clustering_coefficient\": 0.38118326118326157, \"is_homograph\": \"unambiguous value\"}, {\"node\": \"Dominica\", \"node_type\": \"cell\", \"betweenness_centrality\": 3.4533065800942893e-08, \"local_clustering_coefficient\": 0.3822299651567948, \"is_homograph\": \"unambiguous value\"}, {\"node\": \"Micronesia\", \"node_type\": \"cell\", \"betweenness_centrality\": 3.021133011089303e-08, \"local_clustering_coefficient\": 0.3826934523809527, \"is_homograph\": \"unambiguous value\"}, {\"node\": \"Guinea\", \"node_type\": \"cell\", \"betweenness_centrality\": 3.0001374923372684e-08, \"local_clustering_coefficient\": 0.38420975752264125, \"is_homograph\": \"unambiguous value\"}, {\"node\": \"Togo\", \"node_type\": \"cell\", \"betweenness_centrality\": 3.886786924530937e-08, \"local_clustering_coefficient\": 0.38674080410607403, \"is_homograph\": \"unambiguous value\"}, {\"node\": \"Bahamas\", \"node_type\": \"cell\", \"betweenness_centrality\": 3.417050397992588e-08, \"local_clustering_coefficient\": 0.38679520888109875, \"is_homograph\": \"unambiguous value\"}, {\"node\": \"Swaziland\", \"node_type\": \"cell\", \"betweenness_centrality\": 3.417050397992588e-08, \"local_clustering_coefficient\": 0.3867952088810988, \"is_homograph\": \"unambiguous value\"}, {\"node\": \"Montenegro\", \"node_type\": \"cell\", \"betweenness_centrality\": 3.30839106639884e-08, \"local_clustering_coefficient\": 0.388554720133668, \"is_homograph\": \"unambiguous value\"}, {\"node\": \"Comoros\", \"node_type\": \"cell\", \"betweenness_centrality\": 3.574109136975376e-08, \"local_clustering_coefficient\": 0.38916813639035897, \"is_homograph\": \"unambiguous value\"}, {\"node\": \"Turkmenistan\", \"node_type\": \"cell\", \"betweenness_centrality\": 2.147941212007231e-08, \"local_clustering_coefficient\": 0.3898042652643883, \"is_homograph\": \"unambiguous value\"}, {\"node\": \"Belgium\", \"node_type\": \"cell\", \"betweenness_centrality\": 4.8219820809927815e-08, \"local_clustering_coefficient\": 0.3902823920265785, \"is_homograph\": \"unambiguous value\"}, {\"node\": \"Marshall Islands\", \"node_type\": \"cell\", \"betweenness_centrality\": 4.422832962495017e-08, \"local_clustering_coefficient\": 0.39080841638981206, \"is_homograph\": \"unambiguous value\"}, {\"node\": \"Iraq\", \"node_type\": \"cell\", \"betweenness_centrality\": 4.422832962495017e-08, \"local_clustering_coefficient\": 0.3908084163898121, \"is_homograph\": \"unambiguous value\"}, {\"node\": \"Iceland\", \"node_type\": \"cell\", \"betweenness_centrality\": 3.672281716909792e-08, \"local_clustering_coefficient\": 0.39124607927003185, \"is_homograph\": \"unambiguous value\"}, {\"node\": \"Senegal\", \"node_type\": \"cell\", \"betweenness_centrality\": 3.8223795056207356e-08, \"local_clustering_coefficient\": 0.3925719988594245, \"is_homograph\": \"unambiguous value\"}, {\"node\": \"Djibouti\", \"node_type\": \"cell\", \"betweenness_centrality\": 3.12346237013738e-08, \"local_clustering_coefficient\": 0.395656565656566, \"is_homograph\": \"unambiguous value\"}, {\"node\": \"Jaguar\", \"node_type\": \"cell\", \"betweenness_centrality\": 0.05434441916450321, \"local_clustering_coefficient\": 0.43213572854291077, \"is_homograph\": \"homograph\"}, {\"node\": \"MD\", \"node_type\": \"cell\", \"betweenness_centrality\": 1.2903773325733573e-06, \"local_clustering_coefficient\": 0.4362359550561799, \"is_homograph\": \"homograph\"}, {\"node\": \"Kosovo\", \"node_type\": \"cell\", \"betweenness_centrality\": 8.069205562467894e-08, \"local_clustering_coefficient\": 0.4452925170068025, \"is_homograph\": \"unambiguous value\"}, {\"node\": \"SD\", \"node_type\": \"cell\", \"betweenness_centrality\": 1.2686073393256332e-06, \"local_clustering_coefficient\": 0.4457854406130269, \"is_homograph\": \"homograph\"}]}}, {\"mode\": \"vega-lite\"});\n</script>",
      "text/plain": [
       "alt.Chart(...)"
      ]
     },
     "metadata": {},
     "execution_count": 17
    }
   ],
   "source": [
    "# Top-k graph for LCC measure\n",
    "topk_graph_LCC = alt.Chart(synthetic_bipartite_graph_stats_df.nsmallest(55, 'local_clustering_coefficient'), title='').mark_bar(size=20).encode(\n",
    "    x=alt.X('node:N', sort='y', axis=alt.Axis(title='', labelAngle=-40, labelFontSize=30)),\n",
    "    y=alt.Y('local_clustering_coefficient:Q', scale=alt.Scale(domain=(0, 0.55)), axis=alt.Axis(title='Local Clustering Coefficient', labelFontSize=30, titleFontSize=30, tickCount=8)),\n",
    "    color=alt.Color('is_homograph:N', legend=alt.Legend(title='Value Type', titleLimit=0, labelLimit=500))\n",
    ").properties(width=2800, height=600)\n",
    "topk_graph_LCC = topk_graph_LCC.configure_axis(labelLimit=550)\n",
    "\n",
    "topk_graph_LCC = topk_graph_LCC.configure_legend(\n",
    "    labelFontSize=38,\n",
    "    symbolSize=700,\n",
    "    titleFontSize=35,\n",
    "    strokeColor='gray',\n",
    "    fillColor='#EEEEEE',\n",
    "    padding=10,\n",
    "    cornerRadius=10,\n",
    "    orient='top-left'\n",
    ")\n",
    "\n",
    "topk_graph_LCC.save('figures/synthetic_dataset/synthetic_bipartite_LCC_topk_55_wide.svg')\n",
    "topk_graph_LCC"
   ]
  },
  {
   "cell_type": "code",
   "execution_count": 18,
   "metadata": {},
   "outputs": [
    {
     "output_type": "execute_result",
     "data": {
      "text/html": "\n<div id=\"altair-viz-27958979ab364e8db8e09778793017c6\"></div>\n<script type=\"text/javascript\">\n  (function(spec, embedOpt){\n    let outputDiv = document.currentScript.previousElementSibling;\n    if (outputDiv.id !== \"altair-viz-27958979ab364e8db8e09778793017c6\") {\n      outputDiv = document.getElementById(\"altair-viz-27958979ab364e8db8e09778793017c6\");\n    }\n    const paths = {\n      \"vega\": \"https://cdn.jsdelivr.net/npm//vega@5?noext\",\n      \"vega-lib\": \"https://cdn.jsdelivr.net/npm//vega-lib?noext\",\n      \"vega-lite\": \"https://cdn.jsdelivr.net/npm//vega-lite@4.8.1?noext\",\n      \"vega-embed\": \"https://cdn.jsdelivr.net/npm//vega-embed@6?noext\",\n    };\n\n    function loadScript(lib) {\n      return new Promise(function(resolve, reject) {\n        var s = document.createElement('script');\n        s.src = paths[lib];\n        s.async = true;\n        s.onload = () => resolve(paths[lib]);\n        s.onerror = () => reject(`Error loading script: ${paths[lib]}`);\n        document.getElementsByTagName(\"head\")[0].appendChild(s);\n      });\n    }\n\n    function showError(err) {\n      outputDiv.innerHTML = `<div class=\"error\" style=\"color:red;\">${err}</div>`;\n      throw err;\n    }\n\n    function displayChart(vegaEmbed) {\n      vegaEmbed(outputDiv, spec, embedOpt)\n        .catch(err => showError(`Javascript Error: ${err.message}<br>This usually means there's a typo in your chart specification. See the javascript console for the full traceback.`));\n    }\n\n    if(typeof define === \"function\" && define.amd) {\n      requirejs.config({paths});\n      require([\"vega-embed\"], displayChart, err => showError(`Error loading script: ${err.message}`));\n    } else if (typeof vegaEmbed === \"function\") {\n      displayChart(vegaEmbed);\n    } else {\n      loadScript(\"vega\")\n        .then(() => loadScript(\"vega-lite\"))\n        .then(() => loadScript(\"vega-embed\"))\n        .catch(showError)\n        .then(() => displayChart(vegaEmbed));\n    }\n  })({\"config\": {\"view\": {\"continuousWidth\": 400, \"continuousHeight\": 300}, \"axis\": {\"labelLimit\": 550}, \"legend\": {\"cornerRadius\": 10, \"fillColor\": \"#EEEEEE\", \"labelFontSize\": 38, \"orient\": \"top-left\", \"padding\": 10, \"strokeColor\": \"gray\", \"symbolSize\": 700, \"titleFontSize\": 35}}, \"data\": {\"name\": \"data-f8ca489f7a18a97ae5e8cee1e116d11a\"}, \"mark\": {\"type\": \"bar\", \"size\": 24}, \"encoding\": {\"color\": {\"type\": \"nominal\", \"field\": \"is_homograph\", \"legend\": {\"labelLimit\": 500, \"title\": \"Value Type\", \"titleLimit\": 0}}, \"x\": {\"type\": \"nominal\", \"axis\": {\"labelAngle\": -40, \"labelFontSize\": 23, \"title\": \"\"}, \"field\": \"node\", \"sort\": \"y\"}, \"y\": {\"type\": \"quantitative\", \"axis\": {\"labelFontSize\": 26, \"tickCount\": 8, \"title\": \"Local Clustering Coefficient\", \"titleFontSize\": 30}, \"field\": \"local_clustering_coefficient\"}}, \"height\": 800, \"title\": \"\", \"width\": 1600, \"$schema\": \"https://vega.github.io/schema/vega-lite/v4.8.1.json\", \"datasets\": {\"data-f8ca489f7a18a97ae5e8cee1e116d11a\": [{\"node\": \"Sydney\", \"node_type\": \"cell\", \"betweenness_centrality\": 0.009810582844805113, \"local_clustering_coefficient\": 0.4988389643562059, \"is_homograph\": \"homograph\"}, {\"node\": \"Cuba\", \"node_type\": \"cell\", \"betweenness_centrality\": 0.006394042232732996, \"local_clustering_coefficient\": 0.19559493310560777, \"is_homograph\": \"homograph\"}, {\"node\": \"Elmira\", \"node_type\": \"cell\", \"betweenness_centrality\": 0.009810582844805113, \"local_clustering_coefficient\": 0.4988389643562059, \"is_homograph\": \"homograph\"}, {\"node\": \"Lincoln\", \"node_type\": \"cell\", \"betweenness_centrality\": 0.03212017096928377, \"local_clustering_coefficient\": 0.4983164983164983, \"is_homograph\": \"homograph\"}, {\"node\": \"Virginia\", \"node_type\": \"cell\", \"betweenness_centrality\": 0.012066803467345594, \"local_clustering_coefficient\": 0.3329886737303639, \"is_homograph\": \"homograph\"}, {\"node\": \"Jamaica\", \"node_type\": \"cell\", \"betweenness_centrality\": 0.00934929341297902, \"local_clustering_coefficient\": 0.19592513113972343, \"is_homograph\": \"homograph\"}, {\"node\": \"Phoenix\", \"node_type\": \"cell\", \"betweenness_centrality\": 0.021940034186072273, \"local_clustering_coefficient\": 0.4984026010743569, \"is_homograph\": \"homograph\"}, {\"node\": \"Quinta\", \"node_type\": \"cell\", \"betweenness_centrality\": 0.009810582844805113, \"local_clustering_coefficient\": 0.4988389643562059, \"is_homograph\": \"homograph\"}, {\"node\": \"ID\", \"node_type\": \"cell\", \"betweenness_centrality\": 1.9375908801961833e-06, \"local_clustering_coefficient\": 0.540909090909091, \"is_homograph\": \"homograph\"}, {\"node\": \"NE\", \"node_type\": \"cell\", \"betweenness_centrality\": 6.02509117295577e-07, \"local_clustering_coefficient\": 0.3418888888888891, \"is_homograph\": \"homograph\"}, {\"node\": \"GT\", \"node_type\": \"cell\", \"betweenness_centrality\": 0.0053362963490488835, \"local_clustering_coefficient\": 0.32272727272727253, \"is_homograph\": \"homograph\"}, {\"node\": \"AR\", \"node_type\": \"cell\", \"betweenness_centrality\": 1.9375908801961833e-06, \"local_clustering_coefficient\": 0.540909090909091, \"is_homograph\": \"homograph\"}, {\"node\": \"CO\", \"node_type\": \"cell\", \"betweenness_centrality\": 1.9375908801961833e-06, \"local_clustering_coefficient\": 0.540909090909091, \"is_homograph\": \"homograph\"}, {\"node\": \"MA\", \"node_type\": \"cell\", \"betweenness_centrality\": 1.9375908801961833e-06, \"local_clustering_coefficient\": 0.540909090909091, \"is_homograph\": \"homograph\"}, {\"node\": \"CA\", \"node_type\": \"cell\", \"betweenness_centrality\": 1.9375908801961833e-06, \"local_clustering_coefficient\": 0.540909090909091, \"is_homograph\": \"homograph\"}, {\"node\": \"DE\", \"node_type\": \"cell\", \"betweenness_centrality\": 1.9375908801961833e-06, \"local_clustering_coefficient\": 0.540909090909091, \"is_homograph\": \"homograph\"}, {\"node\": \"TL\", \"node_type\": \"cell\", \"betweenness_centrality\": 0.0015526876879781335, \"local_clustering_coefficient\": 0.4563391442155308, \"is_homograph\": \"homograph\"}, {\"node\": \"MN\", \"node_type\": \"cell\", \"betweenness_centrality\": 1.9375908801961833e-06, \"local_clustering_coefficient\": 0.540909090909091, \"is_homograph\": \"homograph\"}, {\"node\": \"AL\", \"node_type\": \"cell\", \"betweenness_centrality\": 1.9375908801961833e-06, \"local_clustering_coefficient\": 0.540909090909091, \"is_homograph\": \"homograph\"}, {\"node\": \"SD\", \"node_type\": \"cell\", \"betweenness_centrality\": 1.2686073393256332e-06, \"local_clustering_coefficient\": 0.4457854406130269, \"is_homograph\": \"homograph\"}, {\"node\": \"PA\", \"node_type\": \"cell\", \"betweenness_centrality\": 1.9375908801961833e-06, \"local_clustering_coefficient\": 0.540909090909091, \"is_homograph\": \"homograph\"}, {\"node\": \"AZ\", \"node_type\": \"cell\", \"betweenness_centrality\": 1.9375908801961833e-06, \"local_clustering_coefficient\": 0.540909090909091, \"is_homograph\": \"homograph\"}, {\"node\": \"TN\", \"node_type\": \"cell\", \"betweenness_centrality\": 1.9375908801961833e-06, \"local_clustering_coefficient\": 0.540909090909091, \"is_homograph\": \"homograph\"}, {\"node\": \"Georgia\", \"node_type\": \"cell\", \"betweenness_centrality\": 0.0009264464714507509, \"local_clustering_coefficient\": 0.3498360533571805, \"is_homograph\": \"homograph\"}, {\"node\": \"Florida\", \"node_type\": \"cell\", \"betweenness_centrality\": 0.0008094637453794234, \"local_clustering_coefficient\": 0.4964503042596347, \"is_homograph\": \"homograph\"}, {\"node\": \"California\", \"node_type\": \"cell\", \"betweenness_centrality\": 0.0009775387615197119, \"local_clustering_coefficient\": 0.4965943339361062, \"is_homograph\": \"homograph\"}, {\"node\": \"Colorado\", \"node_type\": \"cell\", \"betweenness_centrality\": 0.0009775387615197119, \"local_clustering_coefficient\": 0.4965943339361062, \"is_homograph\": \"homograph\"}, {\"node\": \"CT\", \"node_type\": \"cell\", \"betweenness_centrality\": 0.0008472891105083686, \"local_clustering_coefficient\": 0.48987341772151893, \"is_homograph\": \"homograph\"}, {\"node\": \"SC\", \"node_type\": \"cell\", \"betweenness_centrality\": 0.0008472891105083686, \"local_clustering_coefficient\": 0.48987341772151893, \"is_homograph\": \"homograph\"}, {\"node\": \"IL\", \"node_type\": \"cell\", \"betweenness_centrality\": 6.144583057815476e-07, \"local_clustering_coefficient\": 0.350777777777778, \"is_homograph\": \"homograph\"}, {\"node\": \"GA\", \"node_type\": \"cell\", \"betweenness_centrality\": 6.433241040879991e-07, \"local_clustering_coefficient\": 0.3521929824561405, \"is_homograph\": \"homograph\"}, {\"node\": \"MD\", \"node_type\": \"cell\", \"betweenness_centrality\": 1.2903773325733573e-06, \"local_clustering_coefficient\": 0.4362359550561799, \"is_homograph\": \"homograph\"}, {\"node\": \"ME\", \"node_type\": \"cell\", \"betweenness_centrality\": 6.144583057815476e-07, \"local_clustering_coefficient\": 0.350777777777778, \"is_homograph\": \"homograph\"}, {\"node\": \"Jaguar\", \"node_type\": \"cell\", \"betweenness_centrality\": 0.05434441916450321, \"local_clustering_coefficient\": 0.43213572854291077, \"is_homograph\": \"homograph\"}, {\"node\": \"Heather\", \"node_type\": \"cell\", \"betweenness_centrality\": 0.0296526989596654, \"local_clustering_coefficient\": 0.49405368671423755, \"is_homograph\": \"homograph\"}, {\"node\": \"Leandra\", \"node_type\": \"cell\", \"betweenness_centrality\": 0.026114852852671233, \"local_clustering_coefficient\": 0.4934923130677851, \"is_homograph\": \"homograph\"}, {\"node\": \"Charity\", \"node_type\": \"cell\", \"betweenness_centrality\": 0.026114852852671233, \"local_clustering_coefficient\": 0.4934923130677851, \"is_homograph\": \"homograph\"}, {\"node\": \"Garvey\", \"node_type\": \"cell\", \"betweenness_centrality\": 0.0021909754884387434, \"local_clustering_coefficient\": 0.5008203799654577, \"is_homograph\": \"homograph\"}, {\"node\": \"Vinson\", \"node_type\": \"cell\", \"betweenness_centrality\": 0.0021909754884387434, \"local_clustering_coefficient\": 0.5008203799654577, \"is_homograph\": \"homograph\"}, {\"node\": \"Else\", \"node_type\": \"cell\", \"betweenness_centrality\": 0.0021909754884387434, \"local_clustering_coefficient\": 0.5008203799654577, \"is_homograph\": \"homograph\"}, {\"node\": \"Duff\", \"node_type\": \"cell\", \"betweenness_centrality\": 0.0021909754884387434, \"local_clustering_coefficient\": 0.5008203799654577, \"is_homograph\": \"homograph\"}, {\"node\": \"Christophe\", \"node_type\": \"cell\", \"betweenness_centrality\": 0.0021909754884387434, \"local_clustering_coefficient\": 0.5008203799654577, \"is_homograph\": \"homograph\"}, {\"node\": \"Reid\", \"node_type\": \"cell\", \"betweenness_centrality\": 0.0021909754884387434, \"local_clustering_coefficient\": 0.5008203799654577, \"is_homograph\": \"homograph\"}, {\"node\": \"Mace\", \"node_type\": \"cell\", \"betweenness_centrality\": 0.032803185535055276, \"local_clustering_coefficient\": 0.4980794453813005, \"is_homograph\": \"homograph\"}, {\"node\": \"Costanza\", \"node_type\": \"cell\", \"betweenness_centrality\": 0.0021909754884387434, \"local_clustering_coefficient\": 0.5008203799654577, \"is_homograph\": \"homograph\"}, {\"node\": \"Elan\", \"node_type\": \"cell\", \"betweenness_centrality\": 0.016661374806222328, \"local_clustering_coefficient\": 0.49758582502768567, \"is_homograph\": \"homograph\"}, {\"node\": \"Berkeley\", \"node_type\": \"cell\", \"betweenness_centrality\": 0.0021909754884387434, \"local_clustering_coefficient\": 0.5008203799654577, \"is_homograph\": \"homograph\"}, {\"node\": \"Nadine\", \"node_type\": \"cell\", \"betweenness_centrality\": 0.013733952634639826, \"local_clustering_coefficient\": 0.49828014799398784, \"is_homograph\": \"homograph\"}, {\"node\": \"Conroy\", \"node_type\": \"cell\", \"betweenness_centrality\": 0.0021909754884387434, \"local_clustering_coefficient\": 0.5008203799654577, \"is_homograph\": \"homograph\"}, {\"node\": \"Jimmy\", \"node_type\": \"cell\", \"betweenness_centrality\": 0.016307987342897904, \"local_clustering_coefficient\": 0.4965339739190117, \"is_homograph\": \"homograph\"}, {\"node\": \"Smitty\", \"node_type\": \"cell\", \"betweenness_centrality\": 0.013733952634639826, \"local_clustering_coefficient\": 0.49828014799398784, \"is_homograph\": \"homograph\"}, {\"node\": \"Ram\", \"node_type\": \"cell\", \"betweenness_centrality\": 0.025394563689343497, \"local_clustering_coefficient\": 0.4960627590290113, \"is_homograph\": \"homograph\"}, {\"node\": \"ES\", \"node_type\": \"cell\", \"betweenness_centrality\": 0.0016026193810067756, \"local_clustering_coefficient\": 0.4571993670886076, \"is_homograph\": \"homograph\"}, {\"node\": \"Crossfire\", \"node_type\": \"cell\", \"betweenness_centrality\": 0.015471727020072483, \"local_clustering_coefficient\": 0.49819537658463836, \"is_homograph\": \"homograph\"}, {\"node\": \"Pumpkin\", \"node_type\": \"cell\", \"betweenness_centrality\": 0.00919603212554278, \"local_clustering_coefficient\": 0.49941746382143726, \"is_homograph\": \"homograph\"}]}}, {\"mode\": \"vega-lite\"});\n</script>",
      "text/plain": [
       "alt.Chart(...)"
      ]
     },
     "metadata": {},
     "execution_count": 18
    }
   ],
   "source": [
    "# Plot of all the homograph values and their LCC scores\n",
    "homographs_graph_LCC = alt.Chart(synthetic_bipartite_graph_stats_df[synthetic_bipartite_graph_stats_df['is_homograph'] == 'homograph'], title='').mark_bar(size=24).encode(\n",
    "    x=alt.X('node:N', sort='y', axis=alt.Axis(title='', labelAngle=-40, labelFontSize=23)),\n",
    "    y=alt.Y('local_clustering_coefficient:Q', axis=alt.Axis(title='Local Clustering Coefficient', labelFontSize=26, titleFontSize=30, tickCount=8)),\n",
    "    color=alt.Color('is_homograph:N', legend=alt.Legend(title='Value Type', titleLimit=0, labelLimit=500))\n",
    ").properties(width=1600, height=800)\n",
    "homographs_graph_LCC = homographs_graph_LCC.configure_axis(labelLimit=550)\n",
    "\n",
    "homographs_graph_LCC = homographs_graph_LCC.configure_legend(\n",
    "    labelFontSize=38,\n",
    "    symbolSize=700,\n",
    "    titleFontSize=35,\n",
    "    strokeColor='gray',\n",
    "    fillColor='#EEEEEE',\n",
    "    padding=10,\n",
    "    cornerRadius=10,\n",
    "    orient='top-left'\n",
    ")\n",
    "\n",
    "homographs_graph_LCC.save('figures/synthetic_dataset/synthetic_bipartite_LCC_homographs.svg')\n",
    "homographs_graph_LCC"
   ]
  }
 ],
 "metadata": {
  "kernelspec": {
   "name": "python3",
   "display_name": "Python 3.8.7 64-bit ('env')",
   "metadata": {
    "interpreter": {
     "hash": "0e27388f80d70b48ac822e7342e8dff2d0e185191e44b2ec224aab96f97a2966"
    }
   }
  },
  "language_info": {
   "codemirror_mode": {
    "name": "ipython",
    "version": 3
   },
   "file_extension": ".py",
   "mimetype": "text/x-python",
   "name": "python",
   "nbconvert_exporter": "python",
   "pygments_lexer": "ipython3",
   "version": "3.8.7-final"
  }
 },
 "nbformat": 4,
 "nbformat_minor": 4
}