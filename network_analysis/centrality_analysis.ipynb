{
 "metadata": {
  "language_info": {
   "codemirror_mode": {
    "name": "ipython",
    "version": 3
   },
   "file_extension": ".py",
   "mimetype": "text/x-python",
   "name": "python",
   "nbconvert_exporter": "python",
   "pygments_lexer": "ipython3",
   "version": "3.8.5-final"
  },
  "orig_nbformat": 2,
  "kernelspec": {
   "name": "python3",
   "display_name": "Python 3",
   "language": "python"
  }
 },
 "nbformat": 4,
 "nbformat_minor": 2,
 "cells": [
  {
   "cell_type": "code",
   "execution_count": null,
   "metadata": {},
   "outputs": [],
   "source": [
    "import pickle\n",
    "import pandas as pd\n",
    "import numpy as np\n",
    "import networkx as nx\n",
    "import itertools"
   ]
  },
  {
   "cell_type": "code",
   "execution_count": null,
   "metadata": {},
   "outputs": [],
   "source": [
    "def calculate_measures(df, measure, num_true_homographs):\n",
    "    '''\n",
    "    Calculates and adds columns precision_`measure`, recall_`measure`, f1_score_`measure` for the specific in the dataframe\n",
    "    for each node.\n",
    "\n",
    "    measure a string specifying the column to be used for scoring\n",
    "\n",
    "    num_true_homographs is an integer specifying the number of true homographs \n",
    "    in the dataframe based on the ground truth \n",
    "    '''\n",
    "    num_homographs_seen_so_far = 0\n",
    "    precision_list = []\n",
    "    recall_list = []\n",
    "    f1_list = []\n",
    "\n",
    "    # Sort the dataframe by the specified measure (high->low)\n",
    "    df = df.sort_values(by=[measure], ascending=False)\n",
    "    df.loc[:,measure+'_rank'] = list(range(1, df.shape[0] + 1))\n",
    "    df[measure+'_dense_rank'] = df[measure].rank(method='dense', ascending=False)\n",
    "\n",
    "    # Calculate top-k precision/recall/f1-scores in a running fashion (start from k=1 all the way to the largest possible k)\n",
    "    for k, cur_node_is_homograph in zip(range(1, df.shape[0] + 1), df['is_homograph']):\n",
    "        if cur_node_is_homograph:\n",
    "            num_homographs_seen_so_far += 1\n",
    "        \n",
    "        precision_list.append(num_homographs_seen_so_far / k)\n",
    "        recall_list.append(num_homographs_seen_so_far / num_true_homographs)\n",
    "\n",
    "        f1_score = (2*precision_list[-1]*recall_list[-1]) / (precision_list[-1]+recall_list[-1])\n",
    "        f1_list.append(f1_score)\n",
    "\n",
    "    df.loc[:, measure+'_precision'] = precision_list\n",
    "    df.loc[:, measure+'_recall'] = recall_list\n",
    "    df.loc[:, measure+'_f1_score'] = f1_list\n",
    "\n",
    "    # Remove NaN values from F1-score\n",
    "    df[measure+'_f1_score'] = df[measure+'_f1_score'].fillna(value=0)\n",
    "    return df"
   ]
  },
  {
   "cell_type": "code",
   "execution_count": null,
   "metadata": {},
   "outputs": [],
   "source": [
    "df_path = 'output/TUS_source_all_target_all/seed1/graph_stats_with_groundtruth_df.pickle'\n",
    "graph_path = '../graph_construction/combined_graphs_output/TUS/bipartite/bipartite.graph'\n",
    "\n",
    "df = pickle.load(open(df_path, 'rb'))\n",
    "df = df[df['node_type'] == 'cell']\n",
    "df"
   ]
  },
  {
   "cell_type": "code",
   "execution_count": null,
   "metadata": {},
   "outputs": [],
   "source": [
    "num_true_homographs = df['is_homograph'].value_counts()[True]\n",
    "\n",
    "measures = ['approximate_betweenness_centrality', 'katz', 'harmonic_closeness', 'pagerank']\n",
    "\n",
    "for measure in measures:\n",
    "    df = calculate_measures(df, measure, num_true_homographs)\n",
    "df\n"
   ]
  },
  {
   "cell_type": "code",
   "execution_count": null,
   "metadata": {},
   "outputs": [],
   "source": [
    "# Compute F1-scores at num_homographs\n",
    "for measure in measures:\n",
    "    print('For', measure, 'at k =', num_true_homographs, 'the f1-score is:', df[df[measure+'_rank'] == num_true_homographs][measure+'_f1_score'].values[0])"
   ]
  },
  {
   "cell_type": "code",
   "execution_count": null,
   "metadata": {},
   "outputs": [],
   "source": [
    "for measure in measures:\n",
    "    distinct_scores = df[measure+'_dense_rank'].max()\n",
    "    print('For', measure, 'there are', distinct_scores, 'distinct scores')"
   ]
  },
  {
   "source": [
    "# Precision/Recall/F1-score Figures"
   ],
   "cell_type": "markdown",
   "metadata": {}
  },
  {
   "cell_type": "code",
   "execution_count": null,
   "metadata": {},
   "outputs": [],
   "source": [
    "import matplotlib\n",
    "import matplotlib.pyplot as plt\n",
    "\n",
    "plt.rcParams[\"figure.figsize\"] = (22,12)\n",
    "\n",
    "font = {'size'   : 22}\n",
    "matplotlib.rc('font', **font)"
   ]
  },
  {
   "cell_type": "code",
   "execution_count": null,
   "metadata": {},
   "outputs": [],
   "source": [
    "# Precision\n",
    "ranks = list(range(1,df.shape[0] +1))\n",
    "\n",
    "measure_names = ['Approximate BC', 'Katz Centrality', 'Harmonic Closeness', 'Pagerank']\n",
    "for (measure, measure_name) in zip(measures, measure_names):\n",
    "    plt.plot(ranks, df.sort_values(by=[measure+'_rank'])[measure+'_precision'].values, label=measure_name, linewidth=2)\n",
    "\n",
    "plt.axvline(x=num_true_homographs, color='black', linestyle='--')\n",
    "plt.text(num_true_homographs + 5000, 0.90,'Number of true homographs cut-off line', fontsize=26)\n",
    "\n",
    "plt.xlabel('Rank')\n",
    "plt.ylabel('Precision')\n",
    "leg = plt.legend()\n",
    "for line in leg.get_lines():\n",
    "    line.set_linewidth(4.0)\n",
    "plt.tight_layout()\n",
    "plt.savefig('figures/centrality_analysis/precision.svg')"
   ]
  },
  {
   "cell_type": "code",
   "execution_count": null,
   "metadata": {},
   "outputs": [],
   "source": [
    "for (measure, measure_name) in zip(measures, measure_names):\n",
    "    plt.plot(ranks, df.sort_values(by=[measure+'_rank'])[measure+'_recall'].values, label=measure_name, linewidth=2)\n",
    "\n",
    "plt.axvline(x=num_true_homographs, color='black', linestyle='--')\n",
    "plt.text(num_true_homographs + 5000, 0.90,'Number of true homographs cut-off line', fontsize=26)\n",
    "\n",
    "plt.xlabel('Rank')\n",
    "plt.ylabel('Recall')\n",
    "leg = plt.legend()\n",
    "for line in leg.get_lines():\n",
    "    line.set_linewidth(4.0)\n",
    "plt.tight_layout()\n",
    "plt.savefig('figures/centrality_analysis/recall.svg')"
   ]
  },
  {
   "cell_type": "code",
   "execution_count": null,
   "metadata": {},
   "outputs": [],
   "source": [
    "for (measure, measure_name) in zip(measures, measure_names):\n",
    "    plt.plot(ranks, df.sort_values(by=[measure+'_rank'])[measure+'_f1_score'].values, label=measure_name, linewidth=2)\n",
    "\n",
    "plt.axvline(x=num_true_homographs, color='black', linestyle='--')\n",
    "plt.text(num_true_homographs + 5000, 0.70,'Number of true homographs cut-off line', fontsize=26)\n",
    "\n",
    "plt.ylim(0, 1)\n",
    "plt.xlabel('Rank')\n",
    "plt.ylabel('F1-Score')\n",
    "leg = plt.legend()\n",
    "for line in leg.get_lines():\n",
    "    line.set_linewidth(4.0)\n",
    "plt.tight_layout()\n",
    "plt.savefig('figures/centrality_analysis/f1_score.svg')"
   ]
  },
  {
   "cell_type": "code",
   "execution_count": null,
   "metadata": {},
   "outputs": [],
   "source": [
    "# Precision\n",
    "ranks = list(range(1, 5000+1))\n",
    "\n",
    "measure_names = ['Approximate BC', 'Katz Centrality', 'Harmonic Closeness', 'Pagerank']\n",
    "for (measure, measure_name) in zip(measures, measure_names):\n",
    "    vals = df.sort_values(by=[measure+'_rank'])[measure+'_precision'].values[0:5000]\n",
    "    plt.plot(ranks, vals, label=measure_name, linewidth=2)\n",
    "\n",
    "plt.xlabel('Rank')\n",
    "plt.ylabel('Precision')\n",
    "leg = plt.legend()\n",
    "for line in leg.get_lines():\n",
    "    line.set_linewidth(4.0)\n",
    "plt.tight_layout()\n",
    "plt.savefig('figures/centrality_analysis/precision_zoom.svg')"
   ]
  }
 ]
}