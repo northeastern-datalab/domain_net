{
 "cells": [
  {
   "cell_type": "code",
   "execution_count": 1,
   "metadata": {},
   "outputs": [],
   "source": [
    "import os\n",
    "import json\n",
    "import pandas as pd\n",
    "import numpy as np\n",
    "import shutil\n",
    "import random\n",
    "from tqdm import tqdm\n",
    "from pathlib import Path"
   ]
  },
  {
   "cell_type": "markdown",
   "metadata": {},
   "source": [
    "# Functions"
   ]
  },
  {
   "cell_type": "code",
   "execution_count": 2,
   "metadata": {},
   "outputs": [],
   "source": [
    "def get_val_to_col_name_dict(input_dir):\n",
    "    '''\n",
    "    Given an input directory containing the raw csv files return the `val_to_col_name_dict`\n",
    "    '''\n",
    "    val_to_col_name_dict = {}\n",
    "    # Find the all Homographs and populate the `val_to_col_name_dict`\n",
    "    for filename in tqdm(os.listdir(input_dir)):\n",
    "        df = pd.read_csv(input_dir+filename, keep_default_na=False)\n",
    "        column_names=list(df.columns)\n",
    "        for idx, row in df.iterrows():\n",
    "            for i in range(len(row.tolist())):\n",
    "                if row[i] in val_to_col_name_dict:\n",
    "                    val_to_col_name_dict[row[i]].add(column_names[i])\n",
    "                else:\n",
    "                    val_to_col_name_dict[row[i]] = set([column_names[i]])\n",
    "\n",
    "    return val_to_col_name_dict\n",
    "\n",
    "def get_homographs_and_clean_dataset(input_dir, output_dir, column_name_to_homograph_type, val_to_col_name_dict):\n",
    "    '''\n",
    "    Identifies all homographs and outputs a dataframe with them at `output_dir`.\n",
    "    Also creates a new version on the input tables without he inclusion of the homographs and outputs them at `output_dir/no_homographs/`\n",
    "\n",
    "    Returns the `homograph_info_df`\n",
    "    '''\n",
    "    Path(output_dir+'no_homographs/').mkdir(parents=True, exist_ok=True)\n",
    "    homograph_info_dict={'value': [], 'filename': [], 'column_name' : [], 'type': [], 'subtype': [], \"contents_row\": []}\n",
    "\n",
    "    for filename in tqdm(os.listdir(input_dir)):\n",
    "        df = pd.read_csv(input_dir+filename, keep_default_na=False)\n",
    "        column_names=list(df.columns)\n",
    "\n",
    "        row_ids_with_homographs=set()\n",
    "        for idx, row in df.iterrows():\n",
    "            for i in range(len(row.tolist())):\n",
    "                # Check if value is a homograph\n",
    "                if len(val_to_col_name_dict[row[i]])>1:\n",
    "                    row_ids_with_homographs.add(idx)\n",
    "                    homograph_info_dict['value'].append(row[i])\n",
    "                    homograph_info_dict['filename'].append(filename)\n",
    "                    homograph_info_dict['column_name'].append(column_names[i])\n",
    "                    homograph_info_dict['type'].append(column_name_to_homograph_type[column_names[i]]['type'])\n",
    "                    homograph_info_dict['subtype'].append(column_name_to_homograph_type[column_names[i]]['subtype'])\n",
    "                    homograph_info_dict['contents_row'].append(row.tolist())\n",
    "        \n",
    "        df_no_homographs = df.drop(labels=row_ids_with_homographs)\n",
    "        df_no_homographs.to_csv(output_dir+'no_homographs/'+filename,index=False)\n",
    "\n",
    "    homograph_info_df = pd.DataFrame.from_dict(homograph_info_dict)\n",
    "    \n",
    "    return homograph_info_df\n",
    "\n",
    "def select_homographs_of_specified_type(homograph_df, num_homographs=10, type='traditional', subtype=None, seed=0):\n",
    "    '''\n",
    "    Returns a list of the selected homographs from the specified types. \n",
    "\n",
    "    Raises an error if it is not possible to extract the specified types\n",
    "    '''\n",
    "\n",
    "    # Check if the requested specification is possible (i.e., there are enough unique homographs)\n",
    "    valid_tuples_df=homograph_df[homograph_df['type']==type]\n",
    "    if subtype: valid_tuples_df=homograph_df[homograph_df['subtype']==subtype]\n",
    "    if valid_tuples_df['value'].nunique() < num_homographs:\n",
    "        raise ValueError('Not possible to extract ' + str(num_homographs) + ' homographs. There are only ' + str(valid_tuples_df['value'].nunique()) + ' available homographs with the specified parameters.')\n",
    "\n",
    "    # Select the homographs\n",
    "    np.random.seed(seed)\n",
    "    selected_homographs=np.random.choice(valid_tuples_df['value'].unique(), size=num_homographs, replace=False)\n",
    "    return selected_homographs\n",
    "\n",
    "def construct_homograph_injected_dataset(input_dir, output_dir, homograph_info_df, num_homographs=10, type='traditional', subtype=None, seed=0, mode=None):\n",
    "    '''\n",
    "    Construct injected homograph datasets of the specified type and amount\n",
    "\n",
    "    `input_dir`: Directory that contains the tables without any homographs\n",
    "    `output_dir`: Directory where the injected homographs dataset is stored\n",
    "    `homograph_info_df`: dataframe that contains the homograph information, types, subtypes, files location etc.\n",
    "    `num_homographs`: number of unique homographs to be inserted overall\n",
    "    `type`: the type of homographs to be inserted\n",
    "    `subtype`: the subtype of homographs to be inserted\n",
    "    `seed`: seed used for the random selection of homographs from the set of valid homographs\n",
    "    `mode`: if specified, then all types are considered, for each type `num_homographs` are selected\n",
    "\n",
    "    Returns a list of the selected homographs\n",
    "    '''\n",
    "    Path(output_dir).mkdir(parents=True, exist_ok=True)\n",
    "\n",
    "    if mode=='all_types':\n",
    "        # Select homographs from each type\n",
    "        selected_homographs=[]\n",
    "        selected_homographs.extend(select_homographs_of_specified_type(homograph_df=homograph_info_df, num_homographs=num_homographs, type='traditional', subtype=None, seed=seed))\n",
    "        selected_homographs.extend(select_homographs_of_specified_type(homograph_df=homograph_info_df, num_homographs=num_homographs, type='symbolic', subtype='code', seed=seed))\n",
    "        selected_homographs.extend(select_homographs_of_specified_type(homograph_df=homograph_info_df, num_homographs=num_homographs, type='symbolic', subtype='numeric', seed=seed))\n",
    "        selected_homographs.extend(select_homographs_of_specified_type(homograph_df=homograph_info_df, num_homographs=num_homographs, type='null_equivalent', subtype=None, seed=seed))\n",
    "    else:\n",
    "        selected_homographs=select_homographs_of_specified_type(homograph_df=homograph_info_df, num_homographs=num_homographs, type=type, subtype=subtype, seed=seed)\n",
    "\n",
    "    valid_tuples_df=homograph_info_df[homograph_info_df['value'].isin(selected_homographs)]\n",
    "    files_to_modify=set(valid_tuples_df['filename'].unique())\n",
    "    for filename in tqdm(os.listdir(input_dir)):\n",
    "        if filename in files_to_modify:\n",
    "            # Perform insertion\n",
    "            orig_file_df=pd.read_csv(input_dir+filename, keep_default_na=False)\n",
    "            tuples_arr=[]\n",
    "            for idx, row in valid_tuples_df[valid_tuples_df['filename']==filename].iterrows():\n",
    "                tuples_arr.append(row['contents_row'])\n",
    "            new_file_df = pd.concat([orig_file_df, pd.DataFrame(tuples_arr, columns=orig_file_df.columns)])\n",
    "            new_file_df.to_csv(output_dir+filename, index=False)\n",
    "        else:\n",
    "            # Copy the file\n",
    "            shutil.copyfile(input_dir+filename, output_dir+filename)\n",
    "\n",
    "    return selected_homographs\n",
    "\n",
    "def generate_null_equivalent_tuples(input_dir, homograph_info_df, num_meanings=10, num_values=10, seed=0):\n",
    "    '''\n",
    "    Returns a dataframe with with content tuples to be used for null-equivalent values\n",
    "\n",
    "    `input_dir`: input directory containing the raw csv files to be used for the generation\n",
    "    `homograph_info_df`: dataframe that contains the homograph information, types, subtypes, files location etc., used to ensure no null-equivalent value is found in that dataframe\n",
    "    `num_meanings`: number of meanings of the generated null_equivalent values (i.e., number of unique column_names selected)\n",
    "    `num_values`: number of unique null-equivalent values to be formed\n",
    "    \n",
    "    Returns a dataframe with the tuples for the null equivalent values\n",
    "    '''\n",
    "    random.seed(seed)\n",
    "\n",
    "    # The string values of the null equivalent values\n",
    "    null_equivalent_vals = ['null_equivalent_val_'+str(i) for i in range(num_values)]\n",
    "\n",
    "    # Dictionary mapping each column_name to list of filenames containing them\n",
    "    column_name_to_filenames_dict={}\n",
    "    for filename in os.listdir(input_dir):\n",
    "        columns=pd.read_csv(input_dir+filename, keep_default_na=False, nrows=0).columns.to_list()\n",
    "        for col in columns:\n",
    "            if col not in column_name_to_filenames_dict:\n",
    "                column_name_to_filenames_dict[col]=[filename]\n",
    "            else:\n",
    "                column_name_to_filenames_dict[col].append(filename)\n",
    "    \n",
    "        # Select `num_meanings` (filename, column_name) pairs for each injected_null_equivalent_val\n",
    "    null_val_to_filename_column_name_pairs={}\n",
    "    for val in null_equivalent_vals:\n",
    "        selected_column_names=random.choices(list(column_name_to_filenames_dict.keys()), k=num_meanings)\n",
    "        filename_column_name_tuples=[(random.choice(column_name_to_filenames_dict[column_name]), column_name) for column_name in selected_column_names]\n",
    "        null_val_to_filename_column_name_pairs[val]=filename_column_name_tuples\n",
    "    \n",
    "    # Construct the tuples and populate the tuples_dict\n",
    "    tuples_dict={'value': [], 'filename': [], 'column_name' : [], 'type': [], 'subtype': [], \"contents_row\": []}\n",
    "    for val in tqdm(null_equivalent_vals):\n",
    "        for pair in null_val_to_filename_column_name_pairs[val]:\n",
    "            filename, column_name=pair[0], pair[1]\n",
    "            df=pd.read_csv(input_dir+filename, keep_default_na=False)\n",
    "\n",
    "            # Sample a row and modify the value from the selected column_name\n",
    "            row = df.sample(n=1, random_state=seed)\n",
    "            row[column_name]=val\n",
    "\n",
    "            # Update the tuples_dict\n",
    "            tuples_dict['value'].append(val)\n",
    "            tuples_dict['filename'].append(filename)\n",
    "            tuples_dict['column_name'].append(column_name)\n",
    "            tuples_dict['type'].append('null_equivalent')\n",
    "            tuples_dict['subtype'].append(None)\n",
    "            tuples_dict['contents_row'].append(row.values[0])\n",
    "    \n",
    "    return pd.DataFrame.from_dict(tuples_dict)"
   ]
  },
  {
   "cell_type": "markdown",
   "metadata": {},
   "source": [
    "# Homograph Injection and Dataset Construction"
   ]
  },
  {
   "cell_type": "code",
   "execution_count": 87,
   "metadata": {},
   "outputs": [
    {
     "name": "stderr",
     "output_type": "stream",
     "text": [
      "100%|██████████| 192/192 [00:13<00:00, 14.34it/s]\n",
      "100%|██████████| 192/192 [00:12<00:00, 15.85it/s]\n"
     ]
    }
   ],
   "source": [
    "raw_input_dir='../DATA/synthetic_benchmark_large3/'\n",
    "output_dir='datasets/synthetic_benchmark_large3/'\n",
    "\n",
    "with open('column_name_to_homograph_type.json') as f:\n",
    "    column_name_to_homograph_type = json.load(f)\n",
    "val_to_col_name_dict = get_val_to_col_name_dict(input_dir=raw_input_dir)\n",
    "homograph_info_df=get_homographs_and_clean_dataset(output_dir=output_dir, input_dir=raw_input_dir, column_name_to_homograph_type=column_name_to_homograph_type, val_to_col_name_dict=val_to_col_name_dict)"
   ]
  },
  {
   "cell_type": "code",
   "execution_count": 88,
   "metadata": {},
   "outputs": [
    {
     "name": "stdout",
     "output_type": "stream",
     "text": [
      "The input dataset contains: 1755 unique homograph values of which: 739 are traditional 129 are symbolic(code) 962 are symbolic(numeric)\n"
     ]
    }
   ],
   "source": [
    "print(\"The input dataset contains:\", homograph_info_df['value'].nunique(), \"unique homograph values of which:\",\n",
    "      homograph_info_df[homograph_info_df['type']=='traditional']['value'].nunique(), 'are traditional', \n",
    "      homograph_info_df[homograph_info_df['subtype']=='code']['value'].nunique(), 'are symbolic(code)',\n",
    "      homograph_info_df[homograph_info_df['subtype']=='numeric']['value'].nunique(), 'are symbolic(numeric)')"
   ]
  },
  {
   "cell_type": "code",
   "execution_count": 89,
   "metadata": {},
   "outputs": [
    {
     "name": "stderr",
     "output_type": "stream",
     "text": [
      "100%|██████████| 100/100 [00:02<00:00, 43.33it/s]\n"
     ]
    },
    {
     "data": {
      "text/html": [
       "<div>\n",
       "<style scoped>\n",
       "    .dataframe tbody tr th:only-of-type {\n",
       "        vertical-align: middle;\n",
       "    }\n",
       "\n",
       "    .dataframe tbody tr th {\n",
       "        vertical-align: top;\n",
       "    }\n",
       "\n",
       "    .dataframe thead th {\n",
       "        text-align: right;\n",
       "    }\n",
       "</style>\n",
       "<table border=\"1\" class=\"dataframe\">\n",
       "  <thead>\n",
       "    <tr style=\"text-align: right;\">\n",
       "      <th></th>\n",
       "      <th>value</th>\n",
       "      <th>filename</th>\n",
       "      <th>column_name</th>\n",
       "      <th>type</th>\n",
       "      <th>subtype</th>\n",
       "      <th>contents_row</th>\n",
       "    </tr>\n",
       "  </thead>\n",
       "  <tbody>\n",
       "    <tr>\n",
       "      <th>0</th>\n",
       "      <td>Impala</td>\n",
       "      <td>animal_name_scientific_name_1.csv</td>\n",
       "      <td>animal_name</td>\n",
       "      <td>traditional</td>\n",
       "      <td>None</td>\n",
       "      <td>[Impala, Aepyceros mylampus]</td>\n",
       "    </tr>\n",
       "    <tr>\n",
       "      <th>1</th>\n",
       "      <td>Mara</td>\n",
       "      <td>animal_name_scientific_name_1.csv</td>\n",
       "      <td>animal_name</td>\n",
       "      <td>traditional</td>\n",
       "      <td>None</td>\n",
       "      <td>[Mara, Dolichitus patagonum]</td>\n",
       "    </tr>\n",
       "    <tr>\n",
       "      <th>2</th>\n",
       "      <td>Mara</td>\n",
       "      <td>animal_name_scientific_name_1.csv</td>\n",
       "      <td>animal_name</td>\n",
       "      <td>traditional</td>\n",
       "      <td>None</td>\n",
       "      <td>[Mara, Dolichitus patagonum]</td>\n",
       "    </tr>\n",
       "    <tr>\n",
       "      <th>3</th>\n",
       "      <td>Cougar</td>\n",
       "      <td>animal_name_scientific_name_2.csv</td>\n",
       "      <td>animal_name</td>\n",
       "      <td>traditional</td>\n",
       "      <td>None</td>\n",
       "      <td>[Cougar, Felis concolor]</td>\n",
       "    </tr>\n",
       "    <tr>\n",
       "      <th>4</th>\n",
       "      <td>Jaguar</td>\n",
       "      <td>animal_name_scientific_name_2.csv</td>\n",
       "      <td>animal_name</td>\n",
       "      <td>traditional</td>\n",
       "      <td>None</td>\n",
       "      <td>[Jaguar, Panthera onca]</td>\n",
       "    </tr>\n",
       "    <tr>\n",
       "      <th>...</th>\n",
       "      <td>...</td>\n",
       "      <td>...</td>\n",
       "      <td>...</td>\n",
       "      <td>...</td>\n",
       "      <td>...</td>\n",
       "      <td>...</td>\n",
       "    </tr>\n",
       "    <tr>\n",
       "      <th>995</th>\n",
       "      <td>null_equivalent_val_99</td>\n",
       "      <td>state_state_abbrev_11.csv</td>\n",
       "      <td>state</td>\n",
       "      <td>null_equivalent</td>\n",
       "      <td>None</td>\n",
       "      <td>[null_equivalent_val_99, TX]</td>\n",
       "    </tr>\n",
       "    <tr>\n",
       "      <th>996</th>\n",
       "      <td>null_equivalent_val_99</td>\n",
       "      <td>employee_id_full_name_company_name_9.csv</td>\n",
       "      <td>employee_id</td>\n",
       "      <td>null_equivalent</td>\n",
       "      <td>None</td>\n",
       "      <td>[null_equivalent_val_99, Rustin Baford, Zoonoo...</td>\n",
       "    </tr>\n",
       "    <tr>\n",
       "      <th>997</th>\n",
       "      <td>null_equivalent_val_99</td>\n",
       "      <td>first_name_last_name_ssn_state_4.csv</td>\n",
       "      <td>first_name</td>\n",
       "      <td>null_equivalent</td>\n",
       "      <td>None</td>\n",
       "      <td>[null_equivalent_val_99, Ary, 266-14-4223, Wes...</td>\n",
       "    </tr>\n",
       "    <tr>\n",
       "      <th>998</th>\n",
       "      <td>null_equivalent_val_99</td>\n",
       "      <td>employee_id_full_name_company_name_6.csv</td>\n",
       "      <td>employee_id</td>\n",
       "      <td>null_equivalent</td>\n",
       "      <td>None</td>\n",
       "      <td>[null_equivalent_val_99, Simonne Spir, Youopia]</td>\n",
       "    </tr>\n",
       "    <tr>\n",
       "      <th>999</th>\n",
       "      <td>null_equivalent_val_99</td>\n",
       "      <td>animal_name_scientific_name_country_6.csv</td>\n",
       "      <td>country</td>\n",
       "      <td>null_equivalent</td>\n",
       "      <td>None</td>\n",
       "      <td>[Uinta ground squirrel, Spermophilus armatus, ...</td>\n",
       "    </tr>\n",
       "  </tbody>\n",
       "</table>\n",
       "<p>72709 rows × 6 columns</p>\n",
       "</div>"
      ],
      "text/plain": [
       "                      value                                   filename  \\\n",
       "0                    Impala          animal_name_scientific_name_1.csv   \n",
       "1                      Mara          animal_name_scientific_name_1.csv   \n",
       "2                      Mara          animal_name_scientific_name_1.csv   \n",
       "3                    Cougar          animal_name_scientific_name_2.csv   \n",
       "4                    Jaguar          animal_name_scientific_name_2.csv   \n",
       "..                      ...                                        ...   \n",
       "995  null_equivalent_val_99                  state_state_abbrev_11.csv   \n",
       "996  null_equivalent_val_99   employee_id_full_name_company_name_9.csv   \n",
       "997  null_equivalent_val_99       first_name_last_name_ssn_state_4.csv   \n",
       "998  null_equivalent_val_99   employee_id_full_name_company_name_6.csv   \n",
       "999  null_equivalent_val_99  animal_name_scientific_name_country_6.csv   \n",
       "\n",
       "     column_name             type subtype  \\\n",
       "0    animal_name      traditional    None   \n",
       "1    animal_name      traditional    None   \n",
       "2    animal_name      traditional    None   \n",
       "3    animal_name      traditional    None   \n",
       "4    animal_name      traditional    None   \n",
       "..           ...              ...     ...   \n",
       "995        state  null_equivalent    None   \n",
       "996  employee_id  null_equivalent    None   \n",
       "997   first_name  null_equivalent    None   \n",
       "998  employee_id  null_equivalent    None   \n",
       "999      country  null_equivalent    None   \n",
       "\n",
       "                                          contents_row  \n",
       "0                         [Impala, Aepyceros mylampus]  \n",
       "1                         [Mara, Dolichitus patagonum]  \n",
       "2                         [Mara, Dolichitus patagonum]  \n",
       "3                             [Cougar, Felis concolor]  \n",
       "4                              [Jaguar, Panthera onca]  \n",
       "..                                                 ...  \n",
       "995                       [null_equivalent_val_99, TX]  \n",
       "996  [null_equivalent_val_99, Rustin Baford, Zoonoo...  \n",
       "997  [null_equivalent_val_99, Ary, 266-14-4223, Wes...  \n",
       "998    [null_equivalent_val_99, Simonne Spir, Youopia]  \n",
       "999  [Uinta ground squirrel, Spermophilus armatus, ...  \n",
       "\n",
       "[72709 rows x 6 columns]"
      ]
     },
     "execution_count": 89,
     "metadata": {},
     "output_type": "execute_result"
    }
   ],
   "source": [
    "# Append the null_tuples_df into the homograph_info_df\n",
    "null_tuples_df = generate_null_equivalent_tuples(input_dir=raw_input_dir, homograph_info_df=homograph_info_df, num_meanings=10, num_values=100)\n",
    "homograph_info_df=pd.concat([homograph_info_df, null_tuples_df])\n",
    "homograph_info_df.to_pickle(output_dir+'homograph_info_df.pickle')\n",
    "homograph_info_df"
   ]
  },
  {
   "cell_type": "markdown",
   "metadata": {},
   "source": [
    "## Injected Datasets Construction"
   ]
  },
  {
   "cell_type": "code",
   "execution_count": 101,
   "metadata": {},
   "outputs": [
    {
     "name": "stderr",
     "output_type": "stream",
     "text": [
      "100%|██████████| 192/192 [00:00<00:00, 246.29it/s]\n",
      "100%|██████████| 192/192 [00:02<00:00, 94.20it/s] \n",
      "100%|██████████| 192/192 [00:00<00:00, 549.24it/s] \n",
      "100%|██████████| 192/192 [00:01<00:00, 176.40it/s]\n",
      "100%|██████████| 192/192 [00:02<00:00, 65.97it/s]\n"
     ]
    }
   ],
   "source": [
    "homograph_info_df=pd.read_pickle(output_dir+'homograph_info_df.pickle')\n",
    "\n",
    "num_homographs=100\n",
    "traditional_homs = construct_homograph_injected_dataset(input_dir=output_dir+'no_homographs/', output_dir=output_dir+'homographs_traditional_'+str(num_homographs)+'/', homograph_info_df=homograph_info_df, num_homographs=num_homographs, type='traditional', seed=0)\n",
    "symbolic_code_homs = construct_homograph_injected_dataset(input_dir=output_dir+'no_homographs/', output_dir=output_dir+'homographs_symbolic_code_'+str(num_homographs)+'/', homograph_info_df=homograph_info_df, num_homographs=num_homographs, type='symbolic', subtype='code', seed=0)\n",
    "symbolic_numeric_homs = construct_homograph_injected_dataset(input_dir=output_dir+'no_homographs/', output_dir=output_dir+'homographs_symbolic_numeric_'+str(num_homographs)+'/', homograph_info_df=homograph_info_df, num_homographs=num_homographs, type='symbolic', subtype='numeric', seed=0)\n",
    "null_equivalent_homs = construct_homograph_injected_dataset(input_dir=output_dir+'no_homographs/', output_dir=output_dir+'homographs_null_equivalent_'+str(num_homographs)+'/', homograph_info_df=homograph_info_df, num_homographs=num_homographs, type='null_equivalent', seed=0)\n",
    "all_types_homs = construct_homograph_injected_dataset(input_dir=output_dir+'no_homographs/', output_dir=output_dir+'homographs_all_'+str(num_homographs)+'/', homograph_info_df=homograph_info_df, num_homographs=num_homographs, type=None, seed=0, mode='all_types')\n",
    "\n",
    "homs_dict={\n",
    "    \"homographs_traditional\": list(traditional_homs),\n",
    "    \"homographs_symbolic_code\": list(symbolic_code_homs),\n",
    "    \"homographs_symbolic_numeric\": list(symbolic_numeric_homs),\n",
    "    \"homographs_null_equivalent\": list(null_equivalent_homs),\n",
    "    \"homographs_all\": list(all_types_homs)\n",
    "}\n",
    "with open(output_dir+'selected_homographs.json', 'w') as f:\n",
    "    json.dump(homs_dict, f, indent=4)"
   ]
  },
  {
   "cell_type": "markdown",
   "metadata": {},
   "source": [
    "# Dataset Statistics"
   ]
  },
  {
   "cell_type": "code",
   "execution_count": 5,
   "metadata": {},
   "outputs": [
    {
     "name": "stdout",
     "output_type": "stream",
     "text": [
      "129413 211901\n"
     ]
    }
   ],
   "source": [
    "import pickle\n",
    "with open('../graph_construction/combined_graphs_output/synthetic_benchmark_large3/no_homographs/bipartite/bipartite.graph', 'rb') as f:\n",
    "    G=pickle.load(f)\n",
    "print(G.number_of_nodes(), G.number_of_edges())"
   ]
  },
  {
   "cell_type": "markdown",
   "metadata": {},
   "source": [
    "# Testing"
   ]
  },
  {
   "cell_type": "code",
   "execution_count": 56,
   "metadata": {},
   "outputs": [
    {
     "data": {
      "text/plain": [
       "array(['Colorado', 'Duff', 'Elan', 'Garvey', 'Elmira', 'Berkeley', 'Ram',\n",
       "       'Charity', 'California', 'Crossfire'], dtype=object)"
      ]
     },
     "execution_count": 56,
     "metadata": {},
     "output_type": "execute_result"
    }
   ],
   "source": [
    "np.random.seed(0)\n",
    "np.random.choice(homograph_info_df[(homograph_info_df['type']=='traditional')]['value'].unique(), size=10, replace=False)"
   ]
  },
  {
   "cell_type": "code",
   "execution_count": 30,
   "metadata": {},
   "outputs": [
    {
     "data": {
      "text/plain": [
       "array(['ID', 'NE', 'GT', 'AR', 'CO', 'MA', 'CA', 'DE', 'TL', 'MN', 'AL',\n",
       "       'SD', 'PA', 'AZ', 'TN', 'CT', 'SC', 'IL', 'GA', 'MD', 'ME',\n",
       "       'Colorado', 'Elan', 'ES', 'Crossfire', 'Ram', 'California',\n",
       "       'Jimmy', nan], dtype=object)"
      ]
     },
     "execution_count": 30,
     "metadata": {},
     "output_type": "execute_result"
    }
   ],
   "source": [
    "homograph_info_df[homograph_info_df['type']=='symbolic']['value'].unique()"
   ]
  }
 ],
 "metadata": {
  "kernelspec": {
   "display_name": "env",
   "language": "python",
   "name": "python3"
  },
  "language_info": {
   "codemirror_mode": {
    "name": "ipython",
    "version": 3
   },
   "file_extension": ".py",
   "mimetype": "text/x-python",
   "name": "python",
   "nbconvert_exporter": "python",
   "pygments_lexer": "ipython3",
   "version": "3.8.12"
  }
 },
 "nbformat": 4,
 "nbformat_minor": 2
}
