{
 "metadata": {
  "language_info": {
   "codemirror_mode": {
    "name": "ipython",
    "version": 3
   },
   "file_extension": ".py",
   "mimetype": "text/x-python",
   "name": "python",
   "nbconvert_exporter": "python",
   "pygments_lexer": "ipython3",
   "version": "3.8.5-final"
  },
  "orig_nbformat": 2,
  "kernelspec": {
   "name": "python3",
   "display_name": "Python 3",
   "language": "python"
  }
 },
 "nbformat": 4,
 "nbformat_minor": 2,
 "cells": [
  {
   "cell_type": "code",
   "execution_count": 41,
   "metadata": {},
   "outputs": [],
   "source": [
    "import os\n",
    "import json\n",
    "import statistics"
   ]
  },
  {
   "cell_type": "code",
   "execution_count": 42,
   "metadata": {},
   "outputs": [],
   "source": [
    "def get_statistics(dir_path):\n",
    "    stats_dict = {\n",
    "        'measures_at_cut_off': {'rank': [], 'precision': [], 'recall': [], 'f1_score': []},\n",
    "        'measures_at_max_f1_score': {'rank': [], 'precision': [], 'recall': [], 'f1_score': []}\n",
    "    }\n",
    "\n",
    "\n",
    "    for dir in os.listdir(dir_path):\n",
    "        with open(dir_path+dir+'/results_summary.json') as f:\n",
    "            data = json.load(f)\n",
    "\n",
    "            # measures at cut off\n",
    "            measures_at_cut_off_dict = data['measures_at_cut_off']\n",
    "            stats_dict['measures_at_cut_off']['rank'].append(measures_at_cut_off_dict['rank'])\n",
    "            stats_dict['measures_at_cut_off']['precision'].append(measures_at_cut_off_dict['precision'])\n",
    "            stats_dict['measures_at_cut_off']['recall'].append(measures_at_cut_off_dict['recall'])\n",
    "            stats_dict['measures_at_cut_off']['f1_score'].append(measures_at_cut_off_dict['f1_score'])\n",
    "\n",
    "            # measures at max f1-score\n",
    "            measures_at_max_f1_score = data['measures_at_max_f1_score']\n",
    "            stats_dict['measures_at_max_f1_score']['rank'].append(measures_at_max_f1_score['rank'])\n",
    "            stats_dict['measures_at_max_f1_score']['precision'].append(measures_at_max_f1_score['precision'])\n",
    "            stats_dict['measures_at_max_f1_score']['recall'].append(measures_at_max_f1_score['recall'])\n",
    "            stats_dict['measures_at_max_f1_score']['f1_score'].append(measures_at_max_f1_score['f1_score'])\n",
    "\n",
    "\n",
    "    # Get average and standard deviation for each measurement\n",
    "    print('Statistics at cut_off')\n",
    "    print('Average Rank:', statistics.mean(stats_dict['measures_at_cut_off']['rank']), 'stdev:', statistics.stdev(stats_dict['measures_at_cut_off']['rank']))\n",
    "    print('Precision:', statistics.mean(stats_dict['measures_at_cut_off']['precision']), 'stdev:', statistics.stdev(stats_dict['measures_at_cut_off']['precision']))\n",
    "    print('Recall:', statistics.mean(stats_dict['measures_at_cut_off']['recall']), 'stdev:', statistics.stdev(stats_dict['measures_at_cut_off']['recall']))\n",
    "    print('F1-Score:', statistics.mean(stats_dict['measures_at_cut_off']['f1_score']), 'stdev:', statistics.stdev(stats_dict['measures_at_cut_off']['f1_score']))\n",
    "\n",
    "    print()\n",
    "    print('Statistics at maximum F1-score')\n",
    "    print('Average Rank:', statistics.mean(stats_dict['measures_at_max_f1_score']['rank']), 'stdev:', statistics.stdev(stats_dict['measures_at_max_f1_score']['rank']))\n",
    "    print('Precision:', statistics.mean(stats_dict['measures_at_max_f1_score']['precision']), 'stdev:', statistics.stdev(stats_dict['measures_at_max_f1_score']['precision']))\n",
    "    print('Recall:', statistics.mean(stats_dict['measures_at_max_f1_score']['recall']), 'stdev:', statistics.stdev(stats_dict['measures_at_max_f1_score']['recall']))\n",
    "    print('F1-Score:', statistics.mean(stats_dict['measures_at_max_f1_score']['f1_score']), 'stdev:', statistics.stdev(stats_dict['measures_at_max_f1_score']['f1_score']))"
   ]
  },
  {
   "source": [
    "# Approximate BC by varying the source and target nodes used"
   ],
   "cell_type": "markdown",
   "metadata": {}
  },
  {
   "cell_type": "code",
   "execution_count": 43,
   "metadata": {},
   "outputs": [
    {
     "output_type": "stream",
     "name": "stdout",
     "text": [
      "Sources: ALL NODES, Targets: ALL NODES \n\nStatistics at cut_off\nAverage Rank: 26035 stdev: 0.0\nPrecision: 0.6219627424620703 stdev: 0.008283149709314696\nRecall: 0.6219627424620703 stdev: 0.008283149709314696\nF1-Score: 0.6219627424620703 stdev: 0.008283149709314696\n\nStatistics at maximum F1-score\nAverage Rank: 27793.4 stdev: 2765.021392322309\nPrecision: 0.6309937354191688 stdev: 0.022605626088718675\nRecall: 0.6720952563856347 stdev: 0.05194884818229166\nF1-Score: 0.6495183528487658 stdev: 0.020680816467665293\n"
     ]
    }
   ],
   "source": [
    "all_nodes_dir = 'network_analysis/figures/TUS_all_nodes/'\n",
    "\n",
    "print('Sources: ALL NODES, Targets: ALL NODES \\n')\n",
    "get_statistics(all_nodes_dir)"
   ]
  },
  {
   "cell_type": "code",
   "execution_count": 44,
   "metadata": {},
   "outputs": [
    {
     "output_type": "stream",
     "name": "stdout",
     "text": [
      "Sources: CELL NODES, Targets: CELL NODES \n\nStatistics at cut_off\nAverage Rank: 26539 stdev: 0.0\nPrecision: 0.5854704397302084 stdev: 0.009335898611253649\nRecall: 0.5854704397302084 stdev: 0.009335898611253649\nF1-Score: 0.5854704397302084 stdev: 0.009335898611253649\n\nStatistics at maximum F1-score\nAverage Rank: 22827.6 stdev: 96.0536308527689\nPrecision: 0.67308804305673 stdev: 0.002084463469805406\nRecall: 0.5789592674931233 stdev: 0.003164592400967382\nF1-Score: 0.6224831662415277 stdev: 0.0024974607181261067\n"
     ]
    }
   ],
   "source": [
    "cell_nodes_dir = 'network_analysis/figures/TUS_cell_nodes/'\n",
    "\n",
    "print('Sources: CELL NODES, Targets: CELL NODES \\n')\n",
    "get_statistics(cell_nodes_dir)"
   ]
  },
  {
   "cell_type": "code",
   "execution_count": 45,
   "metadata": {},
   "outputs": [
    {
     "output_type": "stream",
     "name": "stdout",
     "text": [
      "Sources: CELL NODES, Targets: ALL NODES \n\nStatistics at cut_off\nAverage Rank: 26035 stdev: 0.0\nPrecision: 0.5947685807566737 stdev: 0.006713452073479037\nRecall: 0.5947685807566737 stdev: 0.006713452073479037\nF1-Score: 0.5947685807566737 stdev: 0.006713452073479037\n\nStatistics at maximum F1-score\nAverage Rank: 22947.2 stdev: 106.17532670069822\nPrecision: 0.6676263010820271 stdev: 0.0021204497079254933\nRecall: 0.5884463222584981 stdev: 0.0036773679146315484\nF1-Score: 0.6255379788679245 stdev: 0.002807573890311432\n"
     ]
    }
   ],
   "source": [
    "source_cell_target_all_dir = 'network_analysis/figures/TUS_source_cell_target_all/'\n",
    "\n",
    "print('Sources: CELL NODES, Targets: ALL NODES \\n')\n",
    "get_statistics(source_cell_target_all_dir)"
   ]
  },
  {
   "cell_type": "code",
   "execution_count": 46,
   "metadata": {},
   "outputs": [
    {
     "output_type": "stream",
     "name": "stdout",
     "text": [
      "Sources: ALL NODES, Targets: CELL NODES \n\nStatistics at cut_off\nAverage Rank: 26035 stdev: 0.0\nPrecision: 0.6 stdev: 0.005675499610824288\nRecall: 0.6 stdev: 0.005675499610824288\nF1-Score: 0.6 stdev: 0.005675499610824288\n\nStatistics at maximum F1-score\nAverage Rank: 23294.6 stdev: 39.513288903861195\nPrecision: 0.6673295786373549 stdev: 0.0008129859291119666\nRecall: 0.5970885346648742 stdev: 0.0017171815919157952\nF1-Score: 0.63025767757547 stdev: 0.0013151732647648828\n"
     ]
    }
   ],
   "source": [
    "source_cell_target_all_dir = 'network_analysis/figures/TUS_source_all_target_cell/'\n",
    "\n",
    "print('Sources: ALL NODES, Targets: CELL NODES \\n')\n",
    "get_statistics(source_cell_target_all_dir)"
   ]
  }
 ]
}